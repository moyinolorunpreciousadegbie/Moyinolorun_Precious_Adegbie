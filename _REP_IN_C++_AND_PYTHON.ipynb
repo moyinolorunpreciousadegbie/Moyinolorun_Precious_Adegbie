{
  "cells": [
    {
      "cell_type": "code",
      "execution_count": null,
      "id": "3630bc46",
      "metadata": {
        "id": "3630bc46",
        "outputId": "76c258a8-b8b3-45fb-b6d8-a803d9d42cbe"
      },
      "outputs": [
        {
          "name": "stdout",
          "output_type": "stream",
          "text": [
            "99\n",
            "99\n",
            "10\n",
            "10\n",
            "10\n",
            "10\n",
            "10\n",
            "42\n",
            "42\n",
            "42\n"
          ]
        }
      ],
      "source": [
        "import numpy as np\n",
        "#g=np.array([2,5,3])\n",
        "#y=np.array([99,10,42])\n",
        "g=np.array([2,5,3]) # REPEATED NO. OF TIMES\n",
        "y=np.array([99,10,42])\n",
        "i=-1\n",
        "while i<=len(g)-2: #1\n",
        "    i+=1\n",
        "    #print(y[i])\n",
        "    for x in range(g[i]):\n",
        "        print(y[i])"
      ]
    },
    {
      "cell_type": "code",
      "execution_count": null,
      "id": "9a14182b",
      "metadata": {
        "id": "9a14182b",
        "outputId": "df428738-44dd-455d-f7d9-bd5e23d50bc9"
      },
      "outputs": [
        {
          "name": "stdout",
          "output_type": "stream",
          "text": [
            "99\n",
            "99\n",
            "10\n",
            "10\n",
            "10\n",
            "10\n",
            "10\n",
            "42\n",
            "42\n",
            "42\n"
          ]
        }
      ],
      "source": [
        "import numpy as np\n",
        "\n",
        "#g=np.array([2,5,3])\n",
        "#y=np.array([99,10,42])\n",
        "# WORKS ON ARRAY & LISTS\n",
        "g=[2,5,3] # REPEATED NO. OF TIMES\n",
        "y=[99,10,42]\n",
        "for i in range(len(g)):\n",
        "  for h in range(g[i]):\n",
        "    print(y[i])"
      ]
    },
    {
      "cell_type": "code",
      "execution_count": null,
      "id": "beaa4a60",
      "metadata": {
        "id": "beaa4a60",
        "outputId": "b6a1d8cc-c113-4eed-f8b6-4ceed01ae91d"
      },
      "outputs": [
        {
          "name": "stdout",
          "output_type": "stream",
          "text": [
            "33\n",
            "33\n",
            "15\n",
            "15\n",
            "7\n",
            "7\n",
            "33\n",
            "33\n",
            "33\n",
            "33\n",
            "33\n",
            "15\n",
            "15\n",
            "15\n",
            "15\n",
            "15\n",
            "7\n",
            "7\n",
            "7\n",
            "7\n",
            "7\n",
            "33\n",
            "33\n",
            "33\n",
            "15\n",
            "15\n",
            "15\n",
            "7\n",
            "7\n",
            "7\n"
          ]
        }
      ],
      "source": [
        "g=[2,5,3]# REPEATED NO. OF TIMES\n",
        "y=[33,15,7]\n",
        "for hh in range(len(g)): # 3\n",
        "  for h in range(len(g)):# 3\n",
        "    for hhh in range(g[hh]):\n",
        "      print(y[h])\n"
      ]
    },
    {
      "cell_type": "code",
      "execution_count": null,
      "id": "5faa4356",
      "metadata": {
        "id": "5faa4356",
        "outputId": "c5c2f2d0-4bde-4de1-a916-80438e6d832f"
      },
      "outputs": [
        {
          "name": "stdout",
          "output_type": "stream",
          "text": [
            "1\n",
            "2\n",
            "2\n",
            "3\n",
            "3\n",
            "3\n",
            "4\n",
            "4\n",
            "4\n",
            "4\n",
            "5\n",
            "5\n",
            "5\n",
            "5\n",
            "5\n"
          ]
        }
      ],
      "source": [
        "for hh in range(0,7):\n",
        "  for h in range(hh-1): # To adjust start,stop,step\n",
        "      print(hh-1)      # (0,hh-1,2):"
      ]
    },
    {
      "cell_type": "markdown",
      "id": "7a3a6b3c",
      "metadata": {
        "id": "7a3a6b3c"
      },
      "source": [
        "## C++ VERSION"
      ]
    },
    {
      "cell_type": "code",
      "execution_count": null,
      "id": "38404f38",
      "metadata": {
        "id": "38404f38"
      },
      "outputs": [],
      "source": [
        "#include <iostream>\n",
        "using namespace std;\n",
        "\n",
        "int main() {\n",
        "int g[]={1,5,3};//REPEATED NO.OF TIMES\n",
        "\n",
        "  int y[]={99,10,42};\n",
        " for (int i = 0;  i<=(sizeof(g) / sizeof(int))-1 ; i++) {\n",
        "  for (int v = 0;  v<=g[i]-1; v++) {\n",
        "      cout << y[i] << \"\\n\";\n",
        "\n",
        "  }}\n",
        "  return 0;\n",
        "}\n",
        "//(sizeof(myNumbers) / sizeof(int))-1  or 2"
      ]
    },
    {
      "cell_type": "code",
      "execution_count": null,
      "id": "913212b1",
      "metadata": {
        "id": "913212b1"
      },
      "outputs": [],
      "source": [
        "#include <iostream>\n",
        "using namespace std;\n",
        "\n",
        "int main() {\n",
        "int g[]={1,4,3};for (int b : g) {//# REPEATED NO. OF TIMES\n",
        "int y[]={99,10,42};for (int h : y) {\n",
        "for (int v = 0;  v<=b-1; v++) {\n",
        "cout << h << \"\\n\";\n",
        "}}}\n",
        "  return 0;\n",
        "}"
      ]
    },
    {
      "cell_type": "code",
      "execution_count": null,
      "id": "68a1410e",
      "metadata": {
        "id": "68a1410e"
      },
      "outputs": [],
      "source": [
        "#include <iostream>\n",
        "using namespace std;\n",
        "\n",
        "int main() {\n",
        " int cars[3][4]= {{20,30,40,50},{22,23,24,25},{101,201,301,401}};\n",
        "for(int k=0;k<=5;k++){\n",
        "\n",
        "for(int i = 0 ; i <=k-1 ;i++) {\n",
        "\n",
        "for(int z=k; z<=k;z++){\n",
        "cout <<z <<endl;\n",
        "\n",
        "  }}}    //TO REAPEAT WITH INCREASING NUMBER\n",
        "  return 0;\n",
        "}"
      ]
    }
  ],
  "metadata": {
    "kernelspec": {
      "display_name": "Python 3 (ipykernel)",
      "language": "python",
      "name": "python3"
    },
    "language_info": {
      "codemirror_mode": {
        "name": "ipython",
        "version": 3
      },
      "file_extension": ".py",
      "mimetype": "text/x-python",
      "name": "python",
      "nbconvert_exporter": "python",
      "pygments_lexer": "ipython3",
      "version": "3.9.13"
    },
    "colab": {
      "provenance": []
    }
  },
  "nbformat": 4,
  "nbformat_minor": 5
}