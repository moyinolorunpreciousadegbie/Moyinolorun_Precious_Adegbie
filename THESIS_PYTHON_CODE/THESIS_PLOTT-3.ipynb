{
 "cells": [
  {
   "cell_type": "code",
   "execution_count": 105,
   "id": "545ec145",
   "metadata": {},
   "outputs": [],
   "source": [
    "import numpy as np \n",
    "import pandas as pd\n",
    "from pandas import ExcelWriter\n",
    "from pandas import ExcelFile\n",
    "import matplotlib as mpl\n",
    "import matplotlib.pyplot as plt\n",
    "\n"
   ]
  },
  {
   "cell_type": "code",
   "execution_count": 14,
   "id": "cb39e05c",
   "metadata": {},
   "outputs": [
    {
     "ename": "SyntaxError",
     "evalue": "invalid syntax (1707737182.py, line 3)",
     "output_type": "error",
     "traceback": [
      "\u001b[0;36m  File \u001b[0;32m\"/var/folders/50/ghq6__zs6xnch24v7kvn00xr0000gn/T/ipykernel_43066/1707737182.py\"\u001b[0;36m, line \u001b[0;32m3\u001b[0m\n\u001b[0;31m    pip install dash\u001b[0m\n\u001b[0m        ^\u001b[0m\n\u001b[0;31mSyntaxError\u001b[0m\u001b[0;31m:\u001b[0m invalid syntax\n"
     ]
    }
   ],
   "source": [
    "#$ pip install jupyter-dash\n",
    "\n",
    "pip install dash"
   ]
  },
  {
   "cell_type": "code",
   "execution_count": 55,
   "id": "449b098c",
   "metadata": {},
   "outputs": [
    {
     "name": "stdout",
     "output_type": "stream",
     "text": [
      "Requirement already satisfied: jupyter-dash in ./opt/anaconda3/lib/python3.9/site-packages (0.4.2)\n",
      "Requirement already satisfied: nest-asyncio in ./opt/anaconda3/lib/python3.9/site-packages (from jupyter-dash) (1.5.5)\n",
      "Requirement already satisfied: ipykernel in ./opt/anaconda3/lib/python3.9/site-packages (from jupyter-dash) (6.15.2)\n",
      "Requirement already satisfied: retrying in ./opt/anaconda3/lib/python3.9/site-packages (from jupyter-dash) (1.3.4)\n",
      "Requirement already satisfied: ipython in ./opt/anaconda3/lib/python3.9/site-packages (from jupyter-dash) (7.31.1)\n",
      "Requirement already satisfied: ansi2html in ./opt/anaconda3/lib/python3.9/site-packages (from jupyter-dash) (1.9.1)\n",
      "Requirement already satisfied: dash in ./opt/anaconda3/lib/python3.9/site-packages (from jupyter-dash) (2.17.1)\n",
      "Requirement already satisfied: flask in ./opt/anaconda3/lib/python3.9/site-packages (from jupyter-dash) (1.1.2)\n",
      "Requirement already satisfied: requests in ./opt/anaconda3/lib/python3.9/site-packages (from jupyter-dash) (2.28.1)\n",
      "Requirement already satisfied: plotly>=5.0.0 in ./opt/anaconda3/lib/python3.9/site-packages (from dash->jupyter-dash) (5.9.0)\n",
      "Requirement already satisfied: setuptools in ./opt/anaconda3/lib/python3.9/site-packages (from dash->jupyter-dash) (63.4.1)\n",
      "Requirement already satisfied: dash-table==5.0.0 in ./opt/anaconda3/lib/python3.9/site-packages (from dash->jupyter-dash) (5.0.0)\n",
      "Requirement already satisfied: Werkzeug<3.1 in ./opt/anaconda3/lib/python3.9/site-packages (from dash->jupyter-dash) (2.0.3)\n",
      "Requirement already satisfied: importlib-metadata in ./opt/anaconda3/lib/python3.9/site-packages (from dash->jupyter-dash) (4.11.3)\n",
      "Requirement already satisfied: typing-extensions>=4.1.1 in ./opt/anaconda3/lib/python3.9/site-packages (from dash->jupyter-dash) (4.3.0)\n",
      "Requirement already satisfied: dash-core-components==2.0.0 in ./opt/anaconda3/lib/python3.9/site-packages (from dash->jupyter-dash) (2.0.0)\n",
      "Requirement already satisfied: dash-html-components==2.0.0 in ./opt/anaconda3/lib/python3.9/site-packages (from dash->jupyter-dash) (2.0.0)\n",
      "Requirement already satisfied: click>=5.1 in ./opt/anaconda3/lib/python3.9/site-packages (from flask->jupyter-dash) (8.0.4)\n",
      "Requirement already satisfied: Jinja2>=2.10.1 in ./opt/anaconda3/lib/python3.9/site-packages (from flask->jupyter-dash) (2.11.3)\n",
      "Requirement already satisfied: itsdangerous>=0.24 in ./opt/anaconda3/lib/python3.9/site-packages (from flask->jupyter-dash) (2.0.1)\n",
      "Requirement already satisfied: matplotlib-inline>=0.1 in ./opt/anaconda3/lib/python3.9/site-packages (from ipykernel->jupyter-dash) (0.1.6)\n",
      "Requirement already satisfied: packaging in ./opt/anaconda3/lib/python3.9/site-packages (from ipykernel->jupyter-dash) (21.3)\n",
      "Requirement already satisfied: traitlets>=5.1.0 in ./opt/anaconda3/lib/python3.9/site-packages (from ipykernel->jupyter-dash) (5.1.1)\n",
      "Requirement already satisfied: debugpy>=1.0 in ./opt/anaconda3/lib/python3.9/site-packages (from ipykernel->jupyter-dash) (1.5.1)\n",
      "Requirement already satisfied: tornado>=6.1 in ./opt/anaconda3/lib/python3.9/site-packages (from ipykernel->jupyter-dash) (6.1)\n",
      "Requirement already satisfied: pyzmq>=17 in ./opt/anaconda3/lib/python3.9/site-packages (from ipykernel->jupyter-dash) (23.2.0)\n",
      "Requirement already satisfied: appnope in ./opt/anaconda3/lib/python3.9/site-packages (from ipykernel->jupyter-dash) (0.1.2)\n",
      "Requirement already satisfied: psutil in ./opt/anaconda3/lib/python3.9/site-packages (from ipykernel->jupyter-dash) (5.9.0)\n",
      "Requirement already satisfied: jupyter-client>=6.1.12 in ./opt/anaconda3/lib/python3.9/site-packages (from ipykernel->jupyter-dash) (7.3.4)\n",
      "Requirement already satisfied: backcall in ./opt/anaconda3/lib/python3.9/site-packages (from ipython->jupyter-dash) (0.2.0)\n",
      "Requirement already satisfied: pexpect>4.3 in ./opt/anaconda3/lib/python3.9/site-packages (from ipython->jupyter-dash) (4.8.0)\n",
      "Requirement already satisfied: jedi>=0.16 in ./opt/anaconda3/lib/python3.9/site-packages (from ipython->jupyter-dash) (0.18.1)\n",
      "Requirement already satisfied: pygments in ./opt/anaconda3/lib/python3.9/site-packages (from ipython->jupyter-dash) (2.11.2)\n",
      "Requirement already satisfied: decorator in ./opt/anaconda3/lib/python3.9/site-packages (from ipython->jupyter-dash) (5.1.1)\n",
      "Requirement already satisfied: prompt-toolkit!=3.0.0,!=3.0.1,<3.1.0,>=2.0.0 in ./opt/anaconda3/lib/python3.9/site-packages (from ipython->jupyter-dash) (3.0.20)\n",
      "Requirement already satisfied: pickleshare in ./opt/anaconda3/lib/python3.9/site-packages (from ipython->jupyter-dash) (0.7.5)\n",
      "Requirement already satisfied: charset-normalizer<3,>=2 in ./opt/anaconda3/lib/python3.9/site-packages (from requests->jupyter-dash) (2.0.4)\n",
      "Requirement already satisfied: idna<4,>=2.5 in ./opt/anaconda3/lib/python3.9/site-packages (from requests->jupyter-dash) (3.3)\n",
      "Requirement already satisfied: certifi>=2017.4.17 in ./opt/anaconda3/lib/python3.9/site-packages (from requests->jupyter-dash) (2024.6.2)\n",
      "Requirement already satisfied: urllib3<1.27,>=1.21.1 in ./opt/anaconda3/lib/python3.9/site-packages (from requests->jupyter-dash) (1.26.11)\n",
      "Requirement already satisfied: six>=1.7.0 in ./opt/anaconda3/lib/python3.9/site-packages (from retrying->jupyter-dash) (1.16.0)\n",
      "Requirement already satisfied: parso<0.9.0,>=0.8.0 in ./opt/anaconda3/lib/python3.9/site-packages (from jedi>=0.16->ipython->jupyter-dash) (0.8.3)\n",
      "Requirement already satisfied: MarkupSafe>=0.23 in ./opt/anaconda3/lib/python3.9/site-packages (from Jinja2>=2.10.1->flask->jupyter-dash) (2.0.1)\n",
      "Requirement already satisfied: entrypoints in ./opt/anaconda3/lib/python3.9/site-packages (from jupyter-client>=6.1.12->ipykernel->jupyter-dash) (0.4)\n",
      "Requirement already satisfied: python-dateutil>=2.8.2 in ./opt/anaconda3/lib/python3.9/site-packages (from jupyter-client>=6.1.12->ipykernel->jupyter-dash) (2.8.2)\n",
      "Requirement already satisfied: jupyter-core>=4.9.2 in ./opt/anaconda3/lib/python3.9/site-packages (from jupyter-client>=6.1.12->ipykernel->jupyter-dash) (4.11.1)\n",
      "Requirement already satisfied: ptyprocess>=0.5 in ./opt/anaconda3/lib/python3.9/site-packages (from pexpect>4.3->ipython->jupyter-dash) (0.7.0)\n",
      "Requirement already satisfied: tenacity>=6.2.0 in ./opt/anaconda3/lib/python3.9/site-packages (from plotly>=5.0.0->dash->jupyter-dash) (8.0.1)\n",
      "Requirement already satisfied: wcwidth in ./opt/anaconda3/lib/python3.9/site-packages (from prompt-toolkit!=3.0.0,!=3.0.1,<3.1.0,>=2.0.0->ipython->jupyter-dash) (0.2.5)\n",
      "Requirement already satisfied: zipp>=0.5 in ./opt/anaconda3/lib/python3.9/site-packages (from importlib-metadata->dash->jupyter-dash) (3.8.0)\n",
      "Requirement already satisfied: pyparsing!=3.0.5,>=2.0.2 in ./opt/anaconda3/lib/python3.9/site-packages (from packaging->ipykernel->jupyter-dash) (3.0.9)\n",
      "\n",
      "\u001b[1m[\u001b[0m\u001b[34;49mnotice\u001b[0m\u001b[1;39;49m]\u001b[0m\u001b[39;49m A new release of pip available: \u001b[0m\u001b[31;49m22.3.1\u001b[0m\u001b[39;49m -> \u001b[0m\u001b[32;49m24.0\u001b[0m\n",
      "\u001b[1m[\u001b[0m\u001b[34;49mnotice\u001b[0m\u001b[1;39;49m]\u001b[0m\u001b[39;49m To update, run: \u001b[0m\u001b[32;49mpip install --upgrade pip\u001b[0m\n",
      "Note: you may need to restart the kernel to use updated packages.\n"
     ]
    }
   ],
   "source": [
    "pip install jupyter-dash"
   ]
  },
  {
   "cell_type": "code",
   "execution_count": 50,
   "id": "c63c2abe",
   "metadata": {},
   "outputs": [],
   "source": [
    "\n",
    "#DATA['HI'] = ( 100 * DATA['S2']  )  /  DATA['TOC']\n",
    "#DATA['0I'] = ( 100 * DATA['S3']  )  /  DATA['TOC']\n",
    "#DATA['PI'] =  DATA['S1']   /  ( DATA['S1'] + DATA['S2']  )\n",
    "#DATA['PC'] =  0.083 * ( DATA['S1']  + DATA['S2'] )"
   ]
  },
  {
   "cell_type": "code",
   "execution_count": 490,
   "id": "32233f85",
   "metadata": {},
   "outputs": [],
   "source": [
    "FEE_AL_910 = pd.read_excel(\"/Users/moyinolorunadegbie/Documents/SOURCE ROCK PLOTS/KEROGEN.xlsx\",sheet_name=\"FEE_AL\")\n",
    "FEE_BI_307 = pd.read_excel(\"/Users/moyinolorunadegbie/Documents/SOURCE ROCK PLOTS/KEROGEN.xlsx\",sheet_name=\"FEE_BI\")\n",
    "FEE_AW_3402 = pd.read_excel(\"/Users/moyinolorunadegbie/Documents/SOURCE ROCK PLOTS/KEROGEN.xlsx\",sheet_name=\"FEE_AW\") "
   ]
  },
  {
   "cell_type": "code",
   "execution_count": 491,
   "id": "6f555773",
   "metadata": {},
   "outputs": [],
   "source": [
    "#FEE_BI_307\n",
    "\n",
    "# NEW ONE\n",
    "FEE_AL_910 = pd.read_excel(\"/Users/moyinolorunadegbie/Downloads/KEROGEN_NEW.xlsx\",sheet_name=\"FEE_AL\")\n",
    "FEE_BI_307 = pd.read_excel(\"/Users/moyinolorunadegbie/Downloads/KEROGEN_NEW.xlsx\",sheet_name=\"FEE_BI\")\n",
    "FEE_AW_3402 = pd.read_excel(\"/Users/moyinolorunadegbie/Downloads/KEROGEN_NEW.xlsx\",sheet_name=\"FEE_AW\")"
   ]
  },
  {
   "cell_type": "code",
   "execution_count": 492,
   "id": "f2d3cdea",
   "metadata": {},
   "outputs": [],
   "source": [
    "\n",
    "FEE_AL_910['HI'] = ( 100 * FEE_AL_910['S2 mg/g']  )  /  FEE_AL_910['TOC']\n",
    "FEE_AL_910['0I'] = ( 100 * FEE_AL_910['S3 mg/g']  )  /  FEE_AL_910['TOC']\n",
    "FEE_AL_910['PI'] =  FEE_AL_910['S1 mg/g']   /  ( FEE_AL_910['S1 mg/g'] + FEE_AL_910['S2 mg/g']  )\n",
    "FEE_AL_910['PC'] =  0.083 * ( FEE_AL_910['S1 mg/g']  + FEE_AL_910['S2 mg/g'] )"
   ]
  },
  {
   "cell_type": "code",
   "execution_count": 493,
   "id": "b56bd11e",
   "metadata": {},
   "outputs": [],
   "source": [
    "\n",
    "FEE_BI_307['HI'] = ( 100 * FEE_BI_307['S2 mg/g']  )  /  FEE_BI_307['TOC']\n",
    "FEE_BI_307['0I'] = ( 100 * FEE_BI_307['S3 mg/g']  )  /  FEE_BI_307['TOC']\n",
    "FEE_BI_307['PI'] =  FEE_BI_307['S1 mg/g']   /  ( FEE_BI_307['S1 mg/g'] +  FEE_BI_307['S2 mg/g']  )\n",
    "FEE_BI_307['PC'] =  0.083 * ( FEE_BI_307['S1 mg/g']  + FEE_BI_307['S2 mg/g'] )"
   ]
  },
  {
   "cell_type": "code",
   "execution_count": 494,
   "id": "49c67d32",
   "metadata": {},
   "outputs": [],
   "source": [
    "\n",
    "FEE_AW_3402['HI'] = ( 100 * FEE_AW_3402['S2 mg/g']  )  /  FEE_AW_3402['TOC']\n",
    "FEE_AW_3402['0I'] = ( 100 * FEE_AW_3402['S3 mg/g']  )  /  FEE_AW_3402['TOC']\n",
    "FEE_AW_3402['PI'] =  FEE_AW_3402['S1 mg/g']   /  ( FEE_AW_3402['S1 mg/g'] + FEE_AW_3402['S2 mg/g']  )\n",
    "FEE_AW_3402['PC'] =  0.083 * ( FEE_AW_3402['S1 mg/g']  + FEE_AW_3402['S2 mg/g'] )"
   ]
  },
  {
   "cell_type": "markdown",
   "id": "b1213fa9",
   "metadata": {},
   "source": [
    "# PSEUDO VAN KREVELEN PLOT"
   ]
  },
  {
   "cell_type": "code",
   "execution_count": 495,
   "id": "3e74e1c1",
   "metadata": {},
   "outputs": [],
   "source": [
    "PSEUDO_I = pd.read_excel(\"/Users/moyinolorunadegbie/Documents/PSEUDO_VAN_KREVELEN/I.xlsx\")\n",
    "\n",
    "PSEUDO_II = pd.read_excel(\"/Users/moyinolorunadegbie/Documents/PSEUDO_VAN_KREVELEN/II.xlsx\")\n",
    "\n",
    "PSEUDO_II_III = pd.read_excel(\"/Users/moyinolorunadegbie/Documents/PSEUDO_VAN_KREVELEN/II_III.xlsx\")\n",
    "\n",
    "PSEUDO_III = pd.read_excel(\"/Users/moyinolorunadegbie/Documents/PSEUDO_VAN_KREVELEN/III.xlsx\")"
   ]
  },
  {
   "cell_type": "code",
   "execution_count": 496,
   "id": "54f620ad",
   "metadata": {},
   "outputs": [
    {
     "name": "stdout",
     "output_type": "stream",
     "text": [
      "9.35\n"
     ]
    }
   ],
   "source": [
    "def closest(lst, K):\n",
    "     \n",
    "    return lst[min(range(len(lst)), key = lambda i: abs(lst[i]-K))]\n",
    "     \n",
    "# Driver code\n",
    "lst = [3.64, 5.2, 9.42, 9.35, 8.5, 8]\n",
    "K = 9.1\n",
    "print(closest(lst, K))"
   ]
  },
  {
   "cell_type": "code",
   "execution_count": 497,
   "id": "a9e5148a",
   "metadata": {},
   "outputs": [],
   "source": [
    "def rework(FEE_AL_910, PSEUDO_I, PSEUDO_II, PSEUDO_II_III, PSEUDO_III):\n",
    "    def TYPES(   OI_x , HI_y , I, II, II_III , III ,vis  , x, y):\n",
    "        \n",
    "        \n",
    "        \n",
    "        \n",
    "        tempx = OI_x\n",
    "        tempy = HI_y\n",
    "        \n",
    "        \n",
    "        OI_xx = tempx\n",
    "        HI_yy = tempy\n",
    "        \n",
    "        for xxx in range( 1,x + 1):\n",
    "            for yyy in range(1, y +1):\n",
    "                OI_x += xxx\n",
    "                HI_y += yyy\n",
    "                \n",
    "                \n",
    "                \n",
    "                OI_xx -= xxx\n",
    "                HI_yy -= yyy\n",
    "                \n",
    "                \n",
    "                \n",
    "                \n",
    "                           \n",
    "                                                                                                   #\n",
    "                if [OI_x , tempy ] in I     or [tempx , HI_y ] in I      or   [OI_x , HI_y ] in I  or  [OI_xx , tempy ] in II  or  [tempx , HI_yy ] in II or [OI_xx , HI_yy ] in II:\n",
    "                   # print(\"I\")\n",
    "            \n",
    "                    return \"TYPE I\"\n",
    "        \n",
    "        #if OI_x >= right or HI_y >= top :\n",
    "            #return False\n",
    "                                                                                                    # \n",
    "                if [OI_x , tempy ] in II     or [tempx , HI_y ] in II      or   [OI_x , HI_y ] in II or  [OI_xx , tempy ] in II_III  or  [tempx , HI_yy ] in II_III or [OI_xx , HI_yy ] in II_III:\n",
    "                    #print(\"II\")\n",
    "                    return \"TYPE II\"\n",
    "                \n",
    "                                                                                                                  #          \n",
    "                if [OI_x , tempy ] in II_III   or [tempx , HI_y ] in II_III   or   [OI_x , HI_y ] in II_III  or  [OI_xx , tempy ] in III  or  [tempx , HI_yy ] in III or [OI_xx , HI_yy ] in III:\n",
    "                    #print(\"II/III\")\n",
    "                    return \"TYPE II / III\"\n",
    "                                                                          #\n",
    "                if [OI_x , tempy ] in III     or [tempx , HI_y ] in III   or [OI_x , HI_y ] in III      or OI_x >= 150 :\n",
    "                    #print(\"III\")\n",
    "                    return \"TYPE III\"\n",
    "                \n",
    "                OI_x = tempx\n",
    "                HI_y = tempy\n",
    "                \n",
    "                OI_xx = tempx\n",
    "                HI_yy = tempy\n",
    "        \n",
    "    \n",
    "    PSEUDO_I_LIST = []\n",
    "    max_x_I = -999\n",
    "    min_x_I = 999\n",
    "    \n",
    "    max_y_I = -999\n",
    "    min_y_I = 999\n",
    "    for i in range(   len(PSEUDO_I )):\n",
    "        #PSEUDO_I_LIST.append( [ round(   PSEUDO_I['x'].loc[i]  , 1  )  ,   round(   PSEUDO_I['y'].loc[i]  , 1 )] ) \n",
    "         \n",
    "        PSEUDO_I_LIST.append( [ int(   PSEUDO_I['x'].loc[i]   )  ,   int(   PSEUDO_I['y'].loc[i]  )] ) \n",
    "        \n",
    "        \n",
    "        max_x_I = max( max_x_I , int(   PSEUDO_I['x'].loc[i]   )  )\n",
    "        min_x_I = min( min_x_I , int(   PSEUDO_I['x'].loc[i]   )  )\n",
    "        \n",
    "        max_y_I = max( max_y_I , int(   PSEUDO_I['y'].loc[i]   )  )   \n",
    "        min_y_I = min( min_y_I , int(   PSEUDO_I['y'].loc[i]   )  )    \n",
    "        \n",
    "        \n",
    "        \"\"\"\n",
    "        max_x_I = max( max_x_I , round(   PSEUDO_I['x'].loc[i] , 1  )  )\n",
    "        min_x_I = min( min_x_I , round(   PSEUDO_I['x'].loc[i] , 1  )  )\n",
    "        \n",
    "        max_y_I = max( max_y_I , round(   PSEUDO_I['y'].loc[i] , 1  )  )\n",
    "        min_y_I = min( min_y_I , round(   PSEUDO_I['y'].loc[i] , 1  )  )\n",
    "        \"\"\"\n",
    "        \n",
    "    \n",
    "    PSEUDO_II_LIST = []\n",
    "    max_x_II = -999\n",
    "    min_x_II = 999\n",
    "    \n",
    "    max_y_II = -999\n",
    "    min_y_II = 999\n",
    "    for i in range(   len(PSEUDO_II )):\n",
    "        #PSEUDO_II_LIST.append( [ round(   PSEUDO_II['x'].loc[i]  , 1  )  ,   round(   PSEUDO_II['y'].loc[i]  , 1 )] )\n",
    "        \n",
    "        PSEUDO_II_LIST.append( [ int(   PSEUDO_II['x'].loc[i]  )  ,   int(   PSEUDO_II['y'].loc[i]  )] )\n",
    "        \n",
    "        \n",
    "        max_x_II = max( max_x_II , int(   PSEUDO_II['x'].loc[i]   )  )\n",
    "        min_x_II = min( min_x_II , int(   PSEUDO_II['x'].loc[i]   )  )\n",
    "        \n",
    "        max_y_II = max( max_y_II , int(   PSEUDO_II['y'].loc[i]   )  )\n",
    "        min_y_II = min( min_y_II , int(   PSEUDO_II['y'].loc[i]   )  )\n",
    "       \n",
    "    \n",
    "        \"\"\"\n",
    "        max_x_II = max( max_x_II , round(   PSEUDO_II['x'].loc[i] , 1  )  )\n",
    "        min_x_II = min( min_x_II , round(   PSEUDO_II['x'].loc[i] , 1  )  )\n",
    "        \n",
    "        max_y_II = max( max_y_II , round(   PSEUDO_II['y'].loc[i] , 1  )  )\n",
    "        min_y_II = min( min_y_II , round(   PSEUDO_II['y'].loc[i] , 1  )  )\n",
    "        \"\"\"\n",
    "        \n",
    "    PSEUDO_II_III_LIST = []\n",
    "    max_x_II_III = -999\n",
    "    min_x_II_III = 999\n",
    "    \n",
    "    max_y_II_III = -999\n",
    "    min_y_II_III = 999\n",
    "    for i in range(   len(PSEUDO_II_III )):\n",
    "        #PSEUDO_II_III_LIST.append( [ round(   PSEUDO_II_III['x'].loc[i]  , 1  ) , round(   PSEUDO_II_III['y'].loc[i]  , 1 )] )\n",
    "        \n",
    "        PSEUDO_II_III_LIST.append( [ int(   PSEUDO_II_III['x'].loc[i]   ) , int(   PSEUDO_II_III['y'].loc[i]  )] )\n",
    "        \n",
    "        \n",
    "        max_x_II_III = max( max_x_II_III , int(   PSEUDO_II_III['x'].loc[i]   )  )\n",
    "        min_x_II_III = min( min_x_II_III , int(   PSEUDO_II_III['x'].loc[i]   )  )\n",
    "        \n",
    "        max_y_II_III = max( max_y_II_III , int(   PSEUDO_II_III['y'].loc[i]   )  )\n",
    "        min_y_II_III = min( min_y_II_III , int(   PSEUDO_II_III['y'].loc[i]   )  )\n",
    "        \n",
    "        \n",
    "        \"\"\"\n",
    "        max_x_II_III = max( max_x_II_III , round(   PSEUDO_II_III['x'].loc[i]  , 1 )  )\n",
    "        min_x_II_III = min( min_x_II_III , round(   PSEUDO_II_III['x'].loc[i]  , 1 )  )\n",
    "        \n",
    "        max_y_II_III = max( max_y_II_III , round(   PSEUDO_II_III['y'].loc[i]  , 1 )  )\n",
    "        min_y_II_III = min( min_y_II_III , round(   PSEUDO_II_III['y'].loc[i]  , 1 )  )\n",
    "        \"\"\"\n",
    "        \n",
    "        \n",
    "    PSEUDO_III_LIST = []\n",
    "    max_x_III = -999\n",
    "    min_x_III = 999\n",
    "    \n",
    "    max_y_III = -999\n",
    "    min_y_III = 999\n",
    "    for i in range(   len(PSEUDO_III )):\n",
    "        #PSEUDO_III_LIST.append( [ round(   PSEUDO_III['x'].loc[i]  , 1  )  ,   round(   PSEUDO_III['y'].loc[i]  , 1 )] )\n",
    "        \n",
    "        PSEUDO_III_LIST.append( [ int(   PSEUDO_III['x'].loc[i]   )  ,   int(   PSEUDO_III['y'].loc[i]  )] )\n",
    "        \n",
    "        \n",
    "        \n",
    "        max_x_III = max( max_x_III , int(   PSEUDO_III['x'].loc[i]   )  )\n",
    "        min_x_III = min( min_x_III , int(   PSEUDO_III['x'].loc[i]   )  )\n",
    "        \n",
    "        max_y_III = max( max_y_III , int(   PSEUDO_III['y'].loc[i]   )  )\n",
    "        min_y_III = min( min_y_III , int(   PSEUDO_III['y'].loc[i]   )  )\n",
    "        \n",
    "        \n",
    "        \"\"\"\n",
    "        max_x_III = max( max_x_III , round(   PSEUDO_III['x'].loc[i] , 1   )  )\n",
    "        min_x_III = min( min_x_III , round(   PSEUDO_III['x'].loc[i] , 1   )  )\n",
    "        \n",
    "        max_y_III = max( max_y_III , round(   PSEUDO_III['y'].loc[i] , 1   )  )\n",
    "        min_y_III = min( min_y_III , round(   PSEUDO_III['y'].loc[i] , 1   )  )\n",
    "        \"\"\"\n",
    "        \n",
    "    #print( PSEUDO_I_LIST) # [ x, y ] [ OI, HI ]\n",
    "    \n",
    "    FEE_AL_910_PSEUDO = []\n",
    "    for i in range(   len(FEE_AL_910)):\n",
    "        #[    round( FEE_AL_910['HI'].loc[i] , 1 )    ,  round( FEE_AL_910['OI'].loc[i] ,1 )  ]  \n",
    "        \n",
    "        #OI_x =  round( FEE_AL_910['OI'].loc[i] , 1 ) # x\n",
    "        #HI_y =  round( FEE_AL_910['HI'].loc[i] , 1 ) # y\n",
    "        \n",
    "        OI_x =  int( FEE_AL_910['OI'].loc[i] ) # x\n",
    "        HI_y =  int( FEE_AL_910['HI'].loc[i] ) # y\n",
    "        \n",
    "        vis1 = set()\n",
    "        \n",
    "        \n",
    "        if pd.isna(FEE_AL_910['PSEUDO'].loc[i] ) :\n",
    "            TYPE_ONE = TYPES(   OI_x , HI_y , PSEUDO_I_LIST  ,  PSEUDO_II_LIST , PSEUDO_II_III_LIST, PSEUDO_III_LIST ,\n",
    "                          vis1,  max_x_III, max_y_I \n",
    "                            \n",
    "                         ) \n",
    "        \n",
    "            FEE_AL_910['PSEUDO'].loc[i] = TYPE_ONE"
   ]
  },
  {
   "cell_type": "code",
   "execution_count": 498,
   "id": "98608d82",
   "metadata": {},
   "outputs": [],
   "source": [
    "# PSEUDO_III\n",
    "\n",
    "def pseudo(FEE_AL_910, PSEUDO_I, PSEUDO_II, PSEUDO_II_III, PSEUDO_III):\n",
    "\n",
    "    from collections import defaultdict\n",
    "\n",
    "#adj = defaultdict(list)\n",
    "\n",
    "    III = {}\n",
    "\n",
    "    xlis = list( round(PSEUDO_III['x'] , 13 )   )\n",
    "\n",
    "\n",
    "    oilis = list(round(FEE_AL_910['OI']  , 13 )  )\n",
    "\n",
    "\n",
    "    cn = 0\n",
    "    for i in oilis :\n",
    "        if i not in xlis :\n",
    "            oilis[cn] =  closest(xlis , i)  ### calibrated to PSEUDO_III\n",
    "        cn+=1\n",
    "    \n",
    "#print(oilis)\n",
    "#xlis\n",
    "\n",
    "\n",
    "#for i in range(len(FEE_AL_910['OI'])):\n",
    "   # adj[   FEE_AL_910['OI'].loc[i] ].append(FEE_AL_910['HI'].loc[i])\n",
    "    \n",
    "    for i in range(len(PSEUDO_III['x'])):\n",
    "        III[  round(PSEUDO_III['x'].loc[i]  ,  13 )] = PSEUDO_III['y'].loc[i]\n",
    "  \n",
    "\n",
    "    dict1 = {}\n",
    "    for i in range(len(FEE_AL_910['OI'])):\n",
    "        if FEE_AL_910['HI'].loc[i]   <=  III[ oilis[i] ] or   FEE_AL_910['HI'].loc[i]   <=  min(III)  :\n",
    "           dict1[   FEE_AL_910['Depth'].loc[i] ] = \"TYPE III\"\n",
    "\n",
    "\n",
    "\n",
    "    FEE_AL_910['PSEUDO']  =   FEE_AL_910['Depth'].map(dict1)\n",
    "\n",
    "    FEE_AL_910['PSEUDO'] \n",
    "\n",
    "\n",
    "####################################################\n",
    "\n",
    "\n",
    "    def calbrate(oilis, xlis, toplist, graph):\n",
    "        cn = 0\n",
    "        for i in oilis :\n",
    "            if i not in xlis :\n",
    "                oilis[cn] =  closest(xlis , i)  ### calibrated to PSEUDO_III\n",
    "                if cn < len(toplist):\n",
    "                    graph[  oilis[cn]  ]  = toplist[cn]\n",
    "            cn+=1\n",
    "\n",
    "    xxlis = list(round(PSEUDO_II_III['x']  , 13 )  )\n",
    "    yylis = list(  PSEUDO_II_III['y']    )\n",
    "    II_III = {}\n",
    "    calbrate(xxlis, xlis,  yylis,  II_III )\n",
    "\n",
    "    xxxlis = list(round(PSEUDO_II['x']  , 13 )  )\n",
    "    yyylis = list(  PSEUDO_II['y']    )\n",
    "    II = {}\n",
    "    calbrate(xxxlis, xlis,  yyylis,  II )\n",
    "\n",
    "    xxxxlis = list(round(PSEUDO_I['x']  , 13 )  )\n",
    "    yyyylis = list(  PSEUDO_I['y']   )\n",
    "    I = {}\n",
    "    calbrate(xxxxlis, xlis,  yyyylis,  I )\n",
    "\n",
    "#print(xxlis)\n",
    "\n",
    "\n",
    "    dict2 = {}\n",
    "    for i in range(len(FEE_AL_910['OI'])):\n",
    "        if  oilis[i] in III and oilis[i] in II_III:\n",
    "                        #\n",
    "            if  III[ oilis[i] ]   < FEE_AL_910['HI'].loc[i]   <=  II_III[ oilis[i] ]  or ( min(III)  < FEE_AL_910['HI'].loc[i]   <=  max(II_III) ) :\n",
    "                   dict2[   FEE_AL_910['Depth'].loc[i] ] = \"TYPE II / III\"\n",
    "                \n",
    "                \n",
    "    dict2.update(dict1)\n",
    "\n",
    "    FEE_AL_910['PSEUDO']  =   FEE_AL_910['Depth'].map(dict2)\n",
    "\n",
    "###################\n",
    "\n",
    "    dict3 = {}\n",
    "    for i in range(len(FEE_AL_910['OI'])):\n",
    "        if  oilis[i] in II_III and oilis[i] in II:\n",
    "            if  II_III[ oilis[i] ]   < FEE_AL_910['HI'].loc[i]   <=  II[ oilis[i] ]   or (  min(II_III)  < FEE_AL_910['HI'].loc[i]   <=  max( II)  ):\n",
    "                   dict3[   FEE_AL_910['Depth'].loc[i] ] = \"TYPE II\"\n",
    "                \n",
    "                \n",
    "    dict3.update(dict2)\n",
    "\n",
    "    FEE_AL_910['PSEUDO']  =   FEE_AL_910['Depth'].map(dict3)\n",
    "\n",
    "#####################\n",
    "\n",
    "    dict4 = {}\n",
    "    for i in range(len(FEE_AL_910['OI'])):\n",
    "        if  oilis[i] in II and oilis[i] in I:\n",
    "            if  II[ oilis[i] ]   < FEE_AL_910['HI'].loc[i]   <=  I[ oilis[i] ] or ( min(II)  < FEE_AL_910['HI'].loc[i]   <=  max(I)    )  :\n",
    "                   dict4[   FEE_AL_910['Depth'].loc[i] ] = \"TYPE I\"\n",
    "                \n",
    "                \n",
    "    dict4.update(dict3)\n",
    "\n",
    "    FEE_AL_910['PSEUDO']  =   FEE_AL_910['Depth'].map(dict4)\n",
    "\n",
    "    #pseudo1(FEE_AL_910, PSEUDO_I, PSEUDO_II, PSEUDO_II_III, PSEUDO_III)\n",
    "    #FEE_AL_910['PSEUDO'].fillna(  \"UN-IDENTIFIED\", inplace= True)\n",
    "    \n",
    "    \n",
    "    \n",
    "    rework(FEE_AL_910, PSEUDO_I, PSEUDO_II, PSEUDO_II_III, PSEUDO_III)\n",
    "    \n",
    "    print( FEE_AL_910[['PSEUDO','Depth'] ]  )\n",
    "    \n",
    "    \n",
    "#pseudo(FEE_AL_910, PSEUDO_I, PSEUDO_II, PSEUDO_II_III, PSEUDO_III)"
   ]
  },
  {
   "cell_type": "code",
   "execution_count": null,
   "id": "e70981df",
   "metadata": {},
   "outputs": [],
   "source": []
  },
  {
   "cell_type": "code",
   "execution_count": 500,
   "id": "39507792",
   "metadata": {
    "scrolled": false
   },
   "outputs": [
    {
     "name": "stderr",
     "output_type": "stream",
     "text": [
      "/var/folders/50/ghq6__zs6xnch24v7kvn00xr0000gn/T/ipykernel_43066/392787565.py:189: SettingWithCopyWarning:\n",
      "\n",
      "\n",
      "A value is trying to be set on a copy of a slice from a DataFrame\n",
      "\n",
      "See the caveats in the documentation: https://pandas.pydata.org/pandas-docs/stable/user_guide/indexing.html#returning-a-view-versus-a-copy\n",
      "\n"
     ]
    },
    {
     "name": "stdout",
     "output_type": "stream",
     "text": [
      "           PSEUDO    Depth\n",
      "0        TYPE III   9037.0\n",
      "1   TYPE II / III   9078.5\n",
      "2   TYPE II / III   9127.5\n",
      "3        TYPE III   9142.0\n",
      "4        TYPE III   9218.0\n",
      "5        TYPE III   9333.5\n",
      "6        TYPE III   9371.5\n",
      "7        TYPE III   9398.0\n",
      "8        TYPE III   9487.0\n",
      "9        TYPE III   9609.5\n",
      "10       TYPE III   9657.5\n",
      "11       TYPE III   9663.5\n",
      "12       TYPE III   9684.5\n",
      "13       TYPE III   9717.5\n",
      "14       TYPE III   9726.0\n",
      "15       TYPE III   9731.5\n",
      "16       TYPE III   9740.0\n",
      "17       TYPE III   9853.0\n",
      "18       TYPE III   9938.5\n",
      "19       TYPE III   9952.5\n",
      "20       TYPE III   9956.5\n",
      "21       TYPE III   9962.5\n",
      "22       TYPE III   9966.5\n",
      "23       TYPE III   9972.5\n",
      "24       TYPE III   9975.5\n",
      "25       TYPE III   9980.5\n",
      "26       TYPE III   9985.5\n",
      "27       TYPE III   9990.5\n",
      "28       TYPE III   9995.5\n",
      "29       TYPE III  10000.5\n",
      "30       TYPE III  10004.5\n",
      "31       TYPE III  10010.5\n",
      "32       TYPE III  10020.5\n",
      "33       TYPE III  10026.5\n",
      "34       TYPE III  10032.5\n",
      "35       TYPE III  10166.5\n",
      "36       TYPE III  10283.5\n",
      "37  TYPE II / III  10292.5\n",
      "38       TYPE III  10300.5\n",
      "39       TYPE III  10310.5\n",
      "40       TYPE III  10318.5\n",
      "41       TYPE III  10325.5\n",
      "42       TYPE III  10335.5\n",
      "43       TYPE III  10346.5\n",
      "44  TYPE II / III  10353.5\n",
      "45       TYPE III  10360.5\n",
      "46       TYPE III  10366.5\n",
      "47       TYPE III  10374.0\n",
      "48       TYPE III  10377.0\n",
      "49       TYPE III  10380.5\n",
      "50       TYPE III  10390.5\n"
     ]
    },
    {
     "data": {
      "application/vnd.plotly.v1+json": {
       "config": {
        "plotlyServerURL": "https://plot.ly"
       },
       "data": [
        {
         "hovertemplate": "<b>%{hovertext}</b><br><br>x=%{x}<br>y=%{y}<extra></extra>",
         "hovertext": [
          9037,
          9078.5,
          9127.5,
          9142,
          9218,
          9333.5,
          9371.5,
          9398,
          9487,
          9609.5,
          9657.5,
          9663.5,
          9684.5,
          9717.5,
          9726,
          9731.5,
          9740,
          9853,
          9938.5,
          9952.5,
          9956.5,
          9962.5,
          9966.5,
          9972.5,
          9975.5,
          9980.5,
          9985.5,
          9990.5,
          9995.5,
          10000.5,
          10004.5,
          10010.5,
          10020.5,
          10026.5,
          10032.5,
          10166.5,
          10283.5,
          10292.5,
          10300.5,
          10310.5,
          10318.5,
          10325.5,
          10335.5,
          10346.5,
          10353.5,
          10360.5,
          10366.5,
          10374,
          10377,
          10380.5,
          10390.5
         ],
         "legendgroup": "",
         "marker": {
          "color": "#636efa",
          "symbol": "circle"
         },
         "mode": "markers",
         "name": "",
         "orientation": "v",
         "showlegend": false,
         "type": "scatter",
         "x": [
          14,
          6,
          9,
          85,
          11,
          12,
          6,
          7,
          5,
          44,
          5,
          11,
          158,
          45,
          5,
          5,
          3,
          333,
          17,
          26,
          2,
          4,
          13,
          5,
          3,
          10,
          11,
          3,
          17,
          11,
          5,
          4,
          5,
          3,
          4,
          7,
          3,
          3,
          4,
          11,
          20,
          36,
          5,
          2,
          2,
          5,
          2,
          13,
          6,
          17,
          9
         ],
         "xaxis": "x",
         "y": [
          159.07928388746802,
          237.85900783289816,
          238.63247863247864,
          113.04347826086956,
          121.6117216117216,
          150.91575091575092,
          168.08510638297872,
          120.72892938496584,
          142.5357873210634,
          47.22222222222222,
          170.87087087087087,
          160.09501187648456,
          83.33333333333334,
          53.76344086021505,
          98.26589595375722,
          84.33734939759036,
          110.13215859030836,
          400,
          124.40944881889763,
          123.01587301587301,
          143.03482587064678,
          126.56826568265683,
          121.05263157894737,
          97.41379310344827,
          174.02826855123675,
          107.95107033639144,
          110.18518518518518,
          136.44314868804665,
          126.08695652173914,
          102.83911671924291,
          141.02564102564102,
          148.9855072463768,
          132.6860841423948,
          141.2532637075718,
          145.58011049723757,
          183.68644067796612,
          132.20973782771537,
          219.14191419141918,
          148.6725663716814,
          126.4,
          114.08450704225353,
          142.07650273224044,
          128.19383259911893,
          190.27113237639554,
          203.4003091190108,
          109.87124463519314,
          156.140350877193,
          145.7831325301205,
          100.84745762711864,
          83.53413654618473,
          118.21561338289963
         ],
         "yaxis": "y"
        },
        {
         "hovertemplate": "x=%{x}<br>y=%{y}<extra></extra>",
         "legendgroup": "",
         "line": {
          "color": "#636efa",
          "dash": "solid"
         },
         "marker": {
          "symbol": "circle"
         },
         "mode": "lines",
         "name": "",
         "orientation": "v",
         "showlegend": false,
         "type": "scatter",
         "x": [
          59.20046,
          58.57689,
          58.63523,
          58.31771,
          57.60233,
          57.35845,
          57.0591,
          56.99503,
          56.25765,
          55.19989,
          54.31809,
          53.53577,
          52.6119,
          51.64881,
          50.28118,
          48.88868,
          47.83761,
          46.93286,
          45.73833,
          44.60692,
          42.75536,
          41.33512,
          40.2391,
          38.42196,
          37.05337,
          35.64365,
          33.76913,
          31.99885,
          30.53462,
          29.11821,
          27.63868,
          26.07116,
          24.44243,
          22.89594,
          21.37337,
          19.8795,
          18.32249,
          16.3026,
          14.60884,
          12.75057,
          11.02334,
          9.58397
         ],
         "xaxis": "x",
         "y": [
          714.06104,
          722.21976,
          729.60671,
          738.06993,
          746.56991,
          753.51059,
          761.97382,
          771.93333,
          781.93485,
          790.77609,
          797.20226,
          805.10372,
          816.31802,
          820.98539,
          829.50637,
          836.72006,
          843.8025,
          848.73238,
          854.36053,
          859.76818,
          866.90312,
          872.45777,
          875.85986,
          878.77368,
          883.41481,
          889.03771,
          892.06179,
          896.23565,
          897.99445,
          900.0735,
          902.0108,
          905.47065,
          907.84896,
          910.95179,
          910.95179,
          911.2773,
          913.0571,
          913.75537,
          914.77914,
          916.21768,
          916.21768,
          917.18896
         ],
         "yaxis": "y"
        },
        {
         "hovertemplate": "x=%{x}<br>y=%{y}<extra></extra>",
         "legendgroup": "",
         "line": {
          "color": "#636efa",
          "dash": "solid"
         },
         "marker": {
          "symbol": "circle"
         },
         "mode": "lines",
         "name": "",
         "orientation": "v",
         "showlegend": false,
         "type": "scatter",
         "x": [
          76.43076,
          76.43076,
          75.9277,
          75.9277,
          75.9277,
          75.55279,
          74.75803,
          74.75803,
          74.69969,
          73.89155,
          72.98011,
          72.12701,
          71.11993,
          70.21423,
          69.26454,
          68.44204,
          67.39384,
          65.94682,
          64.64327,
          63.69357,
          62.54878,
          61.07976,
          59.88906,
          58.55777,
          57.14518,
          55.48776,
          54.23393,
          52.71041,
          51.09602,
          49.73221,
          48.12643,
          45.91909,
          44.10673,
          42.72475,
          41.01282,
          39.55241,
          37.94185,
          36.68324,
          35.07842,
          33.22494,
          31.53692,
          29.81829,
          27.85099,
          26.3619,
          24.56771,
          23.22494,
          21.1075,
          19.50555,
          17.51721,
          15.77659,
          13.46882,
          11.8114,
          10.45046,
          9.0044
         ],
         "xaxis": "x",
         "y": [
          372.45543,
          380.60365,
          391.7392,
          404.53379,
          411.97849,
          422.77277,
          435.78787,
          447.35918,
          458.68373,
          471.34707,
          486.13671,
          499.91308,
          512.30866,
          524.04797,
          531.57668,
          543.925,
          554.56179,
          561.46047,
          569.47219,
          575.97186,
          582.18803,
          589.85848,
          593.80658,
          600.1435,
          604.66912,
          611.72006,
          618.69225,
          623.16537,
          628.41026,
          632.53162,
          636.53747,
          645.31571,
          649.83083,
          652.09364,
          657.82679,
          660.54111,
          662.49942,
          666.47902,
          669.5031,
          671.3039,
          674.28598,
          675.64052,
          678.00308,
          678.32859,
          681.53117,
          683.91474,
          686.2983,
          686.95982,
          686.61331,
          687.56884,
          691.84245,
          693.46474,
          694.23651,
          694.23651
         ],
         "yaxis": "y"
        },
        {
         "hovertemplate": "x=%{x}<br>y=%{y}<extra></extra>",
         "legendgroup": "",
         "line": {
          "color": "#636efa",
          "dash": "solid"
         },
         "marker": {
          "symbol": "circle"
         },
         "mode": "lines",
         "name": "",
         "orientation": "v",
         "showlegend": false,
         "type": "scatter",
         "x": [
          90.36438,
          90.12816,
          89.68057,
          89.06178,
          88.39327,
          87.48183,
          86.20696,
          84.77525,
          82.95811,
          81.21844,
          79.18037,
          77.36324,
          75.91239,
          74.03596,
          72.39767,
          71.03481,
          69.39174,
          67.71997,
          65.33187,
          64.02831,
          62.36515,
          60.61783,
          59.18994,
          57.76683,
          56.18879,
          54.06561,
          52.57364,
          50.70199,
          48.67923,
          47.18535,
          45.75555,
          44.06274,
          42.20448,
          40.16641,
          38.61802,
          37.24464,
          35.06025,
          33.80356,
          32.3948,
          30.90092,
          29.3487,
          27.55738,
          25.82536,
          24.53615,
          22.89212,
          21.26052,
          19.66431,
          17.74388,
          16.09985,
          13.86094,
          12.02467,
          10.35195,
          8.54916,
          8.09808,
          6.53081,
          4.93249,
          3.28204,
          1.60165
         ],
         "xaxis": "x",
         "y": [
          214.47347,
          222.07567,
          230.34464,
          238.65036,
          247.5441,
          254.66329,
          262.39675,
          269.11693,
          272.61352,
          278.01591,
          284.78334,
          288.8627,
          291.19902,
          295.35713,
          299.06898,
          300.43401,
          302.73357,
          306.18817,
          311.74806,
          314.44139,
          315.75392,
          318.82525,
          321.55007,
          324.28015,
          326.65846,
          327.64024,
          327.36723,
          331.46234,
          334.57042,
          335.88821,
          337.22174,
          337.90426,
          337.90426,
          340.22482,
          342.58214,
          342.91289,
          342.44038,
          342.79214,
          344.13618,
          344.79244,
          345.1232,
          346.48299,
          348.53579,
          349.53857,
          349.53857,
          349.85883,
          349.85883,
          350.84586,
          351.88013,
          352.13214,
          352.13214,
          352.87241,
          353.90144,
          354.61884,
          354.66153,
          355.4545,
          355.4545,
          355.4545
         ],
         "yaxis": "y"
        },
        {
         "hovertemplate": "x=%{x}<br>y=%{y}<extra></extra>",
         "legendgroup": "",
         "line": {
          "color": "#636efa",
          "dash": "solid"
         },
         "marker": {
          "symbol": "circle"
         },
         "mode": "lines",
         "name": "",
         "orientation": "v",
         "showlegend": false,
         "type": "scatter",
         "x": [
          149.10673,
          148.32249,
          147.32211,
          146.38103,
          145.25727,
          144.27123,
          142.95907,
          141.64308,
          140.31178,
          138.92119,
          137.29916,
          135.9057,
          134.73317,
          133.06236,
          131.52544,
          129.69874,
          128.02984,
          126.73776,
          125.30509,
          123.48317,
          122.21595,
          120.69529,
          119.14308,
          117.78213,
          116.58761,
          114.79916,
          113.03558,
          111.71194,
          109.99904,
          108.63428,
          107.16048,
          105.65608,
          103.65914,
          102.48279,
          100.98221,
          99.70926,
          98.23259,
          96.46232,
          94.65666,
          92.80413,
          91.08263,
          89.45773,
          87.6578,
          86.20314,
          84.75708,
          83.14939,
          81.25096,
          79.88332,
          78.158,
          76.66412,
          75.02104,
          73.728,
          71.52448,
          70.20849,
          68.45065,
          66.82288,
          64.93592,
          63.31676,
          61.81809,
          60.03347,
          58.32441,
          56.50153,
          54.98279,
          53.70505,
          52.27238,
          50.59105,
          49.20715,
          47.32498,
          45.43803,
          43.45448,
          41.72819,
          40.4868,
          39.12682,
          37.39767,
          36.09028,
          34.71787,
          32.83665,
          30.50306,
          28.52716,
          26.76645,
          25.39116,
          23.71844,
          21.65838,
          20.07555,
          17.79265,
          16.09507,
          14.52085,
          12.71806,
          10.95926,
          9.18133,
          7.49713,
          7.39375,
          5.97512,
          4.49437,
          2.99255,
          1.28442
         ],
         "xaxis": "x",
         "y": [
          55.12647,
          60.33986,
          65.464,
          71.98467,
          77.90158,
          83.17797,
          86.77431,
          91.12668,
          96.04606,
          101.68471,
          103.75852,
          106.20508,
          109.61242,
          113.26127,
          115.66583,
          118.07565,
          122.70102,
          124.84833,
          124.84833,
          128.17692,
          130.64448,
          132.91254,
          132.91254,
          133.87857,
          136.59289,
          139.65897,
          142.29979,
          143.30257,
          145.94864,
          148.95172,
          148.95172,
          149.65524,
          150.28526,
          153.00483,
          154.93163,
          156.29142,
          157.06319,
          157.06319,
          160.45478,
          163.0431,
          165.11165,
          165.11165,
          166.08293,
          166.43469,
          167.40071,
          167.40071,
          169.78428,
          170.7608,
          172.4776,
          173.85839,
          173.51188,
          173.51188,
          175.21817,
          175.56993,
          175.56993,
          175.56993,
          176.94547,
          178.32626,
          178.32626,
          178.32626,
          180.0588,
          180.41056,
          181.52884,
          181.52884,
          181.52884,
          183.54489,
          183.54489,
          183.8704,
          184.96243,
          186.97849,
          186.66873,
          186.66873,
          186.66873,
          187.6505,
          187.98126,
          187.98126,
          189.3358,
          190.42783,
          191.48311,
          190.84259,
          190.84259,
          191.54611,
          191.54611,
          191.54611,
          191.54611,
          191.54611,
          191.54611,
          193.11065,
          194.12918,
          194.12918,
          195.41546,
          197.33172,
          198.12468,
          198.12468,
          199.42392,
          199.42392
         ],
         "yaxis": "y"
        }
       ],
       "layout": {
        "legend": {
         "title": {
          "text": "Pseudo Van Krevelen Plot"
         }
        },
        "template": {
         "data": {
          "bar": [
           {
            "error_x": {
             "color": "#2a3f5f"
            },
            "error_y": {
             "color": "#2a3f5f"
            },
            "marker": {
             "line": {
              "color": "#E5ECF6",
              "width": 0.5
             },
             "pattern": {
              "fillmode": "overlay",
              "size": 10,
              "solidity": 0.2
             }
            },
            "type": "bar"
           }
          ],
          "barpolar": [
           {
            "marker": {
             "line": {
              "color": "#E5ECF6",
              "width": 0.5
             },
             "pattern": {
              "fillmode": "overlay",
              "size": 10,
              "solidity": 0.2
             }
            },
            "type": "barpolar"
           }
          ],
          "carpet": [
           {
            "aaxis": {
             "endlinecolor": "#2a3f5f",
             "gridcolor": "white",
             "linecolor": "white",
             "minorgridcolor": "white",
             "startlinecolor": "#2a3f5f"
            },
            "baxis": {
             "endlinecolor": "#2a3f5f",
             "gridcolor": "white",
             "linecolor": "white",
             "minorgridcolor": "white",
             "startlinecolor": "#2a3f5f"
            },
            "type": "carpet"
           }
          ],
          "choropleth": [
           {
            "colorbar": {
             "outlinewidth": 0,
             "ticks": ""
            },
            "type": "choropleth"
           }
          ],
          "contour": [
           {
            "colorbar": {
             "outlinewidth": 0,
             "ticks": ""
            },
            "colorscale": [
             [
              0,
              "#0d0887"
             ],
             [
              0.1111111111111111,
              "#46039f"
             ],
             [
              0.2222222222222222,
              "#7201a8"
             ],
             [
              0.3333333333333333,
              "#9c179e"
             ],
             [
              0.4444444444444444,
              "#bd3786"
             ],
             [
              0.5555555555555556,
              "#d8576b"
             ],
             [
              0.6666666666666666,
              "#ed7953"
             ],
             [
              0.7777777777777778,
              "#fb9f3a"
             ],
             [
              0.8888888888888888,
              "#fdca26"
             ],
             [
              1,
              "#f0f921"
             ]
            ],
            "type": "contour"
           }
          ],
          "contourcarpet": [
           {
            "colorbar": {
             "outlinewidth": 0,
             "ticks": ""
            },
            "type": "contourcarpet"
           }
          ],
          "heatmap": [
           {
            "colorbar": {
             "outlinewidth": 0,
             "ticks": ""
            },
            "colorscale": [
             [
              0,
              "#0d0887"
             ],
             [
              0.1111111111111111,
              "#46039f"
             ],
             [
              0.2222222222222222,
              "#7201a8"
             ],
             [
              0.3333333333333333,
              "#9c179e"
             ],
             [
              0.4444444444444444,
              "#bd3786"
             ],
             [
              0.5555555555555556,
              "#d8576b"
             ],
             [
              0.6666666666666666,
              "#ed7953"
             ],
             [
              0.7777777777777778,
              "#fb9f3a"
             ],
             [
              0.8888888888888888,
              "#fdca26"
             ],
             [
              1,
              "#f0f921"
             ]
            ],
            "type": "heatmap"
           }
          ],
          "heatmapgl": [
           {
            "colorbar": {
             "outlinewidth": 0,
             "ticks": ""
            },
            "colorscale": [
             [
              0,
              "#0d0887"
             ],
             [
              0.1111111111111111,
              "#46039f"
             ],
             [
              0.2222222222222222,
              "#7201a8"
             ],
             [
              0.3333333333333333,
              "#9c179e"
             ],
             [
              0.4444444444444444,
              "#bd3786"
             ],
             [
              0.5555555555555556,
              "#d8576b"
             ],
             [
              0.6666666666666666,
              "#ed7953"
             ],
             [
              0.7777777777777778,
              "#fb9f3a"
             ],
             [
              0.8888888888888888,
              "#fdca26"
             ],
             [
              1,
              "#f0f921"
             ]
            ],
            "type": "heatmapgl"
           }
          ],
          "histogram": [
           {
            "marker": {
             "pattern": {
              "fillmode": "overlay",
              "size": 10,
              "solidity": 0.2
             }
            },
            "type": "histogram"
           }
          ],
          "histogram2d": [
           {
            "colorbar": {
             "outlinewidth": 0,
             "ticks": ""
            },
            "colorscale": [
             [
              0,
              "#0d0887"
             ],
             [
              0.1111111111111111,
              "#46039f"
             ],
             [
              0.2222222222222222,
              "#7201a8"
             ],
             [
              0.3333333333333333,
              "#9c179e"
             ],
             [
              0.4444444444444444,
              "#bd3786"
             ],
             [
              0.5555555555555556,
              "#d8576b"
             ],
             [
              0.6666666666666666,
              "#ed7953"
             ],
             [
              0.7777777777777778,
              "#fb9f3a"
             ],
             [
              0.8888888888888888,
              "#fdca26"
             ],
             [
              1,
              "#f0f921"
             ]
            ],
            "type": "histogram2d"
           }
          ],
          "histogram2dcontour": [
           {
            "colorbar": {
             "outlinewidth": 0,
             "ticks": ""
            },
            "colorscale": [
             [
              0,
              "#0d0887"
             ],
             [
              0.1111111111111111,
              "#46039f"
             ],
             [
              0.2222222222222222,
              "#7201a8"
             ],
             [
              0.3333333333333333,
              "#9c179e"
             ],
             [
              0.4444444444444444,
              "#bd3786"
             ],
             [
              0.5555555555555556,
              "#d8576b"
             ],
             [
              0.6666666666666666,
              "#ed7953"
             ],
             [
              0.7777777777777778,
              "#fb9f3a"
             ],
             [
              0.8888888888888888,
              "#fdca26"
             ],
             [
              1,
              "#f0f921"
             ]
            ],
            "type": "histogram2dcontour"
           }
          ],
          "mesh3d": [
           {
            "colorbar": {
             "outlinewidth": 0,
             "ticks": ""
            },
            "type": "mesh3d"
           }
          ],
          "parcoords": [
           {
            "line": {
             "colorbar": {
              "outlinewidth": 0,
              "ticks": ""
             }
            },
            "type": "parcoords"
           }
          ],
          "pie": [
           {
            "automargin": true,
            "type": "pie"
           }
          ],
          "scatter": [
           {
            "fillpattern": {
             "fillmode": "overlay",
             "size": 10,
             "solidity": 0.2
            },
            "type": "scatter"
           }
          ],
          "scatter3d": [
           {
            "line": {
             "colorbar": {
              "outlinewidth": 0,
              "ticks": ""
             }
            },
            "marker": {
             "colorbar": {
              "outlinewidth": 0,
              "ticks": ""
             }
            },
            "type": "scatter3d"
           }
          ],
          "scattercarpet": [
           {
            "marker": {
             "colorbar": {
              "outlinewidth": 0,
              "ticks": ""
             }
            },
            "type": "scattercarpet"
           }
          ],
          "scattergeo": [
           {
            "marker": {
             "colorbar": {
              "outlinewidth": 0,
              "ticks": ""
             }
            },
            "type": "scattergeo"
           }
          ],
          "scattergl": [
           {
            "marker": {
             "colorbar": {
              "outlinewidth": 0,
              "ticks": ""
             }
            },
            "type": "scattergl"
           }
          ],
          "scattermapbox": [
           {
            "marker": {
             "colorbar": {
              "outlinewidth": 0,
              "ticks": ""
             }
            },
            "type": "scattermapbox"
           }
          ],
          "scatterpolar": [
           {
            "marker": {
             "colorbar": {
              "outlinewidth": 0,
              "ticks": ""
             }
            },
            "type": "scatterpolar"
           }
          ],
          "scatterpolargl": [
           {
            "marker": {
             "colorbar": {
              "outlinewidth": 0,
              "ticks": ""
             }
            },
            "type": "scatterpolargl"
           }
          ],
          "scatterternary": [
           {
            "marker": {
             "colorbar": {
              "outlinewidth": 0,
              "ticks": ""
             }
            },
            "type": "scatterternary"
           }
          ],
          "surface": [
           {
            "colorbar": {
             "outlinewidth": 0,
             "ticks": ""
            },
            "colorscale": [
             [
              0,
              "#0d0887"
             ],
             [
              0.1111111111111111,
              "#46039f"
             ],
             [
              0.2222222222222222,
              "#7201a8"
             ],
             [
              0.3333333333333333,
              "#9c179e"
             ],
             [
              0.4444444444444444,
              "#bd3786"
             ],
             [
              0.5555555555555556,
              "#d8576b"
             ],
             [
              0.6666666666666666,
              "#ed7953"
             ],
             [
              0.7777777777777778,
              "#fb9f3a"
             ],
             [
              0.8888888888888888,
              "#fdca26"
             ],
             [
              1,
              "#f0f921"
             ]
            ],
            "type": "surface"
           }
          ],
          "table": [
           {
            "cells": {
             "fill": {
              "color": "#EBF0F8"
             },
             "line": {
              "color": "white"
             }
            },
            "header": {
             "fill": {
              "color": "#C8D4E3"
             },
             "line": {
              "color": "white"
             }
            },
            "type": "table"
           }
          ]
         },
         "layout": {
          "annotationdefaults": {
           "arrowcolor": "#2a3f5f",
           "arrowhead": 0,
           "arrowwidth": 1
          },
          "autotypenumbers": "strict",
          "coloraxis": {
           "colorbar": {
            "outlinewidth": 0,
            "ticks": ""
           }
          },
          "colorscale": {
           "diverging": [
            [
             0,
             "#8e0152"
            ],
            [
             0.1,
             "#c51b7d"
            ],
            [
             0.2,
             "#de77ae"
            ],
            [
             0.3,
             "#f1b6da"
            ],
            [
             0.4,
             "#fde0ef"
            ],
            [
             0.5,
             "#f7f7f7"
            ],
            [
             0.6,
             "#e6f5d0"
            ],
            [
             0.7,
             "#b8e186"
            ],
            [
             0.8,
             "#7fbc41"
            ],
            [
             0.9,
             "#4d9221"
            ],
            [
             1,
             "#276419"
            ]
           ],
           "sequential": [
            [
             0,
             "#0d0887"
            ],
            [
             0.1111111111111111,
             "#46039f"
            ],
            [
             0.2222222222222222,
             "#7201a8"
            ],
            [
             0.3333333333333333,
             "#9c179e"
            ],
            [
             0.4444444444444444,
             "#bd3786"
            ],
            [
             0.5555555555555556,
             "#d8576b"
            ],
            [
             0.6666666666666666,
             "#ed7953"
            ],
            [
             0.7777777777777778,
             "#fb9f3a"
            ],
            [
             0.8888888888888888,
             "#fdca26"
            ],
            [
             1,
             "#f0f921"
            ]
           ],
           "sequentialminus": [
            [
             0,
             "#0d0887"
            ],
            [
             0.1111111111111111,
             "#46039f"
            ],
            [
             0.2222222222222222,
             "#7201a8"
            ],
            [
             0.3333333333333333,
             "#9c179e"
            ],
            [
             0.4444444444444444,
             "#bd3786"
            ],
            [
             0.5555555555555556,
             "#d8576b"
            ],
            [
             0.6666666666666666,
             "#ed7953"
            ],
            [
             0.7777777777777778,
             "#fb9f3a"
            ],
            [
             0.8888888888888888,
             "#fdca26"
            ],
            [
             1,
             "#f0f921"
            ]
           ]
          },
          "colorway": [
           "#636efa",
           "#EF553B",
           "#00cc96",
           "#ab63fa",
           "#FFA15A",
           "#19d3f3",
           "#FF6692",
           "#B6E880",
           "#FF97FF",
           "#FECB52"
          ],
          "font": {
           "color": "#2a3f5f"
          },
          "geo": {
           "bgcolor": "white",
           "lakecolor": "white",
           "landcolor": "#E5ECF6",
           "showlakes": true,
           "showland": true,
           "subunitcolor": "white"
          },
          "hoverlabel": {
           "align": "left"
          },
          "hovermode": "closest",
          "mapbox": {
           "style": "light"
          },
          "paper_bgcolor": "white",
          "plot_bgcolor": "#E5ECF6",
          "polar": {
           "angularaxis": {
            "gridcolor": "white",
            "linecolor": "white",
            "ticks": ""
           },
           "bgcolor": "#E5ECF6",
           "radialaxis": {
            "gridcolor": "white",
            "linecolor": "white",
            "ticks": ""
           }
          },
          "scene": {
           "xaxis": {
            "backgroundcolor": "#E5ECF6",
            "gridcolor": "white",
            "gridwidth": 2,
            "linecolor": "white",
            "showbackground": true,
            "ticks": "",
            "zerolinecolor": "white"
           },
           "yaxis": {
            "backgroundcolor": "#E5ECF6",
            "gridcolor": "white",
            "gridwidth": 2,
            "linecolor": "white",
            "showbackground": true,
            "ticks": "",
            "zerolinecolor": "white"
           },
           "zaxis": {
            "backgroundcolor": "#E5ECF6",
            "gridcolor": "white",
            "gridwidth": 2,
            "linecolor": "white",
            "showbackground": true,
            "ticks": "",
            "zerolinecolor": "white"
           }
          },
          "shapedefaults": {
           "line": {
            "color": "#2a3f5f"
           }
          },
          "ternary": {
           "aaxis": {
            "gridcolor": "white",
            "linecolor": "white",
            "ticks": ""
           },
           "baxis": {
            "gridcolor": "white",
            "linecolor": "white",
            "ticks": ""
           },
           "bgcolor": "#E5ECF6",
           "caxis": {
            "gridcolor": "white",
            "linecolor": "white",
            "ticks": ""
           }
          },
          "title": {
           "x": 0.05
          },
          "xaxis": {
           "automargin": true,
           "gridcolor": "white",
           "linecolor": "white",
           "ticks": "",
           "title": {
            "standoff": 15
           },
           "zerolinecolor": "white",
           "zerolinewidth": 2
          },
          "yaxis": {
           "automargin": true,
           "gridcolor": "white",
           "linecolor": "white",
           "ticks": "",
           "title": {
            "standoff": 15
           },
           "zerolinecolor": "white",
           "zerolinewidth": 2
          }
         }
        },
        "title": {
         "text": "Pseudo Van Krevelen Plot"
        },
        "xaxis": {
         "title": {
          "text": "OI"
         }
        },
        "yaxis": {
         "title": {
          "text": "HI"
         }
        }
       }
      },
      "text/html": [
       "<div>                            <div id=\"ca57a1a9-17d2-4ad2-b4a6-74e0ee4971fd\" class=\"plotly-graph-div\" style=\"height:525px; width:100%;\"></div>            <script type=\"text/javascript\">                require([\"plotly\"], function(Plotly) {                    window.PLOTLYENV=window.PLOTLYENV || {};                                    if (document.getElementById(\"ca57a1a9-17d2-4ad2-b4a6-74e0ee4971fd\")) {                    Plotly.newPlot(                        \"ca57a1a9-17d2-4ad2-b4a6-74e0ee4971fd\",                        [{\"hovertemplate\":\"<b>%{hovertext}</b><br><br>x=%{x}<br>y=%{y}<extra></extra>\",\"hovertext\":[9037.0,9078.5,9127.5,9142.0,9218.0,9333.5,9371.5,9398.0,9487.0,9609.5,9657.5,9663.5,9684.5,9717.5,9726.0,9731.5,9740.0,9853.0,9938.5,9952.5,9956.5,9962.5,9966.5,9972.5,9975.5,9980.5,9985.5,9990.5,9995.5,10000.5,10004.5,10010.5,10020.5,10026.5,10032.5,10166.5,10283.5,10292.5,10300.5,10310.5,10318.5,10325.5,10335.5,10346.5,10353.5,10360.5,10366.5,10374.0,10377.0,10380.5,10390.5],\"legendgroup\":\"\",\"marker\":{\"color\":\"#636efa\",\"symbol\":\"circle\"},\"mode\":\"markers\",\"name\":\"\",\"orientation\":\"v\",\"showlegend\":false,\"x\":[14,6,9,85,11,12,6,7,5,44,5,11,158,45,5,5,3,333,17,26,2,4,13,5,3,10,11,3,17,11,5,4,5,3,4,7,3,3,4,11,20,36,5,2,2,5,2,13,6,17,9],\"xaxis\":\"x\",\"y\":[159.07928388746802,237.85900783289816,238.63247863247864,113.04347826086956,121.6117216117216,150.91575091575092,168.08510638297872,120.72892938496584,142.5357873210634,47.22222222222222,170.87087087087087,160.09501187648456,83.33333333333334,53.76344086021505,98.26589595375722,84.33734939759036,110.13215859030836,400.0,124.40944881889763,123.01587301587301,143.03482587064678,126.56826568265683,121.05263157894737,97.41379310344827,174.02826855123675,107.95107033639144,110.18518518518518,136.44314868804665,126.08695652173914,102.83911671924291,141.02564102564102,148.9855072463768,132.6860841423948,141.2532637075718,145.58011049723757,183.68644067796612,132.20973782771537,219.14191419141918,148.6725663716814,126.4,114.08450704225353,142.07650273224044,128.19383259911893,190.27113237639554,203.4003091190108,109.87124463519314,156.140350877193,145.7831325301205,100.84745762711864,83.53413654618473,118.21561338289963],\"yaxis\":\"y\",\"type\":\"scatter\"},{\"hovertemplate\":\"x=%{x}<br>y=%{y}<extra></extra>\",\"legendgroup\":\"\",\"line\":{\"color\":\"#636efa\",\"dash\":\"solid\"},\"marker\":{\"symbol\":\"circle\"},\"mode\":\"lines\",\"name\":\"\",\"orientation\":\"v\",\"showlegend\":false,\"x\":[59.20046,58.57689,58.63523,58.31771,57.60233,57.35845,57.0591,56.99503,56.25765,55.19989,54.31809,53.53577,52.6119,51.64881,50.28118,48.88868,47.83761,46.93286,45.73833,44.60692,42.75536,41.33512,40.2391,38.42196,37.05337,35.64365,33.76913,31.99885,30.53462,29.11821,27.63868,26.07116,24.44243,22.89594,21.37337,19.8795,18.32249,16.3026,14.60884,12.75057,11.02334,9.58397],\"xaxis\":\"x\",\"y\":[714.06104,722.21976,729.60671,738.06993,746.56991,753.51059,761.97382,771.93333,781.93485,790.77609,797.20226,805.10372,816.31802,820.98539,829.50637,836.72006,843.8025,848.73238,854.36053,859.76818,866.90312,872.45777,875.85986,878.77368,883.41481,889.03771,892.06179,896.23565,897.99445,900.0735,902.0108,905.47065,907.84896,910.95179,910.95179,911.2773,913.0571,913.75537,914.77914,916.21768,916.21768,917.18896],\"yaxis\":\"y\",\"type\":\"scatter\"},{\"hovertemplate\":\"x=%{x}<br>y=%{y}<extra></extra>\",\"legendgroup\":\"\",\"line\":{\"color\":\"#636efa\",\"dash\":\"solid\"},\"marker\":{\"symbol\":\"circle\"},\"mode\":\"lines\",\"name\":\"\",\"orientation\":\"v\",\"showlegend\":false,\"x\":[76.43076,76.43076,75.9277,75.9277,75.9277,75.55279,74.75803,74.75803,74.69969,73.89155,72.98011,72.12701,71.11993,70.21423,69.26454,68.44204,67.39384,65.94682,64.64327,63.69357,62.54878,61.07976,59.88906,58.55777,57.14518,55.48776,54.23393,52.71041,51.09602,49.73221,48.12643,45.91909,44.10673,42.72475,41.01282,39.55241,37.94185,36.68324,35.07842,33.22494,31.53692,29.81829,27.85099,26.3619,24.56771,23.22494,21.1075,19.50555,17.51721,15.77659,13.46882,11.8114,10.45046,9.0044],\"xaxis\":\"x\",\"y\":[372.45543,380.60365,391.7392,404.53379,411.97849,422.77277,435.78787,447.35918,458.68373,471.34707,486.13671,499.91308,512.30866,524.04797,531.57668,543.925,554.56179,561.46047,569.47219,575.97186,582.18803,589.85848,593.80658,600.1435,604.66912,611.72006,618.69225,623.16537,628.41026,632.53162,636.53747,645.31571,649.83083,652.09364,657.82679,660.54111,662.49942,666.47902,669.5031,671.3039,674.28598,675.64052,678.00308,678.32859,681.53117,683.91474,686.2983,686.95982,686.61331,687.56884,691.84245,693.46474,694.23651,694.23651],\"yaxis\":\"y\",\"type\":\"scatter\"},{\"hovertemplate\":\"x=%{x}<br>y=%{y}<extra></extra>\",\"legendgroup\":\"\",\"line\":{\"color\":\"#636efa\",\"dash\":\"solid\"},\"marker\":{\"symbol\":\"circle\"},\"mode\":\"lines\",\"name\":\"\",\"orientation\":\"v\",\"showlegend\":false,\"x\":[90.36438,90.12816,89.68057,89.06178,88.39327,87.48183,86.20696,84.77525,82.95811,81.21844,79.18037,77.36324,75.91239,74.03596,72.39767,71.03481,69.39174,67.71997,65.33187,64.02831,62.36515,60.61783,59.18994,57.76683,56.18879,54.06561,52.57364,50.70199,48.67923,47.18535,45.75555,44.06274,42.20448,40.16641,38.61802,37.24464,35.06025,33.80356,32.3948,30.90092,29.3487,27.55738,25.82536,24.53615,22.89212,21.26052,19.66431,17.74388,16.09985,13.86094,12.02467,10.35195,8.54916,8.09808,6.53081,4.93249,3.28204,1.60165],\"xaxis\":\"x\",\"y\":[214.47347,222.07567,230.34464,238.65036,247.5441,254.66329,262.39675,269.11693,272.61352,278.01591,284.78334,288.8627,291.19902,295.35713,299.06898,300.43401,302.73357,306.18817,311.74806,314.44139,315.75392,318.82525,321.55007,324.28015,326.65846,327.64024,327.36723,331.46234,334.57042,335.88821,337.22174,337.90426,337.90426,340.22482,342.58214,342.91289,342.44038,342.79214,344.13618,344.79244,345.1232,346.48299,348.53579,349.53857,349.53857,349.85883,349.85883,350.84586,351.88013,352.13214,352.13214,352.87241,353.90144,354.61884,354.66153,355.4545,355.4545,355.4545],\"yaxis\":\"y\",\"type\":\"scatter\"},{\"hovertemplate\":\"x=%{x}<br>y=%{y}<extra></extra>\",\"legendgroup\":\"\",\"line\":{\"color\":\"#636efa\",\"dash\":\"solid\"},\"marker\":{\"symbol\":\"circle\"},\"mode\":\"lines\",\"name\":\"\",\"orientation\":\"v\",\"showlegend\":false,\"x\":[149.10673,148.32249,147.32211,146.38103,145.25727,144.27123,142.95907,141.64308,140.31178,138.92119,137.29916,135.9057,134.73317,133.06236,131.52544,129.69874,128.02984,126.73776,125.30509,123.48317,122.21595,120.69529,119.14308,117.78213,116.58761,114.79916,113.03558,111.71194,109.99904,108.63428,107.16048,105.65608,103.65914,102.48279,100.98221,99.70926,98.23259,96.46232,94.65666,92.80413,91.08263,89.45773,87.6578,86.20314,84.75708,83.14939,81.25096,79.88332,78.158,76.66412,75.02104,73.728,71.52448,70.20849,68.45065,66.82288,64.93592,63.31676,61.81809,60.03347,58.32441,56.50153,54.98279,53.70505,52.27238,50.59105,49.20715,47.32498,45.43803,43.45448,41.72819,40.4868,39.12682,37.39767,36.09028,34.71787,32.83665,30.50306,28.52716,26.76645,25.39116,23.71844,21.65838,20.07555,17.79265,16.09507,14.52085,12.71806,10.95926,9.18133,7.49713,7.39375,5.97512,4.49437,2.99255,1.28442],\"xaxis\":\"x\",\"y\":[55.12647,60.33986,65.464,71.98467,77.90158,83.17797,86.77431,91.12668,96.04606,101.68471,103.75852,106.20508,109.61242,113.26127,115.66583,118.07565,122.70102,124.84833,124.84833,128.17692,130.64448,132.91254,132.91254,133.87857,136.59289,139.65897,142.29979,143.30257,145.94864,148.95172,148.95172,149.65524,150.28526,153.00483,154.93163,156.29142,157.06319,157.06319,160.45478,163.0431,165.11165,165.11165,166.08293,166.43469,167.40071,167.40071,169.78428,170.7608,172.4776,173.85839,173.51188,173.51188,175.21817,175.56993,175.56993,175.56993,176.94547,178.32626,178.32626,178.32626,180.0588,180.41056,181.52884,181.52884,181.52884,183.54489,183.54489,183.8704,184.96243,186.97849,186.66873,186.66873,186.66873,187.6505,187.98126,187.98126,189.3358,190.42783,191.48311,190.84259,190.84259,191.54611,191.54611,191.54611,191.54611,191.54611,191.54611,193.11065,194.12918,194.12918,195.41546,197.33172,198.12468,198.12468,199.42392,199.42392],\"yaxis\":\"y\",\"type\":\"scatter\"}],                        {\"template\":{\"data\":{\"histogram2dcontour\":[{\"type\":\"histogram2dcontour\",\"colorbar\":{\"outlinewidth\":0,\"ticks\":\"\"},\"colorscale\":[[0.0,\"#0d0887\"],[0.1111111111111111,\"#46039f\"],[0.2222222222222222,\"#7201a8\"],[0.3333333333333333,\"#9c179e\"],[0.4444444444444444,\"#bd3786\"],[0.5555555555555556,\"#d8576b\"],[0.6666666666666666,\"#ed7953\"],[0.7777777777777778,\"#fb9f3a\"],[0.8888888888888888,\"#fdca26\"],[1.0,\"#f0f921\"]]}],\"choropleth\":[{\"type\":\"choropleth\",\"colorbar\":{\"outlinewidth\":0,\"ticks\":\"\"}}],\"histogram2d\":[{\"type\":\"histogram2d\",\"colorbar\":{\"outlinewidth\":0,\"ticks\":\"\"},\"colorscale\":[[0.0,\"#0d0887\"],[0.1111111111111111,\"#46039f\"],[0.2222222222222222,\"#7201a8\"],[0.3333333333333333,\"#9c179e\"],[0.4444444444444444,\"#bd3786\"],[0.5555555555555556,\"#d8576b\"],[0.6666666666666666,\"#ed7953\"],[0.7777777777777778,\"#fb9f3a\"],[0.8888888888888888,\"#fdca26\"],[1.0,\"#f0f921\"]]}],\"heatmap\":[{\"type\":\"heatmap\",\"colorbar\":{\"outlinewidth\":0,\"ticks\":\"\"},\"colorscale\":[[0.0,\"#0d0887\"],[0.1111111111111111,\"#46039f\"],[0.2222222222222222,\"#7201a8\"],[0.3333333333333333,\"#9c179e\"],[0.4444444444444444,\"#bd3786\"],[0.5555555555555556,\"#d8576b\"],[0.6666666666666666,\"#ed7953\"],[0.7777777777777778,\"#fb9f3a\"],[0.8888888888888888,\"#fdca26\"],[1.0,\"#f0f921\"]]}],\"heatmapgl\":[{\"type\":\"heatmapgl\",\"colorbar\":{\"outlinewidth\":0,\"ticks\":\"\"},\"colorscale\":[[0.0,\"#0d0887\"],[0.1111111111111111,\"#46039f\"],[0.2222222222222222,\"#7201a8\"],[0.3333333333333333,\"#9c179e\"],[0.4444444444444444,\"#bd3786\"],[0.5555555555555556,\"#d8576b\"],[0.6666666666666666,\"#ed7953\"],[0.7777777777777778,\"#fb9f3a\"],[0.8888888888888888,\"#fdca26\"],[1.0,\"#f0f921\"]]}],\"contourcarpet\":[{\"type\":\"contourcarpet\",\"colorbar\":{\"outlinewidth\":0,\"ticks\":\"\"}}],\"contour\":[{\"type\":\"contour\",\"colorbar\":{\"outlinewidth\":0,\"ticks\":\"\"},\"colorscale\":[[0.0,\"#0d0887\"],[0.1111111111111111,\"#46039f\"],[0.2222222222222222,\"#7201a8\"],[0.3333333333333333,\"#9c179e\"],[0.4444444444444444,\"#bd3786\"],[0.5555555555555556,\"#d8576b\"],[0.6666666666666666,\"#ed7953\"],[0.7777777777777778,\"#fb9f3a\"],[0.8888888888888888,\"#fdca26\"],[1.0,\"#f0f921\"]]}],\"surface\":[{\"type\":\"surface\",\"colorbar\":{\"outlinewidth\":0,\"ticks\":\"\"},\"colorscale\":[[0.0,\"#0d0887\"],[0.1111111111111111,\"#46039f\"],[0.2222222222222222,\"#7201a8\"],[0.3333333333333333,\"#9c179e\"],[0.4444444444444444,\"#bd3786\"],[0.5555555555555556,\"#d8576b\"],[0.6666666666666666,\"#ed7953\"],[0.7777777777777778,\"#fb9f3a\"],[0.8888888888888888,\"#fdca26\"],[1.0,\"#f0f921\"]]}],\"mesh3d\":[{\"type\":\"mesh3d\",\"colorbar\":{\"outlinewidth\":0,\"ticks\":\"\"}}],\"scatter\":[{\"fillpattern\":{\"fillmode\":\"overlay\",\"size\":10,\"solidity\":0.2},\"type\":\"scatter\"}],\"parcoords\":[{\"type\":\"parcoords\",\"line\":{\"colorbar\":{\"outlinewidth\":0,\"ticks\":\"\"}}}],\"scatterpolargl\":[{\"type\":\"scatterpolargl\",\"marker\":{\"colorbar\":{\"outlinewidth\":0,\"ticks\":\"\"}}}],\"bar\":[{\"error_x\":{\"color\":\"#2a3f5f\"},\"error_y\":{\"color\":\"#2a3f5f\"},\"marker\":{\"line\":{\"color\":\"#E5ECF6\",\"width\":0.5},\"pattern\":{\"fillmode\":\"overlay\",\"size\":10,\"solidity\":0.2}},\"type\":\"bar\"}],\"scattergeo\":[{\"type\":\"scattergeo\",\"marker\":{\"colorbar\":{\"outlinewidth\":0,\"ticks\":\"\"}}}],\"scatterpolar\":[{\"type\":\"scatterpolar\",\"marker\":{\"colorbar\":{\"outlinewidth\":0,\"ticks\":\"\"}}}],\"histogram\":[{\"marker\":{\"pattern\":{\"fillmode\":\"overlay\",\"size\":10,\"solidity\":0.2}},\"type\":\"histogram\"}],\"scattergl\":[{\"type\":\"scattergl\",\"marker\":{\"colorbar\":{\"outlinewidth\":0,\"ticks\":\"\"}}}],\"scatter3d\":[{\"type\":\"scatter3d\",\"line\":{\"colorbar\":{\"outlinewidth\":0,\"ticks\":\"\"}},\"marker\":{\"colorbar\":{\"outlinewidth\":0,\"ticks\":\"\"}}}],\"scattermapbox\":[{\"type\":\"scattermapbox\",\"marker\":{\"colorbar\":{\"outlinewidth\":0,\"ticks\":\"\"}}}],\"scatterternary\":[{\"type\":\"scatterternary\",\"marker\":{\"colorbar\":{\"outlinewidth\":0,\"ticks\":\"\"}}}],\"scattercarpet\":[{\"type\":\"scattercarpet\",\"marker\":{\"colorbar\":{\"outlinewidth\":0,\"ticks\":\"\"}}}],\"carpet\":[{\"aaxis\":{\"endlinecolor\":\"#2a3f5f\",\"gridcolor\":\"white\",\"linecolor\":\"white\",\"minorgridcolor\":\"white\",\"startlinecolor\":\"#2a3f5f\"},\"baxis\":{\"endlinecolor\":\"#2a3f5f\",\"gridcolor\":\"white\",\"linecolor\":\"white\",\"minorgridcolor\":\"white\",\"startlinecolor\":\"#2a3f5f\"},\"type\":\"carpet\"}],\"table\":[{\"cells\":{\"fill\":{\"color\":\"#EBF0F8\"},\"line\":{\"color\":\"white\"}},\"header\":{\"fill\":{\"color\":\"#C8D4E3\"},\"line\":{\"color\":\"white\"}},\"type\":\"table\"}],\"barpolar\":[{\"marker\":{\"line\":{\"color\":\"#E5ECF6\",\"width\":0.5},\"pattern\":{\"fillmode\":\"overlay\",\"size\":10,\"solidity\":0.2}},\"type\":\"barpolar\"}],\"pie\":[{\"automargin\":true,\"type\":\"pie\"}]},\"layout\":{\"autotypenumbers\":\"strict\",\"colorway\":[\"#636efa\",\"#EF553B\",\"#00cc96\",\"#ab63fa\",\"#FFA15A\",\"#19d3f3\",\"#FF6692\",\"#B6E880\",\"#FF97FF\",\"#FECB52\"],\"font\":{\"color\":\"#2a3f5f\"},\"hovermode\":\"closest\",\"hoverlabel\":{\"align\":\"left\"},\"paper_bgcolor\":\"white\",\"plot_bgcolor\":\"#E5ECF6\",\"polar\":{\"bgcolor\":\"#E5ECF6\",\"angularaxis\":{\"gridcolor\":\"white\",\"linecolor\":\"white\",\"ticks\":\"\"},\"radialaxis\":{\"gridcolor\":\"white\",\"linecolor\":\"white\",\"ticks\":\"\"}},\"ternary\":{\"bgcolor\":\"#E5ECF6\",\"aaxis\":{\"gridcolor\":\"white\",\"linecolor\":\"white\",\"ticks\":\"\"},\"baxis\":{\"gridcolor\":\"white\",\"linecolor\":\"white\",\"ticks\":\"\"},\"caxis\":{\"gridcolor\":\"white\",\"linecolor\":\"white\",\"ticks\":\"\"}},\"coloraxis\":{\"colorbar\":{\"outlinewidth\":0,\"ticks\":\"\"}},\"colorscale\":{\"sequential\":[[0.0,\"#0d0887\"],[0.1111111111111111,\"#46039f\"],[0.2222222222222222,\"#7201a8\"],[0.3333333333333333,\"#9c179e\"],[0.4444444444444444,\"#bd3786\"],[0.5555555555555556,\"#d8576b\"],[0.6666666666666666,\"#ed7953\"],[0.7777777777777778,\"#fb9f3a\"],[0.8888888888888888,\"#fdca26\"],[1.0,\"#f0f921\"]],\"sequentialminus\":[[0.0,\"#0d0887\"],[0.1111111111111111,\"#46039f\"],[0.2222222222222222,\"#7201a8\"],[0.3333333333333333,\"#9c179e\"],[0.4444444444444444,\"#bd3786\"],[0.5555555555555556,\"#d8576b\"],[0.6666666666666666,\"#ed7953\"],[0.7777777777777778,\"#fb9f3a\"],[0.8888888888888888,\"#fdca26\"],[1.0,\"#f0f921\"]],\"diverging\":[[0,\"#8e0152\"],[0.1,\"#c51b7d\"],[0.2,\"#de77ae\"],[0.3,\"#f1b6da\"],[0.4,\"#fde0ef\"],[0.5,\"#f7f7f7\"],[0.6,\"#e6f5d0\"],[0.7,\"#b8e186\"],[0.8,\"#7fbc41\"],[0.9,\"#4d9221\"],[1,\"#276419\"]]},\"xaxis\":{\"gridcolor\":\"white\",\"linecolor\":\"white\",\"ticks\":\"\",\"title\":{\"standoff\":15},\"zerolinecolor\":\"white\",\"automargin\":true,\"zerolinewidth\":2},\"yaxis\":{\"gridcolor\":\"white\",\"linecolor\":\"white\",\"ticks\":\"\",\"title\":{\"standoff\":15},\"zerolinecolor\":\"white\",\"automargin\":true,\"zerolinewidth\":2},\"scene\":{\"xaxis\":{\"backgroundcolor\":\"#E5ECF6\",\"gridcolor\":\"white\",\"linecolor\":\"white\",\"showbackground\":true,\"ticks\":\"\",\"zerolinecolor\":\"white\",\"gridwidth\":2},\"yaxis\":{\"backgroundcolor\":\"#E5ECF6\",\"gridcolor\":\"white\",\"linecolor\":\"white\",\"showbackground\":true,\"ticks\":\"\",\"zerolinecolor\":\"white\",\"gridwidth\":2},\"zaxis\":{\"backgroundcolor\":\"#E5ECF6\",\"gridcolor\":\"white\",\"linecolor\":\"white\",\"showbackground\":true,\"ticks\":\"\",\"zerolinecolor\":\"white\",\"gridwidth\":2}},\"shapedefaults\":{\"line\":{\"color\":\"#2a3f5f\"}},\"annotationdefaults\":{\"arrowcolor\":\"#2a3f5f\",\"arrowhead\":0,\"arrowwidth\":1},\"geo\":{\"bgcolor\":\"white\",\"landcolor\":\"#E5ECF6\",\"subunitcolor\":\"white\",\"showland\":true,\"showlakes\":true,\"lakecolor\":\"white\"},\"title\":{\"x\":0.05},\"mapbox\":{\"style\":\"light\"}}},\"title\":{\"text\":\"Pseudo Van Krevelen Plot\"},\"xaxis\":{\"title\":{\"text\":\"OI\"}},\"yaxis\":{\"title\":{\"text\":\"HI\"}},\"legend\":{\"title\":{\"text\":\"Pseudo Van Krevelen Plot\"}}},                        {\"responsive\": true}                    ).then(function(){\n",
       "                            \n",
       "var gd = document.getElementById('ca57a1a9-17d2-4ad2-b4a6-74e0ee4971fd');\n",
       "var x = new MutationObserver(function (mutations, observer) {{\n",
       "        var display = window.getComputedStyle(gd).display;\n",
       "        if (!display || display === 'none') {{\n",
       "            console.log([gd, 'removed!']);\n",
       "            Plotly.purge(gd);\n",
       "            observer.disconnect();\n",
       "        }}\n",
       "}});\n",
       "\n",
       "// Listen for the removal of the full notebook cells\n",
       "var notebookContainer = gd.closest('#notebook-container');\n",
       "if (notebookContainer) {{\n",
       "    x.observe(notebookContainer, {childList: true});\n",
       "}}\n",
       "\n",
       "// Listen for the clearing of the current output cell\n",
       "var outputEl = gd.closest('.output');\n",
       "if (outputEl) {{\n",
       "    x.observe(outputEl, {childList: true});\n",
       "}}\n",
       "\n",
       "                        })                };                });            </script>        </div>"
      ]
     },
     "metadata": {},
     "output_type": "display_data"
    },
    {
     "data": {
      "application/vnd.plotly.v1+json": {
       "config": {
        "plotlyServerURL": "https://plot.ly"
       },
       "data": [
        {
         "hovertemplate": "<b>%{hovertext}</b><br><br>color=TYPE III<br>x=%{x}<br>y=%{y}<extra></extra>",
         "hovertext": [
          9037,
          9142,
          9218,
          9333.5,
          9371.5,
          9398,
          9487,
          9609.5,
          9657.5,
          9663.5,
          9684.5,
          9717.5,
          9726,
          9731.5,
          9740,
          9853,
          9938.5,
          9952.5,
          9956.5,
          9962.5,
          9966.5,
          9972.5,
          9975.5,
          9980.5,
          9985.5,
          9990.5,
          9995.5,
          10000.5,
          10004.5,
          10010.5,
          10020.5,
          10026.5,
          10032.5,
          10166.5,
          10283.5,
          10300.5,
          10310.5,
          10318.5,
          10325.5,
          10335.5,
          10346.5,
          10360.5,
          10366.5,
          10374,
          10377,
          10380.5,
          10390.5
         ],
         "legendgroup": "TYPE III",
         "marker": {
          "color": "red",
          "symbol": "circle"
         },
         "mode": "markers",
         "name": "TYPE III",
         "orientation": "v",
         "showlegend": true,
         "type": "scatter",
         "x": [
          14,
          85,
          11,
          12,
          6,
          7,
          5,
          44,
          5,
          11,
          158,
          45,
          5,
          5,
          3,
          333,
          17,
          26,
          2,
          4,
          13,
          5,
          3,
          10,
          11,
          3,
          17,
          11,
          5,
          4,
          5,
          3,
          4,
          7,
          3,
          4,
          11,
          20,
          36,
          5,
          2,
          5,
          2,
          13,
          6,
          17,
          9
         ],
         "xaxis": "x",
         "y": [
          159.07928388746802,
          113.04347826086956,
          121.6117216117216,
          150.91575091575092,
          168.08510638297872,
          120.72892938496584,
          142.5357873210634,
          47.22222222222222,
          170.87087087087087,
          160.09501187648456,
          83.33333333333334,
          53.76344086021505,
          98.26589595375722,
          84.33734939759036,
          110.13215859030836,
          400,
          124.40944881889763,
          123.01587301587301,
          143.03482587064678,
          126.56826568265683,
          121.05263157894737,
          97.41379310344827,
          174.02826855123675,
          107.95107033639144,
          110.18518518518518,
          136.44314868804665,
          126.08695652173914,
          102.83911671924291,
          141.02564102564102,
          148.9855072463768,
          132.6860841423948,
          141.2532637075718,
          145.58011049723757,
          183.68644067796612,
          132.20973782771537,
          148.6725663716814,
          126.4,
          114.08450704225353,
          142.07650273224044,
          128.19383259911893,
          190.27113237639554,
          109.87124463519314,
          156.140350877193,
          145.7831325301205,
          100.84745762711864,
          83.53413654618473,
          118.21561338289963
         ],
         "yaxis": "y"
        },
        {
         "hovertemplate": "<b>%{hovertext}</b><br><br>color=TYPE II / III<br>x=%{x}<br>y=%{y}<extra></extra>",
         "hovertext": [
          9078.5,
          9127.5,
          10292.5,
          10353.5
         ],
         "legendgroup": "TYPE II / III",
         "marker": {
          "color": "orange",
          "symbol": "circle"
         },
         "mode": "markers",
         "name": "TYPE II / III",
         "orientation": "v",
         "showlegend": true,
         "type": "scatter",
         "x": [
          6,
          9,
          3,
          2
         ],
         "xaxis": "x",
         "y": [
          237.85900783289816,
          238.63247863247864,
          219.14191419141918,
          203.4003091190108
         ],
         "yaxis": "y"
        },
        {
         "hovertemplate": "x=%{x}<br>y=%{y}<extra></extra>",
         "legendgroup": "",
         "line": {
          "color": "#636efa",
          "dash": "solid"
         },
         "marker": {
          "symbol": "circle"
         },
         "mode": "lines",
         "name": "",
         "orientation": "v",
         "showlegend": false,
         "type": "scatter",
         "x": [
          59.20046,
          58.57689,
          58.63523,
          58.31771,
          57.60233,
          57.35845,
          57.0591,
          56.99503,
          56.25765,
          55.19989,
          54.31809,
          53.53577,
          52.6119,
          51.64881,
          50.28118,
          48.88868,
          47.83761,
          46.93286,
          45.73833,
          44.60692,
          42.75536,
          41.33512,
          40.2391,
          38.42196,
          37.05337,
          35.64365,
          33.76913,
          31.99885,
          30.53462,
          29.11821,
          27.63868,
          26.07116,
          24.44243,
          22.89594,
          21.37337,
          19.8795,
          18.32249,
          16.3026,
          14.60884,
          12.75057,
          11.02334,
          9.58397
         ],
         "xaxis": "x",
         "y": [
          714.06104,
          722.21976,
          729.60671,
          738.06993,
          746.56991,
          753.51059,
          761.97382,
          771.93333,
          781.93485,
          790.77609,
          797.20226,
          805.10372,
          816.31802,
          820.98539,
          829.50637,
          836.72006,
          843.8025,
          848.73238,
          854.36053,
          859.76818,
          866.90312,
          872.45777,
          875.85986,
          878.77368,
          883.41481,
          889.03771,
          892.06179,
          896.23565,
          897.99445,
          900.0735,
          902.0108,
          905.47065,
          907.84896,
          910.95179,
          910.95179,
          911.2773,
          913.0571,
          913.75537,
          914.77914,
          916.21768,
          916.21768,
          917.18896
         ],
         "yaxis": "y"
        },
        {
         "hovertemplate": "x=%{x}<br>y=%{y}<extra></extra>",
         "legendgroup": "",
         "line": {
          "color": "#636efa",
          "dash": "solid"
         },
         "marker": {
          "symbol": "circle"
         },
         "mode": "lines",
         "name": "",
         "orientation": "v",
         "showlegend": false,
         "type": "scatter",
         "x": [
          76.43076,
          76.43076,
          75.9277,
          75.9277,
          75.9277,
          75.55279,
          74.75803,
          74.75803,
          74.69969,
          73.89155,
          72.98011,
          72.12701,
          71.11993,
          70.21423,
          69.26454,
          68.44204,
          67.39384,
          65.94682,
          64.64327,
          63.69357,
          62.54878,
          61.07976,
          59.88906,
          58.55777,
          57.14518,
          55.48776,
          54.23393,
          52.71041,
          51.09602,
          49.73221,
          48.12643,
          45.91909,
          44.10673,
          42.72475,
          41.01282,
          39.55241,
          37.94185,
          36.68324,
          35.07842,
          33.22494,
          31.53692,
          29.81829,
          27.85099,
          26.3619,
          24.56771,
          23.22494,
          21.1075,
          19.50555,
          17.51721,
          15.77659,
          13.46882,
          11.8114,
          10.45046,
          9.0044
         ],
         "xaxis": "x",
         "y": [
          372.45543,
          380.60365,
          391.7392,
          404.53379,
          411.97849,
          422.77277,
          435.78787,
          447.35918,
          458.68373,
          471.34707,
          486.13671,
          499.91308,
          512.30866,
          524.04797,
          531.57668,
          543.925,
          554.56179,
          561.46047,
          569.47219,
          575.97186,
          582.18803,
          589.85848,
          593.80658,
          600.1435,
          604.66912,
          611.72006,
          618.69225,
          623.16537,
          628.41026,
          632.53162,
          636.53747,
          645.31571,
          649.83083,
          652.09364,
          657.82679,
          660.54111,
          662.49942,
          666.47902,
          669.5031,
          671.3039,
          674.28598,
          675.64052,
          678.00308,
          678.32859,
          681.53117,
          683.91474,
          686.2983,
          686.95982,
          686.61331,
          687.56884,
          691.84245,
          693.46474,
          694.23651,
          694.23651
         ],
         "yaxis": "y"
        },
        {
         "hovertemplate": "x=%{x}<br>y=%{y}<extra></extra>",
         "legendgroup": "",
         "line": {
          "color": "#636efa",
          "dash": "solid"
         },
         "marker": {
          "symbol": "circle"
         },
         "mode": "lines",
         "name": "",
         "orientation": "v",
         "showlegend": false,
         "type": "scatter",
         "x": [
          90.36438,
          90.12816,
          89.68057,
          89.06178,
          88.39327,
          87.48183,
          86.20696,
          84.77525,
          82.95811,
          81.21844,
          79.18037,
          77.36324,
          75.91239,
          74.03596,
          72.39767,
          71.03481,
          69.39174,
          67.71997,
          65.33187,
          64.02831,
          62.36515,
          60.61783,
          59.18994,
          57.76683,
          56.18879,
          54.06561,
          52.57364,
          50.70199,
          48.67923,
          47.18535,
          45.75555,
          44.06274,
          42.20448,
          40.16641,
          38.61802,
          37.24464,
          35.06025,
          33.80356,
          32.3948,
          30.90092,
          29.3487,
          27.55738,
          25.82536,
          24.53615,
          22.89212,
          21.26052,
          19.66431,
          17.74388,
          16.09985,
          13.86094,
          12.02467,
          10.35195,
          8.54916,
          8.09808,
          6.53081,
          4.93249,
          3.28204,
          1.60165
         ],
         "xaxis": "x",
         "y": [
          214.47347,
          222.07567,
          230.34464,
          238.65036,
          247.5441,
          254.66329,
          262.39675,
          269.11693,
          272.61352,
          278.01591,
          284.78334,
          288.8627,
          291.19902,
          295.35713,
          299.06898,
          300.43401,
          302.73357,
          306.18817,
          311.74806,
          314.44139,
          315.75392,
          318.82525,
          321.55007,
          324.28015,
          326.65846,
          327.64024,
          327.36723,
          331.46234,
          334.57042,
          335.88821,
          337.22174,
          337.90426,
          337.90426,
          340.22482,
          342.58214,
          342.91289,
          342.44038,
          342.79214,
          344.13618,
          344.79244,
          345.1232,
          346.48299,
          348.53579,
          349.53857,
          349.53857,
          349.85883,
          349.85883,
          350.84586,
          351.88013,
          352.13214,
          352.13214,
          352.87241,
          353.90144,
          354.61884,
          354.66153,
          355.4545,
          355.4545,
          355.4545
         ],
         "yaxis": "y"
        },
        {
         "hovertemplate": "x=%{x}<br>y=%{y}<extra></extra>",
         "legendgroup": "",
         "line": {
          "color": "#636efa",
          "dash": "solid"
         },
         "marker": {
          "symbol": "circle"
         },
         "mode": "lines",
         "name": "",
         "orientation": "v",
         "showlegend": false,
         "type": "scatter",
         "x": [
          149.10673,
          148.32249,
          147.32211,
          146.38103,
          145.25727,
          144.27123,
          142.95907,
          141.64308,
          140.31178,
          138.92119,
          137.29916,
          135.9057,
          134.73317,
          133.06236,
          131.52544,
          129.69874,
          128.02984,
          126.73776,
          125.30509,
          123.48317,
          122.21595,
          120.69529,
          119.14308,
          117.78213,
          116.58761,
          114.79916,
          113.03558,
          111.71194,
          109.99904,
          108.63428,
          107.16048,
          105.65608,
          103.65914,
          102.48279,
          100.98221,
          99.70926,
          98.23259,
          96.46232,
          94.65666,
          92.80413,
          91.08263,
          89.45773,
          87.6578,
          86.20314,
          84.75708,
          83.14939,
          81.25096,
          79.88332,
          78.158,
          76.66412,
          75.02104,
          73.728,
          71.52448,
          70.20849,
          68.45065,
          66.82288,
          64.93592,
          63.31676,
          61.81809,
          60.03347,
          58.32441,
          56.50153,
          54.98279,
          53.70505,
          52.27238,
          50.59105,
          49.20715,
          47.32498,
          45.43803,
          43.45448,
          41.72819,
          40.4868,
          39.12682,
          37.39767,
          36.09028,
          34.71787,
          32.83665,
          30.50306,
          28.52716,
          26.76645,
          25.39116,
          23.71844,
          21.65838,
          20.07555,
          17.79265,
          16.09507,
          14.52085,
          12.71806,
          10.95926,
          9.18133,
          7.49713,
          7.39375,
          5.97512,
          4.49437,
          2.99255,
          1.28442
         ],
         "xaxis": "x",
         "y": [
          55.12647,
          60.33986,
          65.464,
          71.98467,
          77.90158,
          83.17797,
          86.77431,
          91.12668,
          96.04606,
          101.68471,
          103.75852,
          106.20508,
          109.61242,
          113.26127,
          115.66583,
          118.07565,
          122.70102,
          124.84833,
          124.84833,
          128.17692,
          130.64448,
          132.91254,
          132.91254,
          133.87857,
          136.59289,
          139.65897,
          142.29979,
          143.30257,
          145.94864,
          148.95172,
          148.95172,
          149.65524,
          150.28526,
          153.00483,
          154.93163,
          156.29142,
          157.06319,
          157.06319,
          160.45478,
          163.0431,
          165.11165,
          165.11165,
          166.08293,
          166.43469,
          167.40071,
          167.40071,
          169.78428,
          170.7608,
          172.4776,
          173.85839,
          173.51188,
          173.51188,
          175.21817,
          175.56993,
          175.56993,
          175.56993,
          176.94547,
          178.32626,
          178.32626,
          178.32626,
          180.0588,
          180.41056,
          181.52884,
          181.52884,
          181.52884,
          183.54489,
          183.54489,
          183.8704,
          184.96243,
          186.97849,
          186.66873,
          186.66873,
          186.66873,
          187.6505,
          187.98126,
          187.98126,
          189.3358,
          190.42783,
          191.48311,
          190.84259,
          190.84259,
          191.54611,
          191.54611,
          191.54611,
          191.54611,
          191.54611,
          191.54611,
          193.11065,
          194.12918,
          194.12918,
          195.41546,
          197.33172,
          198.12468,
          198.12468,
          199.42392,
          199.42392
         ],
         "yaxis": "y"
        }
       ],
       "layout": {
        "legend": {
         "title": {
          "text": "Pseudo Van Krevelen Plot"
         }
        },
        "template": {
         "data": {
          "bar": [
           {
            "error_x": {
             "color": "#2a3f5f"
            },
            "error_y": {
             "color": "#2a3f5f"
            },
            "marker": {
             "line": {
              "color": "#E5ECF6",
              "width": 0.5
             },
             "pattern": {
              "fillmode": "overlay",
              "size": 10,
              "solidity": 0.2
             }
            },
            "type": "bar"
           }
          ],
          "barpolar": [
           {
            "marker": {
             "line": {
              "color": "#E5ECF6",
              "width": 0.5
             },
             "pattern": {
              "fillmode": "overlay",
              "size": 10,
              "solidity": 0.2
             }
            },
            "type": "barpolar"
           }
          ],
          "carpet": [
           {
            "aaxis": {
             "endlinecolor": "#2a3f5f",
             "gridcolor": "white",
             "linecolor": "white",
             "minorgridcolor": "white",
             "startlinecolor": "#2a3f5f"
            },
            "baxis": {
             "endlinecolor": "#2a3f5f",
             "gridcolor": "white",
             "linecolor": "white",
             "minorgridcolor": "white",
             "startlinecolor": "#2a3f5f"
            },
            "type": "carpet"
           }
          ],
          "choropleth": [
           {
            "colorbar": {
             "outlinewidth": 0,
             "ticks": ""
            },
            "type": "choropleth"
           }
          ],
          "contour": [
           {
            "colorbar": {
             "outlinewidth": 0,
             "ticks": ""
            },
            "colorscale": [
             [
              0,
              "#0d0887"
             ],
             [
              0.1111111111111111,
              "#46039f"
             ],
             [
              0.2222222222222222,
              "#7201a8"
             ],
             [
              0.3333333333333333,
              "#9c179e"
             ],
             [
              0.4444444444444444,
              "#bd3786"
             ],
             [
              0.5555555555555556,
              "#d8576b"
             ],
             [
              0.6666666666666666,
              "#ed7953"
             ],
             [
              0.7777777777777778,
              "#fb9f3a"
             ],
             [
              0.8888888888888888,
              "#fdca26"
             ],
             [
              1,
              "#f0f921"
             ]
            ],
            "type": "contour"
           }
          ],
          "contourcarpet": [
           {
            "colorbar": {
             "outlinewidth": 0,
             "ticks": ""
            },
            "type": "contourcarpet"
           }
          ],
          "heatmap": [
           {
            "colorbar": {
             "outlinewidth": 0,
             "ticks": ""
            },
            "colorscale": [
             [
              0,
              "#0d0887"
             ],
             [
              0.1111111111111111,
              "#46039f"
             ],
             [
              0.2222222222222222,
              "#7201a8"
             ],
             [
              0.3333333333333333,
              "#9c179e"
             ],
             [
              0.4444444444444444,
              "#bd3786"
             ],
             [
              0.5555555555555556,
              "#d8576b"
             ],
             [
              0.6666666666666666,
              "#ed7953"
             ],
             [
              0.7777777777777778,
              "#fb9f3a"
             ],
             [
              0.8888888888888888,
              "#fdca26"
             ],
             [
              1,
              "#f0f921"
             ]
            ],
            "type": "heatmap"
           }
          ],
          "heatmapgl": [
           {
            "colorbar": {
             "outlinewidth": 0,
             "ticks": ""
            },
            "colorscale": [
             [
              0,
              "#0d0887"
             ],
             [
              0.1111111111111111,
              "#46039f"
             ],
             [
              0.2222222222222222,
              "#7201a8"
             ],
             [
              0.3333333333333333,
              "#9c179e"
             ],
             [
              0.4444444444444444,
              "#bd3786"
             ],
             [
              0.5555555555555556,
              "#d8576b"
             ],
             [
              0.6666666666666666,
              "#ed7953"
             ],
             [
              0.7777777777777778,
              "#fb9f3a"
             ],
             [
              0.8888888888888888,
              "#fdca26"
             ],
             [
              1,
              "#f0f921"
             ]
            ],
            "type": "heatmapgl"
           }
          ],
          "histogram": [
           {
            "marker": {
             "pattern": {
              "fillmode": "overlay",
              "size": 10,
              "solidity": 0.2
             }
            },
            "type": "histogram"
           }
          ],
          "histogram2d": [
           {
            "colorbar": {
             "outlinewidth": 0,
             "ticks": ""
            },
            "colorscale": [
             [
              0,
              "#0d0887"
             ],
             [
              0.1111111111111111,
              "#46039f"
             ],
             [
              0.2222222222222222,
              "#7201a8"
             ],
             [
              0.3333333333333333,
              "#9c179e"
             ],
             [
              0.4444444444444444,
              "#bd3786"
             ],
             [
              0.5555555555555556,
              "#d8576b"
             ],
             [
              0.6666666666666666,
              "#ed7953"
             ],
             [
              0.7777777777777778,
              "#fb9f3a"
             ],
             [
              0.8888888888888888,
              "#fdca26"
             ],
             [
              1,
              "#f0f921"
             ]
            ],
            "type": "histogram2d"
           }
          ],
          "histogram2dcontour": [
           {
            "colorbar": {
             "outlinewidth": 0,
             "ticks": ""
            },
            "colorscale": [
             [
              0,
              "#0d0887"
             ],
             [
              0.1111111111111111,
              "#46039f"
             ],
             [
              0.2222222222222222,
              "#7201a8"
             ],
             [
              0.3333333333333333,
              "#9c179e"
             ],
             [
              0.4444444444444444,
              "#bd3786"
             ],
             [
              0.5555555555555556,
              "#d8576b"
             ],
             [
              0.6666666666666666,
              "#ed7953"
             ],
             [
              0.7777777777777778,
              "#fb9f3a"
             ],
             [
              0.8888888888888888,
              "#fdca26"
             ],
             [
              1,
              "#f0f921"
             ]
            ],
            "type": "histogram2dcontour"
           }
          ],
          "mesh3d": [
           {
            "colorbar": {
             "outlinewidth": 0,
             "ticks": ""
            },
            "type": "mesh3d"
           }
          ],
          "parcoords": [
           {
            "line": {
             "colorbar": {
              "outlinewidth": 0,
              "ticks": ""
             }
            },
            "type": "parcoords"
           }
          ],
          "pie": [
           {
            "automargin": true,
            "type": "pie"
           }
          ],
          "scatter": [
           {
            "fillpattern": {
             "fillmode": "overlay",
             "size": 10,
             "solidity": 0.2
            },
            "type": "scatter"
           }
          ],
          "scatter3d": [
           {
            "line": {
             "colorbar": {
              "outlinewidth": 0,
              "ticks": ""
             }
            },
            "marker": {
             "colorbar": {
              "outlinewidth": 0,
              "ticks": ""
             }
            },
            "type": "scatter3d"
           }
          ],
          "scattercarpet": [
           {
            "marker": {
             "colorbar": {
              "outlinewidth": 0,
              "ticks": ""
             }
            },
            "type": "scattercarpet"
           }
          ],
          "scattergeo": [
           {
            "marker": {
             "colorbar": {
              "outlinewidth": 0,
              "ticks": ""
             }
            },
            "type": "scattergeo"
           }
          ],
          "scattergl": [
           {
            "marker": {
             "colorbar": {
              "outlinewidth": 0,
              "ticks": ""
             }
            },
            "type": "scattergl"
           }
          ],
          "scattermapbox": [
           {
            "marker": {
             "colorbar": {
              "outlinewidth": 0,
              "ticks": ""
             }
            },
            "type": "scattermapbox"
           }
          ],
          "scatterpolar": [
           {
            "marker": {
             "colorbar": {
              "outlinewidth": 0,
              "ticks": ""
             }
            },
            "type": "scatterpolar"
           }
          ],
          "scatterpolargl": [
           {
            "marker": {
             "colorbar": {
              "outlinewidth": 0,
              "ticks": ""
             }
            },
            "type": "scatterpolargl"
           }
          ],
          "scatterternary": [
           {
            "marker": {
             "colorbar": {
              "outlinewidth": 0,
              "ticks": ""
             }
            },
            "type": "scatterternary"
           }
          ],
          "surface": [
           {
            "colorbar": {
             "outlinewidth": 0,
             "ticks": ""
            },
            "colorscale": [
             [
              0,
              "#0d0887"
             ],
             [
              0.1111111111111111,
              "#46039f"
             ],
             [
              0.2222222222222222,
              "#7201a8"
             ],
             [
              0.3333333333333333,
              "#9c179e"
             ],
             [
              0.4444444444444444,
              "#bd3786"
             ],
             [
              0.5555555555555556,
              "#d8576b"
             ],
             [
              0.6666666666666666,
              "#ed7953"
             ],
             [
              0.7777777777777778,
              "#fb9f3a"
             ],
             [
              0.8888888888888888,
              "#fdca26"
             ],
             [
              1,
              "#f0f921"
             ]
            ],
            "type": "surface"
           }
          ],
          "table": [
           {
            "cells": {
             "fill": {
              "color": "#EBF0F8"
             },
             "line": {
              "color": "white"
             }
            },
            "header": {
             "fill": {
              "color": "#C8D4E3"
             },
             "line": {
              "color": "white"
             }
            },
            "type": "table"
           }
          ]
         },
         "layout": {
          "annotationdefaults": {
           "arrowcolor": "#2a3f5f",
           "arrowhead": 0,
           "arrowwidth": 1
          },
          "autotypenumbers": "strict",
          "coloraxis": {
           "colorbar": {
            "outlinewidth": 0,
            "ticks": ""
           }
          },
          "colorscale": {
           "diverging": [
            [
             0,
             "#8e0152"
            ],
            [
             0.1,
             "#c51b7d"
            ],
            [
             0.2,
             "#de77ae"
            ],
            [
             0.3,
             "#f1b6da"
            ],
            [
             0.4,
             "#fde0ef"
            ],
            [
             0.5,
             "#f7f7f7"
            ],
            [
             0.6,
             "#e6f5d0"
            ],
            [
             0.7,
             "#b8e186"
            ],
            [
             0.8,
             "#7fbc41"
            ],
            [
             0.9,
             "#4d9221"
            ],
            [
             1,
             "#276419"
            ]
           ],
           "sequential": [
            [
             0,
             "#0d0887"
            ],
            [
             0.1111111111111111,
             "#46039f"
            ],
            [
             0.2222222222222222,
             "#7201a8"
            ],
            [
             0.3333333333333333,
             "#9c179e"
            ],
            [
             0.4444444444444444,
             "#bd3786"
            ],
            [
             0.5555555555555556,
             "#d8576b"
            ],
            [
             0.6666666666666666,
             "#ed7953"
            ],
            [
             0.7777777777777778,
             "#fb9f3a"
            ],
            [
             0.8888888888888888,
             "#fdca26"
            ],
            [
             1,
             "#f0f921"
            ]
           ],
           "sequentialminus": [
            [
             0,
             "#0d0887"
            ],
            [
             0.1111111111111111,
             "#46039f"
            ],
            [
             0.2222222222222222,
             "#7201a8"
            ],
            [
             0.3333333333333333,
             "#9c179e"
            ],
            [
             0.4444444444444444,
             "#bd3786"
            ],
            [
             0.5555555555555556,
             "#d8576b"
            ],
            [
             0.6666666666666666,
             "#ed7953"
            ],
            [
             0.7777777777777778,
             "#fb9f3a"
            ],
            [
             0.8888888888888888,
             "#fdca26"
            ],
            [
             1,
             "#f0f921"
            ]
           ]
          },
          "colorway": [
           "#636efa",
           "#EF553B",
           "#00cc96",
           "#ab63fa",
           "#FFA15A",
           "#19d3f3",
           "#FF6692",
           "#B6E880",
           "#FF97FF",
           "#FECB52"
          ],
          "font": {
           "color": "#2a3f5f"
          },
          "geo": {
           "bgcolor": "white",
           "lakecolor": "white",
           "landcolor": "#E5ECF6",
           "showlakes": true,
           "showland": true,
           "subunitcolor": "white"
          },
          "hoverlabel": {
           "align": "left"
          },
          "hovermode": "closest",
          "mapbox": {
           "style": "light"
          },
          "paper_bgcolor": "white",
          "plot_bgcolor": "#E5ECF6",
          "polar": {
           "angularaxis": {
            "gridcolor": "white",
            "linecolor": "white",
            "ticks": ""
           },
           "bgcolor": "#E5ECF6",
           "radialaxis": {
            "gridcolor": "white",
            "linecolor": "white",
            "ticks": ""
           }
          },
          "scene": {
           "xaxis": {
            "backgroundcolor": "#E5ECF6",
            "gridcolor": "white",
            "gridwidth": 2,
            "linecolor": "white",
            "showbackground": true,
            "ticks": "",
            "zerolinecolor": "white"
           },
           "yaxis": {
            "backgroundcolor": "#E5ECF6",
            "gridcolor": "white",
            "gridwidth": 2,
            "linecolor": "white",
            "showbackground": true,
            "ticks": "",
            "zerolinecolor": "white"
           },
           "zaxis": {
            "backgroundcolor": "#E5ECF6",
            "gridcolor": "white",
            "gridwidth": 2,
            "linecolor": "white",
            "showbackground": true,
            "ticks": "",
            "zerolinecolor": "white"
           }
          },
          "shapedefaults": {
           "line": {
            "color": "#2a3f5f"
           }
          },
          "ternary": {
           "aaxis": {
            "gridcolor": "white",
            "linecolor": "white",
            "ticks": ""
           },
           "baxis": {
            "gridcolor": "white",
            "linecolor": "white",
            "ticks": ""
           },
           "bgcolor": "#E5ECF6",
           "caxis": {
            "gridcolor": "white",
            "linecolor": "white",
            "ticks": ""
           }
          },
          "title": {
           "x": 0.05
          },
          "xaxis": {
           "automargin": true,
           "gridcolor": "white",
           "linecolor": "white",
           "ticks": "",
           "title": {
            "standoff": 15
           },
           "zerolinecolor": "white",
           "zerolinewidth": 2
          },
          "yaxis": {
           "automargin": true,
           "gridcolor": "white",
           "linecolor": "white",
           "ticks": "",
           "title": {
            "standoff": 15
           },
           "zerolinecolor": "white",
           "zerolinewidth": 2
          }
         }
        },
        "title": {
         "text": "Pseudo Van Krevelen Plot"
        },
        "xaxis": {
         "title": {
          "text": "OI"
         }
        },
        "yaxis": {
         "title": {
          "text": "HI"
         }
        }
       }
      },
      "text/html": [
       "<div>                            <div id=\"60a521c8-9bf0-40fb-8fd8-4894fe068b8c\" class=\"plotly-graph-div\" style=\"height:525px; width:100%;\"></div>            <script type=\"text/javascript\">                require([\"plotly\"], function(Plotly) {                    window.PLOTLYENV=window.PLOTLYENV || {};                                    if (document.getElementById(\"60a521c8-9bf0-40fb-8fd8-4894fe068b8c\")) {                    Plotly.newPlot(                        \"60a521c8-9bf0-40fb-8fd8-4894fe068b8c\",                        [{\"hovertemplate\":\"<b>%{hovertext}</b><br><br>color=TYPE III<br>x=%{x}<br>y=%{y}<extra></extra>\",\"hovertext\":[9037.0,9142.0,9218.0,9333.5,9371.5,9398.0,9487.0,9609.5,9657.5,9663.5,9684.5,9717.5,9726.0,9731.5,9740.0,9853.0,9938.5,9952.5,9956.5,9962.5,9966.5,9972.5,9975.5,9980.5,9985.5,9990.5,9995.5,10000.5,10004.5,10010.5,10020.5,10026.5,10032.5,10166.5,10283.5,10300.5,10310.5,10318.5,10325.5,10335.5,10346.5,10360.5,10366.5,10374.0,10377.0,10380.5,10390.5],\"legendgroup\":\"TYPE III\",\"marker\":{\"color\":\"red\",\"symbol\":\"circle\"},\"mode\":\"markers\",\"name\":\"TYPE III\",\"orientation\":\"v\",\"showlegend\":true,\"x\":[14,85,11,12,6,7,5,44,5,11,158,45,5,5,3,333,17,26,2,4,13,5,3,10,11,3,17,11,5,4,5,3,4,7,3,4,11,20,36,5,2,5,2,13,6,17,9],\"xaxis\":\"x\",\"y\":[159.07928388746802,113.04347826086956,121.6117216117216,150.91575091575092,168.08510638297872,120.72892938496584,142.5357873210634,47.22222222222222,170.87087087087087,160.09501187648456,83.33333333333334,53.76344086021505,98.26589595375722,84.33734939759036,110.13215859030836,400.0,124.40944881889763,123.01587301587301,143.03482587064678,126.56826568265683,121.05263157894737,97.41379310344827,174.02826855123675,107.95107033639144,110.18518518518518,136.44314868804665,126.08695652173914,102.83911671924291,141.02564102564102,148.9855072463768,132.6860841423948,141.2532637075718,145.58011049723757,183.68644067796612,132.20973782771537,148.6725663716814,126.4,114.08450704225353,142.07650273224044,128.19383259911893,190.27113237639554,109.87124463519314,156.140350877193,145.7831325301205,100.84745762711864,83.53413654618473,118.21561338289963],\"yaxis\":\"y\",\"type\":\"scatter\"},{\"hovertemplate\":\"<b>%{hovertext}</b><br><br>color=TYPE II / III<br>x=%{x}<br>y=%{y}<extra></extra>\",\"hovertext\":[9078.5,9127.5,10292.5,10353.5],\"legendgroup\":\"TYPE II / III\",\"marker\":{\"color\":\"orange\",\"symbol\":\"circle\"},\"mode\":\"markers\",\"name\":\"TYPE II / III\",\"orientation\":\"v\",\"showlegend\":true,\"x\":[6,9,3,2],\"xaxis\":\"x\",\"y\":[237.85900783289816,238.63247863247864,219.14191419141918,203.4003091190108],\"yaxis\":\"y\",\"type\":\"scatter\"},{\"hovertemplate\":\"x=%{x}<br>y=%{y}<extra></extra>\",\"legendgroup\":\"\",\"line\":{\"color\":\"#636efa\",\"dash\":\"solid\"},\"marker\":{\"symbol\":\"circle\"},\"mode\":\"lines\",\"name\":\"\",\"orientation\":\"v\",\"showlegend\":false,\"x\":[59.20046,58.57689,58.63523,58.31771,57.60233,57.35845,57.0591,56.99503,56.25765,55.19989,54.31809,53.53577,52.6119,51.64881,50.28118,48.88868,47.83761,46.93286,45.73833,44.60692,42.75536,41.33512,40.2391,38.42196,37.05337,35.64365,33.76913,31.99885,30.53462,29.11821,27.63868,26.07116,24.44243,22.89594,21.37337,19.8795,18.32249,16.3026,14.60884,12.75057,11.02334,9.58397],\"xaxis\":\"x\",\"y\":[714.06104,722.21976,729.60671,738.06993,746.56991,753.51059,761.97382,771.93333,781.93485,790.77609,797.20226,805.10372,816.31802,820.98539,829.50637,836.72006,843.8025,848.73238,854.36053,859.76818,866.90312,872.45777,875.85986,878.77368,883.41481,889.03771,892.06179,896.23565,897.99445,900.0735,902.0108,905.47065,907.84896,910.95179,910.95179,911.2773,913.0571,913.75537,914.77914,916.21768,916.21768,917.18896],\"yaxis\":\"y\",\"type\":\"scatter\"},{\"hovertemplate\":\"x=%{x}<br>y=%{y}<extra></extra>\",\"legendgroup\":\"\",\"line\":{\"color\":\"#636efa\",\"dash\":\"solid\"},\"marker\":{\"symbol\":\"circle\"},\"mode\":\"lines\",\"name\":\"\",\"orientation\":\"v\",\"showlegend\":false,\"x\":[76.43076,76.43076,75.9277,75.9277,75.9277,75.55279,74.75803,74.75803,74.69969,73.89155,72.98011,72.12701,71.11993,70.21423,69.26454,68.44204,67.39384,65.94682,64.64327,63.69357,62.54878,61.07976,59.88906,58.55777,57.14518,55.48776,54.23393,52.71041,51.09602,49.73221,48.12643,45.91909,44.10673,42.72475,41.01282,39.55241,37.94185,36.68324,35.07842,33.22494,31.53692,29.81829,27.85099,26.3619,24.56771,23.22494,21.1075,19.50555,17.51721,15.77659,13.46882,11.8114,10.45046,9.0044],\"xaxis\":\"x\",\"y\":[372.45543,380.60365,391.7392,404.53379,411.97849,422.77277,435.78787,447.35918,458.68373,471.34707,486.13671,499.91308,512.30866,524.04797,531.57668,543.925,554.56179,561.46047,569.47219,575.97186,582.18803,589.85848,593.80658,600.1435,604.66912,611.72006,618.69225,623.16537,628.41026,632.53162,636.53747,645.31571,649.83083,652.09364,657.82679,660.54111,662.49942,666.47902,669.5031,671.3039,674.28598,675.64052,678.00308,678.32859,681.53117,683.91474,686.2983,686.95982,686.61331,687.56884,691.84245,693.46474,694.23651,694.23651],\"yaxis\":\"y\",\"type\":\"scatter\"},{\"hovertemplate\":\"x=%{x}<br>y=%{y}<extra></extra>\",\"legendgroup\":\"\",\"line\":{\"color\":\"#636efa\",\"dash\":\"solid\"},\"marker\":{\"symbol\":\"circle\"},\"mode\":\"lines\",\"name\":\"\",\"orientation\":\"v\",\"showlegend\":false,\"x\":[90.36438,90.12816,89.68057,89.06178,88.39327,87.48183,86.20696,84.77525,82.95811,81.21844,79.18037,77.36324,75.91239,74.03596,72.39767,71.03481,69.39174,67.71997,65.33187,64.02831,62.36515,60.61783,59.18994,57.76683,56.18879,54.06561,52.57364,50.70199,48.67923,47.18535,45.75555,44.06274,42.20448,40.16641,38.61802,37.24464,35.06025,33.80356,32.3948,30.90092,29.3487,27.55738,25.82536,24.53615,22.89212,21.26052,19.66431,17.74388,16.09985,13.86094,12.02467,10.35195,8.54916,8.09808,6.53081,4.93249,3.28204,1.60165],\"xaxis\":\"x\",\"y\":[214.47347,222.07567,230.34464,238.65036,247.5441,254.66329,262.39675,269.11693,272.61352,278.01591,284.78334,288.8627,291.19902,295.35713,299.06898,300.43401,302.73357,306.18817,311.74806,314.44139,315.75392,318.82525,321.55007,324.28015,326.65846,327.64024,327.36723,331.46234,334.57042,335.88821,337.22174,337.90426,337.90426,340.22482,342.58214,342.91289,342.44038,342.79214,344.13618,344.79244,345.1232,346.48299,348.53579,349.53857,349.53857,349.85883,349.85883,350.84586,351.88013,352.13214,352.13214,352.87241,353.90144,354.61884,354.66153,355.4545,355.4545,355.4545],\"yaxis\":\"y\",\"type\":\"scatter\"},{\"hovertemplate\":\"x=%{x}<br>y=%{y}<extra></extra>\",\"legendgroup\":\"\",\"line\":{\"color\":\"#636efa\",\"dash\":\"solid\"},\"marker\":{\"symbol\":\"circle\"},\"mode\":\"lines\",\"name\":\"\",\"orientation\":\"v\",\"showlegend\":false,\"x\":[149.10673,148.32249,147.32211,146.38103,145.25727,144.27123,142.95907,141.64308,140.31178,138.92119,137.29916,135.9057,134.73317,133.06236,131.52544,129.69874,128.02984,126.73776,125.30509,123.48317,122.21595,120.69529,119.14308,117.78213,116.58761,114.79916,113.03558,111.71194,109.99904,108.63428,107.16048,105.65608,103.65914,102.48279,100.98221,99.70926,98.23259,96.46232,94.65666,92.80413,91.08263,89.45773,87.6578,86.20314,84.75708,83.14939,81.25096,79.88332,78.158,76.66412,75.02104,73.728,71.52448,70.20849,68.45065,66.82288,64.93592,63.31676,61.81809,60.03347,58.32441,56.50153,54.98279,53.70505,52.27238,50.59105,49.20715,47.32498,45.43803,43.45448,41.72819,40.4868,39.12682,37.39767,36.09028,34.71787,32.83665,30.50306,28.52716,26.76645,25.39116,23.71844,21.65838,20.07555,17.79265,16.09507,14.52085,12.71806,10.95926,9.18133,7.49713,7.39375,5.97512,4.49437,2.99255,1.28442],\"xaxis\":\"x\",\"y\":[55.12647,60.33986,65.464,71.98467,77.90158,83.17797,86.77431,91.12668,96.04606,101.68471,103.75852,106.20508,109.61242,113.26127,115.66583,118.07565,122.70102,124.84833,124.84833,128.17692,130.64448,132.91254,132.91254,133.87857,136.59289,139.65897,142.29979,143.30257,145.94864,148.95172,148.95172,149.65524,150.28526,153.00483,154.93163,156.29142,157.06319,157.06319,160.45478,163.0431,165.11165,165.11165,166.08293,166.43469,167.40071,167.40071,169.78428,170.7608,172.4776,173.85839,173.51188,173.51188,175.21817,175.56993,175.56993,175.56993,176.94547,178.32626,178.32626,178.32626,180.0588,180.41056,181.52884,181.52884,181.52884,183.54489,183.54489,183.8704,184.96243,186.97849,186.66873,186.66873,186.66873,187.6505,187.98126,187.98126,189.3358,190.42783,191.48311,190.84259,190.84259,191.54611,191.54611,191.54611,191.54611,191.54611,191.54611,193.11065,194.12918,194.12918,195.41546,197.33172,198.12468,198.12468,199.42392,199.42392],\"yaxis\":\"y\",\"type\":\"scatter\"}],                        {\"template\":{\"data\":{\"histogram2dcontour\":[{\"type\":\"histogram2dcontour\",\"colorbar\":{\"outlinewidth\":0,\"ticks\":\"\"},\"colorscale\":[[0.0,\"#0d0887\"],[0.1111111111111111,\"#46039f\"],[0.2222222222222222,\"#7201a8\"],[0.3333333333333333,\"#9c179e\"],[0.4444444444444444,\"#bd3786\"],[0.5555555555555556,\"#d8576b\"],[0.6666666666666666,\"#ed7953\"],[0.7777777777777778,\"#fb9f3a\"],[0.8888888888888888,\"#fdca26\"],[1.0,\"#f0f921\"]]}],\"choropleth\":[{\"type\":\"choropleth\",\"colorbar\":{\"outlinewidth\":0,\"ticks\":\"\"}}],\"histogram2d\":[{\"type\":\"histogram2d\",\"colorbar\":{\"outlinewidth\":0,\"ticks\":\"\"},\"colorscale\":[[0.0,\"#0d0887\"],[0.1111111111111111,\"#46039f\"],[0.2222222222222222,\"#7201a8\"],[0.3333333333333333,\"#9c179e\"],[0.4444444444444444,\"#bd3786\"],[0.5555555555555556,\"#d8576b\"],[0.6666666666666666,\"#ed7953\"],[0.7777777777777778,\"#fb9f3a\"],[0.8888888888888888,\"#fdca26\"],[1.0,\"#f0f921\"]]}],\"heatmap\":[{\"type\":\"heatmap\",\"colorbar\":{\"outlinewidth\":0,\"ticks\":\"\"},\"colorscale\":[[0.0,\"#0d0887\"],[0.1111111111111111,\"#46039f\"],[0.2222222222222222,\"#7201a8\"],[0.3333333333333333,\"#9c179e\"],[0.4444444444444444,\"#bd3786\"],[0.5555555555555556,\"#d8576b\"],[0.6666666666666666,\"#ed7953\"],[0.7777777777777778,\"#fb9f3a\"],[0.8888888888888888,\"#fdca26\"],[1.0,\"#f0f921\"]]}],\"heatmapgl\":[{\"type\":\"heatmapgl\",\"colorbar\":{\"outlinewidth\":0,\"ticks\":\"\"},\"colorscale\":[[0.0,\"#0d0887\"],[0.1111111111111111,\"#46039f\"],[0.2222222222222222,\"#7201a8\"],[0.3333333333333333,\"#9c179e\"],[0.4444444444444444,\"#bd3786\"],[0.5555555555555556,\"#d8576b\"],[0.6666666666666666,\"#ed7953\"],[0.7777777777777778,\"#fb9f3a\"],[0.8888888888888888,\"#fdca26\"],[1.0,\"#f0f921\"]]}],\"contourcarpet\":[{\"type\":\"contourcarpet\",\"colorbar\":{\"outlinewidth\":0,\"ticks\":\"\"}}],\"contour\":[{\"type\":\"contour\",\"colorbar\":{\"outlinewidth\":0,\"ticks\":\"\"},\"colorscale\":[[0.0,\"#0d0887\"],[0.1111111111111111,\"#46039f\"],[0.2222222222222222,\"#7201a8\"],[0.3333333333333333,\"#9c179e\"],[0.4444444444444444,\"#bd3786\"],[0.5555555555555556,\"#d8576b\"],[0.6666666666666666,\"#ed7953\"],[0.7777777777777778,\"#fb9f3a\"],[0.8888888888888888,\"#fdca26\"],[1.0,\"#f0f921\"]]}],\"surface\":[{\"type\":\"surface\",\"colorbar\":{\"outlinewidth\":0,\"ticks\":\"\"},\"colorscale\":[[0.0,\"#0d0887\"],[0.1111111111111111,\"#46039f\"],[0.2222222222222222,\"#7201a8\"],[0.3333333333333333,\"#9c179e\"],[0.4444444444444444,\"#bd3786\"],[0.5555555555555556,\"#d8576b\"],[0.6666666666666666,\"#ed7953\"],[0.7777777777777778,\"#fb9f3a\"],[0.8888888888888888,\"#fdca26\"],[1.0,\"#f0f921\"]]}],\"mesh3d\":[{\"type\":\"mesh3d\",\"colorbar\":{\"outlinewidth\":0,\"ticks\":\"\"}}],\"scatter\":[{\"fillpattern\":{\"fillmode\":\"overlay\",\"size\":10,\"solidity\":0.2},\"type\":\"scatter\"}],\"parcoords\":[{\"type\":\"parcoords\",\"line\":{\"colorbar\":{\"outlinewidth\":0,\"ticks\":\"\"}}}],\"scatterpolargl\":[{\"type\":\"scatterpolargl\",\"marker\":{\"colorbar\":{\"outlinewidth\":0,\"ticks\":\"\"}}}],\"bar\":[{\"error_x\":{\"color\":\"#2a3f5f\"},\"error_y\":{\"color\":\"#2a3f5f\"},\"marker\":{\"line\":{\"color\":\"#E5ECF6\",\"width\":0.5},\"pattern\":{\"fillmode\":\"overlay\",\"size\":10,\"solidity\":0.2}},\"type\":\"bar\"}],\"scattergeo\":[{\"type\":\"scattergeo\",\"marker\":{\"colorbar\":{\"outlinewidth\":0,\"ticks\":\"\"}}}],\"scatterpolar\":[{\"type\":\"scatterpolar\",\"marker\":{\"colorbar\":{\"outlinewidth\":0,\"ticks\":\"\"}}}],\"histogram\":[{\"marker\":{\"pattern\":{\"fillmode\":\"overlay\",\"size\":10,\"solidity\":0.2}},\"type\":\"histogram\"}],\"scattergl\":[{\"type\":\"scattergl\",\"marker\":{\"colorbar\":{\"outlinewidth\":0,\"ticks\":\"\"}}}],\"scatter3d\":[{\"type\":\"scatter3d\",\"line\":{\"colorbar\":{\"outlinewidth\":0,\"ticks\":\"\"}},\"marker\":{\"colorbar\":{\"outlinewidth\":0,\"ticks\":\"\"}}}],\"scattermapbox\":[{\"type\":\"scattermapbox\",\"marker\":{\"colorbar\":{\"outlinewidth\":0,\"ticks\":\"\"}}}],\"scatterternary\":[{\"type\":\"scatterternary\",\"marker\":{\"colorbar\":{\"outlinewidth\":0,\"ticks\":\"\"}}}],\"scattercarpet\":[{\"type\":\"scattercarpet\",\"marker\":{\"colorbar\":{\"outlinewidth\":0,\"ticks\":\"\"}}}],\"carpet\":[{\"aaxis\":{\"endlinecolor\":\"#2a3f5f\",\"gridcolor\":\"white\",\"linecolor\":\"white\",\"minorgridcolor\":\"white\",\"startlinecolor\":\"#2a3f5f\"},\"baxis\":{\"endlinecolor\":\"#2a3f5f\",\"gridcolor\":\"white\",\"linecolor\":\"white\",\"minorgridcolor\":\"white\",\"startlinecolor\":\"#2a3f5f\"},\"type\":\"carpet\"}],\"table\":[{\"cells\":{\"fill\":{\"color\":\"#EBF0F8\"},\"line\":{\"color\":\"white\"}},\"header\":{\"fill\":{\"color\":\"#C8D4E3\"},\"line\":{\"color\":\"white\"}},\"type\":\"table\"}],\"barpolar\":[{\"marker\":{\"line\":{\"color\":\"#E5ECF6\",\"width\":0.5},\"pattern\":{\"fillmode\":\"overlay\",\"size\":10,\"solidity\":0.2}},\"type\":\"barpolar\"}],\"pie\":[{\"automargin\":true,\"type\":\"pie\"}]},\"layout\":{\"autotypenumbers\":\"strict\",\"colorway\":[\"#636efa\",\"#EF553B\",\"#00cc96\",\"#ab63fa\",\"#FFA15A\",\"#19d3f3\",\"#FF6692\",\"#B6E880\",\"#FF97FF\",\"#FECB52\"],\"font\":{\"color\":\"#2a3f5f\"},\"hovermode\":\"closest\",\"hoverlabel\":{\"align\":\"left\"},\"paper_bgcolor\":\"white\",\"plot_bgcolor\":\"#E5ECF6\",\"polar\":{\"bgcolor\":\"#E5ECF6\",\"angularaxis\":{\"gridcolor\":\"white\",\"linecolor\":\"white\",\"ticks\":\"\"},\"radialaxis\":{\"gridcolor\":\"white\",\"linecolor\":\"white\",\"ticks\":\"\"}},\"ternary\":{\"bgcolor\":\"#E5ECF6\",\"aaxis\":{\"gridcolor\":\"white\",\"linecolor\":\"white\",\"ticks\":\"\"},\"baxis\":{\"gridcolor\":\"white\",\"linecolor\":\"white\",\"ticks\":\"\"},\"caxis\":{\"gridcolor\":\"white\",\"linecolor\":\"white\",\"ticks\":\"\"}},\"coloraxis\":{\"colorbar\":{\"outlinewidth\":0,\"ticks\":\"\"}},\"colorscale\":{\"sequential\":[[0.0,\"#0d0887\"],[0.1111111111111111,\"#46039f\"],[0.2222222222222222,\"#7201a8\"],[0.3333333333333333,\"#9c179e\"],[0.4444444444444444,\"#bd3786\"],[0.5555555555555556,\"#d8576b\"],[0.6666666666666666,\"#ed7953\"],[0.7777777777777778,\"#fb9f3a\"],[0.8888888888888888,\"#fdca26\"],[1.0,\"#f0f921\"]],\"sequentialminus\":[[0.0,\"#0d0887\"],[0.1111111111111111,\"#46039f\"],[0.2222222222222222,\"#7201a8\"],[0.3333333333333333,\"#9c179e\"],[0.4444444444444444,\"#bd3786\"],[0.5555555555555556,\"#d8576b\"],[0.6666666666666666,\"#ed7953\"],[0.7777777777777778,\"#fb9f3a\"],[0.8888888888888888,\"#fdca26\"],[1.0,\"#f0f921\"]],\"diverging\":[[0,\"#8e0152\"],[0.1,\"#c51b7d\"],[0.2,\"#de77ae\"],[0.3,\"#f1b6da\"],[0.4,\"#fde0ef\"],[0.5,\"#f7f7f7\"],[0.6,\"#e6f5d0\"],[0.7,\"#b8e186\"],[0.8,\"#7fbc41\"],[0.9,\"#4d9221\"],[1,\"#276419\"]]},\"xaxis\":{\"gridcolor\":\"white\",\"linecolor\":\"white\",\"ticks\":\"\",\"title\":{\"standoff\":15},\"zerolinecolor\":\"white\",\"automargin\":true,\"zerolinewidth\":2},\"yaxis\":{\"gridcolor\":\"white\",\"linecolor\":\"white\",\"ticks\":\"\",\"title\":{\"standoff\":15},\"zerolinecolor\":\"white\",\"automargin\":true,\"zerolinewidth\":2},\"scene\":{\"xaxis\":{\"backgroundcolor\":\"#E5ECF6\",\"gridcolor\":\"white\",\"linecolor\":\"white\",\"showbackground\":true,\"ticks\":\"\",\"zerolinecolor\":\"white\",\"gridwidth\":2},\"yaxis\":{\"backgroundcolor\":\"#E5ECF6\",\"gridcolor\":\"white\",\"linecolor\":\"white\",\"showbackground\":true,\"ticks\":\"\",\"zerolinecolor\":\"white\",\"gridwidth\":2},\"zaxis\":{\"backgroundcolor\":\"#E5ECF6\",\"gridcolor\":\"white\",\"linecolor\":\"white\",\"showbackground\":true,\"ticks\":\"\",\"zerolinecolor\":\"white\",\"gridwidth\":2}},\"shapedefaults\":{\"line\":{\"color\":\"#2a3f5f\"}},\"annotationdefaults\":{\"arrowcolor\":\"#2a3f5f\",\"arrowhead\":0,\"arrowwidth\":1},\"geo\":{\"bgcolor\":\"white\",\"landcolor\":\"#E5ECF6\",\"subunitcolor\":\"white\",\"showland\":true,\"showlakes\":true,\"lakecolor\":\"white\"},\"title\":{\"x\":0.05},\"mapbox\":{\"style\":\"light\"}}},\"title\":{\"text\":\"Pseudo Van Krevelen Plot\"},\"xaxis\":{\"title\":{\"text\":\"OI\"}},\"yaxis\":{\"title\":{\"text\":\"HI\"}},\"legend\":{\"title\":{\"text\":\"Pseudo Van Krevelen Plot\"}}},                        {\"responsive\": true}                    ).then(function(){\n",
       "                            \n",
       "var gd = document.getElementById('60a521c8-9bf0-40fb-8fd8-4894fe068b8c');\n",
       "var x = new MutationObserver(function (mutations, observer) {{\n",
       "        var display = window.getComputedStyle(gd).display;\n",
       "        if (!display || display === 'none') {{\n",
       "            console.log([gd, 'removed!']);\n",
       "            Plotly.purge(gd);\n",
       "            observer.disconnect();\n",
       "        }}\n",
       "}});\n",
       "\n",
       "// Listen for the removal of the full notebook cells\n",
       "var notebookContainer = gd.closest('#notebook-container');\n",
       "if (notebookContainer) {{\n",
       "    x.observe(notebookContainer, {childList: true});\n",
       "}}\n",
       "\n",
       "// Listen for the clearing of the current output cell\n",
       "var outputEl = gd.closest('.output');\n",
       "if (outputEl) {{\n",
       "    x.observe(outputEl, {childList: true});\n",
       "}}\n",
       "\n",
       "                        })                };                });            </script>        </div>"
      ]
     },
     "metadata": {},
     "output_type": "display_data"
    }
   ],
   "source": [
    "def pseudo_plot(FEE_AL_910, PSEUDO_I, PSEUDO_II, PSEUDO_II_III, PSEUDO_III):\n",
    "    \n",
    "    pseudo(FEE_AL_910, PSEUDO_I, PSEUDO_II, PSEUDO_II_III, PSEUDO_III)\n",
    "    \n",
    "    import plotly.express as px\n",
    "    import plotly.graph_objects as go\n",
    "    \n",
    "    ########\n",
    "    \n",
    "    \n",
    "    fig1 = px.scatter(x=FEE_AL_910['OI'], y=FEE_AL_910['HI'], hover_name = FEE_AL_910[\"Depth\"] )\n",
    "    \n",
    "    fig2 = px.line(x=PSEUDO_I['x'], y=PSEUDO_I['y'])\n",
    "    fig3 = px.line(x=PSEUDO_II['x'], y=PSEUDO_II['y'])\n",
    "    fig4 = px.line(x=PSEUDO_II_III['x'], y=PSEUDO_II_III['y'])\n",
    "    fig5 = px.line(x=PSEUDO_III['x'], y=PSEUDO_III['y'])\n",
    "\n",
    "    fig6 = go.Figure(data=fig1.data + fig2.data + fig3.data + fig4.data + fig5.data)\n",
    "    fig6.update_layout( \n",
    "        title=\"Pseudo Van Krevelen Plot\",   #\n",
    "    xaxis_title=\"OI\",\n",
    "    yaxis_title=\"HI\",\n",
    "    legend_title=\"Pseudo Van Krevelen Plot\"           )\n",
    "    fig6.show()\n",
    "    \n",
    "    #########\n",
    "\n",
    "    fig1 = px.scatter(x=FEE_AL_910['OI'], y=FEE_AL_910['HI'], hover_name = FEE_AL_910[\"Depth\"] ,\n",
    "        color =  FEE_AL_910['PSEUDO']  , \n",
    "                      # color = FEE_AL_910['Formation']  , \n",
    "\n",
    "    color_discrete_map = {\"TYPE I\":  \"cyan\"  ,                           \n",
    "    \"TYPE II\"  :\"blue\"  ,   \"TYPE II / III\"  :\"orange\"  ,\n",
    "    \"TYPE III\":\"red\" ,\n",
    "     \"UN-IDENTIFIED\" : \"black\"                    }             \n",
    "                     \n",
    "                     )\n",
    "    \n",
    "    fig2 = px.line(x=PSEUDO_I['x'], y=PSEUDO_I['y'])\n",
    "    fig3 = px.line(x=PSEUDO_II['x'], y=PSEUDO_II['y'])\n",
    "    fig4 = px.line(x=PSEUDO_II_III['x'], y=PSEUDO_II_III['y'])\n",
    "    fig5 = px.line(x=PSEUDO_III['x'], y=PSEUDO_III['y'])\n",
    "\n",
    "    fig6 = go.Figure(data=fig1.data + fig2.data + fig3.data + fig4.data + fig5.data)\n",
    "    fig6.update_layout( \n",
    "        title=\"Pseudo Van Krevelen Plot\",   #\n",
    "    xaxis_title=\"OI\",\n",
    "    yaxis_title=\"HI\",\n",
    "    legend_title=\"Pseudo Van Krevelen Plot\"           )\n",
    "    fig6.show()\n",
    "    \n",
    "\"\"\"\n",
    "   #. FEE_AL_910  FEE_BI_307 \n",
    "    from dash import Dash, dcc, html\n",
    "    from base64 import b64encode\n",
    "    import io\n",
    "    buffer = io.StringIO()\n",
    "    \n",
    "    fig6.write_html(buffer)\n",
    "\n",
    "    html_bytes = buffer.getvalue().encode()\n",
    "    encoded = b64encode(html_bytes).decode()\n",
    "    \n",
    "    \n",
    "    app = Dash()\n",
    "\n",
    "    \n",
    "    app.layout = html.Div([\n",
    "    html.H4('Simple plot export options'),\n",
    "    html.P(\"↓↓↓ try downloading the plot as PNG ↓↓↓\", style={\"text-align\": \"right\", \"font-weight\": \"bold\"}),\n",
    "    dcc.Graph(id=\"graph\", figure=fig6),\n",
    "    html.A(\n",
    "        html.Button(\"Download as HTML\"), \n",
    "        id=\"download\",\n",
    "        href=\"data:text/html;base64,\" + encoded,\n",
    "        download=\"plotly_graph.html\"\n",
    "    )\n",
    "    ])\n",
    "\n",
    "\n",
    "    app.run_server(debug=True)  # 26, 29, 31\n",
    "\"\"\"\n",
    "\n",
    "pseudo_plot(FEE_BI_307 , PSEUDO_I, PSEUDO_II, PSEUDO_II_III, PSEUDO_III)"
   ]
  },
  {
   "cell_type": "code",
   "execution_count": null,
   "id": "d7047db5",
   "metadata": {},
   "outputs": [],
   "source": []
  },
  {
   "cell_type": "code",
   "execution_count": null,
   "id": "1e5ba9e1",
   "metadata": {},
   "outputs": [],
   "source": []
  },
  {
   "cell_type": "code",
   "execution_count": null,
   "id": "d0f696a9",
   "metadata": {},
   "outputs": [],
   "source": []
  },
  {
   "cell_type": "markdown",
   "id": "43921e08",
   "metadata": {},
   "source": [
    "# ###################################################################"
   ]
  },
  {
   "cell_type": "markdown",
   "id": "79addf66",
   "metadata": {},
   "source": [
    "# KEROGEN QUALITY PLOT"
   ]
  },
  {
   "cell_type": "code",
   "execution_count": 369,
   "id": "5e3e18e9",
   "metadata": {},
   "outputs": [],
   "source": [
    "KEROGEN_QUALITY_I = pd.read_excel(\"/Users/moyinolorunadegbie/Documents/KEROGEN_QUALITY/I.xlsx\")\n",
    "\n",
    "KEROGEN_QUALITY_II = pd.read_excel(\"/Users/moyinolorunadegbie/Documents/KEROGEN_QUALITY/II.xlsx\")\n",
    "\n",
    "KEROGEN_QUALITY_II_III = pd.read_excel(\"/Users/moyinolorunadegbie/Documents/KEROGEN_QUALITY/II;III.xlsx\")\n",
    "\n",
    "KEROGEN_QUALITY_III = pd.read_excel(\"/Users/moyinolorunadegbie/Documents/KEROGEN_QUALITY/III.xlsx\")"
   ]
  },
  {
   "cell_type": "code",
   "execution_count": 370,
   "id": "f76d7648",
   "metadata": {},
   "outputs": [],
   "source": [
    "# PSEUDO_III\n",
    "\n",
    "\n",
    "def kerogen_quality(FEE_AL_910, KEROGEN_QUALITY_I, KEROGEN_QUALITY_II, KEROGEN_QUALITY_II_III, KEROGEN_QUALITY_III ):\n",
    "    from collections import defaultdict\n",
    "\n",
    "#adj = defaultdict(list)\n",
    "\n",
    "    III = {}\n",
    "\n",
    "    xlis = list( round(KEROGEN_QUALITY_III['x'] , 5 )   )\n",
    "\n",
    "\n",
    "    oilis = list(round(FEE_AL_910['TOC']  , 5 )  )\n",
    "\n",
    "\n",
    "    cn = 0\n",
    "    for i in oilis :\n",
    "        if i not in xlis :\n",
    "            oilis[cn] =  closest(xlis , i)  ### calibrated to PSEUDO_III\n",
    "        cn+=1\n",
    "    \n",
    "#print(oilis)\n",
    "#xlis\n",
    "\n",
    "\n",
    "#for i in range(len(FEE_AL_910['OI'])):\n",
    "   # adj[   FEE_AL_910['OI'].loc[i] ].append(FEE_AL_910['HI'].loc[i])\n",
    "    \n",
    "    for i in range(len(KEROGEN_QUALITY_III['x'])):\n",
    "        III[  round(KEROGEN_QUALITY_III['x'].loc[i]  ,  5 )] = KEROGEN_QUALITY_III['y'].loc[i]\n",
    "  \n",
    "\n",
    "    dict1 = {}\n",
    "    for i in range(len(FEE_AL_910['TOC'])):\n",
    "        if FEE_AL_910['S2 mg/g'].loc[i]   <=  III[ oilis[i] ]   :\n",
    "           dict1[   FEE_AL_910['Depth'].loc[i] ] = \"TYPE IV\"\n",
    "\n",
    "\n",
    "\n",
    "    FEE_AL_910['KEROGEN QUALITY'] =   FEE_AL_910['Depth'].map(dict1)\n",
    "\n",
    "    FEE_AL_910['KEROGEN QUALITY']\n",
    "\n",
    "\n",
    "####################################################\n",
    "\n",
    "\n",
    "    def calbrate(oilis, xlis, toplist, graph):\n",
    "        cn = 0\n",
    "        for i in oilis :\n",
    "            if i not in xlis :\n",
    "                oilis[cn] =  closest(xlis , i)  ### calibrated to PSEUDO_III\n",
    "                if cn < len(toplist):\n",
    "                    graph[  oilis[cn]  ]  = toplist[cn]\n",
    "            cn+=1\n",
    "\n",
    "    xxlis = list(round(KEROGEN_QUALITY_II_III['x']  , 5 )  )\n",
    "    yylis = list(  KEROGEN_QUALITY_II_III['y']    )\n",
    "    II_III = {}\n",
    "    calbrate(xxlis, xlis,  yylis,  II_III )\n",
    "\n",
    "    xxxlis = list(round(KEROGEN_QUALITY_II['x']  , 5 )  )\n",
    "    yyylis = list(  KEROGEN_QUALITY_II['y']    )\n",
    "    II = {}\n",
    "    calbrate(xxxlis, xlis,  yyylis,  II )\n",
    "\n",
    "    xxxxlis = list(round(KEROGEN_QUALITY_I['x']  , 5 )  )\n",
    "    yyyylis = list(  KEROGEN_QUALITY_I['y']   )\n",
    "    I = {}\n",
    "    calbrate(xxxxlis, xlis,  yyyylis,  I )\n",
    "\n",
    "#print(xxlis)\n",
    "\n",
    "\n",
    "    dict2 = {}\n",
    "    for i in range(len(FEE_AL_910['TOC'])):\n",
    "        if  oilis[i] in III and oilis[i] in II_III:\n",
    "                    #\n",
    "            if  III[ oilis[i] ]   < FEE_AL_910['S2 mg/g'].loc[i]   <  II_III[ oilis[i] ]   :\n",
    "               dict2[   FEE_AL_910['Depth'].loc[i] ] = \"TYPE III\"\n",
    "                \n",
    "                \n",
    "    dict2.update(dict1)\n",
    "\n",
    "    FEE_AL_910['KEROGEN QUALITY']  =   FEE_AL_910['Depth'].map(dict2)\n",
    "\n",
    "###################\n",
    "\n",
    "    dict3 = {}\n",
    "    for i in range(len(FEE_AL_910['TOC'])):\n",
    "        if  oilis[i] in II_III and oilis[i] in II:\n",
    "            if  II_III[ oilis[i] ]   < FEE_AL_910['S2 mg/g'].loc[i]   <  II[ oilis[i] ]   :\n",
    "                   dict3[   FEE_AL_910['Depth'].loc[i] ] = \"TYPE II / III\"\n",
    "                \n",
    "                \n",
    "    dict3.update(dict2)\n",
    "\n",
    "    FEE_AL_910['KEROGEN QUALITY']   =   FEE_AL_910['Depth'].map(dict3)\n",
    "\n",
    "#####################\n",
    "\n",
    "    dict4 = {}\n",
    "    for i in range(len(FEE_AL_910['TOC'])):\n",
    "        if  oilis[i] in II and oilis[i] in I:\n",
    "            if  II[ oilis[i] ]   < FEE_AL_910['S2 mg/g'].loc[i]   <  I[ oilis[i] ]   :\n",
    "                   dict4[   FEE_AL_910['Depth'].loc[i] ] = \"TYPE II\"\n",
    "                \n",
    "                \n",
    "    dict4.update(dict3)\n",
    "\n",
    "    FEE_AL_910['KEROGEN QUALITY']   =   FEE_AL_910['Depth'].map(dict4)\n",
    "\n",
    "##################\n",
    "\n",
    "    dict5 = {}\n",
    "    for i in range(len(FEE_AL_910['TOC'])):\n",
    "        if   oilis[i] in I:\n",
    "            if  I[ oilis[i] ]   < FEE_AL_910['S2 mg/g'].loc[i]   :\n",
    "                   dict5[   FEE_AL_910['Depth'].loc[i] ] = \"TYPE I\"\n",
    "                \n",
    "                \n",
    "    dict5.update(dict4)\n",
    "\n",
    "    FEE_AL_910['KEROGEN QUALITY']  =   FEE_AL_910['Depth'].map(dict5)\n",
    "\n",
    "    print( FEE_AL_910[['KEROGEN QUALITY','Depth']]  )\n",
    "    \n",
    "    #FEE_AL_910['KEROGEN QUALITY'].fillna(  \"UN-IDENTIFIED\", inplace= True) # <<<<\n",
    "    \n",
    "    #print( FEE_AL_910[['KEROGEN QUALITY','Depth']]  )\n",
    "    \n",
    "#kerogen_quality(FEE_AL_910, KEROGEN_QUALITY_I, KEROGEN_QUALITY_II, KEROGEN_QUALITY_II_III, KEROGEN_QUALITY_III )"
   ]
  },
  {
   "cell_type": "code",
   "execution_count": 371,
   "id": "142f9033",
   "metadata": {},
   "outputs": [],
   "source": [
    "\n",
    "# \n",
    "#. PLOTTING DATASET !!!\n",
    "\n",
    "\n",
    "\n",
    "KEROGEN_QUALITY_IP = pd.read_excel(\"/Users/moyinolorunadegbie/Documents/KEROGEN_QUALITY/kerogen_quality.xlsx\")\n",
    "\n",
    "KEROGEN_QUALITY_IIP = pd.read_excel(\"/Users/moyinolorunadegbie/Documents/KEROGEN_QUALITY/kerogen_quality.xlsx\")\n",
    "\n",
    "KEROGEN_QUALITY_II_IIIP = pd.read_excel(\"/Users/moyinolorunadegbie/Documents/KEROGEN_QUALITY/kerogen_quality.xlsx\")\n",
    "\n",
    "KEROGEN_QUALITY_IIIP = pd.read_excel(\"/Users/moyinolorunadegbie/Documents/KEROGEN_QUALITY/kerogen_quality.xlsx\")"
   ]
  },
  {
   "cell_type": "code",
   "execution_count": 390,
   "id": "074d1c96",
   "metadata": {
    "scrolled": false
   },
   "outputs": [
    {
     "name": "stdout",
     "output_type": "stream",
     "text": [
      "   KEROGEN QUALITY  Depth\n",
      "0         TYPE III   9161\n",
      "1    TYPE II / III   9297\n",
      "2         TYPE III   9520\n",
      "3    TYPE II / III   9644\n",
      "4         TYPE III   9716\n",
      "5    TYPE II / III   9825\n",
      "6    TYPE II / III   9866\n",
      "7         TYPE III   9894\n",
      "8         TYPE III   9966\n",
      "9         TYPE III  10006\n",
      "10        TYPE III  10044\n",
      "11        TYPE III  10146\n",
      "12        TYPE III  10176\n",
      "13        TYPE III  10216\n",
      "14        TYPE III  10291\n",
      "15        TYPE III  10374\n",
      "16        TYPE III  10405\n",
      "17        TYPE III  10467\n",
      "18        TYPE III  10519\n",
      "19        TYPE III  10554\n",
      "20        TYPE III  10576\n",
      "21        TYPE III  10633\n",
      "22         TYPE IV  10687\n",
      "23   TYPE II / III  10718\n"
     ]
    },
    {
     "data": {
      "application/vnd.plotly.v1+json": {
       "config": {
        "plotlyServerURL": "https://plot.ly"
       },
       "data": [
        {
         "hovertemplate": "<b>%{hovertext}</b><br><br>x=%{x}<br>y=%{y}<extra></extra>",
         "hovertext": [
          9161,
          9297,
          9520,
          9644,
          9716,
          9825,
          9866,
          9894,
          9966,
          10006,
          10044,
          10146,
          10176,
          10216,
          10291,
          10374,
          10405,
          10467,
          10519,
          10554,
          10576,
          10633,
          10687,
          10718
         ],
         "legendgroup": "",
         "marker": {
          "color": "#636efa",
          "symbol": "circle"
         },
         "mode": "markers",
         "name": "",
         "orientation": "v",
         "showlegend": false,
         "type": "scatter",
         "x": [
          1.76,
          4.25,
          0.98,
          2.99,
          4.21,
          2.98,
          4.56,
          2.01,
          3.64,
          2.06,
          2.58,
          2.46,
          2.4,
          3.14,
          2.31,
          2.36,
          2.14,
          2.79,
          1.86,
          2.35,
          2.5,
          3.47,
          0.85,
          5.5
         ],
         "xaxis": "x",
         "y": [
          3.39,
          13.2,
          1.16,
          7.82,
          8.21,
          7.89,
          9.47,
          3.54,
          4.74,
          2.4,
          4.29,
          2.75,
          4.45,
          5.08,
          2.37,
          2.16,
          2.93,
          4.61,
          2.38,
          2.09,
          2.4,
          6.58,
          0.28,
          12.1
         ],
         "yaxis": "y"
        },
        {
         "hovertemplate": "x=%{x}<br>y=%{y}<extra></extra>",
         "legendgroup": "",
         "line": {
          "color": "#636efa",
          "dash": "solid"
         },
         "marker": {
          "symbol": "circle"
         },
         "mode": "lines",
         "name": "",
         "orientation": "v",
         "showlegend": false,
         "type": "scatter",
         "x": [
          0,
          8.53692,
          null,
          null
         ],
         "xaxis": "x",
         "y": [
          0,
          60,
          null,
          null
         ],
         "yaxis": "y"
        },
        {
         "hovertemplate": "x=%{x}<br>y=%{y}<extra></extra>",
         "legendgroup": "",
         "line": {
          "color": "#636efa",
          "dash": "solid"
         },
         "marker": {
          "symbol": "circle"
         },
         "mode": "lines",
         "name": "",
         "orientation": "v",
         "showlegend": false,
         "type": "scatter",
         "x": [
          0,
          16,
          null,
          null
         ],
         "xaxis": "x",
         "y": [
          0,
          56.05232,
          null,
          null
         ],
         "yaxis": "y"
        },
        {
         "hovertemplate": "x=%{x}<br>y=%{y}<extra></extra>",
         "legendgroup": "",
         "line": {
          "color": "#636efa",
          "dash": "solid"
         },
         "marker": {
          "symbol": "circle"
         },
         "mode": "lines",
         "name": "",
         "orientation": "v",
         "showlegend": false,
         "type": "scatter",
         "x": [
          0,
          16,
          null,
          null
         ],
         "xaxis": "x",
         "y": [
          0,
          31.91188,
          null,
          null
         ],
         "yaxis": "y"
        },
        {
         "hovertemplate": "x=%{x}<br>y=%{y}<extra></extra>",
         "legendgroup": "",
         "line": {
          "color": "#636efa",
          "dash": "solid"
         },
         "marker": {
          "symbol": "circle"
         },
         "mode": "lines",
         "name": "",
         "orientation": "v",
         "showlegend": false,
         "type": "scatter",
         "x": [
          0,
          16,
          null,
          null
         ],
         "xaxis": "x",
         "y": [
          0,
          7.89798,
          null,
          null
         ],
         "yaxis": "y"
        }
       ],
       "layout": {
        "legend": {
         "title": {
          "text": "Kerogen Quality Plot"
         }
        },
        "template": {
         "data": {
          "bar": [
           {
            "error_x": {
             "color": "#2a3f5f"
            },
            "error_y": {
             "color": "#2a3f5f"
            },
            "marker": {
             "line": {
              "color": "#E5ECF6",
              "width": 0.5
             },
             "pattern": {
              "fillmode": "overlay",
              "size": 10,
              "solidity": 0.2
             }
            },
            "type": "bar"
           }
          ],
          "barpolar": [
           {
            "marker": {
             "line": {
              "color": "#E5ECF6",
              "width": 0.5
             },
             "pattern": {
              "fillmode": "overlay",
              "size": 10,
              "solidity": 0.2
             }
            },
            "type": "barpolar"
           }
          ],
          "carpet": [
           {
            "aaxis": {
             "endlinecolor": "#2a3f5f",
             "gridcolor": "white",
             "linecolor": "white",
             "minorgridcolor": "white",
             "startlinecolor": "#2a3f5f"
            },
            "baxis": {
             "endlinecolor": "#2a3f5f",
             "gridcolor": "white",
             "linecolor": "white",
             "minorgridcolor": "white",
             "startlinecolor": "#2a3f5f"
            },
            "type": "carpet"
           }
          ],
          "choropleth": [
           {
            "colorbar": {
             "outlinewidth": 0,
             "ticks": ""
            },
            "type": "choropleth"
           }
          ],
          "contour": [
           {
            "colorbar": {
             "outlinewidth": 0,
             "ticks": ""
            },
            "colorscale": [
             [
              0,
              "#0d0887"
             ],
             [
              0.1111111111111111,
              "#46039f"
             ],
             [
              0.2222222222222222,
              "#7201a8"
             ],
             [
              0.3333333333333333,
              "#9c179e"
             ],
             [
              0.4444444444444444,
              "#bd3786"
             ],
             [
              0.5555555555555556,
              "#d8576b"
             ],
             [
              0.6666666666666666,
              "#ed7953"
             ],
             [
              0.7777777777777778,
              "#fb9f3a"
             ],
             [
              0.8888888888888888,
              "#fdca26"
             ],
             [
              1,
              "#f0f921"
             ]
            ],
            "type": "contour"
           }
          ],
          "contourcarpet": [
           {
            "colorbar": {
             "outlinewidth": 0,
             "ticks": ""
            },
            "type": "contourcarpet"
           }
          ],
          "heatmap": [
           {
            "colorbar": {
             "outlinewidth": 0,
             "ticks": ""
            },
            "colorscale": [
             [
              0,
              "#0d0887"
             ],
             [
              0.1111111111111111,
              "#46039f"
             ],
             [
              0.2222222222222222,
              "#7201a8"
             ],
             [
              0.3333333333333333,
              "#9c179e"
             ],
             [
              0.4444444444444444,
              "#bd3786"
             ],
             [
              0.5555555555555556,
              "#d8576b"
             ],
             [
              0.6666666666666666,
              "#ed7953"
             ],
             [
              0.7777777777777778,
              "#fb9f3a"
             ],
             [
              0.8888888888888888,
              "#fdca26"
             ],
             [
              1,
              "#f0f921"
             ]
            ],
            "type": "heatmap"
           }
          ],
          "heatmapgl": [
           {
            "colorbar": {
             "outlinewidth": 0,
             "ticks": ""
            },
            "colorscale": [
             [
              0,
              "#0d0887"
             ],
             [
              0.1111111111111111,
              "#46039f"
             ],
             [
              0.2222222222222222,
              "#7201a8"
             ],
             [
              0.3333333333333333,
              "#9c179e"
             ],
             [
              0.4444444444444444,
              "#bd3786"
             ],
             [
              0.5555555555555556,
              "#d8576b"
             ],
             [
              0.6666666666666666,
              "#ed7953"
             ],
             [
              0.7777777777777778,
              "#fb9f3a"
             ],
             [
              0.8888888888888888,
              "#fdca26"
             ],
             [
              1,
              "#f0f921"
             ]
            ],
            "type": "heatmapgl"
           }
          ],
          "histogram": [
           {
            "marker": {
             "pattern": {
              "fillmode": "overlay",
              "size": 10,
              "solidity": 0.2
             }
            },
            "type": "histogram"
           }
          ],
          "histogram2d": [
           {
            "colorbar": {
             "outlinewidth": 0,
             "ticks": ""
            },
            "colorscale": [
             [
              0,
              "#0d0887"
             ],
             [
              0.1111111111111111,
              "#46039f"
             ],
             [
              0.2222222222222222,
              "#7201a8"
             ],
             [
              0.3333333333333333,
              "#9c179e"
             ],
             [
              0.4444444444444444,
              "#bd3786"
             ],
             [
              0.5555555555555556,
              "#d8576b"
             ],
             [
              0.6666666666666666,
              "#ed7953"
             ],
             [
              0.7777777777777778,
              "#fb9f3a"
             ],
             [
              0.8888888888888888,
              "#fdca26"
             ],
             [
              1,
              "#f0f921"
             ]
            ],
            "type": "histogram2d"
           }
          ],
          "histogram2dcontour": [
           {
            "colorbar": {
             "outlinewidth": 0,
             "ticks": ""
            },
            "colorscale": [
             [
              0,
              "#0d0887"
             ],
             [
              0.1111111111111111,
              "#46039f"
             ],
             [
              0.2222222222222222,
              "#7201a8"
             ],
             [
              0.3333333333333333,
              "#9c179e"
             ],
             [
              0.4444444444444444,
              "#bd3786"
             ],
             [
              0.5555555555555556,
              "#d8576b"
             ],
             [
              0.6666666666666666,
              "#ed7953"
             ],
             [
              0.7777777777777778,
              "#fb9f3a"
             ],
             [
              0.8888888888888888,
              "#fdca26"
             ],
             [
              1,
              "#f0f921"
             ]
            ],
            "type": "histogram2dcontour"
           }
          ],
          "mesh3d": [
           {
            "colorbar": {
             "outlinewidth": 0,
             "ticks": ""
            },
            "type": "mesh3d"
           }
          ],
          "parcoords": [
           {
            "line": {
             "colorbar": {
              "outlinewidth": 0,
              "ticks": ""
             }
            },
            "type": "parcoords"
           }
          ],
          "pie": [
           {
            "automargin": true,
            "type": "pie"
           }
          ],
          "scatter": [
           {
            "fillpattern": {
             "fillmode": "overlay",
             "size": 10,
             "solidity": 0.2
            },
            "type": "scatter"
           }
          ],
          "scatter3d": [
           {
            "line": {
             "colorbar": {
              "outlinewidth": 0,
              "ticks": ""
             }
            },
            "marker": {
             "colorbar": {
              "outlinewidth": 0,
              "ticks": ""
             }
            },
            "type": "scatter3d"
           }
          ],
          "scattercarpet": [
           {
            "marker": {
             "colorbar": {
              "outlinewidth": 0,
              "ticks": ""
             }
            },
            "type": "scattercarpet"
           }
          ],
          "scattergeo": [
           {
            "marker": {
             "colorbar": {
              "outlinewidth": 0,
              "ticks": ""
             }
            },
            "type": "scattergeo"
           }
          ],
          "scattergl": [
           {
            "marker": {
             "colorbar": {
              "outlinewidth": 0,
              "ticks": ""
             }
            },
            "type": "scattergl"
           }
          ],
          "scattermapbox": [
           {
            "marker": {
             "colorbar": {
              "outlinewidth": 0,
              "ticks": ""
             }
            },
            "type": "scattermapbox"
           }
          ],
          "scatterpolar": [
           {
            "marker": {
             "colorbar": {
              "outlinewidth": 0,
              "ticks": ""
             }
            },
            "type": "scatterpolar"
           }
          ],
          "scatterpolargl": [
           {
            "marker": {
             "colorbar": {
              "outlinewidth": 0,
              "ticks": ""
             }
            },
            "type": "scatterpolargl"
           }
          ],
          "scatterternary": [
           {
            "marker": {
             "colorbar": {
              "outlinewidth": 0,
              "ticks": ""
             }
            },
            "type": "scatterternary"
           }
          ],
          "surface": [
           {
            "colorbar": {
             "outlinewidth": 0,
             "ticks": ""
            },
            "colorscale": [
             [
              0,
              "#0d0887"
             ],
             [
              0.1111111111111111,
              "#46039f"
             ],
             [
              0.2222222222222222,
              "#7201a8"
             ],
             [
              0.3333333333333333,
              "#9c179e"
             ],
             [
              0.4444444444444444,
              "#bd3786"
             ],
             [
              0.5555555555555556,
              "#d8576b"
             ],
             [
              0.6666666666666666,
              "#ed7953"
             ],
             [
              0.7777777777777778,
              "#fb9f3a"
             ],
             [
              0.8888888888888888,
              "#fdca26"
             ],
             [
              1,
              "#f0f921"
             ]
            ],
            "type": "surface"
           }
          ],
          "table": [
           {
            "cells": {
             "fill": {
              "color": "#EBF0F8"
             },
             "line": {
              "color": "white"
             }
            },
            "header": {
             "fill": {
              "color": "#C8D4E3"
             },
             "line": {
              "color": "white"
             }
            },
            "type": "table"
           }
          ]
         },
         "layout": {
          "annotationdefaults": {
           "arrowcolor": "#2a3f5f",
           "arrowhead": 0,
           "arrowwidth": 1
          },
          "autotypenumbers": "strict",
          "coloraxis": {
           "colorbar": {
            "outlinewidth": 0,
            "ticks": ""
           }
          },
          "colorscale": {
           "diverging": [
            [
             0,
             "#8e0152"
            ],
            [
             0.1,
             "#c51b7d"
            ],
            [
             0.2,
             "#de77ae"
            ],
            [
             0.3,
             "#f1b6da"
            ],
            [
             0.4,
             "#fde0ef"
            ],
            [
             0.5,
             "#f7f7f7"
            ],
            [
             0.6,
             "#e6f5d0"
            ],
            [
             0.7,
             "#b8e186"
            ],
            [
             0.8,
             "#7fbc41"
            ],
            [
             0.9,
             "#4d9221"
            ],
            [
             1,
             "#276419"
            ]
           ],
           "sequential": [
            [
             0,
             "#0d0887"
            ],
            [
             0.1111111111111111,
             "#46039f"
            ],
            [
             0.2222222222222222,
             "#7201a8"
            ],
            [
             0.3333333333333333,
             "#9c179e"
            ],
            [
             0.4444444444444444,
             "#bd3786"
            ],
            [
             0.5555555555555556,
             "#d8576b"
            ],
            [
             0.6666666666666666,
             "#ed7953"
            ],
            [
             0.7777777777777778,
             "#fb9f3a"
            ],
            [
             0.8888888888888888,
             "#fdca26"
            ],
            [
             1,
             "#f0f921"
            ]
           ],
           "sequentialminus": [
            [
             0,
             "#0d0887"
            ],
            [
             0.1111111111111111,
             "#46039f"
            ],
            [
             0.2222222222222222,
             "#7201a8"
            ],
            [
             0.3333333333333333,
             "#9c179e"
            ],
            [
             0.4444444444444444,
             "#bd3786"
            ],
            [
             0.5555555555555556,
             "#d8576b"
            ],
            [
             0.6666666666666666,
             "#ed7953"
            ],
            [
             0.7777777777777778,
             "#fb9f3a"
            ],
            [
             0.8888888888888888,
             "#fdca26"
            ],
            [
             1,
             "#f0f921"
            ]
           ]
          },
          "colorway": [
           "#636efa",
           "#EF553B",
           "#00cc96",
           "#ab63fa",
           "#FFA15A",
           "#19d3f3",
           "#FF6692",
           "#B6E880",
           "#FF97FF",
           "#FECB52"
          ],
          "font": {
           "color": "#2a3f5f"
          },
          "geo": {
           "bgcolor": "white",
           "lakecolor": "white",
           "landcolor": "#E5ECF6",
           "showlakes": true,
           "showland": true,
           "subunitcolor": "white"
          },
          "hoverlabel": {
           "align": "left"
          },
          "hovermode": "closest",
          "mapbox": {
           "style": "light"
          },
          "paper_bgcolor": "white",
          "plot_bgcolor": "#E5ECF6",
          "polar": {
           "angularaxis": {
            "gridcolor": "white",
            "linecolor": "white",
            "ticks": ""
           },
           "bgcolor": "#E5ECF6",
           "radialaxis": {
            "gridcolor": "white",
            "linecolor": "white",
            "ticks": ""
           }
          },
          "scene": {
           "xaxis": {
            "backgroundcolor": "#E5ECF6",
            "gridcolor": "white",
            "gridwidth": 2,
            "linecolor": "white",
            "showbackground": true,
            "ticks": "",
            "zerolinecolor": "white"
           },
           "yaxis": {
            "backgroundcolor": "#E5ECF6",
            "gridcolor": "white",
            "gridwidth": 2,
            "linecolor": "white",
            "showbackground": true,
            "ticks": "",
            "zerolinecolor": "white"
           },
           "zaxis": {
            "backgroundcolor": "#E5ECF6",
            "gridcolor": "white",
            "gridwidth": 2,
            "linecolor": "white",
            "showbackground": true,
            "ticks": "",
            "zerolinecolor": "white"
           }
          },
          "shapedefaults": {
           "line": {
            "color": "#2a3f5f"
           }
          },
          "ternary": {
           "aaxis": {
            "gridcolor": "white",
            "linecolor": "white",
            "ticks": ""
           },
           "baxis": {
            "gridcolor": "white",
            "linecolor": "white",
            "ticks": ""
           },
           "bgcolor": "#E5ECF6",
           "caxis": {
            "gridcolor": "white",
            "linecolor": "white",
            "ticks": ""
           }
          },
          "title": {
           "x": 0.05
          },
          "xaxis": {
           "automargin": true,
           "gridcolor": "white",
           "linecolor": "white",
           "ticks": "",
           "title": {
            "standoff": 15
           },
           "zerolinecolor": "white",
           "zerolinewidth": 2
          },
          "yaxis": {
           "automargin": true,
           "gridcolor": "white",
           "linecolor": "white",
           "ticks": "",
           "title": {
            "standoff": 15
           },
           "zerolinecolor": "white",
           "zerolinewidth": 2
          }
         }
        },
        "title": {
         "text": "Kerogen Quality Plot"
        },
        "xaxis": {
         "title": {
          "text": "TOC"
         }
        },
        "yaxis": {
         "title": {
          "text": "S2"
         }
        }
       }
      },
      "text/html": [
       "<div>                            <div id=\"7cecc201-29a7-4ab9-bac6-2739696e1720\" class=\"plotly-graph-div\" style=\"height:525px; width:100%;\"></div>            <script type=\"text/javascript\">                require([\"plotly\"], function(Plotly) {                    window.PLOTLYENV=window.PLOTLYENV || {};                                    if (document.getElementById(\"7cecc201-29a7-4ab9-bac6-2739696e1720\")) {                    Plotly.newPlot(                        \"7cecc201-29a7-4ab9-bac6-2739696e1720\",                        [{\"hovertemplate\":\"<b>%{hovertext}</b><br><br>x=%{x}<br>y=%{y}<extra></extra>\",\"hovertext\":[9161.0,9297.0,9520.0,9644.0,9716.0,9825.0,9866.0,9894.0,9966.0,10006.0,10044.0,10146.0,10176.0,10216.0,10291.0,10374.0,10405.0,10467.0,10519.0,10554.0,10576.0,10633.0,10687.0,10718.0],\"legendgroup\":\"\",\"marker\":{\"color\":\"#636efa\",\"symbol\":\"circle\"},\"mode\":\"markers\",\"name\":\"\",\"orientation\":\"v\",\"showlegend\":false,\"x\":[1.76,4.25,0.98,2.99,4.21,2.98,4.56,2.01,3.64,2.06,2.58,2.46,2.4,3.14,2.31,2.36,2.14,2.79,1.86,2.35,2.5,3.47,0.85,5.5],\"xaxis\":\"x\",\"y\":[3.39,13.2,1.16,7.82,8.21,7.89,9.47,3.54,4.74,2.4,4.29,2.75,4.45,5.08,2.37,2.16,2.93,4.61,2.38,2.09,2.4,6.58,0.28,12.1],\"yaxis\":\"y\",\"type\":\"scatter\"},{\"hovertemplate\":\"x=%{x}<br>y=%{y}<extra></extra>\",\"legendgroup\":\"\",\"line\":{\"color\":\"#636efa\",\"dash\":\"solid\"},\"marker\":{\"symbol\":\"circle\"},\"mode\":\"lines\",\"name\":\"\",\"orientation\":\"v\",\"showlegend\":false,\"x\":[0.0,8.53692,null,null],\"xaxis\":\"x\",\"y\":[0.0,60.0,null,null],\"yaxis\":\"y\",\"type\":\"scatter\"},{\"hovertemplate\":\"x=%{x}<br>y=%{y}<extra></extra>\",\"legendgroup\":\"\",\"line\":{\"color\":\"#636efa\",\"dash\":\"solid\"},\"marker\":{\"symbol\":\"circle\"},\"mode\":\"lines\",\"name\":\"\",\"orientation\":\"v\",\"showlegend\":false,\"x\":[0.0,16.0,null,null],\"xaxis\":\"x\",\"y\":[0.0,56.05232,null,null],\"yaxis\":\"y\",\"type\":\"scatter\"},{\"hovertemplate\":\"x=%{x}<br>y=%{y}<extra></extra>\",\"legendgroup\":\"\",\"line\":{\"color\":\"#636efa\",\"dash\":\"solid\"},\"marker\":{\"symbol\":\"circle\"},\"mode\":\"lines\",\"name\":\"\",\"orientation\":\"v\",\"showlegend\":false,\"x\":[0.0,16.0,null,null],\"xaxis\":\"x\",\"y\":[0.0,31.91188,null,null],\"yaxis\":\"y\",\"type\":\"scatter\"},{\"hovertemplate\":\"x=%{x}<br>y=%{y}<extra></extra>\",\"legendgroup\":\"\",\"line\":{\"color\":\"#636efa\",\"dash\":\"solid\"},\"marker\":{\"symbol\":\"circle\"},\"mode\":\"lines\",\"name\":\"\",\"orientation\":\"v\",\"showlegend\":false,\"x\":[0.0,16.0,null,null],\"xaxis\":\"x\",\"y\":[0.0,7.89798,null,null],\"yaxis\":\"y\",\"type\":\"scatter\"}],                        {\"template\":{\"data\":{\"histogram2dcontour\":[{\"type\":\"histogram2dcontour\",\"colorbar\":{\"outlinewidth\":0,\"ticks\":\"\"},\"colorscale\":[[0.0,\"#0d0887\"],[0.1111111111111111,\"#46039f\"],[0.2222222222222222,\"#7201a8\"],[0.3333333333333333,\"#9c179e\"],[0.4444444444444444,\"#bd3786\"],[0.5555555555555556,\"#d8576b\"],[0.6666666666666666,\"#ed7953\"],[0.7777777777777778,\"#fb9f3a\"],[0.8888888888888888,\"#fdca26\"],[1.0,\"#f0f921\"]]}],\"choropleth\":[{\"type\":\"choropleth\",\"colorbar\":{\"outlinewidth\":0,\"ticks\":\"\"}}],\"histogram2d\":[{\"type\":\"histogram2d\",\"colorbar\":{\"outlinewidth\":0,\"ticks\":\"\"},\"colorscale\":[[0.0,\"#0d0887\"],[0.1111111111111111,\"#46039f\"],[0.2222222222222222,\"#7201a8\"],[0.3333333333333333,\"#9c179e\"],[0.4444444444444444,\"#bd3786\"],[0.5555555555555556,\"#d8576b\"],[0.6666666666666666,\"#ed7953\"],[0.7777777777777778,\"#fb9f3a\"],[0.8888888888888888,\"#fdca26\"],[1.0,\"#f0f921\"]]}],\"heatmap\":[{\"type\":\"heatmap\",\"colorbar\":{\"outlinewidth\":0,\"ticks\":\"\"},\"colorscale\":[[0.0,\"#0d0887\"],[0.1111111111111111,\"#46039f\"],[0.2222222222222222,\"#7201a8\"],[0.3333333333333333,\"#9c179e\"],[0.4444444444444444,\"#bd3786\"],[0.5555555555555556,\"#d8576b\"],[0.6666666666666666,\"#ed7953\"],[0.7777777777777778,\"#fb9f3a\"],[0.8888888888888888,\"#fdca26\"],[1.0,\"#f0f921\"]]}],\"heatmapgl\":[{\"type\":\"heatmapgl\",\"colorbar\":{\"outlinewidth\":0,\"ticks\":\"\"},\"colorscale\":[[0.0,\"#0d0887\"],[0.1111111111111111,\"#46039f\"],[0.2222222222222222,\"#7201a8\"],[0.3333333333333333,\"#9c179e\"],[0.4444444444444444,\"#bd3786\"],[0.5555555555555556,\"#d8576b\"],[0.6666666666666666,\"#ed7953\"],[0.7777777777777778,\"#fb9f3a\"],[0.8888888888888888,\"#fdca26\"],[1.0,\"#f0f921\"]]}],\"contourcarpet\":[{\"type\":\"contourcarpet\",\"colorbar\":{\"outlinewidth\":0,\"ticks\":\"\"}}],\"contour\":[{\"type\":\"contour\",\"colorbar\":{\"outlinewidth\":0,\"ticks\":\"\"},\"colorscale\":[[0.0,\"#0d0887\"],[0.1111111111111111,\"#46039f\"],[0.2222222222222222,\"#7201a8\"],[0.3333333333333333,\"#9c179e\"],[0.4444444444444444,\"#bd3786\"],[0.5555555555555556,\"#d8576b\"],[0.6666666666666666,\"#ed7953\"],[0.7777777777777778,\"#fb9f3a\"],[0.8888888888888888,\"#fdca26\"],[1.0,\"#f0f921\"]]}],\"surface\":[{\"type\":\"surface\",\"colorbar\":{\"outlinewidth\":0,\"ticks\":\"\"},\"colorscale\":[[0.0,\"#0d0887\"],[0.1111111111111111,\"#46039f\"],[0.2222222222222222,\"#7201a8\"],[0.3333333333333333,\"#9c179e\"],[0.4444444444444444,\"#bd3786\"],[0.5555555555555556,\"#d8576b\"],[0.6666666666666666,\"#ed7953\"],[0.7777777777777778,\"#fb9f3a\"],[0.8888888888888888,\"#fdca26\"],[1.0,\"#f0f921\"]]}],\"mesh3d\":[{\"type\":\"mesh3d\",\"colorbar\":{\"outlinewidth\":0,\"ticks\":\"\"}}],\"scatter\":[{\"fillpattern\":{\"fillmode\":\"overlay\",\"size\":10,\"solidity\":0.2},\"type\":\"scatter\"}],\"parcoords\":[{\"type\":\"parcoords\",\"line\":{\"colorbar\":{\"outlinewidth\":0,\"ticks\":\"\"}}}],\"scatterpolargl\":[{\"type\":\"scatterpolargl\",\"marker\":{\"colorbar\":{\"outlinewidth\":0,\"ticks\":\"\"}}}],\"bar\":[{\"error_x\":{\"color\":\"#2a3f5f\"},\"error_y\":{\"color\":\"#2a3f5f\"},\"marker\":{\"line\":{\"color\":\"#E5ECF6\",\"width\":0.5},\"pattern\":{\"fillmode\":\"overlay\",\"size\":10,\"solidity\":0.2}},\"type\":\"bar\"}],\"scattergeo\":[{\"type\":\"scattergeo\",\"marker\":{\"colorbar\":{\"outlinewidth\":0,\"ticks\":\"\"}}}],\"scatterpolar\":[{\"type\":\"scatterpolar\",\"marker\":{\"colorbar\":{\"outlinewidth\":0,\"ticks\":\"\"}}}],\"histogram\":[{\"marker\":{\"pattern\":{\"fillmode\":\"overlay\",\"size\":10,\"solidity\":0.2}},\"type\":\"histogram\"}],\"scattergl\":[{\"type\":\"scattergl\",\"marker\":{\"colorbar\":{\"outlinewidth\":0,\"ticks\":\"\"}}}],\"scatter3d\":[{\"type\":\"scatter3d\",\"line\":{\"colorbar\":{\"outlinewidth\":0,\"ticks\":\"\"}},\"marker\":{\"colorbar\":{\"outlinewidth\":0,\"ticks\":\"\"}}}],\"scattermapbox\":[{\"type\":\"scattermapbox\",\"marker\":{\"colorbar\":{\"outlinewidth\":0,\"ticks\":\"\"}}}],\"scatterternary\":[{\"type\":\"scatterternary\",\"marker\":{\"colorbar\":{\"outlinewidth\":0,\"ticks\":\"\"}}}],\"scattercarpet\":[{\"type\":\"scattercarpet\",\"marker\":{\"colorbar\":{\"outlinewidth\":0,\"ticks\":\"\"}}}],\"carpet\":[{\"aaxis\":{\"endlinecolor\":\"#2a3f5f\",\"gridcolor\":\"white\",\"linecolor\":\"white\",\"minorgridcolor\":\"white\",\"startlinecolor\":\"#2a3f5f\"},\"baxis\":{\"endlinecolor\":\"#2a3f5f\",\"gridcolor\":\"white\",\"linecolor\":\"white\",\"minorgridcolor\":\"white\",\"startlinecolor\":\"#2a3f5f\"},\"type\":\"carpet\"}],\"table\":[{\"cells\":{\"fill\":{\"color\":\"#EBF0F8\"},\"line\":{\"color\":\"white\"}},\"header\":{\"fill\":{\"color\":\"#C8D4E3\"},\"line\":{\"color\":\"white\"}},\"type\":\"table\"}],\"barpolar\":[{\"marker\":{\"line\":{\"color\":\"#E5ECF6\",\"width\":0.5},\"pattern\":{\"fillmode\":\"overlay\",\"size\":10,\"solidity\":0.2}},\"type\":\"barpolar\"}],\"pie\":[{\"automargin\":true,\"type\":\"pie\"}]},\"layout\":{\"autotypenumbers\":\"strict\",\"colorway\":[\"#636efa\",\"#EF553B\",\"#00cc96\",\"#ab63fa\",\"#FFA15A\",\"#19d3f3\",\"#FF6692\",\"#B6E880\",\"#FF97FF\",\"#FECB52\"],\"font\":{\"color\":\"#2a3f5f\"},\"hovermode\":\"closest\",\"hoverlabel\":{\"align\":\"left\"},\"paper_bgcolor\":\"white\",\"plot_bgcolor\":\"#E5ECF6\",\"polar\":{\"bgcolor\":\"#E5ECF6\",\"angularaxis\":{\"gridcolor\":\"white\",\"linecolor\":\"white\",\"ticks\":\"\"},\"radialaxis\":{\"gridcolor\":\"white\",\"linecolor\":\"white\",\"ticks\":\"\"}},\"ternary\":{\"bgcolor\":\"#E5ECF6\",\"aaxis\":{\"gridcolor\":\"white\",\"linecolor\":\"white\",\"ticks\":\"\"},\"baxis\":{\"gridcolor\":\"white\",\"linecolor\":\"white\",\"ticks\":\"\"},\"caxis\":{\"gridcolor\":\"white\",\"linecolor\":\"white\",\"ticks\":\"\"}},\"coloraxis\":{\"colorbar\":{\"outlinewidth\":0,\"ticks\":\"\"}},\"colorscale\":{\"sequential\":[[0.0,\"#0d0887\"],[0.1111111111111111,\"#46039f\"],[0.2222222222222222,\"#7201a8\"],[0.3333333333333333,\"#9c179e\"],[0.4444444444444444,\"#bd3786\"],[0.5555555555555556,\"#d8576b\"],[0.6666666666666666,\"#ed7953\"],[0.7777777777777778,\"#fb9f3a\"],[0.8888888888888888,\"#fdca26\"],[1.0,\"#f0f921\"]],\"sequentialminus\":[[0.0,\"#0d0887\"],[0.1111111111111111,\"#46039f\"],[0.2222222222222222,\"#7201a8\"],[0.3333333333333333,\"#9c179e\"],[0.4444444444444444,\"#bd3786\"],[0.5555555555555556,\"#d8576b\"],[0.6666666666666666,\"#ed7953\"],[0.7777777777777778,\"#fb9f3a\"],[0.8888888888888888,\"#fdca26\"],[1.0,\"#f0f921\"]],\"diverging\":[[0,\"#8e0152\"],[0.1,\"#c51b7d\"],[0.2,\"#de77ae\"],[0.3,\"#f1b6da\"],[0.4,\"#fde0ef\"],[0.5,\"#f7f7f7\"],[0.6,\"#e6f5d0\"],[0.7,\"#b8e186\"],[0.8,\"#7fbc41\"],[0.9,\"#4d9221\"],[1,\"#276419\"]]},\"xaxis\":{\"gridcolor\":\"white\",\"linecolor\":\"white\",\"ticks\":\"\",\"title\":{\"standoff\":15},\"zerolinecolor\":\"white\",\"automargin\":true,\"zerolinewidth\":2},\"yaxis\":{\"gridcolor\":\"white\",\"linecolor\":\"white\",\"ticks\":\"\",\"title\":{\"standoff\":15},\"zerolinecolor\":\"white\",\"automargin\":true,\"zerolinewidth\":2},\"scene\":{\"xaxis\":{\"backgroundcolor\":\"#E5ECF6\",\"gridcolor\":\"white\",\"linecolor\":\"white\",\"showbackground\":true,\"ticks\":\"\",\"zerolinecolor\":\"white\",\"gridwidth\":2},\"yaxis\":{\"backgroundcolor\":\"#E5ECF6\",\"gridcolor\":\"white\",\"linecolor\":\"white\",\"showbackground\":true,\"ticks\":\"\",\"zerolinecolor\":\"white\",\"gridwidth\":2},\"zaxis\":{\"backgroundcolor\":\"#E5ECF6\",\"gridcolor\":\"white\",\"linecolor\":\"white\",\"showbackground\":true,\"ticks\":\"\",\"zerolinecolor\":\"white\",\"gridwidth\":2}},\"shapedefaults\":{\"line\":{\"color\":\"#2a3f5f\"}},\"annotationdefaults\":{\"arrowcolor\":\"#2a3f5f\",\"arrowhead\":0,\"arrowwidth\":1},\"geo\":{\"bgcolor\":\"white\",\"landcolor\":\"#E5ECF6\",\"subunitcolor\":\"white\",\"showland\":true,\"showlakes\":true,\"lakecolor\":\"white\"},\"title\":{\"x\":0.05},\"mapbox\":{\"style\":\"light\"}}},\"title\":{\"text\":\"Kerogen Quality Plot\"},\"xaxis\":{\"title\":{\"text\":\"TOC\"}},\"yaxis\":{\"title\":{\"text\":\"S2\"}},\"legend\":{\"title\":{\"text\":\"Kerogen Quality Plot\"}}},                        {\"responsive\": true}                    ).then(function(){\n",
       "                            \n",
       "var gd = document.getElementById('7cecc201-29a7-4ab9-bac6-2739696e1720');\n",
       "var x = new MutationObserver(function (mutations, observer) {{\n",
       "        var display = window.getComputedStyle(gd).display;\n",
       "        if (!display || display === 'none') {{\n",
       "            console.log([gd, 'removed!']);\n",
       "            Plotly.purge(gd);\n",
       "            observer.disconnect();\n",
       "        }}\n",
       "}});\n",
       "\n",
       "// Listen for the removal of the full notebook cells\n",
       "var notebookContainer = gd.closest('#notebook-container');\n",
       "if (notebookContainer) {{\n",
       "    x.observe(notebookContainer, {childList: true});\n",
       "}}\n",
       "\n",
       "// Listen for the clearing of the current output cell\n",
       "var outputEl = gd.closest('.output');\n",
       "if (outputEl) {{\n",
       "    x.observe(outputEl, {childList: true});\n",
       "}}\n",
       "\n",
       "                        })                };                });            </script>        </div>"
      ]
     },
     "metadata": {},
     "output_type": "display_data"
    },
    {
     "data": {
      "application/vnd.plotly.v1+json": {
       "config": {
        "plotlyServerURL": "https://plot.ly"
       },
       "data": [
        {
         "hovertemplate": "<b>%{hovertext}</b><br><br>color=TYPE III<br>x=%{x}<br>y=%{y}<extra></extra>",
         "hovertext": [
          9161,
          9520,
          9716,
          9894,
          9966,
          10006,
          10044,
          10146,
          10176,
          10216,
          10291,
          10374,
          10405,
          10467,
          10519,
          10554,
          10576,
          10633
         ],
         "legendgroup": "TYPE III",
         "marker": {
          "color": "red",
          "symbol": "circle"
         },
         "mode": "markers",
         "name": "TYPE III",
         "orientation": "v",
         "showlegend": true,
         "type": "scatter",
         "x": [
          1.76,
          0.98,
          4.21,
          2.01,
          3.64,
          2.06,
          2.58,
          2.46,
          2.4,
          3.14,
          2.31,
          2.36,
          2.14,
          2.79,
          1.86,
          2.35,
          2.5,
          3.47
         ],
         "xaxis": "x",
         "y": [
          3.39,
          1.16,
          8.21,
          3.54,
          4.74,
          2.4,
          4.29,
          2.75,
          4.45,
          5.08,
          2.37,
          2.16,
          2.93,
          4.61,
          2.38,
          2.09,
          2.4,
          6.58
         ],
         "yaxis": "y"
        },
        {
         "hovertemplate": "<b>%{hovertext}</b><br><br>color=TYPE II / III<br>x=%{x}<br>y=%{y}<extra></extra>",
         "hovertext": [
          9297,
          9644,
          9825,
          9866,
          10718
         ],
         "legendgroup": "TYPE II / III",
         "marker": {
          "color": "orange",
          "symbol": "circle"
         },
         "mode": "markers",
         "name": "TYPE II / III",
         "orientation": "v",
         "showlegend": true,
         "type": "scatter",
         "x": [
          4.25,
          2.99,
          2.98,
          4.56,
          5.5
         ],
         "xaxis": "x",
         "y": [
          13.2,
          7.82,
          7.89,
          9.47,
          12.1
         ],
         "yaxis": "y"
        },
        {
         "hovertemplate": "<b>%{hovertext}</b><br><br>color=TYPE IV<br>x=%{x}<br>y=%{y}<extra></extra>",
         "hovertext": [
          10687
         ],
         "legendgroup": "TYPE IV",
         "marker": {
          "color": "#19d3f3",
          "symbol": "circle"
         },
         "mode": "markers",
         "name": "TYPE IV",
         "orientation": "v",
         "showlegend": true,
         "type": "scatter",
         "x": [
          0.85
         ],
         "xaxis": "x",
         "y": [
          0.28
         ],
         "yaxis": "y"
        },
        {
         "hovertemplate": "x=%{x}<br>y=%{y}<extra></extra>",
         "legendgroup": "",
         "line": {
          "color": "#636efa",
          "dash": "solid"
         },
         "marker": {
          "symbol": "circle"
         },
         "mode": "lines",
         "name": "",
         "orientation": "v",
         "showlegend": false,
         "type": "scatter",
         "x": [
          0,
          8.53692,
          null,
          null
         ],
         "xaxis": "x",
         "y": [
          0,
          60,
          null,
          null
         ],
         "yaxis": "y"
        },
        {
         "hovertemplate": "x=%{x}<br>y=%{y}<extra></extra>",
         "legendgroup": "",
         "line": {
          "color": "#636efa",
          "dash": "solid"
         },
         "marker": {
          "symbol": "circle"
         },
         "mode": "lines",
         "name": "",
         "orientation": "v",
         "showlegend": false,
         "type": "scatter",
         "x": [
          0,
          16,
          null,
          null
         ],
         "xaxis": "x",
         "y": [
          0,
          56.05232,
          null,
          null
         ],
         "yaxis": "y"
        },
        {
         "hovertemplate": "x=%{x}<br>y=%{y}<extra></extra>",
         "legendgroup": "",
         "line": {
          "color": "#636efa",
          "dash": "solid"
         },
         "marker": {
          "symbol": "circle"
         },
         "mode": "lines",
         "name": "",
         "orientation": "v",
         "showlegend": false,
         "type": "scatter",
         "x": [
          0,
          16,
          null,
          null
         ],
         "xaxis": "x",
         "y": [
          0,
          31.91188,
          null,
          null
         ],
         "yaxis": "y"
        },
        {
         "hovertemplate": "x=%{x}<br>y=%{y}<extra></extra>",
         "legendgroup": "",
         "line": {
          "color": "#636efa",
          "dash": "solid"
         },
         "marker": {
          "symbol": "circle"
         },
         "mode": "lines",
         "name": "",
         "orientation": "v",
         "showlegend": false,
         "type": "scatter",
         "x": [
          0,
          16,
          null,
          null
         ],
         "xaxis": "x",
         "y": [
          0,
          7.89798,
          null,
          null
         ],
         "yaxis": "y"
        }
       ],
       "layout": {
        "legend": {
         "title": {
          "text": "Kerogen Quality Plot"
         }
        },
        "template": {
         "data": {
          "bar": [
           {
            "error_x": {
             "color": "#2a3f5f"
            },
            "error_y": {
             "color": "#2a3f5f"
            },
            "marker": {
             "line": {
              "color": "#E5ECF6",
              "width": 0.5
             },
             "pattern": {
              "fillmode": "overlay",
              "size": 10,
              "solidity": 0.2
             }
            },
            "type": "bar"
           }
          ],
          "barpolar": [
           {
            "marker": {
             "line": {
              "color": "#E5ECF6",
              "width": 0.5
             },
             "pattern": {
              "fillmode": "overlay",
              "size": 10,
              "solidity": 0.2
             }
            },
            "type": "barpolar"
           }
          ],
          "carpet": [
           {
            "aaxis": {
             "endlinecolor": "#2a3f5f",
             "gridcolor": "white",
             "linecolor": "white",
             "minorgridcolor": "white",
             "startlinecolor": "#2a3f5f"
            },
            "baxis": {
             "endlinecolor": "#2a3f5f",
             "gridcolor": "white",
             "linecolor": "white",
             "minorgridcolor": "white",
             "startlinecolor": "#2a3f5f"
            },
            "type": "carpet"
           }
          ],
          "choropleth": [
           {
            "colorbar": {
             "outlinewidth": 0,
             "ticks": ""
            },
            "type": "choropleth"
           }
          ],
          "contour": [
           {
            "colorbar": {
             "outlinewidth": 0,
             "ticks": ""
            },
            "colorscale": [
             [
              0,
              "#0d0887"
             ],
             [
              0.1111111111111111,
              "#46039f"
             ],
             [
              0.2222222222222222,
              "#7201a8"
             ],
             [
              0.3333333333333333,
              "#9c179e"
             ],
             [
              0.4444444444444444,
              "#bd3786"
             ],
             [
              0.5555555555555556,
              "#d8576b"
             ],
             [
              0.6666666666666666,
              "#ed7953"
             ],
             [
              0.7777777777777778,
              "#fb9f3a"
             ],
             [
              0.8888888888888888,
              "#fdca26"
             ],
             [
              1,
              "#f0f921"
             ]
            ],
            "type": "contour"
           }
          ],
          "contourcarpet": [
           {
            "colorbar": {
             "outlinewidth": 0,
             "ticks": ""
            },
            "type": "contourcarpet"
           }
          ],
          "heatmap": [
           {
            "colorbar": {
             "outlinewidth": 0,
             "ticks": ""
            },
            "colorscale": [
             [
              0,
              "#0d0887"
             ],
             [
              0.1111111111111111,
              "#46039f"
             ],
             [
              0.2222222222222222,
              "#7201a8"
             ],
             [
              0.3333333333333333,
              "#9c179e"
             ],
             [
              0.4444444444444444,
              "#bd3786"
             ],
             [
              0.5555555555555556,
              "#d8576b"
             ],
             [
              0.6666666666666666,
              "#ed7953"
             ],
             [
              0.7777777777777778,
              "#fb9f3a"
             ],
             [
              0.8888888888888888,
              "#fdca26"
             ],
             [
              1,
              "#f0f921"
             ]
            ],
            "type": "heatmap"
           }
          ],
          "heatmapgl": [
           {
            "colorbar": {
             "outlinewidth": 0,
             "ticks": ""
            },
            "colorscale": [
             [
              0,
              "#0d0887"
             ],
             [
              0.1111111111111111,
              "#46039f"
             ],
             [
              0.2222222222222222,
              "#7201a8"
             ],
             [
              0.3333333333333333,
              "#9c179e"
             ],
             [
              0.4444444444444444,
              "#bd3786"
             ],
             [
              0.5555555555555556,
              "#d8576b"
             ],
             [
              0.6666666666666666,
              "#ed7953"
             ],
             [
              0.7777777777777778,
              "#fb9f3a"
             ],
             [
              0.8888888888888888,
              "#fdca26"
             ],
             [
              1,
              "#f0f921"
             ]
            ],
            "type": "heatmapgl"
           }
          ],
          "histogram": [
           {
            "marker": {
             "pattern": {
              "fillmode": "overlay",
              "size": 10,
              "solidity": 0.2
             }
            },
            "type": "histogram"
           }
          ],
          "histogram2d": [
           {
            "colorbar": {
             "outlinewidth": 0,
             "ticks": ""
            },
            "colorscale": [
             [
              0,
              "#0d0887"
             ],
             [
              0.1111111111111111,
              "#46039f"
             ],
             [
              0.2222222222222222,
              "#7201a8"
             ],
             [
              0.3333333333333333,
              "#9c179e"
             ],
             [
              0.4444444444444444,
              "#bd3786"
             ],
             [
              0.5555555555555556,
              "#d8576b"
             ],
             [
              0.6666666666666666,
              "#ed7953"
             ],
             [
              0.7777777777777778,
              "#fb9f3a"
             ],
             [
              0.8888888888888888,
              "#fdca26"
             ],
             [
              1,
              "#f0f921"
             ]
            ],
            "type": "histogram2d"
           }
          ],
          "histogram2dcontour": [
           {
            "colorbar": {
             "outlinewidth": 0,
             "ticks": ""
            },
            "colorscale": [
             [
              0,
              "#0d0887"
             ],
             [
              0.1111111111111111,
              "#46039f"
             ],
             [
              0.2222222222222222,
              "#7201a8"
             ],
             [
              0.3333333333333333,
              "#9c179e"
             ],
             [
              0.4444444444444444,
              "#bd3786"
             ],
             [
              0.5555555555555556,
              "#d8576b"
             ],
             [
              0.6666666666666666,
              "#ed7953"
             ],
             [
              0.7777777777777778,
              "#fb9f3a"
             ],
             [
              0.8888888888888888,
              "#fdca26"
             ],
             [
              1,
              "#f0f921"
             ]
            ],
            "type": "histogram2dcontour"
           }
          ],
          "mesh3d": [
           {
            "colorbar": {
             "outlinewidth": 0,
             "ticks": ""
            },
            "type": "mesh3d"
           }
          ],
          "parcoords": [
           {
            "line": {
             "colorbar": {
              "outlinewidth": 0,
              "ticks": ""
             }
            },
            "type": "parcoords"
           }
          ],
          "pie": [
           {
            "automargin": true,
            "type": "pie"
           }
          ],
          "scatter": [
           {
            "fillpattern": {
             "fillmode": "overlay",
             "size": 10,
             "solidity": 0.2
            },
            "type": "scatter"
           }
          ],
          "scatter3d": [
           {
            "line": {
             "colorbar": {
              "outlinewidth": 0,
              "ticks": ""
             }
            },
            "marker": {
             "colorbar": {
              "outlinewidth": 0,
              "ticks": ""
             }
            },
            "type": "scatter3d"
           }
          ],
          "scattercarpet": [
           {
            "marker": {
             "colorbar": {
              "outlinewidth": 0,
              "ticks": ""
             }
            },
            "type": "scattercarpet"
           }
          ],
          "scattergeo": [
           {
            "marker": {
             "colorbar": {
              "outlinewidth": 0,
              "ticks": ""
             }
            },
            "type": "scattergeo"
           }
          ],
          "scattergl": [
           {
            "marker": {
             "colorbar": {
              "outlinewidth": 0,
              "ticks": ""
             }
            },
            "type": "scattergl"
           }
          ],
          "scattermapbox": [
           {
            "marker": {
             "colorbar": {
              "outlinewidth": 0,
              "ticks": ""
             }
            },
            "type": "scattermapbox"
           }
          ],
          "scatterpolar": [
           {
            "marker": {
             "colorbar": {
              "outlinewidth": 0,
              "ticks": ""
             }
            },
            "type": "scatterpolar"
           }
          ],
          "scatterpolargl": [
           {
            "marker": {
             "colorbar": {
              "outlinewidth": 0,
              "ticks": ""
             }
            },
            "type": "scatterpolargl"
           }
          ],
          "scatterternary": [
           {
            "marker": {
             "colorbar": {
              "outlinewidth": 0,
              "ticks": ""
             }
            },
            "type": "scatterternary"
           }
          ],
          "surface": [
           {
            "colorbar": {
             "outlinewidth": 0,
             "ticks": ""
            },
            "colorscale": [
             [
              0,
              "#0d0887"
             ],
             [
              0.1111111111111111,
              "#46039f"
             ],
             [
              0.2222222222222222,
              "#7201a8"
             ],
             [
              0.3333333333333333,
              "#9c179e"
             ],
             [
              0.4444444444444444,
              "#bd3786"
             ],
             [
              0.5555555555555556,
              "#d8576b"
             ],
             [
              0.6666666666666666,
              "#ed7953"
             ],
             [
              0.7777777777777778,
              "#fb9f3a"
             ],
             [
              0.8888888888888888,
              "#fdca26"
             ],
             [
              1,
              "#f0f921"
             ]
            ],
            "type": "surface"
           }
          ],
          "table": [
           {
            "cells": {
             "fill": {
              "color": "#EBF0F8"
             },
             "line": {
              "color": "white"
             }
            },
            "header": {
             "fill": {
              "color": "#C8D4E3"
             },
             "line": {
              "color": "white"
             }
            },
            "type": "table"
           }
          ]
         },
         "layout": {
          "annotationdefaults": {
           "arrowcolor": "#2a3f5f",
           "arrowhead": 0,
           "arrowwidth": 1
          },
          "autotypenumbers": "strict",
          "coloraxis": {
           "colorbar": {
            "outlinewidth": 0,
            "ticks": ""
           }
          },
          "colorscale": {
           "diverging": [
            [
             0,
             "#8e0152"
            ],
            [
             0.1,
             "#c51b7d"
            ],
            [
             0.2,
             "#de77ae"
            ],
            [
             0.3,
             "#f1b6da"
            ],
            [
             0.4,
             "#fde0ef"
            ],
            [
             0.5,
             "#f7f7f7"
            ],
            [
             0.6,
             "#e6f5d0"
            ],
            [
             0.7,
             "#b8e186"
            ],
            [
             0.8,
             "#7fbc41"
            ],
            [
             0.9,
             "#4d9221"
            ],
            [
             1,
             "#276419"
            ]
           ],
           "sequential": [
            [
             0,
             "#0d0887"
            ],
            [
             0.1111111111111111,
             "#46039f"
            ],
            [
             0.2222222222222222,
             "#7201a8"
            ],
            [
             0.3333333333333333,
             "#9c179e"
            ],
            [
             0.4444444444444444,
             "#bd3786"
            ],
            [
             0.5555555555555556,
             "#d8576b"
            ],
            [
             0.6666666666666666,
             "#ed7953"
            ],
            [
             0.7777777777777778,
             "#fb9f3a"
            ],
            [
             0.8888888888888888,
             "#fdca26"
            ],
            [
             1,
             "#f0f921"
            ]
           ],
           "sequentialminus": [
            [
             0,
             "#0d0887"
            ],
            [
             0.1111111111111111,
             "#46039f"
            ],
            [
             0.2222222222222222,
             "#7201a8"
            ],
            [
             0.3333333333333333,
             "#9c179e"
            ],
            [
             0.4444444444444444,
             "#bd3786"
            ],
            [
             0.5555555555555556,
             "#d8576b"
            ],
            [
             0.6666666666666666,
             "#ed7953"
            ],
            [
             0.7777777777777778,
             "#fb9f3a"
            ],
            [
             0.8888888888888888,
             "#fdca26"
            ],
            [
             1,
             "#f0f921"
            ]
           ]
          },
          "colorway": [
           "#636efa",
           "#EF553B",
           "#00cc96",
           "#ab63fa",
           "#FFA15A",
           "#19d3f3",
           "#FF6692",
           "#B6E880",
           "#FF97FF",
           "#FECB52"
          ],
          "font": {
           "color": "#2a3f5f"
          },
          "geo": {
           "bgcolor": "white",
           "lakecolor": "white",
           "landcolor": "#E5ECF6",
           "showlakes": true,
           "showland": true,
           "subunitcolor": "white"
          },
          "hoverlabel": {
           "align": "left"
          },
          "hovermode": "closest",
          "mapbox": {
           "style": "light"
          },
          "paper_bgcolor": "white",
          "plot_bgcolor": "#E5ECF6",
          "polar": {
           "angularaxis": {
            "gridcolor": "white",
            "linecolor": "white",
            "ticks": ""
           },
           "bgcolor": "#E5ECF6",
           "radialaxis": {
            "gridcolor": "white",
            "linecolor": "white",
            "ticks": ""
           }
          },
          "scene": {
           "xaxis": {
            "backgroundcolor": "#E5ECF6",
            "gridcolor": "white",
            "gridwidth": 2,
            "linecolor": "white",
            "showbackground": true,
            "ticks": "",
            "zerolinecolor": "white"
           },
           "yaxis": {
            "backgroundcolor": "#E5ECF6",
            "gridcolor": "white",
            "gridwidth": 2,
            "linecolor": "white",
            "showbackground": true,
            "ticks": "",
            "zerolinecolor": "white"
           },
           "zaxis": {
            "backgroundcolor": "#E5ECF6",
            "gridcolor": "white",
            "gridwidth": 2,
            "linecolor": "white",
            "showbackground": true,
            "ticks": "",
            "zerolinecolor": "white"
           }
          },
          "shapedefaults": {
           "line": {
            "color": "#2a3f5f"
           }
          },
          "ternary": {
           "aaxis": {
            "gridcolor": "white",
            "linecolor": "white",
            "ticks": ""
           },
           "baxis": {
            "gridcolor": "white",
            "linecolor": "white",
            "ticks": ""
           },
           "bgcolor": "#E5ECF6",
           "caxis": {
            "gridcolor": "white",
            "linecolor": "white",
            "ticks": ""
           }
          },
          "title": {
           "x": 0.05
          },
          "xaxis": {
           "automargin": true,
           "gridcolor": "white",
           "linecolor": "white",
           "ticks": "",
           "title": {
            "standoff": 15
           },
           "zerolinecolor": "white",
           "zerolinewidth": 2
          },
          "yaxis": {
           "automargin": true,
           "gridcolor": "white",
           "linecolor": "white",
           "ticks": "",
           "title": {
            "standoff": 15
           },
           "zerolinecolor": "white",
           "zerolinewidth": 2
          }
         }
        },
        "title": {
         "text": "Kerogen Quality Plot"
        },
        "xaxis": {
         "title": {
          "text": "TOC"
         }
        },
        "yaxis": {
         "title": {
          "text": "S2"
         }
        }
       }
      },
      "text/html": [
       "<div>                            <div id=\"e3ddaeec-c907-4a40-99ee-9d11b9d02243\" class=\"plotly-graph-div\" style=\"height:525px; width:100%;\"></div>            <script type=\"text/javascript\">                require([\"plotly\"], function(Plotly) {                    window.PLOTLYENV=window.PLOTLYENV || {};                                    if (document.getElementById(\"e3ddaeec-c907-4a40-99ee-9d11b9d02243\")) {                    Plotly.newPlot(                        \"e3ddaeec-c907-4a40-99ee-9d11b9d02243\",                        [{\"hovertemplate\":\"<b>%{hovertext}</b><br><br>color=TYPE III<br>x=%{x}<br>y=%{y}<extra></extra>\",\"hovertext\":[9161.0,9520.0,9716.0,9894.0,9966.0,10006.0,10044.0,10146.0,10176.0,10216.0,10291.0,10374.0,10405.0,10467.0,10519.0,10554.0,10576.0,10633.0],\"legendgroup\":\"TYPE III\",\"marker\":{\"color\":\"red\",\"symbol\":\"circle\"},\"mode\":\"markers\",\"name\":\"TYPE III\",\"orientation\":\"v\",\"showlegend\":true,\"x\":[1.76,0.98,4.21,2.01,3.64,2.06,2.58,2.46,2.4,3.14,2.31,2.36,2.14,2.79,1.86,2.35,2.5,3.47],\"xaxis\":\"x\",\"y\":[3.39,1.16,8.21,3.54,4.74,2.4,4.29,2.75,4.45,5.08,2.37,2.16,2.93,4.61,2.38,2.09,2.4,6.58],\"yaxis\":\"y\",\"type\":\"scatter\"},{\"hovertemplate\":\"<b>%{hovertext}</b><br><br>color=TYPE II / III<br>x=%{x}<br>y=%{y}<extra></extra>\",\"hovertext\":[9297.0,9644.0,9825.0,9866.0,10718.0],\"legendgroup\":\"TYPE II / III\",\"marker\":{\"color\":\"orange\",\"symbol\":\"circle\"},\"mode\":\"markers\",\"name\":\"TYPE II / III\",\"orientation\":\"v\",\"showlegend\":true,\"x\":[4.25,2.99,2.98,4.56,5.5],\"xaxis\":\"x\",\"y\":[13.2,7.82,7.89,9.47,12.1],\"yaxis\":\"y\",\"type\":\"scatter\"},{\"hovertemplate\":\"<b>%{hovertext}</b><br><br>color=TYPE IV<br>x=%{x}<br>y=%{y}<extra></extra>\",\"hovertext\":[10687.0],\"legendgroup\":\"TYPE IV\",\"marker\":{\"color\":\"#19d3f3\",\"symbol\":\"circle\"},\"mode\":\"markers\",\"name\":\"TYPE IV\",\"orientation\":\"v\",\"showlegend\":true,\"x\":[0.85],\"xaxis\":\"x\",\"y\":[0.28],\"yaxis\":\"y\",\"type\":\"scatter\"},{\"hovertemplate\":\"x=%{x}<br>y=%{y}<extra></extra>\",\"legendgroup\":\"\",\"line\":{\"color\":\"#636efa\",\"dash\":\"solid\"},\"marker\":{\"symbol\":\"circle\"},\"mode\":\"lines\",\"name\":\"\",\"orientation\":\"v\",\"showlegend\":false,\"x\":[0.0,8.53692,null,null],\"xaxis\":\"x\",\"y\":[0.0,60.0,null,null],\"yaxis\":\"y\",\"type\":\"scatter\"},{\"hovertemplate\":\"x=%{x}<br>y=%{y}<extra></extra>\",\"legendgroup\":\"\",\"line\":{\"color\":\"#636efa\",\"dash\":\"solid\"},\"marker\":{\"symbol\":\"circle\"},\"mode\":\"lines\",\"name\":\"\",\"orientation\":\"v\",\"showlegend\":false,\"x\":[0.0,16.0,null,null],\"xaxis\":\"x\",\"y\":[0.0,56.05232,null,null],\"yaxis\":\"y\",\"type\":\"scatter\"},{\"hovertemplate\":\"x=%{x}<br>y=%{y}<extra></extra>\",\"legendgroup\":\"\",\"line\":{\"color\":\"#636efa\",\"dash\":\"solid\"},\"marker\":{\"symbol\":\"circle\"},\"mode\":\"lines\",\"name\":\"\",\"orientation\":\"v\",\"showlegend\":false,\"x\":[0.0,16.0,null,null],\"xaxis\":\"x\",\"y\":[0.0,31.91188,null,null],\"yaxis\":\"y\",\"type\":\"scatter\"},{\"hovertemplate\":\"x=%{x}<br>y=%{y}<extra></extra>\",\"legendgroup\":\"\",\"line\":{\"color\":\"#636efa\",\"dash\":\"solid\"},\"marker\":{\"symbol\":\"circle\"},\"mode\":\"lines\",\"name\":\"\",\"orientation\":\"v\",\"showlegend\":false,\"x\":[0.0,16.0,null,null],\"xaxis\":\"x\",\"y\":[0.0,7.89798,null,null],\"yaxis\":\"y\",\"type\":\"scatter\"}],                        {\"template\":{\"data\":{\"histogram2dcontour\":[{\"type\":\"histogram2dcontour\",\"colorbar\":{\"outlinewidth\":0,\"ticks\":\"\"},\"colorscale\":[[0.0,\"#0d0887\"],[0.1111111111111111,\"#46039f\"],[0.2222222222222222,\"#7201a8\"],[0.3333333333333333,\"#9c179e\"],[0.4444444444444444,\"#bd3786\"],[0.5555555555555556,\"#d8576b\"],[0.6666666666666666,\"#ed7953\"],[0.7777777777777778,\"#fb9f3a\"],[0.8888888888888888,\"#fdca26\"],[1.0,\"#f0f921\"]]}],\"choropleth\":[{\"type\":\"choropleth\",\"colorbar\":{\"outlinewidth\":0,\"ticks\":\"\"}}],\"histogram2d\":[{\"type\":\"histogram2d\",\"colorbar\":{\"outlinewidth\":0,\"ticks\":\"\"},\"colorscale\":[[0.0,\"#0d0887\"],[0.1111111111111111,\"#46039f\"],[0.2222222222222222,\"#7201a8\"],[0.3333333333333333,\"#9c179e\"],[0.4444444444444444,\"#bd3786\"],[0.5555555555555556,\"#d8576b\"],[0.6666666666666666,\"#ed7953\"],[0.7777777777777778,\"#fb9f3a\"],[0.8888888888888888,\"#fdca26\"],[1.0,\"#f0f921\"]]}],\"heatmap\":[{\"type\":\"heatmap\",\"colorbar\":{\"outlinewidth\":0,\"ticks\":\"\"},\"colorscale\":[[0.0,\"#0d0887\"],[0.1111111111111111,\"#46039f\"],[0.2222222222222222,\"#7201a8\"],[0.3333333333333333,\"#9c179e\"],[0.4444444444444444,\"#bd3786\"],[0.5555555555555556,\"#d8576b\"],[0.6666666666666666,\"#ed7953\"],[0.7777777777777778,\"#fb9f3a\"],[0.8888888888888888,\"#fdca26\"],[1.0,\"#f0f921\"]]}],\"heatmapgl\":[{\"type\":\"heatmapgl\",\"colorbar\":{\"outlinewidth\":0,\"ticks\":\"\"},\"colorscale\":[[0.0,\"#0d0887\"],[0.1111111111111111,\"#46039f\"],[0.2222222222222222,\"#7201a8\"],[0.3333333333333333,\"#9c179e\"],[0.4444444444444444,\"#bd3786\"],[0.5555555555555556,\"#d8576b\"],[0.6666666666666666,\"#ed7953\"],[0.7777777777777778,\"#fb9f3a\"],[0.8888888888888888,\"#fdca26\"],[1.0,\"#f0f921\"]]}],\"contourcarpet\":[{\"type\":\"contourcarpet\",\"colorbar\":{\"outlinewidth\":0,\"ticks\":\"\"}}],\"contour\":[{\"type\":\"contour\",\"colorbar\":{\"outlinewidth\":0,\"ticks\":\"\"},\"colorscale\":[[0.0,\"#0d0887\"],[0.1111111111111111,\"#46039f\"],[0.2222222222222222,\"#7201a8\"],[0.3333333333333333,\"#9c179e\"],[0.4444444444444444,\"#bd3786\"],[0.5555555555555556,\"#d8576b\"],[0.6666666666666666,\"#ed7953\"],[0.7777777777777778,\"#fb9f3a\"],[0.8888888888888888,\"#fdca26\"],[1.0,\"#f0f921\"]]}],\"surface\":[{\"type\":\"surface\",\"colorbar\":{\"outlinewidth\":0,\"ticks\":\"\"},\"colorscale\":[[0.0,\"#0d0887\"],[0.1111111111111111,\"#46039f\"],[0.2222222222222222,\"#7201a8\"],[0.3333333333333333,\"#9c179e\"],[0.4444444444444444,\"#bd3786\"],[0.5555555555555556,\"#d8576b\"],[0.6666666666666666,\"#ed7953\"],[0.7777777777777778,\"#fb9f3a\"],[0.8888888888888888,\"#fdca26\"],[1.0,\"#f0f921\"]]}],\"mesh3d\":[{\"type\":\"mesh3d\",\"colorbar\":{\"outlinewidth\":0,\"ticks\":\"\"}}],\"scatter\":[{\"fillpattern\":{\"fillmode\":\"overlay\",\"size\":10,\"solidity\":0.2},\"type\":\"scatter\"}],\"parcoords\":[{\"type\":\"parcoords\",\"line\":{\"colorbar\":{\"outlinewidth\":0,\"ticks\":\"\"}}}],\"scatterpolargl\":[{\"type\":\"scatterpolargl\",\"marker\":{\"colorbar\":{\"outlinewidth\":0,\"ticks\":\"\"}}}],\"bar\":[{\"error_x\":{\"color\":\"#2a3f5f\"},\"error_y\":{\"color\":\"#2a3f5f\"},\"marker\":{\"line\":{\"color\":\"#E5ECF6\",\"width\":0.5},\"pattern\":{\"fillmode\":\"overlay\",\"size\":10,\"solidity\":0.2}},\"type\":\"bar\"}],\"scattergeo\":[{\"type\":\"scattergeo\",\"marker\":{\"colorbar\":{\"outlinewidth\":0,\"ticks\":\"\"}}}],\"scatterpolar\":[{\"type\":\"scatterpolar\",\"marker\":{\"colorbar\":{\"outlinewidth\":0,\"ticks\":\"\"}}}],\"histogram\":[{\"marker\":{\"pattern\":{\"fillmode\":\"overlay\",\"size\":10,\"solidity\":0.2}},\"type\":\"histogram\"}],\"scattergl\":[{\"type\":\"scattergl\",\"marker\":{\"colorbar\":{\"outlinewidth\":0,\"ticks\":\"\"}}}],\"scatter3d\":[{\"type\":\"scatter3d\",\"line\":{\"colorbar\":{\"outlinewidth\":0,\"ticks\":\"\"}},\"marker\":{\"colorbar\":{\"outlinewidth\":0,\"ticks\":\"\"}}}],\"scattermapbox\":[{\"type\":\"scattermapbox\",\"marker\":{\"colorbar\":{\"outlinewidth\":0,\"ticks\":\"\"}}}],\"scatterternary\":[{\"type\":\"scatterternary\",\"marker\":{\"colorbar\":{\"outlinewidth\":0,\"ticks\":\"\"}}}],\"scattercarpet\":[{\"type\":\"scattercarpet\",\"marker\":{\"colorbar\":{\"outlinewidth\":0,\"ticks\":\"\"}}}],\"carpet\":[{\"aaxis\":{\"endlinecolor\":\"#2a3f5f\",\"gridcolor\":\"white\",\"linecolor\":\"white\",\"minorgridcolor\":\"white\",\"startlinecolor\":\"#2a3f5f\"},\"baxis\":{\"endlinecolor\":\"#2a3f5f\",\"gridcolor\":\"white\",\"linecolor\":\"white\",\"minorgridcolor\":\"white\",\"startlinecolor\":\"#2a3f5f\"},\"type\":\"carpet\"}],\"table\":[{\"cells\":{\"fill\":{\"color\":\"#EBF0F8\"},\"line\":{\"color\":\"white\"}},\"header\":{\"fill\":{\"color\":\"#C8D4E3\"},\"line\":{\"color\":\"white\"}},\"type\":\"table\"}],\"barpolar\":[{\"marker\":{\"line\":{\"color\":\"#E5ECF6\",\"width\":0.5},\"pattern\":{\"fillmode\":\"overlay\",\"size\":10,\"solidity\":0.2}},\"type\":\"barpolar\"}],\"pie\":[{\"automargin\":true,\"type\":\"pie\"}]},\"layout\":{\"autotypenumbers\":\"strict\",\"colorway\":[\"#636efa\",\"#EF553B\",\"#00cc96\",\"#ab63fa\",\"#FFA15A\",\"#19d3f3\",\"#FF6692\",\"#B6E880\",\"#FF97FF\",\"#FECB52\"],\"font\":{\"color\":\"#2a3f5f\"},\"hovermode\":\"closest\",\"hoverlabel\":{\"align\":\"left\"},\"paper_bgcolor\":\"white\",\"plot_bgcolor\":\"#E5ECF6\",\"polar\":{\"bgcolor\":\"#E5ECF6\",\"angularaxis\":{\"gridcolor\":\"white\",\"linecolor\":\"white\",\"ticks\":\"\"},\"radialaxis\":{\"gridcolor\":\"white\",\"linecolor\":\"white\",\"ticks\":\"\"}},\"ternary\":{\"bgcolor\":\"#E5ECF6\",\"aaxis\":{\"gridcolor\":\"white\",\"linecolor\":\"white\",\"ticks\":\"\"},\"baxis\":{\"gridcolor\":\"white\",\"linecolor\":\"white\",\"ticks\":\"\"},\"caxis\":{\"gridcolor\":\"white\",\"linecolor\":\"white\",\"ticks\":\"\"}},\"coloraxis\":{\"colorbar\":{\"outlinewidth\":0,\"ticks\":\"\"}},\"colorscale\":{\"sequential\":[[0.0,\"#0d0887\"],[0.1111111111111111,\"#46039f\"],[0.2222222222222222,\"#7201a8\"],[0.3333333333333333,\"#9c179e\"],[0.4444444444444444,\"#bd3786\"],[0.5555555555555556,\"#d8576b\"],[0.6666666666666666,\"#ed7953\"],[0.7777777777777778,\"#fb9f3a\"],[0.8888888888888888,\"#fdca26\"],[1.0,\"#f0f921\"]],\"sequentialminus\":[[0.0,\"#0d0887\"],[0.1111111111111111,\"#46039f\"],[0.2222222222222222,\"#7201a8\"],[0.3333333333333333,\"#9c179e\"],[0.4444444444444444,\"#bd3786\"],[0.5555555555555556,\"#d8576b\"],[0.6666666666666666,\"#ed7953\"],[0.7777777777777778,\"#fb9f3a\"],[0.8888888888888888,\"#fdca26\"],[1.0,\"#f0f921\"]],\"diverging\":[[0,\"#8e0152\"],[0.1,\"#c51b7d\"],[0.2,\"#de77ae\"],[0.3,\"#f1b6da\"],[0.4,\"#fde0ef\"],[0.5,\"#f7f7f7\"],[0.6,\"#e6f5d0\"],[0.7,\"#b8e186\"],[0.8,\"#7fbc41\"],[0.9,\"#4d9221\"],[1,\"#276419\"]]},\"xaxis\":{\"gridcolor\":\"white\",\"linecolor\":\"white\",\"ticks\":\"\",\"title\":{\"standoff\":15},\"zerolinecolor\":\"white\",\"automargin\":true,\"zerolinewidth\":2},\"yaxis\":{\"gridcolor\":\"white\",\"linecolor\":\"white\",\"ticks\":\"\",\"title\":{\"standoff\":15},\"zerolinecolor\":\"white\",\"automargin\":true,\"zerolinewidth\":2},\"scene\":{\"xaxis\":{\"backgroundcolor\":\"#E5ECF6\",\"gridcolor\":\"white\",\"linecolor\":\"white\",\"showbackground\":true,\"ticks\":\"\",\"zerolinecolor\":\"white\",\"gridwidth\":2},\"yaxis\":{\"backgroundcolor\":\"#E5ECF6\",\"gridcolor\":\"white\",\"linecolor\":\"white\",\"showbackground\":true,\"ticks\":\"\",\"zerolinecolor\":\"white\",\"gridwidth\":2},\"zaxis\":{\"backgroundcolor\":\"#E5ECF6\",\"gridcolor\":\"white\",\"linecolor\":\"white\",\"showbackground\":true,\"ticks\":\"\",\"zerolinecolor\":\"white\",\"gridwidth\":2}},\"shapedefaults\":{\"line\":{\"color\":\"#2a3f5f\"}},\"annotationdefaults\":{\"arrowcolor\":\"#2a3f5f\",\"arrowhead\":0,\"arrowwidth\":1},\"geo\":{\"bgcolor\":\"white\",\"landcolor\":\"#E5ECF6\",\"subunitcolor\":\"white\",\"showland\":true,\"showlakes\":true,\"lakecolor\":\"white\"},\"title\":{\"x\":0.05},\"mapbox\":{\"style\":\"light\"}}},\"title\":{\"text\":\"Kerogen Quality Plot\"},\"xaxis\":{\"title\":{\"text\":\"TOC\"}},\"yaxis\":{\"title\":{\"text\":\"S2\"}},\"legend\":{\"title\":{\"text\":\"Kerogen Quality Plot\"}}},                        {\"responsive\": true}                    ).then(function(){\n",
       "                            \n",
       "var gd = document.getElementById('e3ddaeec-c907-4a40-99ee-9d11b9d02243');\n",
       "var x = new MutationObserver(function (mutations, observer) {{\n",
       "        var display = window.getComputedStyle(gd).display;\n",
       "        if (!display || display === 'none') {{\n",
       "            console.log([gd, 'removed!']);\n",
       "            Plotly.purge(gd);\n",
       "            observer.disconnect();\n",
       "        }}\n",
       "}});\n",
       "\n",
       "// Listen for the removal of the full notebook cells\n",
       "var notebookContainer = gd.closest('#notebook-container');\n",
       "if (notebookContainer) {{\n",
       "    x.observe(notebookContainer, {childList: true});\n",
       "}}\n",
       "\n",
       "// Listen for the clearing of the current output cell\n",
       "var outputEl = gd.closest('.output');\n",
       "if (outputEl) {{\n",
       "    x.observe(outputEl, {childList: true});\n",
       "}}\n",
       "\n",
       "                        })                };                });            </script>        </div>"
      ]
     },
     "metadata": {},
     "output_type": "display_data"
    }
   ],
   "source": [
    "\n",
    "def kerogen_quality_plot(FEE_AL_910, KEROGEN_QUALITY_I, KEROGEN_QUALITY_II, KEROGEN_QUALITY_II_III, KEROGEN_QUALITY_III ,KEROGEN_QUALITY_IP, KEROGEN_QUALITY_IIP, KEROGEN_QUALITY_II_IIIP, KEROGEN_QUALITY_IIIP):\n",
    "    \n",
    "    kerogen_quality(FEE_AL_910, KEROGEN_QUALITY_I, KEROGEN_QUALITY_II, KEROGEN_QUALITY_II_III, KEROGEN_QUALITY_III )\n",
    "\n",
    "    import plotly.express as px\n",
    "    import plotly.graph_objects as go\n",
    "    \n",
    "    \n",
    "    ###########\n",
    "    \n",
    "    fig1 = px.scatter(x=FEE_AL_910['TOC'], y=FEE_AL_910['S2 mg/g'], hover_name = FEE_AL_910[\"Depth\"]   )\n",
    "    \n",
    "    fig2 = px.line(x=KEROGEN_QUALITY_IP['x1'], y=KEROGEN_QUALITY_IP['y1'])\n",
    "    fig3 = px.line(x=KEROGEN_QUALITY_IP['x2'], y=KEROGEN_QUALITY_IP['y2'])\n",
    "    fig4 = px.line(x=KEROGEN_QUALITY_IP['x3'], y=KEROGEN_QUALITY_IP['y3'])\n",
    "    fig5 = px.line(x=KEROGEN_QUALITY_IP['x4'], y=KEROGEN_QUALITY_IP['y4'])\n",
    "\n",
    "    fig6 = go.Figure(data=fig1.data + fig2.data + fig3.data + fig4.data + fig5.data)\n",
    "    fig6.update_layout( \n",
    "        title=\"Kerogen Quality Plot\",   #\n",
    "    xaxis_title=\"TOC\",\n",
    "    yaxis_title=\"S2\",\n",
    "    legend_title=\"Kerogen Quality Plot\"           )\n",
    "    fig6.show()\n",
    "\n",
    "\n",
    "\n",
    "    \n",
    "    ###########\n",
    "\n",
    "    fig1 = px.scatter(x=FEE_AL_910['TOC'], y=FEE_AL_910['S2 mg/g'], hover_name = FEE_AL_910[\"Depth\"] ,\n",
    "                     color =  FEE_AL_910['KEROGEN QUALITY'] ,   \n",
    "                      \n",
    "                      #color = FEE_AL_910['Formation']  , \n",
    "\n",
    "    color_discrete_map = {\"TYPE I\":  \"cyan\"  ,                           \n",
    "    \"TYPE II\"  :\"blue\"  ,   \"TYPE II / III\"  :\"orange\"  ,\n",
    "     \"TYPE III\":\"red\" ,\n",
    "    \"UN-IDENTIFIED\"  : \"black\"                   }  \n",
    "                     )\n",
    "    \n",
    "    fig2 = px.line(x=KEROGEN_QUALITY_IP['x1'], y=KEROGEN_QUALITY_IP['y1'])\n",
    "    fig3 = px.line(x=KEROGEN_QUALITY_IP['x2'], y=KEROGEN_QUALITY_IP['y2'])\n",
    "    fig4 = px.line(x=KEROGEN_QUALITY_IP['x3'], y=KEROGEN_QUALITY_IP['y3'])\n",
    "    fig5 = px.line(x=KEROGEN_QUALITY_IP['x4'], y=KEROGEN_QUALITY_IP['y4'])\n",
    "\n",
    "    fig6 = go.Figure(data=fig1.data + fig2.data + fig3.data + fig4.data + fig5.data)\n",
    "    fig6.update_layout( \n",
    "        title=\"Kerogen Quality Plot\",   #\n",
    "    xaxis_title=\"TOC\",\n",
    "    yaxis_title=\"S2\",\n",
    "    legend_title=\"Kerogen Quality Plot\"           )\n",
    "    fig6.show()\n",
    "\n",
    "# PERFECT\n",
    "kerogen_quality_plot(FEE_AW_3402 , KEROGEN_QUALITY_I, KEROGEN_QUALITY_II, KEROGEN_QUALITY_II_III, KEROGEN_QUALITY_III ,KEROGEN_QUALITY_IP, KEROGEN_QUALITY_IIP, KEROGEN_QUALITY_II_IIIP, KEROGEN_QUALITY_IIIP)"
   ]
  },
  {
   "cell_type": "markdown",
   "id": "af09a1fd",
   "metadata": {},
   "source": [
    "# #################################################################"
   ]
  },
  {
   "cell_type": "markdown",
   "id": "74675751",
   "metadata": {},
   "source": [
    "# KEROGEN TYPE AND MATURITY"
   ]
  },
  {
   "cell_type": "code",
   "execution_count": 373,
   "id": "159a1fca",
   "metadata": {},
   "outputs": [],
   "source": [
    "KEROGEN_TYPE_MATURITY_I = pd.read_excel(\"/Users/moyinolorunadegbie/Documents/KEROGEN_TYPE_MATURITY/I.xlsx\")\n",
    "\n",
    "KEROGEN_TYPE_MATURITY_II = pd.read_excel(\"/Users/moyinolorunadegbie/Documents/KEROGEN_TYPE_MATURITY/II.xlsx\")\n",
    "\n",
    "KEROGEN_TYPE_MATURITY_III = pd.read_excel(\"/Users/moyinolorunadegbie/Documents/KEROGEN_TYPE_MATURITY/III.xlsx\")\n"
   ]
  },
  {
   "cell_type": "code",
   "execution_count": 459,
   "id": "168e97b8",
   "metadata": {},
   "outputs": [],
   "source": [
    "def rework2(FEE_AL_910, KEROGEN_TYPE_MATURITY_I, KEROGEN_TYPE_MATURITY_II,  KEROGEN_TYPE_MATURITY_III):\n",
    "    def TYPES(   TM_x , HI_y , I, II , III , vis  , x, y):\n",
    "        \n",
    "        \n",
    "        \n",
    "        \n",
    "        tempx = TM_x\n",
    "        tempy = HI_y\n",
    "        \n",
    "        \n",
    "        TM_xx = tempx\n",
    "        HI_yy = tempy\n",
    "        \n",
    "        \n",
    "        \n",
    "        for xxx in range( 1,x + 1): # 460\n",
    "            for yyy in range(1, y +1):\n",
    "                TM_x += xxx   # >\n",
    "                HI_y += yyy  # A\n",
    "                \n",
    "                \n",
    "                \n",
    "                TM_xx -= xxx  # <\n",
    "                HI_yy -= yyy  # V\n",
    "                \n",
    "                \n",
    "            \n",
    "            #.      >        A               <.      V\n",
    "                if (   [TM_x , tempy ] in I     or [tempx , HI_y ] in I      or  [TM_x , HI_y ] in I or \n",
    "                    [TM_xx , tempy ] in II  or  [tempx , HI_yy ] in II or [TM_xx , HI_yy ] in II  \n",
    "                    and 430.5 <= tempx <= 464.87 ):\n",
    "                   # print(\"I\")\n",
    "            \n",
    "                    return \"TYPE I Oil Generation\"\n",
    "            \n",
    "                if (   [TM_x , tempy ] in I     or [tempx , HI_y ] in I      or  [TM_x , HI_y ] in I or \n",
    "                    [TM_xx , tempy ] in II    or  [tempx , HI_yy ] in II    or [TM_xx , HI_yy ] in II  \n",
    "                    and tempx > 464.87 ): \n",
    "                    return \"TYPE I Gas Generation\"\n",
    "                   # print(\"I\")\n",
    "                    \n",
    "        \n",
    "                #if OI_x >= right or HI_y >= top :\n",
    "                    #return False\n",
    "                ##########################################################\n",
    "        \n",
    "                #.      >        A               <.      V\n",
    "                if (   [TM_x , tempy ] in II     or [tempx , HI_y ] in II      or  [TM_x , HI_y ] in II or\n",
    "                   [TM_xx , tempy ] in III    or  [tempx , HI_yy ] in III    or [TM_xx , HI_yy ] in III  \n",
    "                    and 430.5 <= tempx <= 464.87 ):\n",
    "                    return \"TYPE II Oil Generation\"\n",
    "                   # print(\"I\")\n",
    "                    \n",
    "            \n",
    "                if (   [TM_x , tempy ] in II     or [tempx , HI_y ] in II   or  [TM_x , HI_y ] in II or \n",
    "                    [TM_xx , tempy ] in III    or  [tempx , HI_yy ] in III    or [TM_xx , HI_yy ] in III  \n",
    "                    and tempx > 464.87 ):\n",
    "                    return \"TYPE II Gas Generation\"\n",
    "                   # print(\"I\")\n",
    "            \n",
    "                    \n",
    "            \n",
    "      ##########################################################\n",
    "\n",
    "\n",
    "                \n",
    "               #.      >        A \n",
    "                if   ( [TM_x , tempy ] in III     or [tempx , HI_y ] in III      or  [TM_x , HI_y ] in III \n",
    "                      and  430.5 <= tempx <= 464.87 ):\n",
    "                    #print(\"III\")\n",
    "                    return \"TYPE III Oil Generation\"\n",
    "                \n",
    "                if [TM_x , tempy ] in III     or [tempx , HI_y ] in III    or  [TM_x , HI_y ] in III  and  tempx > 464.87  :\n",
    "                    #print(\"III\")\n",
    "                    return \"TYPE III Gas Generation\"\n",
    "                \n",
    "                \n",
    "    ##########################################################\n",
    "                #. >->->\n",
    "                if [TM_x , tempy ] in I   and  tempx < 430.5 and 600 < tempy :\n",
    "                   # print(\"I\")\n",
    "            \n",
    "                    return \"TYPE I Immature\"\n",
    "            \n",
    "                if [TM_x , tempy ] in II   or  tempx < 430.5   and 200 < tempy < 600 :\n",
    "                #if   tempx < 430.5   and 200 < tempy < 600 : # WORKS\n",
    "                   # print(\"I\")\n",
    "            \n",
    "                    return \"TYPE II Immature\"\n",
    "            \n",
    "                if [TM_x , tempy ] in III   and  tempx < 430.5 and tempy < 200 :\n",
    "                   # print(\"I\")\n",
    "            \n",
    "                    return \"TYPE III Immature\"\n",
    "            \n",
    "    \n",
    "    ##########################################################\n",
    "                \n",
    "                TM_x = tempx\n",
    "                HI_y = tempy\n",
    "                \n",
    "                TM_xx = tempx\n",
    "                HI_yy = tempy\n",
    "        \n",
    "    \n",
    "    \n",
    "    #   KEROGEN_TYPE_MATURITY_I   , KEROGEN_TYPE_MATURITY_II   , KEROGEN_TYPE_MATURITY_III   , \n",
    "    \n",
    "    #PSEUDO_I_LIST = []\n",
    "    KEROGEN_TYPE_MATURITY_I_LIST = []\n",
    "    max_x_I = -999\n",
    "    min_x_I = 999\n",
    "    \n",
    "    max_y_I = -999\n",
    "    min_y_I = 999\n",
    "    for i in range(   len(KEROGEN_TYPE_MATURITY_I )):\n",
    "        #KEROGEN_TYPE_MATURITY_I_LIST.append( [ round(   KEROGEN_TYPE_MATURITY_I['x'].loc[i]  , 1  )  ,   round(   KEROGEN_TYPE_MATURITY_I['y'].loc[i]  , 1 )] ) \n",
    "         \n",
    "        KEROGEN_TYPE_MATURITY_I_LIST.append( [ int(   KEROGEN_TYPE_MATURITY_I['x'].loc[i]   )  ,   int(   KEROGEN_TYPE_MATURITY_I['y'].loc[i]  )] ) \n",
    "        \n",
    "        \n",
    "        max_x_I = max( max_x_I , int(   KEROGEN_TYPE_MATURITY_I['x'].loc[i]   )  )\n",
    "        min_x_I = min( min_x_I , int(   KEROGEN_TYPE_MATURITY_I['x'].loc[i]   )  )\n",
    "        \n",
    "        max_y_I = max( max_y_I , int(   KEROGEN_TYPE_MATURITY_I['y'].loc[i]   )  )   \n",
    "        min_y_I = min( min_y_I , int(   KEROGEN_TYPE_MATURITY_I['y'].loc[i]   )  )    \n",
    "        \n",
    "        \n",
    "        \"\"\"\n",
    "        max_x_I = max( max_x_I , round(   KEROGEN_TYPE_MATURITY_I['x'].loc[i] , 1  )  )\n",
    "        min_x_I = min( min_x_I , round(   KEROGEN_TYPE_MATURITY_I['x'].loc[i] , 1  )  )\n",
    "        \n",
    "        max_y_I = max( max_y_I , round(   KEROGEN_TYPE_MATURITY_I['y'].loc[i] , 1  )  )\n",
    "        min_y_I = min( min_y_I , round(   KEROGEN_TYPE_MATURITY_I['y'].loc[i] , 1  )  )\n",
    "        \"\"\"\n",
    "        \n",
    "    \n",
    "    #PSEUDO_II_LIST = []\n",
    "    KEROGEN_TYPE_MATURITY_II_LIST = []\n",
    "    max_x_II = -999\n",
    "    min_x_II = 999\n",
    "    \n",
    "    max_y_II = -999\n",
    "    min_y_II = 999\n",
    "    for i in range(   len(KEROGEN_TYPE_MATURITY_II )):\n",
    "        #KEROGEN_TYPE_MATURITY_II_LIST.append( [ round(   KEROGEN_TYPE_MATURITY_II['x'].loc[i]  , 1  )  ,   round(   KEROGEN_TYPE_MATURITY_II['y'].loc[i]  , 1 )] )\n",
    "        \n",
    "        KEROGEN_TYPE_MATURITY_II_LIST.append( [ int(   KEROGEN_TYPE_MATURITY_II['x'].loc[i]  )  ,   int(   KEROGEN_TYPE_MATURITY_II['y'].loc[i]  )] )\n",
    "        \n",
    "        \n",
    "        max_x_II = max( max_x_II , int(   KEROGEN_TYPE_MATURITY_II['x'].loc[i]   )  )\n",
    "        min_x_II = min( min_x_II , int(   KEROGEN_TYPE_MATURITY_II['x'].loc[i]   )  )\n",
    "        \n",
    "        max_y_II = max( max_y_II , int(   KEROGEN_TYPE_MATURITY_II['y'].loc[i]   )  )\n",
    "        min_y_II = min( min_y_II , int(   KEROGEN_TYPE_MATURITY_II['y'].loc[i]   )  )\n",
    "       \n",
    "    \n",
    "        \"\"\"\n",
    "        max_x_II = max( max_x_II , round(   KEROGEN_TYPE_MATURITY_II['x'].loc[i] , 1  )  )\n",
    "        min_x_II = min( min_x_II , round(   KEROGEN_TYPE_MATURITY_II['x'].loc[i] , 1  )  )\n",
    "        \n",
    "        max_y_II = max( max_y_II , round(   KEROGEN_TYPE_MATURITY_II['y'].loc[i] , 1  )  )\n",
    "        min_y_II = min( min_y_II , round(   KEROGEN_TYPE_MATURITY_II['y'].loc[i] , 1  )  )\n",
    "        \"\"\"\n",
    "        \n",
    "        \"\"\"\n",
    "        ## FOR FUTURE USES II / III. \n",
    "        \n",
    "    #PSEUDO_II_III_LIST = []\n",
    "    KEROGEN_TYPE_MATURITY_II_III_LIST = []  #. FROM --> KEROGEN_TYPE_MATURITY_II_III\n",
    "    max_x_II_III = -999\n",
    "    min_x_II_III = 999\n",
    "    \n",
    "    max_y_II_III = -999\n",
    "    min_y_II_III = 999\n",
    "    for i in range(   len(KEROGEN_TYPE_MATURITY_II_III )):\n",
    "        #KEROGEN_TYPE_MATURITY_II_III_LIST.append( [ round(   KEROGEN_TYPE_MATURITY_II_III['x'].loc[i]  , 1  ) , round(   KEROGEN_TYPE_MATURITY_II_III['y'].loc[i]  , 1 )] )\n",
    "        \n",
    "        KEROGEN_TYPE_MATURITY_II_III_LIST.append( [ int(   KEROGEN_TYPE_MATURITY_II_III['x'].loc[i]   ) , int(   KEROGEN_TYPE_MATURITY_II_III['y'].loc[i]  )] )\n",
    "        \n",
    "        \n",
    "        max_x_II_III = max( max_x_II_III , int(   KEROGEN_TYPE_MATURITY_II_III['x'].loc[i]   )  )\n",
    "        min_x_II_III = min( min_x_II_III , int(   KEROGEN_TYPE_MATURITY_II_III['x'].loc[i]   )  )\n",
    "        \n",
    "        max_y_II_III = max( max_y_II_III , int(   KEROGEN_TYPE_MATURITY_II_III['y'].loc[i]   )  )\n",
    "        min_y_II_III = min( min_y_II_III , int(   KEROGEN_TYPE_MATURITY_II_III['y'].loc[i]   )  )\n",
    "        \n",
    "        \n",
    "        \n",
    "        max_x_II_III = max( max_x_II_III , round(   KEROGEN_TYPE_MATURITY_II_III['x'].loc[i]  , 1 )  )\n",
    "        min_x_II_III = min( min_x_II_III , round(   KEROGEN_TYPE_MATURITY_II_III['x'].loc[i]  , 1 )  )\n",
    "        \n",
    "        max_y_II_III = max( max_y_II_III , round(   KEROGEN_TYPE_MATURITY_II_III['y'].loc[i]  , 1 )  )\n",
    "        min_y_II_III = min( min_y_II_III , round(   KEROGEN_TYPE_MATURITY_II_III['y'].loc[i]  , 1 )  )\n",
    "        \"\"\"\n",
    "        \n",
    "        \n",
    "    #PSEUDO_III_LIST = []\n",
    "    KEROGEN_TYPE_MATURITY_III_LIST = []\n",
    "    max_x_III = -999\n",
    "    min_x_III = 999\n",
    "    \n",
    "    max_y_III = -999\n",
    "    min_y_III = 999\n",
    "    for i in range(   len(KEROGEN_TYPE_MATURITY_III )):\n",
    "        #KEROGEN_TYPE_MATURITY_III_LIST.append( [ round(   KEROGEN_TYPE_MATURITY_III['x'].loc[i]  , 1  )  ,   round(   KEROGEN_TYPE_MATURITY_III['y'].loc[i]  , 1 )] )\n",
    "        \n",
    "        KEROGEN_TYPE_MATURITY_III_LIST.append( [ int(   KEROGEN_TYPE_MATURITY_III['x'].loc[i]   )  ,   int(   KEROGEN_TYPE_MATURITY_III['y'].loc[i]  )] )\n",
    "        \n",
    "        \n",
    "        \n",
    "        max_x_III = max( max_x_III , int(   KEROGEN_TYPE_MATURITY_III['x'].loc[i]   )  )\n",
    "        min_x_III = min( min_x_III , int(   KEROGEN_TYPE_MATURITY_III['x'].loc[i]   )  )\n",
    "        \n",
    "        max_y_III = max( max_y_III , int(   KEROGEN_TYPE_MATURITY_III['y'].loc[i]   )  )\n",
    "        min_y_III = min( min_y_III , int(   KEROGEN_TYPE_MATURITY_III['y'].loc[i]   )  )\n",
    "        \n",
    "        \n",
    "        \"\"\"\n",
    "        max_x_III = max( max_x_III , round(   KEROGEN_TYPE_MATURITY_III['x'].loc[i] , 1   )  )\n",
    "        min_x_III = min( min_x_III , round(   KEROGEN_TYPE_MATURITY_III['x'].loc[i] , 1   )  )\n",
    "        \n",
    "        max_y_III = max( max_y_III , round(   KEROGEN_TYPE_MATURITY_III['y'].loc[i] , 1   )  )\n",
    "        min_y_III = min( min_y_III , round(   KEROGEN_TYPE_MATURITY_III['y'].loc[i] , 1   )  )\n",
    "        \"\"\"\n",
    "        \n",
    "    #print( PSEUDO_I_LIST) # [ x, y ] [ OI, HI ]\n",
    "    \n",
    "    FEE_AL_910_PSEUDO = []\n",
    "    for i in range(   len(FEE_AL_910)):\n",
    "        #[    round( FEE_AL_910['HI'].loc[i] , 1 )    ,  round( FEE_AL_910['T max'].loc[i] ,1 )  ]  \n",
    "        \n",
    "        #OI_x =  round( FEE_AL_910['T max'].loc[i] , 1 ) # x\n",
    "        #HI_y =  round( FEE_AL_910['HI'].loc[i] , 1 ) # y\n",
    "        \n",
    "        OI_x =  int( FEE_AL_910['T max'].loc[i] ) # x\n",
    "        HI_y =  int( FEE_AL_910['HI'].loc[i] ) # y\n",
    "        \n",
    "        vis1 = set()\n",
    "        \n",
    "        \n",
    "        if pd.isna(FEE_AL_910['KEROGEN TYPE/MATURITY'].loc[i] ) :\n",
    "            TYPE_ONE = TYPES(   OI_x , HI_y , KEROGEN_TYPE_MATURITY_I_LIST, KEROGEN_TYPE_MATURITY_II_LIST , KEROGEN_TYPE_MATURITY_III_LIST ,\n",
    "                          vis1,  max_x_I, max_y_I \n",
    "                            \n",
    "                         ) \n",
    "        \n",
    "            FEE_AL_910['KEROGEN TYPE/MATURITY'].loc[i] = TYPE_ONE"
   ]
  },
  {
   "cell_type": "code",
   "execution_count": 460,
   "id": "ab5f817a",
   "metadata": {},
   "outputs": [],
   "source": [
    "# PSEUDO_III\n",
    "\n",
    "def kerogen_type_maturity(FEE_AL_910, KEROGEN_TYPE_MATURITY_I,KEROGEN_TYPE_MATURITY_II, KEROGEN_TYPE_MATURITY_III ):\n",
    "    from collections import defaultdict\n",
    "\n",
    "#adj = defaultdict(list)\n",
    "\n",
    "    III = {}\n",
    "\n",
    "    xlis = list( round(KEROGEN_TYPE_MATURITY_III['x'] , 16 )   )\n",
    "\n",
    "\n",
    "    oilis = list(round(FEE_AL_910['T max']  , 16 )  )\n",
    "\n",
    "\n",
    "    cn = 0\n",
    "    for i in oilis :\n",
    "        if i not in xlis :\n",
    "            oilis[cn] =  closest(xlis , i)  ### calibrated to PSEUDO_III\n",
    "        cn+=1\n",
    "    \n",
    "#print(oilis)\n",
    "#xlis\n",
    "\n",
    "\n",
    "#for i in range(len(FEE_AL_910['OI'])):\n",
    "   # adj[   FEE_AL_910['OI'].loc[i] ].append(FEE_AL_910['HI'].loc[i])\n",
    "    \n",
    "    for i in range(len(KEROGEN_TYPE_MATURITY_III['x'])):\n",
    "        III[  round(KEROGEN_TYPE_MATURITY_III['x'].loc[i]  ,  16 )] = KEROGEN_TYPE_MATURITY_III['y'].loc[i]\n",
    "  \n",
    "\n",
    "    dict1 = {}\n",
    "    for i in range(len(FEE_AL_910['T max'])):\n",
    "        \n",
    "        #if FEE_AL_910['HI'].loc[i]   <=  III[ oilis[i] ]  :\n",
    "            #dict1[   FEE_AL_910['Depth'].loc[i] ] = \"TYPE III\"\n",
    "\n",
    "\n",
    "        if FEE_AL_910['HI'].loc[i]   <=  III[ oilis[i] ]  and FEE_AL_910['T max'].loc[i] < 430.5 :\n",
    "            dict1[   FEE_AL_910['Depth'].loc[i] ] = \"TYPE III Immature\"\n",
    "            \n",
    "        if FEE_AL_910['HI'].loc[i]   <=  III[ oilis[i] ]  and 430.5 < FEE_AL_910['T max'].loc[i] < 464.87 :\n",
    "            dict1[   FEE_AL_910['Depth'].loc[i] ] = \"TYPE III Oil Generation\"\n",
    "            \n",
    "        if FEE_AL_910['HI'].loc[i]   <=  III[ oilis[i] ]  and 464.87 < FEE_AL_910['T max'].loc[i]   :\n",
    "            dict1[   FEE_AL_910['Depth'].loc[i] ] = \"TYPE III Gas Generation\"\n",
    "\n",
    "\n",
    "\n",
    "\n",
    "\n",
    "\n",
    "    FEE_AL_910['KEROGEN TYPE/MATURITY'] =   FEE_AL_910['Depth'].map(dict1)\n",
    "\n",
    "    FEE_AL_910['KEROGEN TYPE/MATURITY']\n",
    "\n",
    "\n",
    "####################################################\n",
    "\n",
    "\n",
    "    def calbrate(oilis, xlis, toplist, graph):\n",
    "        cn = 0\n",
    "        for i in oilis :\n",
    "            if i not in xlis :\n",
    "                oilis[cn] =  closest(xlis , i)  ### calibrated to PSEUDO_III\n",
    "                if cn < len(toplist):\n",
    "                    graph[  oilis[cn]  ]  = toplist[cn]\n",
    "            cn+=1\n",
    "\n",
    "\n",
    "\n",
    "    xxxlis = list(round(KEROGEN_TYPE_MATURITY_II['x']  , 16 )  )\n",
    "    yyylis = list(  KEROGEN_TYPE_MATURITY_II['y']    )\n",
    "    II = {}\n",
    "    calbrate(xxxlis, xlis,  yyylis,  II )\n",
    "\n",
    "    xxxxlis = list(round(KEROGEN_TYPE_MATURITY_I['x']  , 16 )  )\n",
    "    yyyylis = list(  KEROGEN_TYPE_MATURITY_I['y']   )\n",
    "    I = {}\n",
    "    calbrate(xxxxlis, xlis,  yyyylis,  I )\n",
    "\n",
    "#print(xxlis)\n",
    "\n",
    "\n",
    "    dict2 = {}\n",
    "    for i in range(len(FEE_AL_910['T max'])):\n",
    "        if  oilis[i] in III and oilis[i] in II:\n",
    "                    #\n",
    "            #if  III[ oilis[i] ]   < FEE_AL_910['HI'].loc[i]   <  II[ oilis[i] ]   :\n",
    "                   #dict2[   FEE_AL_910['Depth'].loc[i] ] = \"TYPE II\"\n",
    "                    \n",
    "            if III[ oilis[i] ]   < FEE_AL_910['HI'].loc[i]   <  II[ oilis[i] ]  and FEE_AL_910['T max'].loc[i] < 430.5 :\n",
    "                dict2[   FEE_AL_910['Depth'].loc[i] ] = \"TYPE II Immature\"\n",
    "            \n",
    "            if III[ oilis[i] ]   < FEE_AL_910['HI'].loc[i]   <  II[ oilis[i] ]   and 430.5 < FEE_AL_910['T max'].loc[i] < 464.87 :\n",
    "                dict2[   FEE_AL_910['Depth'].loc[i] ] = \"TYPE II Oil Generation\"\n",
    "            \n",
    "            if III[ oilis[i] ]   < FEE_AL_910['HI'].loc[i]   <  II[ oilis[i] ]   and 464.87 < FEE_AL_910['T max'].loc[i]   :\n",
    "                dict2[   FEE_AL_910['Depth'].loc[i] ] = \"TYPE II Gas Generation\"\n",
    "\n",
    "\n",
    "\n",
    "\n",
    "\n",
    "                \n",
    "                \n",
    "    dict2.update(dict1)\n",
    "\n",
    "    FEE_AL_910['KEROGEN TYPE/MATURITY']  =   FEE_AL_910['Depth'].map(dict2)\n",
    "\n",
    "###################\n",
    "\n",
    "\n",
    "#####################\n",
    "\n",
    "    dict4 = {}\n",
    "    for i in range(len(FEE_AL_910['T max'])):\n",
    "        if  oilis[i] in II and oilis[i] in I:\n",
    "            #if  II[ oilis[i] ]   < FEE_AL_910['HI'].loc[i]   <  I[ oilis[i] ]   :\n",
    "                   #dict4[   FEE_AL_910['Depth'].loc[i] ] = \"TYPE I\"\n",
    "                    \n",
    "            if II[ oilis[i] ]   < FEE_AL_910['HI'].loc[i]   <  I[ oilis[i] ]   and FEE_AL_910['T max'].loc[i] < 430.5 :\n",
    "                dict4[   FEE_AL_910['Depth'].loc[i] ] = \"TYPE I Immature\"\n",
    "            \n",
    "            if II[ oilis[i] ]   < FEE_AL_910['HI'].loc[i]   <  I[ oilis[i] ]    and 430.5 < FEE_AL_910['T max'].loc[i] < 464.87 :\n",
    "                dict4[   FEE_AL_910['Depth'].loc[i] ] = \"TYPE I Oil Generation\"\n",
    "            \n",
    "            if II[ oilis[i] ]   < FEE_AL_910['HI'].loc[i]   <  I[ oilis[i] ]   and 464.87 < FEE_AL_910['T max'].loc[i]   :\n",
    "                dict4[   FEE_AL_910['Depth'].loc[i] ] = \"TYPE I Gas Generation\"\n",
    "\n",
    "\n",
    "\n",
    "                \n",
    "                \n",
    "    dict4.update(dict2)\n",
    "\n",
    "    FEE_AL_910['KEROGEN TYPE/MATURITY']   =   FEE_AL_910['Depth'].map(dict4)\n",
    "    \n",
    "    #FEE_AL_910['KEROGEN TYPE/MATURITY'].fillna(  \"UN-IDENTIFIED\", inplace= True)\n",
    "        \n",
    "\n",
    "##################\n",
    "\n",
    "\n",
    "\n",
    "    #FEE_AL_910['KEROGEN TYPE/MATURITY']  =   FEE_AL_910['Depth'].map(dict4)\n",
    "    \n",
    "    rework2(FEE_AL_910, KEROGEN_TYPE_MATURITY_I, KEROGEN_TYPE_MATURITY_II,  KEROGEN_TYPE_MATURITY_III)\n",
    "\n",
    "    print( FEE_AL_910[['KEROGEN TYPE/MATURITY','Depth']]  )\n",
    "    \n",
    "#kerogen_type_maturity(FEE_AL_910, KEROGEN_TYPE_MATURITY_I,KEROGEN_TYPE_MATURITY_II, KEROGEN_TYPE_MATURITY_III )"
   ]
  },
  {
   "cell_type": "code",
   "execution_count": 461,
   "id": "98e778a4",
   "metadata": {
    "scrolled": false
   },
   "outputs": [
    {
     "name": "stdout",
     "output_type": "stream",
     "text": [
      "      KEROGEN TYPE/MATURITY    Depth\n",
      "0    TYPE II Oil Generation   9037.0\n",
      "1    TYPE II Oil Generation   9078.5\n",
      "2    TYPE II Oil Generation   9127.5\n",
      "3   TYPE III Oil Generation   9142.0\n",
      "4   TYPE III Oil Generation   9218.0\n",
      "5    TYPE II Oil Generation   9333.5\n",
      "6    TYPE II Oil Generation   9371.5\n",
      "7   TYPE III Oil Generation   9398.0\n",
      "8     TYPE I Oil Generation   9487.0\n",
      "9         TYPE III Immature   9609.5\n",
      "10   TYPE II Oil Generation   9657.5\n",
      "11   TYPE II Oil Generation   9663.5\n",
      "12        TYPE III Immature   9684.5\n",
      "13  TYPE III Oil Generation   9717.5\n",
      "14  TYPE III Oil Generation   9726.0\n",
      "15  TYPE III Oil Generation   9731.5\n",
      "16   TYPE II Oil Generation   9740.0\n",
      "17         TYPE II Immature   9853.0\n",
      "18   TYPE II Oil Generation   9938.5\n",
      "19   TYPE II Oil Generation   9952.5\n",
      "20    TYPE I Oil Generation   9956.5\n",
      "21   TYPE II Oil Generation   9962.5\n",
      "22    TYPE I Oil Generation   9966.5\n",
      "23  TYPE III Oil Generation   9972.5\n",
      "24    TYPE I Oil Generation   9975.5\n",
      "25    TYPE I Oil Generation   9980.5\n",
      "26    TYPE I Oil Generation   9985.5\n",
      "27    TYPE I Oil Generation   9990.5\n",
      "28   TYPE II Oil Generation   9995.5\n",
      "29    TYPE I Oil Generation  10000.5\n",
      "30    TYPE I Oil Generation  10004.5\n",
      "31    TYPE I Oil Generation  10010.5\n",
      "32   TYPE II Oil Generation  10020.5\n",
      "33   TYPE II Oil Generation  10026.5\n",
      "34   TYPE II Oil Generation  10032.5\n",
      "35   TYPE II Oil Generation  10166.5\n",
      "36    TYPE I Oil Generation  10283.5\n",
      "37    TYPE I Oil Generation  10292.5\n",
      "38   TYPE II Oil Generation  10300.5\n",
      "39    TYPE I Oil Generation  10310.5\n",
      "40   TYPE II Oil Generation  10318.5\n",
      "41    TYPE I Oil Generation  10325.5\n",
      "42   TYPE II Oil Generation  10335.5\n",
      "43   TYPE II Oil Generation  10346.5\n",
      "44    TYPE I Oil Generation  10353.5\n",
      "45   TYPE II Oil Generation  10360.5\n",
      "46   TYPE II Oil Generation  10366.5\n",
      "47   TYPE II Oil Generation  10374.0\n",
      "48  TYPE III Oil Generation  10377.0\n",
      "49  TYPE III Oil Generation  10380.5\n",
      "50   TYPE II Oil Generation  10390.5\n"
     ]
    },
    {
     "name": "stderr",
     "output_type": "stream",
     "text": [
      "/var/folders/50/ghq6__zs6xnch24v7kvn00xr0000gn/T/ipykernel_43066/2667674625.py:248: SettingWithCopyWarning:\n",
      "\n",
      "\n",
      "A value is trying to be set on a copy of a slice from a DataFrame\n",
      "\n",
      "See the caveats in the documentation: https://pandas.pydata.org/pandas-docs/stable/user_guide/indexing.html#returning-a-view-versus-a-copy\n",
      "\n"
     ]
    },
    {
     "data": {
      "application/vnd.plotly.v1+json": {
       "config": {
        "plotlyServerURL": "https://plot.ly"
       },
       "data": [
        {
         "hovertemplate": "<b>%{hovertext}</b><br><br>x=%{x}<br>y=%{y}<extra></extra>",
         "hovertext": [
          9037,
          9078.5,
          9127.5,
          9142,
          9218,
          9333.5,
          9371.5,
          9398,
          9487,
          9609.5,
          9657.5,
          9663.5,
          9684.5,
          9717.5,
          9726,
          9731.5,
          9740,
          9853,
          9938.5,
          9952.5,
          9956.5,
          9962.5,
          9966.5,
          9972.5,
          9975.5,
          9980.5,
          9985.5,
          9990.5,
          9995.5,
          10000.5,
          10004.5,
          10010.5,
          10020.5,
          10026.5,
          10032.5,
          10166.5,
          10283.5,
          10292.5,
          10300.5,
          10310.5,
          10318.5,
          10325.5,
          10335.5,
          10346.5,
          10353.5,
          10360.5,
          10366.5,
          10374,
          10377,
          10380.5,
          10390.5
         ],
         "legendgroup": "",
         "marker": {
          "color": "#636efa",
          "symbol": "circle"
         },
         "mode": "markers",
         "name": "",
         "orientation": "v",
         "showlegend": false,
         "type": "scatter",
         "x": [
          453,
          450,
          451,
          452,
          448,
          451,
          453,
          450,
          459,
          0,
          454,
          454,
          0,
          451,
          452,
          453,
          456,
          0,
          457,
          454,
          457,
          455,
          459,
          452,
          460,
          460,
          459,
          457,
          456,
          460,
          459,
          458,
          457,
          455,
          455,
          455,
          460,
          457,
          454,
          459,
          457,
          459,
          456,
          454,
          455,
          456,
          456,
          455,
          454,
          454,
          456
         ],
         "xaxis": "x",
         "y": [
          159.07928388746802,
          237.85900783289816,
          238.63247863247864,
          113.04347826086956,
          121.6117216117216,
          150.91575091575092,
          168.08510638297872,
          120.72892938496584,
          142.5357873210634,
          47.22222222222222,
          170.87087087087087,
          160.09501187648456,
          83.33333333333334,
          53.76344086021505,
          98.26589595375722,
          84.33734939759036,
          110.13215859030836,
          400,
          124.40944881889763,
          123.01587301587301,
          143.03482587064678,
          126.56826568265683,
          121.05263157894737,
          97.41379310344827,
          174.02826855123675,
          107.95107033639144,
          110.18518518518518,
          136.44314868804665,
          126.08695652173914,
          102.83911671924291,
          141.02564102564102,
          148.9855072463768,
          132.6860841423948,
          141.2532637075718,
          145.58011049723757,
          183.68644067796612,
          132.20973782771537,
          219.14191419141918,
          148.6725663716814,
          126.4,
          114.08450704225353,
          142.07650273224044,
          128.19383259911893,
          190.27113237639554,
          203.4003091190108,
          109.87124463519314,
          156.140350877193,
          145.7831325301205,
          100.84745762711864,
          83.53413654618473,
          118.21561338289963
         ],
         "yaxis": "y"
        },
        {
         "hovertemplate": "x=%{x}<br>y=%{y}<extra></extra>",
         "legendgroup": "",
         "line": {
          "color": "#636efa",
          "dash": "solid"
         },
         "marker": {
          "symbol": "circle"
         },
         "mode": "lines",
         "name": "",
         "orientation": "v",
         "showlegend": false,
         "type": "scatter",
         "x": [
          461.0564,
          460.94985,
          460.91789,
          460.84491,
          460.81188,
          460.6446,
          460.50982,
          460.43471,
          460.22801,
          460.02024,
          459.73896,
          459.59939,
          459.42625,
          459.4417,
          459.13165,
          458.93827,
          458.89193,
          458.71826,
          458.46788,
          458.43538,
          458.1264,
          457.91331,
          457.61232,
          457.64641,
          457.3598,
          457.10676,
          456.92989,
          456.74397,
          456.47228,
          456.19526,
          455.89001,
          455.55226,
          455.21345,
          454.93004,
          454.48041,
          454.20819,
          453.78094,
          453.6403,
          453.01595,
          452.66754,
          452.38094,
          452.00696,
          451.66602,
          451.32454,
          450.87971,
          450.45619,
          450.0428,
          449.59264,
          449.14568,
          448.76638,
          448.28693,
          447.8128,
          447.43137,
          447.09255,
          446.66797,
          446.12139,
          445.75647,
          445.25411,
          444.66438,
          444.28188,
          443.71773,
          443.17861,
          442.68903,
          442.07639,
          441.45204,
          440.76748,
          440.36634,
          439.65568,
          439.13627,
          438.32866,
          437.78528,
          437.24722,
          436.63618,
          435.97667,
          435.44767,
          434.71197,
          434.03967,
          433.58898,
          432.81493,
          432.06059,
          431.46287,
          430.69521,
          430.02664,
          429.35647,
          428.69908,
          427.96232,
          427.22396,
          426.56284,
          425.91824,
          425.19853,
          424.51824,
          423.83741,
          423.12089,
          422.3559,
          421.61914,
          420.82963,
          419.95649,
          419.10093,
          418.3988,
          417.75154,
          417.10267,
          416.23806,
          415.54498,
          414.84178,
          414.00433,
          413.20151,
          412.48659,
          411.68697
         ],
         "xaxis": "x",
         "y": [
          96.67078,
          105.54061,
          113.59802,
          122.35872,
          130.93147,
          143.59658,
          154.88545,
          167.59301,
          180.31875,
          189.58872,
          201.23529,
          212.36652,
          223.83121,
          232.99205,
          242.4439,
          251.16822,
          259.69247,
          268.4471,
          278.01414,
          286.24738,
          294.84438,
          304.50236,
          314.0694,
          323.36968,
          332.37289,
          341.23665,
          350.31261,
          358.1457,
          366.32437,
          375.78229,
          384.24591,
          392.77015,
          401.94312,
          410.5583,
          417.62749,
          426.04261,
          434.2334,
          442.92741,
          450.40279,
          459.30293,
          466.69951,
          475.45414,
          482.68095,
          491.63566,
          501.18451,
          509.42381,
          518.07538,
          525.99335,
          533.3111,
          542.30218,
          550.71124,
          558.68377,
          566.03791,
          573.02828,
          581.51615,
          588.4277,
          596.58212,
          605.34887,
          613.27897,
          621.76684,
          629.1331,
          637.58459,
          645.56319,
          653.63273,
          661.73865,
          667.89842,
          675.87702,
          683.50397,
          692.53749,
          698.1698,
          705.80282,
          712.02928,
          718.49219,
          724.70652,
          732.27285,
          737.88091,
          743.77392,
          750.40658,
          755.69938,
          761.75608,
          768.47969,
          774.67583,
          780.43546,
          786.27996,
          791.50607,
          797.80528,
          803.24964,
          809.03958,
          815.4843,
          820.46789,
          827.8584,
          832.79956,
          838.17117,
          844.99178,
          848.98714,
          855.09841,
          860.94291,
          865.99319,
          871.86801,
          876.17864,
          879.93149,
          882.89012,
          887.21893,
          891.23855,
          895.27029,
          899.84161,
          902.53954,
          907.15937
         ],
         "yaxis": "y"
        },
        {
         "hovertemplate": "x=%{x}<br>y=%{y}<extra></extra>",
         "legendgroup": "",
         "line": {
          "color": "#636efa",
          "dash": "solid"
         },
         "marker": {
          "symbol": "circle"
         },
         "mode": "lines",
         "name": "",
         "orientation": "v",
         "showlegend": false,
         "type": "scatter",
         "x": [
          462.03612,
          461.31222,
          460.73758,
          460.2317,
          459.8431,
          459.18797,
          458.38678,
          457.91118,
          457.5079,
          457.1302,
          456.88301,
          456.74344,
          456.40889,
          456.12388,
          455.7547,
          455.48141,
          455.16603,
          454.85812,
          454.36907,
          453.98658,
          453.66854,
          453.29989,
          452.88436,
          452.47256,
          452.089,
          451.77895,
          451.24676,
          450.66182,
          450.32674,
          449.91974,
          449.41205,
          448.90596,
          448.40413,
          447.71478,
          447.3701,
          446.85229,
          446.21568,
          445.60251,
          445.02344,
          444.57915,
          444.06506,
          443.34801,
          442.69276,
          442.18347,
          441.61878,
          440.88735,
          440.09998,
          439.612,
          439.01215,
          438.24449,
          437.90088,
          437.15399,
          436.56213,
          436.06989,
          435.36243,
          434.74394,
          433.97787,
          433.29545,
          432.36797,
          431.89651,
          431.06226,
          430.39369,
          429.86149,
          429.07945,
          428.49931,
          427.66772,
          427.127,
          426.40889,
          425.54267,
          424.81497,
          424.0862,
          423.2642,
          422.52264,
          421.75072,
          420.9186,
          420.07263,
          419.17924,
          418.23632,
          417.33441,
          416.48151,
          415.68083,
          414.74482,
          413.91803,
          412.98949,
          412.13233,
          411.94058,
          411.12233,
          410.343,
          409.4192,
          408.59882,
          407.6617,
          406.82745,
          405.91272
         ],
         "xaxis": "x",
         "y": [
          76.39686,
          80.23916,
          86.44268,
          91.03159,
          98.11527,
          105.66026,
          108.81666,
          114.90152,
          122.45572,
          132.74423,
          141.82019,
          150.95678,
          159.39615,
          166.70784,
          176.49921,
          184.09585,
          193.58408,
          201.82338,
          210.36581,
          219.07194,
          227.63863,
          234.53199,
          243.40182,
          252.03519,
          258.96493,
          266.39788,
          273.7217,
          280.95458,
          288.56941,
          295.09901,
          302.7381,
          308.81905,
          317.54337,
          324.08509,
          331.97275,
          340.53943,
          347.29942,
          354.25947,
          361.92887,
          368.6646,
          375.17601,
          380.99626,
          386.79833,
          394.21915,
          402.22807,
          408.9638,
          416.13605,
          423.64175,
          429.40138,
          435.85216,
          442.95772,
          449.12961,
          455.49552,
          462.3525,
          468.51834,
          474.65992,
          482.35357,
          489.04686,
          494.27296,
          500.32966,
          505.1435,
          511.63066,
          517.14777,
          521.28258,
          528.03044,
          530.87993,
          538.25226,
          542.27187,
          547.40703,
          553.39704,
          557.30146,
          562.69126,
          567.49903,
          571.69447,
          574.33783,
          578.32713,
          582.71051,
          585.02649,
          588.94303,
          591.64703,
          592.7747,
          595.97584,
          597.5461,
          600.11065,
          600.88668,
          600.15782,
          601.32933,
          601.69353,
          602.78005,
          604.80743,
          606.87123,
          606.87123,
          607.61783
         ],
         "yaxis": "y"
        },
        {
         "hovertemplate": "x=%{x}<br>y=%{y}<extra></extra>",
         "legendgroup": "",
         "line": {
          "color": "#636efa",
          "dash": "solid"
         },
         "marker": {
          "symbol": "circle"
         },
         "mode": "lines",
         "name": "",
         "orientation": "v",
         "showlegend": false,
         "type": "scatter",
         "x": [
          463.54308,
          462.80159,
          462.11341,
          461.37565,
          460.71359,
          460.07818,
          459.41612,
          458.83935,
          458.37718,
          457.81907,
          457.30786,
          456.5781,
          455.7929,
          454.83072,
          454.47029,
          453.88269,
          453.05963,
          452.35909,
          451.65483,
          450.9511,
          450.13283,
          449.51806,
          448.91981,
          448.10953,
          447.41219,
          446.63015,
          445.81294,
          445.05594,
          444.26537,
          443.50463,
          442.61072,
          441.75995,
          441.02159,
          440.25447,
          439.50119,
          438.74898,
          437.73573,
          436.94943,
          436.08268,
          435.26334,
          434.42803,
          433.57673,
          432.64872,
          431.95937,
          431.17093,
          430.27595,
          429.41826,
          428.46575,
          427.53933,
          426.77753,
          425.94382,
          425.10797,
          424.37973,
          423.50872,
          422.68512,
          421.70331,
          420.86213,
          420.152,
          419.17658,
          418.39241,
          417.68388,
          416.67809,
          415.88007,
          415.0911,
          414.14426,
          413.25724,
          412.40701,
          411.50667,
          410.69748,
          409.76782,
          408.87548,
          407.97887,
          407.17927,
          406.41966,
          405.52039,
          404.60565,
          403.79273,
          402.91425
         ],
         "xaxis": "x",
         "y": [
          44.63261,
          46.21688,
          52.7057,
          59.61334,
          65.72582,
          72.05682,
          77.00385,
          83.88115,
          89.96935,
          95.31094,
          101.15026,
          103.02589,
          107.38414,
          111.85165,
          112.50066,
          118.96963,
          123.71072,
          126.05094,
          130.47676,
          134.44181,
          139.51634,
          143.37832,
          147.20999,
          151.54487,
          154.61263,
          158.28666,
          161.26954,
          165.80449,
          168.848,
          171.09728,
          174.31055,
          177.31162,
          178.73031,
          181.17966,
          182.30734,
          184.21104,
          185.79343,
          186.97567,
          189.32196,
          190.8134,
          192.03201,
          192.4079,
          194.77238,
          194.77238,
          195.57873,
          195.57873,
          197.20961,
          197.61582,
          198.73137,
          199.45284,
          199.45284,
          200.23493,
          200.60476,
          202.25383,
          201.51418,
          201.51418,
          201.51418,
          201.56268,
          202.38721,
          202.38721,
          202.38721,
          202.38721,
          202.38721,
          202.38721,
          202.0638,
          201.22007,
          201.58427,
          201.58427,
          200.01821,
          200.01821,
          200.01821,
          200.4249,
          200.4249,
          200.4249,
          200.04856,
          200.04856,
          199.66008,
          199.66008
         ],
         "yaxis": "y"
        },
        {
         "hovertemplate": "x=%{x}<br>y=%{y}<extra></extra>",
         "legendgroup": "",
         "line": {
          "color": "#636efa",
          "dash": "solid"
         },
         "marker": {
          "symbol": "circle"
         },
         "mode": "lines",
         "name": "",
         "orientation": "v",
         "showlegend": false,
         "type": "scatter",
         "x": [
          430.5,
          430.5
         ],
         "xaxis": "x",
         "y": [
          0,
          1000
         ],
         "yaxis": "y"
        },
        {
         "hovertemplate": "x=%{x}<br>y=%{y}<extra></extra>",
         "legendgroup": "",
         "line": {
          "color": "#636efa",
          "dash": "solid"
         },
         "marker": {
          "symbol": "circle"
         },
         "mode": "lines",
         "name": "",
         "orientation": "v",
         "showlegend": false,
         "type": "scatter",
         "x": [
          464.87,
          464.87
         ],
         "xaxis": "x",
         "y": [
          0,
          1000
         ],
         "yaxis": "y"
        }
       ],
       "layout": {
        "legend": {
         "title": {
          "text": "Kerogen Type and Maturity"
         }
        },
        "template": {
         "data": {
          "bar": [
           {
            "error_x": {
             "color": "#2a3f5f"
            },
            "error_y": {
             "color": "#2a3f5f"
            },
            "marker": {
             "line": {
              "color": "#E5ECF6",
              "width": 0.5
             },
             "pattern": {
              "fillmode": "overlay",
              "size": 10,
              "solidity": 0.2
             }
            },
            "type": "bar"
           }
          ],
          "barpolar": [
           {
            "marker": {
             "line": {
              "color": "#E5ECF6",
              "width": 0.5
             },
             "pattern": {
              "fillmode": "overlay",
              "size": 10,
              "solidity": 0.2
             }
            },
            "type": "barpolar"
           }
          ],
          "carpet": [
           {
            "aaxis": {
             "endlinecolor": "#2a3f5f",
             "gridcolor": "white",
             "linecolor": "white",
             "minorgridcolor": "white",
             "startlinecolor": "#2a3f5f"
            },
            "baxis": {
             "endlinecolor": "#2a3f5f",
             "gridcolor": "white",
             "linecolor": "white",
             "minorgridcolor": "white",
             "startlinecolor": "#2a3f5f"
            },
            "type": "carpet"
           }
          ],
          "choropleth": [
           {
            "colorbar": {
             "outlinewidth": 0,
             "ticks": ""
            },
            "type": "choropleth"
           }
          ],
          "contour": [
           {
            "colorbar": {
             "outlinewidth": 0,
             "ticks": ""
            },
            "colorscale": [
             [
              0,
              "#0d0887"
             ],
             [
              0.1111111111111111,
              "#46039f"
             ],
             [
              0.2222222222222222,
              "#7201a8"
             ],
             [
              0.3333333333333333,
              "#9c179e"
             ],
             [
              0.4444444444444444,
              "#bd3786"
             ],
             [
              0.5555555555555556,
              "#d8576b"
             ],
             [
              0.6666666666666666,
              "#ed7953"
             ],
             [
              0.7777777777777778,
              "#fb9f3a"
             ],
             [
              0.8888888888888888,
              "#fdca26"
             ],
             [
              1,
              "#f0f921"
             ]
            ],
            "type": "contour"
           }
          ],
          "contourcarpet": [
           {
            "colorbar": {
             "outlinewidth": 0,
             "ticks": ""
            },
            "type": "contourcarpet"
           }
          ],
          "heatmap": [
           {
            "colorbar": {
             "outlinewidth": 0,
             "ticks": ""
            },
            "colorscale": [
             [
              0,
              "#0d0887"
             ],
             [
              0.1111111111111111,
              "#46039f"
             ],
             [
              0.2222222222222222,
              "#7201a8"
             ],
             [
              0.3333333333333333,
              "#9c179e"
             ],
             [
              0.4444444444444444,
              "#bd3786"
             ],
             [
              0.5555555555555556,
              "#d8576b"
             ],
             [
              0.6666666666666666,
              "#ed7953"
             ],
             [
              0.7777777777777778,
              "#fb9f3a"
             ],
             [
              0.8888888888888888,
              "#fdca26"
             ],
             [
              1,
              "#f0f921"
             ]
            ],
            "type": "heatmap"
           }
          ],
          "heatmapgl": [
           {
            "colorbar": {
             "outlinewidth": 0,
             "ticks": ""
            },
            "colorscale": [
             [
              0,
              "#0d0887"
             ],
             [
              0.1111111111111111,
              "#46039f"
             ],
             [
              0.2222222222222222,
              "#7201a8"
             ],
             [
              0.3333333333333333,
              "#9c179e"
             ],
             [
              0.4444444444444444,
              "#bd3786"
             ],
             [
              0.5555555555555556,
              "#d8576b"
             ],
             [
              0.6666666666666666,
              "#ed7953"
             ],
             [
              0.7777777777777778,
              "#fb9f3a"
             ],
             [
              0.8888888888888888,
              "#fdca26"
             ],
             [
              1,
              "#f0f921"
             ]
            ],
            "type": "heatmapgl"
           }
          ],
          "histogram": [
           {
            "marker": {
             "pattern": {
              "fillmode": "overlay",
              "size": 10,
              "solidity": 0.2
             }
            },
            "type": "histogram"
           }
          ],
          "histogram2d": [
           {
            "colorbar": {
             "outlinewidth": 0,
             "ticks": ""
            },
            "colorscale": [
             [
              0,
              "#0d0887"
             ],
             [
              0.1111111111111111,
              "#46039f"
             ],
             [
              0.2222222222222222,
              "#7201a8"
             ],
             [
              0.3333333333333333,
              "#9c179e"
             ],
             [
              0.4444444444444444,
              "#bd3786"
             ],
             [
              0.5555555555555556,
              "#d8576b"
             ],
             [
              0.6666666666666666,
              "#ed7953"
             ],
             [
              0.7777777777777778,
              "#fb9f3a"
             ],
             [
              0.8888888888888888,
              "#fdca26"
             ],
             [
              1,
              "#f0f921"
             ]
            ],
            "type": "histogram2d"
           }
          ],
          "histogram2dcontour": [
           {
            "colorbar": {
             "outlinewidth": 0,
             "ticks": ""
            },
            "colorscale": [
             [
              0,
              "#0d0887"
             ],
             [
              0.1111111111111111,
              "#46039f"
             ],
             [
              0.2222222222222222,
              "#7201a8"
             ],
             [
              0.3333333333333333,
              "#9c179e"
             ],
             [
              0.4444444444444444,
              "#bd3786"
             ],
             [
              0.5555555555555556,
              "#d8576b"
             ],
             [
              0.6666666666666666,
              "#ed7953"
             ],
             [
              0.7777777777777778,
              "#fb9f3a"
             ],
             [
              0.8888888888888888,
              "#fdca26"
             ],
             [
              1,
              "#f0f921"
             ]
            ],
            "type": "histogram2dcontour"
           }
          ],
          "mesh3d": [
           {
            "colorbar": {
             "outlinewidth": 0,
             "ticks": ""
            },
            "type": "mesh3d"
           }
          ],
          "parcoords": [
           {
            "line": {
             "colorbar": {
              "outlinewidth": 0,
              "ticks": ""
             }
            },
            "type": "parcoords"
           }
          ],
          "pie": [
           {
            "automargin": true,
            "type": "pie"
           }
          ],
          "scatter": [
           {
            "fillpattern": {
             "fillmode": "overlay",
             "size": 10,
             "solidity": 0.2
            },
            "type": "scatter"
           }
          ],
          "scatter3d": [
           {
            "line": {
             "colorbar": {
              "outlinewidth": 0,
              "ticks": ""
             }
            },
            "marker": {
             "colorbar": {
              "outlinewidth": 0,
              "ticks": ""
             }
            },
            "type": "scatter3d"
           }
          ],
          "scattercarpet": [
           {
            "marker": {
             "colorbar": {
              "outlinewidth": 0,
              "ticks": ""
             }
            },
            "type": "scattercarpet"
           }
          ],
          "scattergeo": [
           {
            "marker": {
             "colorbar": {
              "outlinewidth": 0,
              "ticks": ""
             }
            },
            "type": "scattergeo"
           }
          ],
          "scattergl": [
           {
            "marker": {
             "colorbar": {
              "outlinewidth": 0,
              "ticks": ""
             }
            },
            "type": "scattergl"
           }
          ],
          "scattermapbox": [
           {
            "marker": {
             "colorbar": {
              "outlinewidth": 0,
              "ticks": ""
             }
            },
            "type": "scattermapbox"
           }
          ],
          "scatterpolar": [
           {
            "marker": {
             "colorbar": {
              "outlinewidth": 0,
              "ticks": ""
             }
            },
            "type": "scatterpolar"
           }
          ],
          "scatterpolargl": [
           {
            "marker": {
             "colorbar": {
              "outlinewidth": 0,
              "ticks": ""
             }
            },
            "type": "scatterpolargl"
           }
          ],
          "scatterternary": [
           {
            "marker": {
             "colorbar": {
              "outlinewidth": 0,
              "ticks": ""
             }
            },
            "type": "scatterternary"
           }
          ],
          "surface": [
           {
            "colorbar": {
             "outlinewidth": 0,
             "ticks": ""
            },
            "colorscale": [
             [
              0,
              "#0d0887"
             ],
             [
              0.1111111111111111,
              "#46039f"
             ],
             [
              0.2222222222222222,
              "#7201a8"
             ],
             [
              0.3333333333333333,
              "#9c179e"
             ],
             [
              0.4444444444444444,
              "#bd3786"
             ],
             [
              0.5555555555555556,
              "#d8576b"
             ],
             [
              0.6666666666666666,
              "#ed7953"
             ],
             [
              0.7777777777777778,
              "#fb9f3a"
             ],
             [
              0.8888888888888888,
              "#fdca26"
             ],
             [
              1,
              "#f0f921"
             ]
            ],
            "type": "surface"
           }
          ],
          "table": [
           {
            "cells": {
             "fill": {
              "color": "#EBF0F8"
             },
             "line": {
              "color": "white"
             }
            },
            "header": {
             "fill": {
              "color": "#C8D4E3"
             },
             "line": {
              "color": "white"
             }
            },
            "type": "table"
           }
          ]
         },
         "layout": {
          "annotationdefaults": {
           "arrowcolor": "#2a3f5f",
           "arrowhead": 0,
           "arrowwidth": 1
          },
          "autotypenumbers": "strict",
          "coloraxis": {
           "colorbar": {
            "outlinewidth": 0,
            "ticks": ""
           }
          },
          "colorscale": {
           "diverging": [
            [
             0,
             "#8e0152"
            ],
            [
             0.1,
             "#c51b7d"
            ],
            [
             0.2,
             "#de77ae"
            ],
            [
             0.3,
             "#f1b6da"
            ],
            [
             0.4,
             "#fde0ef"
            ],
            [
             0.5,
             "#f7f7f7"
            ],
            [
             0.6,
             "#e6f5d0"
            ],
            [
             0.7,
             "#b8e186"
            ],
            [
             0.8,
             "#7fbc41"
            ],
            [
             0.9,
             "#4d9221"
            ],
            [
             1,
             "#276419"
            ]
           ],
           "sequential": [
            [
             0,
             "#0d0887"
            ],
            [
             0.1111111111111111,
             "#46039f"
            ],
            [
             0.2222222222222222,
             "#7201a8"
            ],
            [
             0.3333333333333333,
             "#9c179e"
            ],
            [
             0.4444444444444444,
             "#bd3786"
            ],
            [
             0.5555555555555556,
             "#d8576b"
            ],
            [
             0.6666666666666666,
             "#ed7953"
            ],
            [
             0.7777777777777778,
             "#fb9f3a"
            ],
            [
             0.8888888888888888,
             "#fdca26"
            ],
            [
             1,
             "#f0f921"
            ]
           ],
           "sequentialminus": [
            [
             0,
             "#0d0887"
            ],
            [
             0.1111111111111111,
             "#46039f"
            ],
            [
             0.2222222222222222,
             "#7201a8"
            ],
            [
             0.3333333333333333,
             "#9c179e"
            ],
            [
             0.4444444444444444,
             "#bd3786"
            ],
            [
             0.5555555555555556,
             "#d8576b"
            ],
            [
             0.6666666666666666,
             "#ed7953"
            ],
            [
             0.7777777777777778,
             "#fb9f3a"
            ],
            [
             0.8888888888888888,
             "#fdca26"
            ],
            [
             1,
             "#f0f921"
            ]
           ]
          },
          "colorway": [
           "#636efa",
           "#EF553B",
           "#00cc96",
           "#ab63fa",
           "#FFA15A",
           "#19d3f3",
           "#FF6692",
           "#B6E880",
           "#FF97FF",
           "#FECB52"
          ],
          "font": {
           "color": "#2a3f5f"
          },
          "geo": {
           "bgcolor": "white",
           "lakecolor": "white",
           "landcolor": "#E5ECF6",
           "showlakes": true,
           "showland": true,
           "subunitcolor": "white"
          },
          "hoverlabel": {
           "align": "left"
          },
          "hovermode": "closest",
          "mapbox": {
           "style": "light"
          },
          "paper_bgcolor": "white",
          "plot_bgcolor": "#E5ECF6",
          "polar": {
           "angularaxis": {
            "gridcolor": "white",
            "linecolor": "white",
            "ticks": ""
           },
           "bgcolor": "#E5ECF6",
           "radialaxis": {
            "gridcolor": "white",
            "linecolor": "white",
            "ticks": ""
           }
          },
          "scene": {
           "xaxis": {
            "backgroundcolor": "#E5ECF6",
            "gridcolor": "white",
            "gridwidth": 2,
            "linecolor": "white",
            "showbackground": true,
            "ticks": "",
            "zerolinecolor": "white"
           },
           "yaxis": {
            "backgroundcolor": "#E5ECF6",
            "gridcolor": "white",
            "gridwidth": 2,
            "linecolor": "white",
            "showbackground": true,
            "ticks": "",
            "zerolinecolor": "white"
           },
           "zaxis": {
            "backgroundcolor": "#E5ECF6",
            "gridcolor": "white",
            "gridwidth": 2,
            "linecolor": "white",
            "showbackground": true,
            "ticks": "",
            "zerolinecolor": "white"
           }
          },
          "shapedefaults": {
           "line": {
            "color": "#2a3f5f"
           }
          },
          "ternary": {
           "aaxis": {
            "gridcolor": "white",
            "linecolor": "white",
            "ticks": ""
           },
           "baxis": {
            "gridcolor": "white",
            "linecolor": "white",
            "ticks": ""
           },
           "bgcolor": "#E5ECF6",
           "caxis": {
            "gridcolor": "white",
            "linecolor": "white",
            "ticks": ""
           }
          },
          "title": {
           "x": 0.05
          },
          "xaxis": {
           "automargin": true,
           "gridcolor": "white",
           "linecolor": "white",
           "ticks": "",
           "title": {
            "standoff": 15
           },
           "zerolinecolor": "white",
           "zerolinewidth": 2
          },
          "yaxis": {
           "automargin": true,
           "gridcolor": "white",
           "linecolor": "white",
           "ticks": "",
           "title": {
            "standoff": 15
           },
           "zerolinecolor": "white",
           "zerolinewidth": 2
          }
         }
        },
        "title": {
         "text": "Kerogen Type and Maturity"
        },
        "xaxis": {
         "title": {
          "text": "T max"
         }
        },
        "yaxis": {
         "title": {
          "text": "HI"
         }
        }
       }
      },
      "text/html": [
       "<div>                            <div id=\"a1d80c2f-b6a7-4e6b-ad51-6a75a2c31713\" class=\"plotly-graph-div\" style=\"height:525px; width:100%;\"></div>            <script type=\"text/javascript\">                require([\"plotly\"], function(Plotly) {                    window.PLOTLYENV=window.PLOTLYENV || {};                                    if (document.getElementById(\"a1d80c2f-b6a7-4e6b-ad51-6a75a2c31713\")) {                    Plotly.newPlot(                        \"a1d80c2f-b6a7-4e6b-ad51-6a75a2c31713\",                        [{\"hovertemplate\":\"<b>%{hovertext}</b><br><br>x=%{x}<br>y=%{y}<extra></extra>\",\"hovertext\":[9037.0,9078.5,9127.5,9142.0,9218.0,9333.5,9371.5,9398.0,9487.0,9609.5,9657.5,9663.5,9684.5,9717.5,9726.0,9731.5,9740.0,9853.0,9938.5,9952.5,9956.5,9962.5,9966.5,9972.5,9975.5,9980.5,9985.5,9990.5,9995.5,10000.5,10004.5,10010.5,10020.5,10026.5,10032.5,10166.5,10283.5,10292.5,10300.5,10310.5,10318.5,10325.5,10335.5,10346.5,10353.5,10360.5,10366.5,10374.0,10377.0,10380.5,10390.5],\"legendgroup\":\"\",\"marker\":{\"color\":\"#636efa\",\"symbol\":\"circle\"},\"mode\":\"markers\",\"name\":\"\",\"orientation\":\"v\",\"showlegend\":false,\"x\":[453,450,451,452,448,451,453,450,459,0,454,454,0,451,452,453,456,0,457,454,457,455,459,452,460,460,459,457,456,460,459,458,457,455,455,455,460,457,454,459,457,459,456,454,455,456,456,455,454,454,456],\"xaxis\":\"x\",\"y\":[159.07928388746802,237.85900783289816,238.63247863247864,113.04347826086956,121.6117216117216,150.91575091575092,168.08510638297872,120.72892938496584,142.5357873210634,47.22222222222222,170.87087087087087,160.09501187648456,83.33333333333334,53.76344086021505,98.26589595375722,84.33734939759036,110.13215859030836,400.0,124.40944881889763,123.01587301587301,143.03482587064678,126.56826568265683,121.05263157894737,97.41379310344827,174.02826855123675,107.95107033639144,110.18518518518518,136.44314868804665,126.08695652173914,102.83911671924291,141.02564102564102,148.9855072463768,132.6860841423948,141.2532637075718,145.58011049723757,183.68644067796612,132.20973782771537,219.14191419141918,148.6725663716814,126.4,114.08450704225353,142.07650273224044,128.19383259911893,190.27113237639554,203.4003091190108,109.87124463519314,156.140350877193,145.7831325301205,100.84745762711864,83.53413654618473,118.21561338289963],\"yaxis\":\"y\",\"type\":\"scatter\"},{\"hovertemplate\":\"x=%{x}<br>y=%{y}<extra></extra>\",\"legendgroup\":\"\",\"line\":{\"color\":\"#636efa\",\"dash\":\"solid\"},\"marker\":{\"symbol\":\"circle\"},\"mode\":\"lines\",\"name\":\"\",\"orientation\":\"v\",\"showlegend\":false,\"x\":[461.0564,460.94985,460.91789,460.84491,460.81188,460.6446,460.50982,460.43471,460.22801,460.02024,459.73896,459.59939,459.42625,459.4417,459.13165,458.93827,458.89193,458.71826,458.46788,458.43538,458.1264,457.91331,457.61232,457.64641,457.3598,457.10676,456.92989,456.74397,456.47228,456.19526,455.89001,455.55226,455.21345,454.93004,454.48041,454.20819,453.78094,453.6403,453.01595,452.66754,452.38094,452.00696,451.66602,451.32454,450.87971,450.45619,450.0428,449.59264,449.14568,448.76638,448.28693,447.8128,447.43137,447.09255,446.66797,446.12139,445.75647,445.25411,444.66438,444.28188,443.71773,443.17861,442.68903,442.07639,441.45204,440.76748,440.36634,439.65568,439.13627,438.32866,437.78528,437.24722,436.63618,435.97667,435.44767,434.71197,434.03967,433.58898,432.81493,432.06059,431.46287,430.69521,430.02664,429.35647,428.69908,427.96232,427.22396,426.56284,425.91824,425.19853,424.51824,423.83741,423.12089,422.3559,421.61914,420.82963,419.95649,419.10093,418.3988,417.75154,417.10267,416.23806,415.54498,414.84178,414.00433,413.20151,412.48659,411.68697],\"xaxis\":\"x\",\"y\":[96.67078,105.54061,113.59802,122.35872,130.93147,143.59658,154.88545,167.59301,180.31875,189.58872,201.23529,212.36652,223.83121,232.99205,242.4439,251.16822,259.69247,268.4471,278.01414,286.24738,294.84438,304.50236,314.0694,323.36968,332.37289,341.23665,350.31261,358.1457,366.32437,375.78229,384.24591,392.77015,401.94312,410.5583,417.62749,426.04261,434.2334,442.92741,450.40279,459.30293,466.69951,475.45414,482.68095,491.63566,501.18451,509.42381,518.07538,525.99335,533.3111,542.30218,550.71124,558.68377,566.03791,573.02828,581.51615,588.4277,596.58212,605.34887,613.27897,621.76684,629.1331,637.58459,645.56319,653.63273,661.73865,667.89842,675.87702,683.50397,692.53749,698.1698,705.80282,712.02928,718.49219,724.70652,732.27285,737.88091,743.77392,750.40658,755.69938,761.75608,768.47969,774.67583,780.43546,786.27996,791.50607,797.80528,803.24964,809.03958,815.4843,820.46789,827.8584,832.79956,838.17117,844.99178,848.98714,855.09841,860.94291,865.99319,871.86801,876.17864,879.93149,882.89012,887.21893,891.23855,895.27029,899.84161,902.53954,907.15937],\"yaxis\":\"y\",\"type\":\"scatter\"},{\"hovertemplate\":\"x=%{x}<br>y=%{y}<extra></extra>\",\"legendgroup\":\"\",\"line\":{\"color\":\"#636efa\",\"dash\":\"solid\"},\"marker\":{\"symbol\":\"circle\"},\"mode\":\"lines\",\"name\":\"\",\"orientation\":\"v\",\"showlegend\":false,\"x\":[462.03612,461.31222,460.73758,460.2317,459.8431,459.18797,458.38678,457.91118,457.5079,457.1302,456.88301,456.74344,456.40889,456.12388,455.7547,455.48141,455.16603,454.85812,454.36907,453.98658,453.66854,453.29989,452.88436,452.47256,452.089,451.77895,451.24676,450.66182,450.32674,449.91974,449.41205,448.90596,448.40413,447.71478,447.3701,446.85229,446.21568,445.60251,445.02344,444.57915,444.06506,443.34801,442.69276,442.18347,441.61878,440.88735,440.09998,439.612,439.01215,438.24449,437.90088,437.15399,436.56213,436.06989,435.36243,434.74394,433.97787,433.29545,432.36797,431.89651,431.06226,430.39369,429.86149,429.07945,428.49931,427.66772,427.127,426.40889,425.54267,424.81497,424.0862,423.2642,422.52264,421.75072,420.9186,420.07263,419.17924,418.23632,417.33441,416.48151,415.68083,414.74482,413.91803,412.98949,412.13233,411.94058,411.12233,410.343,409.4192,408.59882,407.6617,406.82745,405.91272],\"xaxis\":\"x\",\"y\":[76.39686,80.23916,86.44268,91.03159,98.11527,105.66026,108.81666,114.90152,122.45572,132.74423,141.82019,150.95678,159.39615,166.70784,176.49921,184.09585,193.58408,201.82338,210.36581,219.07194,227.63863,234.53199,243.40182,252.03519,258.96493,266.39788,273.7217,280.95458,288.56941,295.09901,302.7381,308.81905,317.54337,324.08509,331.97275,340.53943,347.29942,354.25947,361.92887,368.6646,375.17601,380.99626,386.79833,394.21915,402.22807,408.9638,416.13605,423.64175,429.40138,435.85216,442.95772,449.12961,455.49552,462.3525,468.51834,474.65992,482.35357,489.04686,494.27296,500.32966,505.1435,511.63066,517.14777,521.28258,528.03044,530.87993,538.25226,542.27187,547.40703,553.39704,557.30146,562.69126,567.49903,571.69447,574.33783,578.32713,582.71051,585.02649,588.94303,591.64703,592.7747,595.97584,597.5461,600.11065,600.88668,600.15782,601.32933,601.69353,602.78005,604.80743,606.87123,606.87123,607.61783],\"yaxis\":\"y\",\"type\":\"scatter\"},{\"hovertemplate\":\"x=%{x}<br>y=%{y}<extra></extra>\",\"legendgroup\":\"\",\"line\":{\"color\":\"#636efa\",\"dash\":\"solid\"},\"marker\":{\"symbol\":\"circle\"},\"mode\":\"lines\",\"name\":\"\",\"orientation\":\"v\",\"showlegend\":false,\"x\":[463.54308,462.80159,462.11341,461.37565,460.71359,460.07818,459.41612,458.83935,458.37718,457.81907,457.30786,456.5781,455.7929,454.83072,454.47029,453.88269,453.05963,452.35909,451.65483,450.9511,450.13283,449.51806,448.91981,448.10953,447.41219,446.63015,445.81294,445.05594,444.26537,443.50463,442.61072,441.75995,441.02159,440.25447,439.50119,438.74898,437.73573,436.94943,436.08268,435.26334,434.42803,433.57673,432.64872,431.95937,431.17093,430.27595,429.41826,428.46575,427.53933,426.77753,425.94382,425.10797,424.37973,423.50872,422.68512,421.70331,420.86213,420.152,419.17658,418.39241,417.68388,416.67809,415.88007,415.0911,414.14426,413.25724,412.40701,411.50667,410.69748,409.76782,408.87548,407.97887,407.17927,406.41966,405.52039,404.60565,403.79273,402.91425],\"xaxis\":\"x\",\"y\":[44.63261,46.21688,52.7057,59.61334,65.72582,72.05682,77.00385,83.88115,89.96935,95.31094,101.15026,103.02589,107.38414,111.85165,112.50066,118.96963,123.71072,126.05094,130.47676,134.44181,139.51634,143.37832,147.20999,151.54487,154.61263,158.28666,161.26954,165.80449,168.848,171.09728,174.31055,177.31162,178.73031,181.17966,182.30734,184.21104,185.79343,186.97567,189.32196,190.8134,192.03201,192.4079,194.77238,194.77238,195.57873,195.57873,197.20961,197.61582,198.73137,199.45284,199.45284,200.23493,200.60476,202.25383,201.51418,201.51418,201.51418,201.56268,202.38721,202.38721,202.38721,202.38721,202.38721,202.38721,202.0638,201.22007,201.58427,201.58427,200.01821,200.01821,200.01821,200.4249,200.4249,200.4249,200.04856,200.04856,199.66008,199.66008],\"yaxis\":\"y\",\"type\":\"scatter\"},{\"hovertemplate\":\"x=%{x}<br>y=%{y}<extra></extra>\",\"legendgroup\":\"\",\"line\":{\"color\":\"#636efa\",\"dash\":\"solid\"},\"marker\":{\"symbol\":\"circle\"},\"mode\":\"lines\",\"name\":\"\",\"orientation\":\"v\",\"showlegend\":false,\"x\":[430.5,430.5],\"xaxis\":\"x\",\"y\":[0,1000],\"yaxis\":\"y\",\"type\":\"scatter\"},{\"hovertemplate\":\"x=%{x}<br>y=%{y}<extra></extra>\",\"legendgroup\":\"\",\"line\":{\"color\":\"#636efa\",\"dash\":\"solid\"},\"marker\":{\"symbol\":\"circle\"},\"mode\":\"lines\",\"name\":\"\",\"orientation\":\"v\",\"showlegend\":false,\"x\":[464.87,464.87],\"xaxis\":\"x\",\"y\":[0,1000],\"yaxis\":\"y\",\"type\":\"scatter\"}],                        {\"template\":{\"data\":{\"histogram2dcontour\":[{\"type\":\"histogram2dcontour\",\"colorbar\":{\"outlinewidth\":0,\"ticks\":\"\"},\"colorscale\":[[0.0,\"#0d0887\"],[0.1111111111111111,\"#46039f\"],[0.2222222222222222,\"#7201a8\"],[0.3333333333333333,\"#9c179e\"],[0.4444444444444444,\"#bd3786\"],[0.5555555555555556,\"#d8576b\"],[0.6666666666666666,\"#ed7953\"],[0.7777777777777778,\"#fb9f3a\"],[0.8888888888888888,\"#fdca26\"],[1.0,\"#f0f921\"]]}],\"choropleth\":[{\"type\":\"choropleth\",\"colorbar\":{\"outlinewidth\":0,\"ticks\":\"\"}}],\"histogram2d\":[{\"type\":\"histogram2d\",\"colorbar\":{\"outlinewidth\":0,\"ticks\":\"\"},\"colorscale\":[[0.0,\"#0d0887\"],[0.1111111111111111,\"#46039f\"],[0.2222222222222222,\"#7201a8\"],[0.3333333333333333,\"#9c179e\"],[0.4444444444444444,\"#bd3786\"],[0.5555555555555556,\"#d8576b\"],[0.6666666666666666,\"#ed7953\"],[0.7777777777777778,\"#fb9f3a\"],[0.8888888888888888,\"#fdca26\"],[1.0,\"#f0f921\"]]}],\"heatmap\":[{\"type\":\"heatmap\",\"colorbar\":{\"outlinewidth\":0,\"ticks\":\"\"},\"colorscale\":[[0.0,\"#0d0887\"],[0.1111111111111111,\"#46039f\"],[0.2222222222222222,\"#7201a8\"],[0.3333333333333333,\"#9c179e\"],[0.4444444444444444,\"#bd3786\"],[0.5555555555555556,\"#d8576b\"],[0.6666666666666666,\"#ed7953\"],[0.7777777777777778,\"#fb9f3a\"],[0.8888888888888888,\"#fdca26\"],[1.0,\"#f0f921\"]]}],\"heatmapgl\":[{\"type\":\"heatmapgl\",\"colorbar\":{\"outlinewidth\":0,\"ticks\":\"\"},\"colorscale\":[[0.0,\"#0d0887\"],[0.1111111111111111,\"#46039f\"],[0.2222222222222222,\"#7201a8\"],[0.3333333333333333,\"#9c179e\"],[0.4444444444444444,\"#bd3786\"],[0.5555555555555556,\"#d8576b\"],[0.6666666666666666,\"#ed7953\"],[0.7777777777777778,\"#fb9f3a\"],[0.8888888888888888,\"#fdca26\"],[1.0,\"#f0f921\"]]}],\"contourcarpet\":[{\"type\":\"contourcarpet\",\"colorbar\":{\"outlinewidth\":0,\"ticks\":\"\"}}],\"contour\":[{\"type\":\"contour\",\"colorbar\":{\"outlinewidth\":0,\"ticks\":\"\"},\"colorscale\":[[0.0,\"#0d0887\"],[0.1111111111111111,\"#46039f\"],[0.2222222222222222,\"#7201a8\"],[0.3333333333333333,\"#9c179e\"],[0.4444444444444444,\"#bd3786\"],[0.5555555555555556,\"#d8576b\"],[0.6666666666666666,\"#ed7953\"],[0.7777777777777778,\"#fb9f3a\"],[0.8888888888888888,\"#fdca26\"],[1.0,\"#f0f921\"]]}],\"surface\":[{\"type\":\"surface\",\"colorbar\":{\"outlinewidth\":0,\"ticks\":\"\"},\"colorscale\":[[0.0,\"#0d0887\"],[0.1111111111111111,\"#46039f\"],[0.2222222222222222,\"#7201a8\"],[0.3333333333333333,\"#9c179e\"],[0.4444444444444444,\"#bd3786\"],[0.5555555555555556,\"#d8576b\"],[0.6666666666666666,\"#ed7953\"],[0.7777777777777778,\"#fb9f3a\"],[0.8888888888888888,\"#fdca26\"],[1.0,\"#f0f921\"]]}],\"mesh3d\":[{\"type\":\"mesh3d\",\"colorbar\":{\"outlinewidth\":0,\"ticks\":\"\"}}],\"scatter\":[{\"fillpattern\":{\"fillmode\":\"overlay\",\"size\":10,\"solidity\":0.2},\"type\":\"scatter\"}],\"parcoords\":[{\"type\":\"parcoords\",\"line\":{\"colorbar\":{\"outlinewidth\":0,\"ticks\":\"\"}}}],\"scatterpolargl\":[{\"type\":\"scatterpolargl\",\"marker\":{\"colorbar\":{\"outlinewidth\":0,\"ticks\":\"\"}}}],\"bar\":[{\"error_x\":{\"color\":\"#2a3f5f\"},\"error_y\":{\"color\":\"#2a3f5f\"},\"marker\":{\"line\":{\"color\":\"#E5ECF6\",\"width\":0.5},\"pattern\":{\"fillmode\":\"overlay\",\"size\":10,\"solidity\":0.2}},\"type\":\"bar\"}],\"scattergeo\":[{\"type\":\"scattergeo\",\"marker\":{\"colorbar\":{\"outlinewidth\":0,\"ticks\":\"\"}}}],\"scatterpolar\":[{\"type\":\"scatterpolar\",\"marker\":{\"colorbar\":{\"outlinewidth\":0,\"ticks\":\"\"}}}],\"histogram\":[{\"marker\":{\"pattern\":{\"fillmode\":\"overlay\",\"size\":10,\"solidity\":0.2}},\"type\":\"histogram\"}],\"scattergl\":[{\"type\":\"scattergl\",\"marker\":{\"colorbar\":{\"outlinewidth\":0,\"ticks\":\"\"}}}],\"scatter3d\":[{\"type\":\"scatter3d\",\"line\":{\"colorbar\":{\"outlinewidth\":0,\"ticks\":\"\"}},\"marker\":{\"colorbar\":{\"outlinewidth\":0,\"ticks\":\"\"}}}],\"scattermapbox\":[{\"type\":\"scattermapbox\",\"marker\":{\"colorbar\":{\"outlinewidth\":0,\"ticks\":\"\"}}}],\"scatterternary\":[{\"type\":\"scatterternary\",\"marker\":{\"colorbar\":{\"outlinewidth\":0,\"ticks\":\"\"}}}],\"scattercarpet\":[{\"type\":\"scattercarpet\",\"marker\":{\"colorbar\":{\"outlinewidth\":0,\"ticks\":\"\"}}}],\"carpet\":[{\"aaxis\":{\"endlinecolor\":\"#2a3f5f\",\"gridcolor\":\"white\",\"linecolor\":\"white\",\"minorgridcolor\":\"white\",\"startlinecolor\":\"#2a3f5f\"},\"baxis\":{\"endlinecolor\":\"#2a3f5f\",\"gridcolor\":\"white\",\"linecolor\":\"white\",\"minorgridcolor\":\"white\",\"startlinecolor\":\"#2a3f5f\"},\"type\":\"carpet\"}],\"table\":[{\"cells\":{\"fill\":{\"color\":\"#EBF0F8\"},\"line\":{\"color\":\"white\"}},\"header\":{\"fill\":{\"color\":\"#C8D4E3\"},\"line\":{\"color\":\"white\"}},\"type\":\"table\"}],\"barpolar\":[{\"marker\":{\"line\":{\"color\":\"#E5ECF6\",\"width\":0.5},\"pattern\":{\"fillmode\":\"overlay\",\"size\":10,\"solidity\":0.2}},\"type\":\"barpolar\"}],\"pie\":[{\"automargin\":true,\"type\":\"pie\"}]},\"layout\":{\"autotypenumbers\":\"strict\",\"colorway\":[\"#636efa\",\"#EF553B\",\"#00cc96\",\"#ab63fa\",\"#FFA15A\",\"#19d3f3\",\"#FF6692\",\"#B6E880\",\"#FF97FF\",\"#FECB52\"],\"font\":{\"color\":\"#2a3f5f\"},\"hovermode\":\"closest\",\"hoverlabel\":{\"align\":\"left\"},\"paper_bgcolor\":\"white\",\"plot_bgcolor\":\"#E5ECF6\",\"polar\":{\"bgcolor\":\"#E5ECF6\",\"angularaxis\":{\"gridcolor\":\"white\",\"linecolor\":\"white\",\"ticks\":\"\"},\"radialaxis\":{\"gridcolor\":\"white\",\"linecolor\":\"white\",\"ticks\":\"\"}},\"ternary\":{\"bgcolor\":\"#E5ECF6\",\"aaxis\":{\"gridcolor\":\"white\",\"linecolor\":\"white\",\"ticks\":\"\"},\"baxis\":{\"gridcolor\":\"white\",\"linecolor\":\"white\",\"ticks\":\"\"},\"caxis\":{\"gridcolor\":\"white\",\"linecolor\":\"white\",\"ticks\":\"\"}},\"coloraxis\":{\"colorbar\":{\"outlinewidth\":0,\"ticks\":\"\"}},\"colorscale\":{\"sequential\":[[0.0,\"#0d0887\"],[0.1111111111111111,\"#46039f\"],[0.2222222222222222,\"#7201a8\"],[0.3333333333333333,\"#9c179e\"],[0.4444444444444444,\"#bd3786\"],[0.5555555555555556,\"#d8576b\"],[0.6666666666666666,\"#ed7953\"],[0.7777777777777778,\"#fb9f3a\"],[0.8888888888888888,\"#fdca26\"],[1.0,\"#f0f921\"]],\"sequentialminus\":[[0.0,\"#0d0887\"],[0.1111111111111111,\"#46039f\"],[0.2222222222222222,\"#7201a8\"],[0.3333333333333333,\"#9c179e\"],[0.4444444444444444,\"#bd3786\"],[0.5555555555555556,\"#d8576b\"],[0.6666666666666666,\"#ed7953\"],[0.7777777777777778,\"#fb9f3a\"],[0.8888888888888888,\"#fdca26\"],[1.0,\"#f0f921\"]],\"diverging\":[[0,\"#8e0152\"],[0.1,\"#c51b7d\"],[0.2,\"#de77ae\"],[0.3,\"#f1b6da\"],[0.4,\"#fde0ef\"],[0.5,\"#f7f7f7\"],[0.6,\"#e6f5d0\"],[0.7,\"#b8e186\"],[0.8,\"#7fbc41\"],[0.9,\"#4d9221\"],[1,\"#276419\"]]},\"xaxis\":{\"gridcolor\":\"white\",\"linecolor\":\"white\",\"ticks\":\"\",\"title\":{\"standoff\":15},\"zerolinecolor\":\"white\",\"automargin\":true,\"zerolinewidth\":2},\"yaxis\":{\"gridcolor\":\"white\",\"linecolor\":\"white\",\"ticks\":\"\",\"title\":{\"standoff\":15},\"zerolinecolor\":\"white\",\"automargin\":true,\"zerolinewidth\":2},\"scene\":{\"xaxis\":{\"backgroundcolor\":\"#E5ECF6\",\"gridcolor\":\"white\",\"linecolor\":\"white\",\"showbackground\":true,\"ticks\":\"\",\"zerolinecolor\":\"white\",\"gridwidth\":2},\"yaxis\":{\"backgroundcolor\":\"#E5ECF6\",\"gridcolor\":\"white\",\"linecolor\":\"white\",\"showbackground\":true,\"ticks\":\"\",\"zerolinecolor\":\"white\",\"gridwidth\":2},\"zaxis\":{\"backgroundcolor\":\"#E5ECF6\",\"gridcolor\":\"white\",\"linecolor\":\"white\",\"showbackground\":true,\"ticks\":\"\",\"zerolinecolor\":\"white\",\"gridwidth\":2}},\"shapedefaults\":{\"line\":{\"color\":\"#2a3f5f\"}},\"annotationdefaults\":{\"arrowcolor\":\"#2a3f5f\",\"arrowhead\":0,\"arrowwidth\":1},\"geo\":{\"bgcolor\":\"white\",\"landcolor\":\"#E5ECF6\",\"subunitcolor\":\"white\",\"showland\":true,\"showlakes\":true,\"lakecolor\":\"white\"},\"title\":{\"x\":0.05},\"mapbox\":{\"style\":\"light\"}}},\"title\":{\"text\":\"Kerogen Type and Maturity\"},\"xaxis\":{\"title\":{\"text\":\"T max\"}},\"yaxis\":{\"title\":{\"text\":\"HI\"}},\"legend\":{\"title\":{\"text\":\"Kerogen Type and Maturity\"}}},                        {\"responsive\": true}                    ).then(function(){\n",
       "                            \n",
       "var gd = document.getElementById('a1d80c2f-b6a7-4e6b-ad51-6a75a2c31713');\n",
       "var x = new MutationObserver(function (mutations, observer) {{\n",
       "        var display = window.getComputedStyle(gd).display;\n",
       "        if (!display || display === 'none') {{\n",
       "            console.log([gd, 'removed!']);\n",
       "            Plotly.purge(gd);\n",
       "            observer.disconnect();\n",
       "        }}\n",
       "}});\n",
       "\n",
       "// Listen for the removal of the full notebook cells\n",
       "var notebookContainer = gd.closest('#notebook-container');\n",
       "if (notebookContainer) {{\n",
       "    x.observe(notebookContainer, {childList: true});\n",
       "}}\n",
       "\n",
       "// Listen for the clearing of the current output cell\n",
       "var outputEl = gd.closest('.output');\n",
       "if (outputEl) {{\n",
       "    x.observe(outputEl, {childList: true});\n",
       "}}\n",
       "\n",
       "                        })                };                });            </script>        </div>"
      ]
     },
     "metadata": {},
     "output_type": "display_data"
    },
    {
     "data": {
      "application/vnd.plotly.v1+json": {
       "config": {
        "plotlyServerURL": "https://plot.ly"
       },
       "data": [
        {
         "hovertemplate": "<b>%{hovertext}</b><br><br>color=TYPE II Oil Generation<br>x=%{x}<br>y=%{y}<extra></extra>",
         "hovertext": [
          9037,
          9078.5,
          9127.5,
          9333.5,
          9371.5,
          9657.5,
          9663.5,
          9740,
          9938.5,
          9952.5,
          9962.5,
          9995.5,
          10020.5,
          10026.5,
          10032.5,
          10166.5,
          10300.5,
          10318.5,
          10335.5,
          10346.5,
          10360.5,
          10366.5,
          10374,
          10390.5
         ],
         "legendgroup": "TYPE II Oil Generation",
         "marker": {
          "color": "navy",
          "symbol": "circle"
         },
         "mode": "markers",
         "name": "TYPE II Oil Generation",
         "orientation": "v",
         "showlegend": true,
         "type": "scatter",
         "x": [
          453,
          450,
          451,
          451,
          453,
          454,
          454,
          456,
          457,
          454,
          455,
          456,
          457,
          455,
          455,
          455,
          454,
          457,
          456,
          454,
          456,
          456,
          455,
          456
         ],
         "xaxis": "x",
         "y": [
          159.07928388746802,
          237.85900783289816,
          238.63247863247864,
          150.91575091575092,
          168.08510638297872,
          170.87087087087087,
          160.09501187648456,
          110.13215859030836,
          124.40944881889763,
          123.01587301587301,
          126.56826568265683,
          126.08695652173914,
          132.6860841423948,
          141.2532637075718,
          145.58011049723757,
          183.68644067796612,
          148.6725663716814,
          114.08450704225353,
          128.19383259911893,
          190.27113237639554,
          109.87124463519314,
          156.140350877193,
          145.7831325301205,
          118.21561338289963
         ],
         "yaxis": "y"
        },
        {
         "hovertemplate": "<b>%{hovertext}</b><br><br>color=TYPE III Oil Generation<br>x=%{x}<br>y=%{y}<extra></extra>",
         "hovertext": [
          9142,
          9218,
          9398,
          9717.5,
          9726,
          9731.5,
          9972.5,
          10377,
          10380.5
         ],
         "legendgroup": "TYPE III Oil Generation",
         "marker": {
          "color": "orangered",
          "symbol": "circle"
         },
         "mode": "markers",
         "name": "TYPE III Oil Generation",
         "orientation": "v",
         "showlegend": true,
         "type": "scatter",
         "x": [
          452,
          448,
          450,
          451,
          452,
          453,
          452,
          454,
          454
         ],
         "xaxis": "x",
         "y": [
          113.04347826086956,
          121.6117216117216,
          120.72892938496584,
          53.76344086021505,
          98.26589595375722,
          84.33734939759036,
          97.41379310344827,
          100.84745762711864,
          83.53413654618473
         ],
         "yaxis": "y"
        },
        {
         "hovertemplate": "<b>%{hovertext}</b><br><br>color=TYPE I Oil Generation<br>x=%{x}<br>y=%{y}<extra></extra>",
         "hovertext": [
          9487,
          9956.5,
          9966.5,
          9975.5,
          9980.5,
          9985.5,
          9990.5,
          10000.5,
          10004.5,
          10010.5,
          10283.5,
          10292.5,
          10310.5,
          10325.5,
          10353.5
         ],
         "legendgroup": "TYPE I Oil Generation",
         "marker": {
          "color": "deepskyblue",
          "symbol": "circle"
         },
         "mode": "markers",
         "name": "TYPE I Oil Generation",
         "orientation": "v",
         "showlegend": true,
         "type": "scatter",
         "x": [
          459,
          457,
          459,
          460,
          460,
          459,
          457,
          460,
          459,
          458,
          460,
          457,
          459,
          459,
          455
         ],
         "xaxis": "x",
         "y": [
          142.5357873210634,
          143.03482587064678,
          121.05263157894737,
          174.02826855123675,
          107.95107033639144,
          110.18518518518518,
          136.44314868804665,
          102.83911671924291,
          141.02564102564102,
          148.9855072463768,
          132.20973782771537,
          219.14191419141918,
          126.4,
          142.07650273224044,
          203.4003091190108
         ],
         "yaxis": "y"
        },
        {
         "hovertemplate": "<b>%{hovertext}</b><br><br>color=TYPE III Immature<br>x=%{x}<br>y=%{y}<extra></extra>",
         "hovertext": [
          9609.5,
          9684.5
         ],
         "legendgroup": "TYPE III Immature",
         "marker": {
          "color": "coral",
          "symbol": "circle"
         },
         "mode": "markers",
         "name": "TYPE III Immature",
         "orientation": "v",
         "showlegend": true,
         "type": "scatter",
         "x": [
          0,
          0
         ],
         "xaxis": "x",
         "y": [
          47.22222222222222,
          83.33333333333334
         ],
         "yaxis": "y"
        },
        {
         "hovertemplate": "<b>%{hovertext}</b><br><br>color=TYPE II Immature<br>x=%{x}<br>y=%{y}<extra></extra>",
         "hovertext": [
          9853
         ],
         "legendgroup": "TYPE II Immature",
         "marker": {
          "color": "mediumblue",
          "symbol": "circle"
         },
         "mode": "markers",
         "name": "TYPE II Immature",
         "orientation": "v",
         "showlegend": true,
         "type": "scatter",
         "x": [
          0
         ],
         "xaxis": "x",
         "y": [
          400
         ],
         "yaxis": "y"
        },
        {
         "hovertemplate": "x=%{x}<br>y=%{y}<extra></extra>",
         "legendgroup": "",
         "line": {
          "color": "#636efa",
          "dash": "solid"
         },
         "marker": {
          "symbol": "circle"
         },
         "mode": "lines",
         "name": "",
         "orientation": "v",
         "showlegend": false,
         "type": "scatter",
         "x": [
          461.0564,
          460.94985,
          460.91789,
          460.84491,
          460.81188,
          460.6446,
          460.50982,
          460.43471,
          460.22801,
          460.02024,
          459.73896,
          459.59939,
          459.42625,
          459.4417,
          459.13165,
          458.93827,
          458.89193,
          458.71826,
          458.46788,
          458.43538,
          458.1264,
          457.91331,
          457.61232,
          457.64641,
          457.3598,
          457.10676,
          456.92989,
          456.74397,
          456.47228,
          456.19526,
          455.89001,
          455.55226,
          455.21345,
          454.93004,
          454.48041,
          454.20819,
          453.78094,
          453.6403,
          453.01595,
          452.66754,
          452.38094,
          452.00696,
          451.66602,
          451.32454,
          450.87971,
          450.45619,
          450.0428,
          449.59264,
          449.14568,
          448.76638,
          448.28693,
          447.8128,
          447.43137,
          447.09255,
          446.66797,
          446.12139,
          445.75647,
          445.25411,
          444.66438,
          444.28188,
          443.71773,
          443.17861,
          442.68903,
          442.07639,
          441.45204,
          440.76748,
          440.36634,
          439.65568,
          439.13627,
          438.32866,
          437.78528,
          437.24722,
          436.63618,
          435.97667,
          435.44767,
          434.71197,
          434.03967,
          433.58898,
          432.81493,
          432.06059,
          431.46287,
          430.69521,
          430.02664,
          429.35647,
          428.69908,
          427.96232,
          427.22396,
          426.56284,
          425.91824,
          425.19853,
          424.51824,
          423.83741,
          423.12089,
          422.3559,
          421.61914,
          420.82963,
          419.95649,
          419.10093,
          418.3988,
          417.75154,
          417.10267,
          416.23806,
          415.54498,
          414.84178,
          414.00433,
          413.20151,
          412.48659,
          411.68697
         ],
         "xaxis": "x",
         "y": [
          96.67078,
          105.54061,
          113.59802,
          122.35872,
          130.93147,
          143.59658,
          154.88545,
          167.59301,
          180.31875,
          189.58872,
          201.23529,
          212.36652,
          223.83121,
          232.99205,
          242.4439,
          251.16822,
          259.69247,
          268.4471,
          278.01414,
          286.24738,
          294.84438,
          304.50236,
          314.0694,
          323.36968,
          332.37289,
          341.23665,
          350.31261,
          358.1457,
          366.32437,
          375.78229,
          384.24591,
          392.77015,
          401.94312,
          410.5583,
          417.62749,
          426.04261,
          434.2334,
          442.92741,
          450.40279,
          459.30293,
          466.69951,
          475.45414,
          482.68095,
          491.63566,
          501.18451,
          509.42381,
          518.07538,
          525.99335,
          533.3111,
          542.30218,
          550.71124,
          558.68377,
          566.03791,
          573.02828,
          581.51615,
          588.4277,
          596.58212,
          605.34887,
          613.27897,
          621.76684,
          629.1331,
          637.58459,
          645.56319,
          653.63273,
          661.73865,
          667.89842,
          675.87702,
          683.50397,
          692.53749,
          698.1698,
          705.80282,
          712.02928,
          718.49219,
          724.70652,
          732.27285,
          737.88091,
          743.77392,
          750.40658,
          755.69938,
          761.75608,
          768.47969,
          774.67583,
          780.43546,
          786.27996,
          791.50607,
          797.80528,
          803.24964,
          809.03958,
          815.4843,
          820.46789,
          827.8584,
          832.79956,
          838.17117,
          844.99178,
          848.98714,
          855.09841,
          860.94291,
          865.99319,
          871.86801,
          876.17864,
          879.93149,
          882.89012,
          887.21893,
          891.23855,
          895.27029,
          899.84161,
          902.53954,
          907.15937
         ],
         "yaxis": "y"
        },
        {
         "hovertemplate": "x=%{x}<br>y=%{y}<extra></extra>",
         "legendgroup": "",
         "line": {
          "color": "#636efa",
          "dash": "solid"
         },
         "marker": {
          "symbol": "circle"
         },
         "mode": "lines",
         "name": "",
         "orientation": "v",
         "showlegend": false,
         "type": "scatter",
         "x": [
          462.03612,
          461.31222,
          460.73758,
          460.2317,
          459.8431,
          459.18797,
          458.38678,
          457.91118,
          457.5079,
          457.1302,
          456.88301,
          456.74344,
          456.40889,
          456.12388,
          455.7547,
          455.48141,
          455.16603,
          454.85812,
          454.36907,
          453.98658,
          453.66854,
          453.29989,
          452.88436,
          452.47256,
          452.089,
          451.77895,
          451.24676,
          450.66182,
          450.32674,
          449.91974,
          449.41205,
          448.90596,
          448.40413,
          447.71478,
          447.3701,
          446.85229,
          446.21568,
          445.60251,
          445.02344,
          444.57915,
          444.06506,
          443.34801,
          442.69276,
          442.18347,
          441.61878,
          440.88735,
          440.09998,
          439.612,
          439.01215,
          438.24449,
          437.90088,
          437.15399,
          436.56213,
          436.06989,
          435.36243,
          434.74394,
          433.97787,
          433.29545,
          432.36797,
          431.89651,
          431.06226,
          430.39369,
          429.86149,
          429.07945,
          428.49931,
          427.66772,
          427.127,
          426.40889,
          425.54267,
          424.81497,
          424.0862,
          423.2642,
          422.52264,
          421.75072,
          420.9186,
          420.07263,
          419.17924,
          418.23632,
          417.33441,
          416.48151,
          415.68083,
          414.74482,
          413.91803,
          412.98949,
          412.13233,
          411.94058,
          411.12233,
          410.343,
          409.4192,
          408.59882,
          407.6617,
          406.82745,
          405.91272
         ],
         "xaxis": "x",
         "y": [
          76.39686,
          80.23916,
          86.44268,
          91.03159,
          98.11527,
          105.66026,
          108.81666,
          114.90152,
          122.45572,
          132.74423,
          141.82019,
          150.95678,
          159.39615,
          166.70784,
          176.49921,
          184.09585,
          193.58408,
          201.82338,
          210.36581,
          219.07194,
          227.63863,
          234.53199,
          243.40182,
          252.03519,
          258.96493,
          266.39788,
          273.7217,
          280.95458,
          288.56941,
          295.09901,
          302.7381,
          308.81905,
          317.54337,
          324.08509,
          331.97275,
          340.53943,
          347.29942,
          354.25947,
          361.92887,
          368.6646,
          375.17601,
          380.99626,
          386.79833,
          394.21915,
          402.22807,
          408.9638,
          416.13605,
          423.64175,
          429.40138,
          435.85216,
          442.95772,
          449.12961,
          455.49552,
          462.3525,
          468.51834,
          474.65992,
          482.35357,
          489.04686,
          494.27296,
          500.32966,
          505.1435,
          511.63066,
          517.14777,
          521.28258,
          528.03044,
          530.87993,
          538.25226,
          542.27187,
          547.40703,
          553.39704,
          557.30146,
          562.69126,
          567.49903,
          571.69447,
          574.33783,
          578.32713,
          582.71051,
          585.02649,
          588.94303,
          591.64703,
          592.7747,
          595.97584,
          597.5461,
          600.11065,
          600.88668,
          600.15782,
          601.32933,
          601.69353,
          602.78005,
          604.80743,
          606.87123,
          606.87123,
          607.61783
         ],
         "yaxis": "y"
        },
        {
         "hovertemplate": "x=%{x}<br>y=%{y}<extra></extra>",
         "legendgroup": "",
         "line": {
          "color": "#636efa",
          "dash": "solid"
         },
         "marker": {
          "symbol": "circle"
         },
         "mode": "lines",
         "name": "",
         "orientation": "v",
         "showlegend": false,
         "type": "scatter",
         "x": [
          463.54308,
          462.80159,
          462.11341,
          461.37565,
          460.71359,
          460.07818,
          459.41612,
          458.83935,
          458.37718,
          457.81907,
          457.30786,
          456.5781,
          455.7929,
          454.83072,
          454.47029,
          453.88269,
          453.05963,
          452.35909,
          451.65483,
          450.9511,
          450.13283,
          449.51806,
          448.91981,
          448.10953,
          447.41219,
          446.63015,
          445.81294,
          445.05594,
          444.26537,
          443.50463,
          442.61072,
          441.75995,
          441.02159,
          440.25447,
          439.50119,
          438.74898,
          437.73573,
          436.94943,
          436.08268,
          435.26334,
          434.42803,
          433.57673,
          432.64872,
          431.95937,
          431.17093,
          430.27595,
          429.41826,
          428.46575,
          427.53933,
          426.77753,
          425.94382,
          425.10797,
          424.37973,
          423.50872,
          422.68512,
          421.70331,
          420.86213,
          420.152,
          419.17658,
          418.39241,
          417.68388,
          416.67809,
          415.88007,
          415.0911,
          414.14426,
          413.25724,
          412.40701,
          411.50667,
          410.69748,
          409.76782,
          408.87548,
          407.97887,
          407.17927,
          406.41966,
          405.52039,
          404.60565,
          403.79273,
          402.91425
         ],
         "xaxis": "x",
         "y": [
          44.63261,
          46.21688,
          52.7057,
          59.61334,
          65.72582,
          72.05682,
          77.00385,
          83.88115,
          89.96935,
          95.31094,
          101.15026,
          103.02589,
          107.38414,
          111.85165,
          112.50066,
          118.96963,
          123.71072,
          126.05094,
          130.47676,
          134.44181,
          139.51634,
          143.37832,
          147.20999,
          151.54487,
          154.61263,
          158.28666,
          161.26954,
          165.80449,
          168.848,
          171.09728,
          174.31055,
          177.31162,
          178.73031,
          181.17966,
          182.30734,
          184.21104,
          185.79343,
          186.97567,
          189.32196,
          190.8134,
          192.03201,
          192.4079,
          194.77238,
          194.77238,
          195.57873,
          195.57873,
          197.20961,
          197.61582,
          198.73137,
          199.45284,
          199.45284,
          200.23493,
          200.60476,
          202.25383,
          201.51418,
          201.51418,
          201.51418,
          201.56268,
          202.38721,
          202.38721,
          202.38721,
          202.38721,
          202.38721,
          202.38721,
          202.0638,
          201.22007,
          201.58427,
          201.58427,
          200.01821,
          200.01821,
          200.01821,
          200.4249,
          200.4249,
          200.4249,
          200.04856,
          200.04856,
          199.66008,
          199.66008
         ],
         "yaxis": "y"
        },
        {
         "hovertemplate": "x=%{x}<br>y=%{y}<extra></extra>",
         "legendgroup": "",
         "line": {
          "color": "#636efa",
          "dash": "solid"
         },
         "marker": {
          "symbol": "circle"
         },
         "mode": "lines",
         "name": "",
         "orientation": "v",
         "showlegend": false,
         "type": "scatter",
         "x": [
          430.5,
          430.5
         ],
         "xaxis": "x",
         "y": [
          0,
          1000
         ],
         "yaxis": "y"
        },
        {
         "hovertemplate": "x=%{x}<br>y=%{y}<extra></extra>",
         "legendgroup": "",
         "line": {
          "color": "#636efa",
          "dash": "solid"
         },
         "marker": {
          "symbol": "circle"
         },
         "mode": "lines",
         "name": "",
         "orientation": "v",
         "showlegend": false,
         "type": "scatter",
         "x": [
          464.87,
          464.87
         ],
         "xaxis": "x",
         "y": [
          0,
          1000
         ],
         "yaxis": "y"
        }
       ],
       "layout": {
        "legend": {
         "title": {
          "text": "Kerogen Type and Maturity"
         }
        },
        "template": {
         "data": {
          "bar": [
           {
            "error_x": {
             "color": "#2a3f5f"
            },
            "error_y": {
             "color": "#2a3f5f"
            },
            "marker": {
             "line": {
              "color": "#E5ECF6",
              "width": 0.5
             },
             "pattern": {
              "fillmode": "overlay",
              "size": 10,
              "solidity": 0.2
             }
            },
            "type": "bar"
           }
          ],
          "barpolar": [
           {
            "marker": {
             "line": {
              "color": "#E5ECF6",
              "width": 0.5
             },
             "pattern": {
              "fillmode": "overlay",
              "size": 10,
              "solidity": 0.2
             }
            },
            "type": "barpolar"
           }
          ],
          "carpet": [
           {
            "aaxis": {
             "endlinecolor": "#2a3f5f",
             "gridcolor": "white",
             "linecolor": "white",
             "minorgridcolor": "white",
             "startlinecolor": "#2a3f5f"
            },
            "baxis": {
             "endlinecolor": "#2a3f5f",
             "gridcolor": "white",
             "linecolor": "white",
             "minorgridcolor": "white",
             "startlinecolor": "#2a3f5f"
            },
            "type": "carpet"
           }
          ],
          "choropleth": [
           {
            "colorbar": {
             "outlinewidth": 0,
             "ticks": ""
            },
            "type": "choropleth"
           }
          ],
          "contour": [
           {
            "colorbar": {
             "outlinewidth": 0,
             "ticks": ""
            },
            "colorscale": [
             [
              0,
              "#0d0887"
             ],
             [
              0.1111111111111111,
              "#46039f"
             ],
             [
              0.2222222222222222,
              "#7201a8"
             ],
             [
              0.3333333333333333,
              "#9c179e"
             ],
             [
              0.4444444444444444,
              "#bd3786"
             ],
             [
              0.5555555555555556,
              "#d8576b"
             ],
             [
              0.6666666666666666,
              "#ed7953"
             ],
             [
              0.7777777777777778,
              "#fb9f3a"
             ],
             [
              0.8888888888888888,
              "#fdca26"
             ],
             [
              1,
              "#f0f921"
             ]
            ],
            "type": "contour"
           }
          ],
          "contourcarpet": [
           {
            "colorbar": {
             "outlinewidth": 0,
             "ticks": ""
            },
            "type": "contourcarpet"
           }
          ],
          "heatmap": [
           {
            "colorbar": {
             "outlinewidth": 0,
             "ticks": ""
            },
            "colorscale": [
             [
              0,
              "#0d0887"
             ],
             [
              0.1111111111111111,
              "#46039f"
             ],
             [
              0.2222222222222222,
              "#7201a8"
             ],
             [
              0.3333333333333333,
              "#9c179e"
             ],
             [
              0.4444444444444444,
              "#bd3786"
             ],
             [
              0.5555555555555556,
              "#d8576b"
             ],
             [
              0.6666666666666666,
              "#ed7953"
             ],
             [
              0.7777777777777778,
              "#fb9f3a"
             ],
             [
              0.8888888888888888,
              "#fdca26"
             ],
             [
              1,
              "#f0f921"
             ]
            ],
            "type": "heatmap"
           }
          ],
          "heatmapgl": [
           {
            "colorbar": {
             "outlinewidth": 0,
             "ticks": ""
            },
            "colorscale": [
             [
              0,
              "#0d0887"
             ],
             [
              0.1111111111111111,
              "#46039f"
             ],
             [
              0.2222222222222222,
              "#7201a8"
             ],
             [
              0.3333333333333333,
              "#9c179e"
             ],
             [
              0.4444444444444444,
              "#bd3786"
             ],
             [
              0.5555555555555556,
              "#d8576b"
             ],
             [
              0.6666666666666666,
              "#ed7953"
             ],
             [
              0.7777777777777778,
              "#fb9f3a"
             ],
             [
              0.8888888888888888,
              "#fdca26"
             ],
             [
              1,
              "#f0f921"
             ]
            ],
            "type": "heatmapgl"
           }
          ],
          "histogram": [
           {
            "marker": {
             "pattern": {
              "fillmode": "overlay",
              "size": 10,
              "solidity": 0.2
             }
            },
            "type": "histogram"
           }
          ],
          "histogram2d": [
           {
            "colorbar": {
             "outlinewidth": 0,
             "ticks": ""
            },
            "colorscale": [
             [
              0,
              "#0d0887"
             ],
             [
              0.1111111111111111,
              "#46039f"
             ],
             [
              0.2222222222222222,
              "#7201a8"
             ],
             [
              0.3333333333333333,
              "#9c179e"
             ],
             [
              0.4444444444444444,
              "#bd3786"
             ],
             [
              0.5555555555555556,
              "#d8576b"
             ],
             [
              0.6666666666666666,
              "#ed7953"
             ],
             [
              0.7777777777777778,
              "#fb9f3a"
             ],
             [
              0.8888888888888888,
              "#fdca26"
             ],
             [
              1,
              "#f0f921"
             ]
            ],
            "type": "histogram2d"
           }
          ],
          "histogram2dcontour": [
           {
            "colorbar": {
             "outlinewidth": 0,
             "ticks": ""
            },
            "colorscale": [
             [
              0,
              "#0d0887"
             ],
             [
              0.1111111111111111,
              "#46039f"
             ],
             [
              0.2222222222222222,
              "#7201a8"
             ],
             [
              0.3333333333333333,
              "#9c179e"
             ],
             [
              0.4444444444444444,
              "#bd3786"
             ],
             [
              0.5555555555555556,
              "#d8576b"
             ],
             [
              0.6666666666666666,
              "#ed7953"
             ],
             [
              0.7777777777777778,
              "#fb9f3a"
             ],
             [
              0.8888888888888888,
              "#fdca26"
             ],
             [
              1,
              "#f0f921"
             ]
            ],
            "type": "histogram2dcontour"
           }
          ],
          "mesh3d": [
           {
            "colorbar": {
             "outlinewidth": 0,
             "ticks": ""
            },
            "type": "mesh3d"
           }
          ],
          "parcoords": [
           {
            "line": {
             "colorbar": {
              "outlinewidth": 0,
              "ticks": ""
             }
            },
            "type": "parcoords"
           }
          ],
          "pie": [
           {
            "automargin": true,
            "type": "pie"
           }
          ],
          "scatter": [
           {
            "fillpattern": {
             "fillmode": "overlay",
             "size": 10,
             "solidity": 0.2
            },
            "type": "scatter"
           }
          ],
          "scatter3d": [
           {
            "line": {
             "colorbar": {
              "outlinewidth": 0,
              "ticks": ""
             }
            },
            "marker": {
             "colorbar": {
              "outlinewidth": 0,
              "ticks": ""
             }
            },
            "type": "scatter3d"
           }
          ],
          "scattercarpet": [
           {
            "marker": {
             "colorbar": {
              "outlinewidth": 0,
              "ticks": ""
             }
            },
            "type": "scattercarpet"
           }
          ],
          "scattergeo": [
           {
            "marker": {
             "colorbar": {
              "outlinewidth": 0,
              "ticks": ""
             }
            },
            "type": "scattergeo"
           }
          ],
          "scattergl": [
           {
            "marker": {
             "colorbar": {
              "outlinewidth": 0,
              "ticks": ""
             }
            },
            "type": "scattergl"
           }
          ],
          "scattermapbox": [
           {
            "marker": {
             "colorbar": {
              "outlinewidth": 0,
              "ticks": ""
             }
            },
            "type": "scattermapbox"
           }
          ],
          "scatterpolar": [
           {
            "marker": {
             "colorbar": {
              "outlinewidth": 0,
              "ticks": ""
             }
            },
            "type": "scatterpolar"
           }
          ],
          "scatterpolargl": [
           {
            "marker": {
             "colorbar": {
              "outlinewidth": 0,
              "ticks": ""
             }
            },
            "type": "scatterpolargl"
           }
          ],
          "scatterternary": [
           {
            "marker": {
             "colorbar": {
              "outlinewidth": 0,
              "ticks": ""
             }
            },
            "type": "scatterternary"
           }
          ],
          "surface": [
           {
            "colorbar": {
             "outlinewidth": 0,
             "ticks": ""
            },
            "colorscale": [
             [
              0,
              "#0d0887"
             ],
             [
              0.1111111111111111,
              "#46039f"
             ],
             [
              0.2222222222222222,
              "#7201a8"
             ],
             [
              0.3333333333333333,
              "#9c179e"
             ],
             [
              0.4444444444444444,
              "#bd3786"
             ],
             [
              0.5555555555555556,
              "#d8576b"
             ],
             [
              0.6666666666666666,
              "#ed7953"
             ],
             [
              0.7777777777777778,
              "#fb9f3a"
             ],
             [
              0.8888888888888888,
              "#fdca26"
             ],
             [
              1,
              "#f0f921"
             ]
            ],
            "type": "surface"
           }
          ],
          "table": [
           {
            "cells": {
             "fill": {
              "color": "#EBF0F8"
             },
             "line": {
              "color": "white"
             }
            },
            "header": {
             "fill": {
              "color": "#C8D4E3"
             },
             "line": {
              "color": "white"
             }
            },
            "type": "table"
           }
          ]
         },
         "layout": {
          "annotationdefaults": {
           "arrowcolor": "#2a3f5f",
           "arrowhead": 0,
           "arrowwidth": 1
          },
          "autotypenumbers": "strict",
          "coloraxis": {
           "colorbar": {
            "outlinewidth": 0,
            "ticks": ""
           }
          },
          "colorscale": {
           "diverging": [
            [
             0,
             "#8e0152"
            ],
            [
             0.1,
             "#c51b7d"
            ],
            [
             0.2,
             "#de77ae"
            ],
            [
             0.3,
             "#f1b6da"
            ],
            [
             0.4,
             "#fde0ef"
            ],
            [
             0.5,
             "#f7f7f7"
            ],
            [
             0.6,
             "#e6f5d0"
            ],
            [
             0.7,
             "#b8e186"
            ],
            [
             0.8,
             "#7fbc41"
            ],
            [
             0.9,
             "#4d9221"
            ],
            [
             1,
             "#276419"
            ]
           ],
           "sequential": [
            [
             0,
             "#0d0887"
            ],
            [
             0.1111111111111111,
             "#46039f"
            ],
            [
             0.2222222222222222,
             "#7201a8"
            ],
            [
             0.3333333333333333,
             "#9c179e"
            ],
            [
             0.4444444444444444,
             "#bd3786"
            ],
            [
             0.5555555555555556,
             "#d8576b"
            ],
            [
             0.6666666666666666,
             "#ed7953"
            ],
            [
             0.7777777777777778,
             "#fb9f3a"
            ],
            [
             0.8888888888888888,
             "#fdca26"
            ],
            [
             1,
             "#f0f921"
            ]
           ],
           "sequentialminus": [
            [
             0,
             "#0d0887"
            ],
            [
             0.1111111111111111,
             "#46039f"
            ],
            [
             0.2222222222222222,
             "#7201a8"
            ],
            [
             0.3333333333333333,
             "#9c179e"
            ],
            [
             0.4444444444444444,
             "#bd3786"
            ],
            [
             0.5555555555555556,
             "#d8576b"
            ],
            [
             0.6666666666666666,
             "#ed7953"
            ],
            [
             0.7777777777777778,
             "#fb9f3a"
            ],
            [
             0.8888888888888888,
             "#fdca26"
            ],
            [
             1,
             "#f0f921"
            ]
           ]
          },
          "colorway": [
           "#636efa",
           "#EF553B",
           "#00cc96",
           "#ab63fa",
           "#FFA15A",
           "#19d3f3",
           "#FF6692",
           "#B6E880",
           "#FF97FF",
           "#FECB52"
          ],
          "font": {
           "color": "#2a3f5f"
          },
          "geo": {
           "bgcolor": "white",
           "lakecolor": "white",
           "landcolor": "#E5ECF6",
           "showlakes": true,
           "showland": true,
           "subunitcolor": "white"
          },
          "hoverlabel": {
           "align": "left"
          },
          "hovermode": "closest",
          "mapbox": {
           "style": "light"
          },
          "paper_bgcolor": "white",
          "plot_bgcolor": "#E5ECF6",
          "polar": {
           "angularaxis": {
            "gridcolor": "white",
            "linecolor": "white",
            "ticks": ""
           },
           "bgcolor": "#E5ECF6",
           "radialaxis": {
            "gridcolor": "white",
            "linecolor": "white",
            "ticks": ""
           }
          },
          "scene": {
           "xaxis": {
            "backgroundcolor": "#E5ECF6",
            "gridcolor": "white",
            "gridwidth": 2,
            "linecolor": "white",
            "showbackground": true,
            "ticks": "",
            "zerolinecolor": "white"
           },
           "yaxis": {
            "backgroundcolor": "#E5ECF6",
            "gridcolor": "white",
            "gridwidth": 2,
            "linecolor": "white",
            "showbackground": true,
            "ticks": "",
            "zerolinecolor": "white"
           },
           "zaxis": {
            "backgroundcolor": "#E5ECF6",
            "gridcolor": "white",
            "gridwidth": 2,
            "linecolor": "white",
            "showbackground": true,
            "ticks": "",
            "zerolinecolor": "white"
           }
          },
          "shapedefaults": {
           "line": {
            "color": "#2a3f5f"
           }
          },
          "ternary": {
           "aaxis": {
            "gridcolor": "white",
            "linecolor": "white",
            "ticks": ""
           },
           "baxis": {
            "gridcolor": "white",
            "linecolor": "white",
            "ticks": ""
           },
           "bgcolor": "#E5ECF6",
           "caxis": {
            "gridcolor": "white",
            "linecolor": "white",
            "ticks": ""
           }
          },
          "title": {
           "x": 0.05
          },
          "xaxis": {
           "automargin": true,
           "gridcolor": "white",
           "linecolor": "white",
           "ticks": "",
           "title": {
            "standoff": 15
           },
           "zerolinecolor": "white",
           "zerolinewidth": 2
          },
          "yaxis": {
           "automargin": true,
           "gridcolor": "white",
           "linecolor": "white",
           "ticks": "",
           "title": {
            "standoff": 15
           },
           "zerolinecolor": "white",
           "zerolinewidth": 2
          }
         }
        },
        "title": {
         "text": "Kerogen Type and Maturity"
        },
        "xaxis": {
         "title": {
          "text": "T max"
         }
        },
        "yaxis": {
         "title": {
          "text": "HI"
         }
        }
       }
      },
      "text/html": [
       "<div>                            <div id=\"1f8b78b5-bcf1-4ea1-a41b-6892da10da5e\" class=\"plotly-graph-div\" style=\"height:525px; width:100%;\"></div>            <script type=\"text/javascript\">                require([\"plotly\"], function(Plotly) {                    window.PLOTLYENV=window.PLOTLYENV || {};                                    if (document.getElementById(\"1f8b78b5-bcf1-4ea1-a41b-6892da10da5e\")) {                    Plotly.newPlot(                        \"1f8b78b5-bcf1-4ea1-a41b-6892da10da5e\",                        [{\"hovertemplate\":\"<b>%{hovertext}</b><br><br>color=TYPE II Oil Generation<br>x=%{x}<br>y=%{y}<extra></extra>\",\"hovertext\":[9037.0,9078.5,9127.5,9333.5,9371.5,9657.5,9663.5,9740.0,9938.5,9952.5,9962.5,9995.5,10020.5,10026.5,10032.5,10166.5,10300.5,10318.5,10335.5,10346.5,10360.5,10366.5,10374.0,10390.5],\"legendgroup\":\"TYPE II Oil Generation\",\"marker\":{\"color\":\"navy\",\"symbol\":\"circle\"},\"mode\":\"markers\",\"name\":\"TYPE II Oil Generation\",\"orientation\":\"v\",\"showlegend\":true,\"x\":[453,450,451,451,453,454,454,456,457,454,455,456,457,455,455,455,454,457,456,454,456,456,455,456],\"xaxis\":\"x\",\"y\":[159.07928388746802,237.85900783289816,238.63247863247864,150.91575091575092,168.08510638297872,170.87087087087087,160.09501187648456,110.13215859030836,124.40944881889763,123.01587301587301,126.56826568265683,126.08695652173914,132.6860841423948,141.2532637075718,145.58011049723757,183.68644067796612,148.6725663716814,114.08450704225353,128.19383259911893,190.27113237639554,109.87124463519314,156.140350877193,145.7831325301205,118.21561338289963],\"yaxis\":\"y\",\"type\":\"scatter\"},{\"hovertemplate\":\"<b>%{hovertext}</b><br><br>color=TYPE III Oil Generation<br>x=%{x}<br>y=%{y}<extra></extra>\",\"hovertext\":[9142.0,9218.0,9398.0,9717.5,9726.0,9731.5,9972.5,10377.0,10380.5],\"legendgroup\":\"TYPE III Oil Generation\",\"marker\":{\"color\":\"orangered\",\"symbol\":\"circle\"},\"mode\":\"markers\",\"name\":\"TYPE III Oil Generation\",\"orientation\":\"v\",\"showlegend\":true,\"x\":[452,448,450,451,452,453,452,454,454],\"xaxis\":\"x\",\"y\":[113.04347826086956,121.6117216117216,120.72892938496584,53.76344086021505,98.26589595375722,84.33734939759036,97.41379310344827,100.84745762711864,83.53413654618473],\"yaxis\":\"y\",\"type\":\"scatter\"},{\"hovertemplate\":\"<b>%{hovertext}</b><br><br>color=TYPE I Oil Generation<br>x=%{x}<br>y=%{y}<extra></extra>\",\"hovertext\":[9487.0,9956.5,9966.5,9975.5,9980.5,9985.5,9990.5,10000.5,10004.5,10010.5,10283.5,10292.5,10310.5,10325.5,10353.5],\"legendgroup\":\"TYPE I Oil Generation\",\"marker\":{\"color\":\"deepskyblue\",\"symbol\":\"circle\"},\"mode\":\"markers\",\"name\":\"TYPE I Oil Generation\",\"orientation\":\"v\",\"showlegend\":true,\"x\":[459,457,459,460,460,459,457,460,459,458,460,457,459,459,455],\"xaxis\":\"x\",\"y\":[142.5357873210634,143.03482587064678,121.05263157894737,174.02826855123675,107.95107033639144,110.18518518518518,136.44314868804665,102.83911671924291,141.02564102564102,148.9855072463768,132.20973782771537,219.14191419141918,126.4,142.07650273224044,203.4003091190108],\"yaxis\":\"y\",\"type\":\"scatter\"},{\"hovertemplate\":\"<b>%{hovertext}</b><br><br>color=TYPE III Immature<br>x=%{x}<br>y=%{y}<extra></extra>\",\"hovertext\":[9609.5,9684.5],\"legendgroup\":\"TYPE III Immature\",\"marker\":{\"color\":\"coral\",\"symbol\":\"circle\"},\"mode\":\"markers\",\"name\":\"TYPE III Immature\",\"orientation\":\"v\",\"showlegend\":true,\"x\":[0,0],\"xaxis\":\"x\",\"y\":[47.22222222222222,83.33333333333334],\"yaxis\":\"y\",\"type\":\"scatter\"},{\"hovertemplate\":\"<b>%{hovertext}</b><br><br>color=TYPE II Immature<br>x=%{x}<br>y=%{y}<extra></extra>\",\"hovertext\":[9853.0],\"legendgroup\":\"TYPE II Immature\",\"marker\":{\"color\":\"mediumblue\",\"symbol\":\"circle\"},\"mode\":\"markers\",\"name\":\"TYPE II Immature\",\"orientation\":\"v\",\"showlegend\":true,\"x\":[0],\"xaxis\":\"x\",\"y\":[400.0],\"yaxis\":\"y\",\"type\":\"scatter\"},{\"hovertemplate\":\"x=%{x}<br>y=%{y}<extra></extra>\",\"legendgroup\":\"\",\"line\":{\"color\":\"#636efa\",\"dash\":\"solid\"},\"marker\":{\"symbol\":\"circle\"},\"mode\":\"lines\",\"name\":\"\",\"orientation\":\"v\",\"showlegend\":false,\"x\":[461.0564,460.94985,460.91789,460.84491,460.81188,460.6446,460.50982,460.43471,460.22801,460.02024,459.73896,459.59939,459.42625,459.4417,459.13165,458.93827,458.89193,458.71826,458.46788,458.43538,458.1264,457.91331,457.61232,457.64641,457.3598,457.10676,456.92989,456.74397,456.47228,456.19526,455.89001,455.55226,455.21345,454.93004,454.48041,454.20819,453.78094,453.6403,453.01595,452.66754,452.38094,452.00696,451.66602,451.32454,450.87971,450.45619,450.0428,449.59264,449.14568,448.76638,448.28693,447.8128,447.43137,447.09255,446.66797,446.12139,445.75647,445.25411,444.66438,444.28188,443.71773,443.17861,442.68903,442.07639,441.45204,440.76748,440.36634,439.65568,439.13627,438.32866,437.78528,437.24722,436.63618,435.97667,435.44767,434.71197,434.03967,433.58898,432.81493,432.06059,431.46287,430.69521,430.02664,429.35647,428.69908,427.96232,427.22396,426.56284,425.91824,425.19853,424.51824,423.83741,423.12089,422.3559,421.61914,420.82963,419.95649,419.10093,418.3988,417.75154,417.10267,416.23806,415.54498,414.84178,414.00433,413.20151,412.48659,411.68697],\"xaxis\":\"x\",\"y\":[96.67078,105.54061,113.59802,122.35872,130.93147,143.59658,154.88545,167.59301,180.31875,189.58872,201.23529,212.36652,223.83121,232.99205,242.4439,251.16822,259.69247,268.4471,278.01414,286.24738,294.84438,304.50236,314.0694,323.36968,332.37289,341.23665,350.31261,358.1457,366.32437,375.78229,384.24591,392.77015,401.94312,410.5583,417.62749,426.04261,434.2334,442.92741,450.40279,459.30293,466.69951,475.45414,482.68095,491.63566,501.18451,509.42381,518.07538,525.99335,533.3111,542.30218,550.71124,558.68377,566.03791,573.02828,581.51615,588.4277,596.58212,605.34887,613.27897,621.76684,629.1331,637.58459,645.56319,653.63273,661.73865,667.89842,675.87702,683.50397,692.53749,698.1698,705.80282,712.02928,718.49219,724.70652,732.27285,737.88091,743.77392,750.40658,755.69938,761.75608,768.47969,774.67583,780.43546,786.27996,791.50607,797.80528,803.24964,809.03958,815.4843,820.46789,827.8584,832.79956,838.17117,844.99178,848.98714,855.09841,860.94291,865.99319,871.86801,876.17864,879.93149,882.89012,887.21893,891.23855,895.27029,899.84161,902.53954,907.15937],\"yaxis\":\"y\",\"type\":\"scatter\"},{\"hovertemplate\":\"x=%{x}<br>y=%{y}<extra></extra>\",\"legendgroup\":\"\",\"line\":{\"color\":\"#636efa\",\"dash\":\"solid\"},\"marker\":{\"symbol\":\"circle\"},\"mode\":\"lines\",\"name\":\"\",\"orientation\":\"v\",\"showlegend\":false,\"x\":[462.03612,461.31222,460.73758,460.2317,459.8431,459.18797,458.38678,457.91118,457.5079,457.1302,456.88301,456.74344,456.40889,456.12388,455.7547,455.48141,455.16603,454.85812,454.36907,453.98658,453.66854,453.29989,452.88436,452.47256,452.089,451.77895,451.24676,450.66182,450.32674,449.91974,449.41205,448.90596,448.40413,447.71478,447.3701,446.85229,446.21568,445.60251,445.02344,444.57915,444.06506,443.34801,442.69276,442.18347,441.61878,440.88735,440.09998,439.612,439.01215,438.24449,437.90088,437.15399,436.56213,436.06989,435.36243,434.74394,433.97787,433.29545,432.36797,431.89651,431.06226,430.39369,429.86149,429.07945,428.49931,427.66772,427.127,426.40889,425.54267,424.81497,424.0862,423.2642,422.52264,421.75072,420.9186,420.07263,419.17924,418.23632,417.33441,416.48151,415.68083,414.74482,413.91803,412.98949,412.13233,411.94058,411.12233,410.343,409.4192,408.59882,407.6617,406.82745,405.91272],\"xaxis\":\"x\",\"y\":[76.39686,80.23916,86.44268,91.03159,98.11527,105.66026,108.81666,114.90152,122.45572,132.74423,141.82019,150.95678,159.39615,166.70784,176.49921,184.09585,193.58408,201.82338,210.36581,219.07194,227.63863,234.53199,243.40182,252.03519,258.96493,266.39788,273.7217,280.95458,288.56941,295.09901,302.7381,308.81905,317.54337,324.08509,331.97275,340.53943,347.29942,354.25947,361.92887,368.6646,375.17601,380.99626,386.79833,394.21915,402.22807,408.9638,416.13605,423.64175,429.40138,435.85216,442.95772,449.12961,455.49552,462.3525,468.51834,474.65992,482.35357,489.04686,494.27296,500.32966,505.1435,511.63066,517.14777,521.28258,528.03044,530.87993,538.25226,542.27187,547.40703,553.39704,557.30146,562.69126,567.49903,571.69447,574.33783,578.32713,582.71051,585.02649,588.94303,591.64703,592.7747,595.97584,597.5461,600.11065,600.88668,600.15782,601.32933,601.69353,602.78005,604.80743,606.87123,606.87123,607.61783],\"yaxis\":\"y\",\"type\":\"scatter\"},{\"hovertemplate\":\"x=%{x}<br>y=%{y}<extra></extra>\",\"legendgroup\":\"\",\"line\":{\"color\":\"#636efa\",\"dash\":\"solid\"},\"marker\":{\"symbol\":\"circle\"},\"mode\":\"lines\",\"name\":\"\",\"orientation\":\"v\",\"showlegend\":false,\"x\":[463.54308,462.80159,462.11341,461.37565,460.71359,460.07818,459.41612,458.83935,458.37718,457.81907,457.30786,456.5781,455.7929,454.83072,454.47029,453.88269,453.05963,452.35909,451.65483,450.9511,450.13283,449.51806,448.91981,448.10953,447.41219,446.63015,445.81294,445.05594,444.26537,443.50463,442.61072,441.75995,441.02159,440.25447,439.50119,438.74898,437.73573,436.94943,436.08268,435.26334,434.42803,433.57673,432.64872,431.95937,431.17093,430.27595,429.41826,428.46575,427.53933,426.77753,425.94382,425.10797,424.37973,423.50872,422.68512,421.70331,420.86213,420.152,419.17658,418.39241,417.68388,416.67809,415.88007,415.0911,414.14426,413.25724,412.40701,411.50667,410.69748,409.76782,408.87548,407.97887,407.17927,406.41966,405.52039,404.60565,403.79273,402.91425],\"xaxis\":\"x\",\"y\":[44.63261,46.21688,52.7057,59.61334,65.72582,72.05682,77.00385,83.88115,89.96935,95.31094,101.15026,103.02589,107.38414,111.85165,112.50066,118.96963,123.71072,126.05094,130.47676,134.44181,139.51634,143.37832,147.20999,151.54487,154.61263,158.28666,161.26954,165.80449,168.848,171.09728,174.31055,177.31162,178.73031,181.17966,182.30734,184.21104,185.79343,186.97567,189.32196,190.8134,192.03201,192.4079,194.77238,194.77238,195.57873,195.57873,197.20961,197.61582,198.73137,199.45284,199.45284,200.23493,200.60476,202.25383,201.51418,201.51418,201.51418,201.56268,202.38721,202.38721,202.38721,202.38721,202.38721,202.38721,202.0638,201.22007,201.58427,201.58427,200.01821,200.01821,200.01821,200.4249,200.4249,200.4249,200.04856,200.04856,199.66008,199.66008],\"yaxis\":\"y\",\"type\":\"scatter\"},{\"hovertemplate\":\"x=%{x}<br>y=%{y}<extra></extra>\",\"legendgroup\":\"\",\"line\":{\"color\":\"#636efa\",\"dash\":\"solid\"},\"marker\":{\"symbol\":\"circle\"},\"mode\":\"lines\",\"name\":\"\",\"orientation\":\"v\",\"showlegend\":false,\"x\":[430.5,430.5],\"xaxis\":\"x\",\"y\":[0,1000],\"yaxis\":\"y\",\"type\":\"scatter\"},{\"hovertemplate\":\"x=%{x}<br>y=%{y}<extra></extra>\",\"legendgroup\":\"\",\"line\":{\"color\":\"#636efa\",\"dash\":\"solid\"},\"marker\":{\"symbol\":\"circle\"},\"mode\":\"lines\",\"name\":\"\",\"orientation\":\"v\",\"showlegend\":false,\"x\":[464.87,464.87],\"xaxis\":\"x\",\"y\":[0,1000],\"yaxis\":\"y\",\"type\":\"scatter\"}],                        {\"template\":{\"data\":{\"histogram2dcontour\":[{\"type\":\"histogram2dcontour\",\"colorbar\":{\"outlinewidth\":0,\"ticks\":\"\"},\"colorscale\":[[0.0,\"#0d0887\"],[0.1111111111111111,\"#46039f\"],[0.2222222222222222,\"#7201a8\"],[0.3333333333333333,\"#9c179e\"],[0.4444444444444444,\"#bd3786\"],[0.5555555555555556,\"#d8576b\"],[0.6666666666666666,\"#ed7953\"],[0.7777777777777778,\"#fb9f3a\"],[0.8888888888888888,\"#fdca26\"],[1.0,\"#f0f921\"]]}],\"choropleth\":[{\"type\":\"choropleth\",\"colorbar\":{\"outlinewidth\":0,\"ticks\":\"\"}}],\"histogram2d\":[{\"type\":\"histogram2d\",\"colorbar\":{\"outlinewidth\":0,\"ticks\":\"\"},\"colorscale\":[[0.0,\"#0d0887\"],[0.1111111111111111,\"#46039f\"],[0.2222222222222222,\"#7201a8\"],[0.3333333333333333,\"#9c179e\"],[0.4444444444444444,\"#bd3786\"],[0.5555555555555556,\"#d8576b\"],[0.6666666666666666,\"#ed7953\"],[0.7777777777777778,\"#fb9f3a\"],[0.8888888888888888,\"#fdca26\"],[1.0,\"#f0f921\"]]}],\"heatmap\":[{\"type\":\"heatmap\",\"colorbar\":{\"outlinewidth\":0,\"ticks\":\"\"},\"colorscale\":[[0.0,\"#0d0887\"],[0.1111111111111111,\"#46039f\"],[0.2222222222222222,\"#7201a8\"],[0.3333333333333333,\"#9c179e\"],[0.4444444444444444,\"#bd3786\"],[0.5555555555555556,\"#d8576b\"],[0.6666666666666666,\"#ed7953\"],[0.7777777777777778,\"#fb9f3a\"],[0.8888888888888888,\"#fdca26\"],[1.0,\"#f0f921\"]]}],\"heatmapgl\":[{\"type\":\"heatmapgl\",\"colorbar\":{\"outlinewidth\":0,\"ticks\":\"\"},\"colorscale\":[[0.0,\"#0d0887\"],[0.1111111111111111,\"#46039f\"],[0.2222222222222222,\"#7201a8\"],[0.3333333333333333,\"#9c179e\"],[0.4444444444444444,\"#bd3786\"],[0.5555555555555556,\"#d8576b\"],[0.6666666666666666,\"#ed7953\"],[0.7777777777777778,\"#fb9f3a\"],[0.8888888888888888,\"#fdca26\"],[1.0,\"#f0f921\"]]}],\"contourcarpet\":[{\"type\":\"contourcarpet\",\"colorbar\":{\"outlinewidth\":0,\"ticks\":\"\"}}],\"contour\":[{\"type\":\"contour\",\"colorbar\":{\"outlinewidth\":0,\"ticks\":\"\"},\"colorscale\":[[0.0,\"#0d0887\"],[0.1111111111111111,\"#46039f\"],[0.2222222222222222,\"#7201a8\"],[0.3333333333333333,\"#9c179e\"],[0.4444444444444444,\"#bd3786\"],[0.5555555555555556,\"#d8576b\"],[0.6666666666666666,\"#ed7953\"],[0.7777777777777778,\"#fb9f3a\"],[0.8888888888888888,\"#fdca26\"],[1.0,\"#f0f921\"]]}],\"surface\":[{\"type\":\"surface\",\"colorbar\":{\"outlinewidth\":0,\"ticks\":\"\"},\"colorscale\":[[0.0,\"#0d0887\"],[0.1111111111111111,\"#46039f\"],[0.2222222222222222,\"#7201a8\"],[0.3333333333333333,\"#9c179e\"],[0.4444444444444444,\"#bd3786\"],[0.5555555555555556,\"#d8576b\"],[0.6666666666666666,\"#ed7953\"],[0.7777777777777778,\"#fb9f3a\"],[0.8888888888888888,\"#fdca26\"],[1.0,\"#f0f921\"]]}],\"mesh3d\":[{\"type\":\"mesh3d\",\"colorbar\":{\"outlinewidth\":0,\"ticks\":\"\"}}],\"scatter\":[{\"fillpattern\":{\"fillmode\":\"overlay\",\"size\":10,\"solidity\":0.2},\"type\":\"scatter\"}],\"parcoords\":[{\"type\":\"parcoords\",\"line\":{\"colorbar\":{\"outlinewidth\":0,\"ticks\":\"\"}}}],\"scatterpolargl\":[{\"type\":\"scatterpolargl\",\"marker\":{\"colorbar\":{\"outlinewidth\":0,\"ticks\":\"\"}}}],\"bar\":[{\"error_x\":{\"color\":\"#2a3f5f\"},\"error_y\":{\"color\":\"#2a3f5f\"},\"marker\":{\"line\":{\"color\":\"#E5ECF6\",\"width\":0.5},\"pattern\":{\"fillmode\":\"overlay\",\"size\":10,\"solidity\":0.2}},\"type\":\"bar\"}],\"scattergeo\":[{\"type\":\"scattergeo\",\"marker\":{\"colorbar\":{\"outlinewidth\":0,\"ticks\":\"\"}}}],\"scatterpolar\":[{\"type\":\"scatterpolar\",\"marker\":{\"colorbar\":{\"outlinewidth\":0,\"ticks\":\"\"}}}],\"histogram\":[{\"marker\":{\"pattern\":{\"fillmode\":\"overlay\",\"size\":10,\"solidity\":0.2}},\"type\":\"histogram\"}],\"scattergl\":[{\"type\":\"scattergl\",\"marker\":{\"colorbar\":{\"outlinewidth\":0,\"ticks\":\"\"}}}],\"scatter3d\":[{\"type\":\"scatter3d\",\"line\":{\"colorbar\":{\"outlinewidth\":0,\"ticks\":\"\"}},\"marker\":{\"colorbar\":{\"outlinewidth\":0,\"ticks\":\"\"}}}],\"scattermapbox\":[{\"type\":\"scattermapbox\",\"marker\":{\"colorbar\":{\"outlinewidth\":0,\"ticks\":\"\"}}}],\"scatterternary\":[{\"type\":\"scatterternary\",\"marker\":{\"colorbar\":{\"outlinewidth\":0,\"ticks\":\"\"}}}],\"scattercarpet\":[{\"type\":\"scattercarpet\",\"marker\":{\"colorbar\":{\"outlinewidth\":0,\"ticks\":\"\"}}}],\"carpet\":[{\"aaxis\":{\"endlinecolor\":\"#2a3f5f\",\"gridcolor\":\"white\",\"linecolor\":\"white\",\"minorgridcolor\":\"white\",\"startlinecolor\":\"#2a3f5f\"},\"baxis\":{\"endlinecolor\":\"#2a3f5f\",\"gridcolor\":\"white\",\"linecolor\":\"white\",\"minorgridcolor\":\"white\",\"startlinecolor\":\"#2a3f5f\"},\"type\":\"carpet\"}],\"table\":[{\"cells\":{\"fill\":{\"color\":\"#EBF0F8\"},\"line\":{\"color\":\"white\"}},\"header\":{\"fill\":{\"color\":\"#C8D4E3\"},\"line\":{\"color\":\"white\"}},\"type\":\"table\"}],\"barpolar\":[{\"marker\":{\"line\":{\"color\":\"#E5ECF6\",\"width\":0.5},\"pattern\":{\"fillmode\":\"overlay\",\"size\":10,\"solidity\":0.2}},\"type\":\"barpolar\"}],\"pie\":[{\"automargin\":true,\"type\":\"pie\"}]},\"layout\":{\"autotypenumbers\":\"strict\",\"colorway\":[\"#636efa\",\"#EF553B\",\"#00cc96\",\"#ab63fa\",\"#FFA15A\",\"#19d3f3\",\"#FF6692\",\"#B6E880\",\"#FF97FF\",\"#FECB52\"],\"font\":{\"color\":\"#2a3f5f\"},\"hovermode\":\"closest\",\"hoverlabel\":{\"align\":\"left\"},\"paper_bgcolor\":\"white\",\"plot_bgcolor\":\"#E5ECF6\",\"polar\":{\"bgcolor\":\"#E5ECF6\",\"angularaxis\":{\"gridcolor\":\"white\",\"linecolor\":\"white\",\"ticks\":\"\"},\"radialaxis\":{\"gridcolor\":\"white\",\"linecolor\":\"white\",\"ticks\":\"\"}},\"ternary\":{\"bgcolor\":\"#E5ECF6\",\"aaxis\":{\"gridcolor\":\"white\",\"linecolor\":\"white\",\"ticks\":\"\"},\"baxis\":{\"gridcolor\":\"white\",\"linecolor\":\"white\",\"ticks\":\"\"},\"caxis\":{\"gridcolor\":\"white\",\"linecolor\":\"white\",\"ticks\":\"\"}},\"coloraxis\":{\"colorbar\":{\"outlinewidth\":0,\"ticks\":\"\"}},\"colorscale\":{\"sequential\":[[0.0,\"#0d0887\"],[0.1111111111111111,\"#46039f\"],[0.2222222222222222,\"#7201a8\"],[0.3333333333333333,\"#9c179e\"],[0.4444444444444444,\"#bd3786\"],[0.5555555555555556,\"#d8576b\"],[0.6666666666666666,\"#ed7953\"],[0.7777777777777778,\"#fb9f3a\"],[0.8888888888888888,\"#fdca26\"],[1.0,\"#f0f921\"]],\"sequentialminus\":[[0.0,\"#0d0887\"],[0.1111111111111111,\"#46039f\"],[0.2222222222222222,\"#7201a8\"],[0.3333333333333333,\"#9c179e\"],[0.4444444444444444,\"#bd3786\"],[0.5555555555555556,\"#d8576b\"],[0.6666666666666666,\"#ed7953\"],[0.7777777777777778,\"#fb9f3a\"],[0.8888888888888888,\"#fdca26\"],[1.0,\"#f0f921\"]],\"diverging\":[[0,\"#8e0152\"],[0.1,\"#c51b7d\"],[0.2,\"#de77ae\"],[0.3,\"#f1b6da\"],[0.4,\"#fde0ef\"],[0.5,\"#f7f7f7\"],[0.6,\"#e6f5d0\"],[0.7,\"#b8e186\"],[0.8,\"#7fbc41\"],[0.9,\"#4d9221\"],[1,\"#276419\"]]},\"xaxis\":{\"gridcolor\":\"white\",\"linecolor\":\"white\",\"ticks\":\"\",\"title\":{\"standoff\":15},\"zerolinecolor\":\"white\",\"automargin\":true,\"zerolinewidth\":2},\"yaxis\":{\"gridcolor\":\"white\",\"linecolor\":\"white\",\"ticks\":\"\",\"title\":{\"standoff\":15},\"zerolinecolor\":\"white\",\"automargin\":true,\"zerolinewidth\":2},\"scene\":{\"xaxis\":{\"backgroundcolor\":\"#E5ECF6\",\"gridcolor\":\"white\",\"linecolor\":\"white\",\"showbackground\":true,\"ticks\":\"\",\"zerolinecolor\":\"white\",\"gridwidth\":2},\"yaxis\":{\"backgroundcolor\":\"#E5ECF6\",\"gridcolor\":\"white\",\"linecolor\":\"white\",\"showbackground\":true,\"ticks\":\"\",\"zerolinecolor\":\"white\",\"gridwidth\":2},\"zaxis\":{\"backgroundcolor\":\"#E5ECF6\",\"gridcolor\":\"white\",\"linecolor\":\"white\",\"showbackground\":true,\"ticks\":\"\",\"zerolinecolor\":\"white\",\"gridwidth\":2}},\"shapedefaults\":{\"line\":{\"color\":\"#2a3f5f\"}},\"annotationdefaults\":{\"arrowcolor\":\"#2a3f5f\",\"arrowhead\":0,\"arrowwidth\":1},\"geo\":{\"bgcolor\":\"white\",\"landcolor\":\"#E5ECF6\",\"subunitcolor\":\"white\",\"showland\":true,\"showlakes\":true,\"lakecolor\":\"white\"},\"title\":{\"x\":0.05},\"mapbox\":{\"style\":\"light\"}}},\"title\":{\"text\":\"Kerogen Type and Maturity\"},\"xaxis\":{\"title\":{\"text\":\"T max\"}},\"yaxis\":{\"title\":{\"text\":\"HI\"}},\"legend\":{\"title\":{\"text\":\"Kerogen Type and Maturity\"}}},                        {\"responsive\": true}                    ).then(function(){\n",
       "                            \n",
       "var gd = document.getElementById('1f8b78b5-bcf1-4ea1-a41b-6892da10da5e');\n",
       "var x = new MutationObserver(function (mutations, observer) {{\n",
       "        var display = window.getComputedStyle(gd).display;\n",
       "        if (!display || display === 'none') {{\n",
       "            console.log([gd, 'removed!']);\n",
       "            Plotly.purge(gd);\n",
       "            observer.disconnect();\n",
       "        }}\n",
       "}});\n",
       "\n",
       "// Listen for the removal of the full notebook cells\n",
       "var notebookContainer = gd.closest('#notebook-container');\n",
       "if (notebookContainer) {{\n",
       "    x.observe(notebookContainer, {childList: true});\n",
       "}}\n",
       "\n",
       "// Listen for the clearing of the current output cell\n",
       "var outputEl = gd.closest('.output');\n",
       "if (outputEl) {{\n",
       "    x.observe(outputEl, {childList: true});\n",
       "}}\n",
       "\n",
       "                        })                };                });            </script>        </div>"
      ]
     },
     "metadata": {},
     "output_type": "display_data"
    }
   ],
   "source": [
    "def kerogen_type_maturity_plot(FEE_AL_910, KEROGEN_TYPE_MATURITY_I,KEROGEN_TYPE_MATURITY_II, KEROGEN_TYPE_MATURITY_III ):\n",
    "    \n",
    "    kerogen_type_maturity(FEE_AL_910, KEROGEN_TYPE_MATURITY_I,KEROGEN_TYPE_MATURITY_II, KEROGEN_TYPE_MATURITY_III )\n",
    "    #kerogen_type_maturity(FEE_AL_910, KEROGEN_TYPE_MATURITY_III,KEROGEN_TYPE_MATURITY_II, KEROGEN_TYPE_MATURITY_I )\n",
    "\n",
    "\n",
    "    import plotly.express as px\n",
    "    import plotly.graph_objects as go\n",
    "    \n",
    "    #########################\n",
    "    \n",
    "    fig1 = px.scatter(x=FEE_AL_910['T max'], y=FEE_AL_910['HI'], hover_name = FEE_AL_910[\"Depth\"] )\n",
    "    \n",
    "    fig2 = px.line(x=KEROGEN_TYPE_MATURITY_I['x'], y=KEROGEN_TYPE_MATURITY_I['y'])\n",
    "    fig3 = px.line(x=KEROGEN_TYPE_MATURITY_II['x'], y=KEROGEN_TYPE_MATURITY_II['y'])\n",
    "    fig4 = px.line(x=KEROGEN_TYPE_MATURITY_III['x'], y=KEROGEN_TYPE_MATURITY_III['y'])\n",
    "\n",
    "    xx = [430.5] * 2\n",
    "    yy = [0, 1000]\n",
    "\n",
    "    fig5 = px.line(x=xx, y=yy)\n",
    "\n",
    "    xxx = [464.87] * 2\n",
    "    yyy = [0, 1000]\n",
    "\n",
    "    fig6 = px.line(x=xxx, y=yyy)\n",
    "\n",
    "    fig7 = go.Figure(data=fig1.data + fig2.data + fig3.data + fig4.data + fig5.data + fig6.data)\n",
    "    fig7.update_layout( \n",
    "        title=\"Kerogen Type and Maturity\",   #\n",
    "    xaxis_title=\"T max\",\n",
    "    yaxis_title=\"HI\",\n",
    "    legend_title=\"Kerogen Type and Maturity\"           )\n",
    "    fig7.show()\n",
    "    \n",
    "    ##########################\n",
    "\n",
    "    fig1 = px.scatter(x=FEE_AL_910['T max'], y=FEE_AL_910['HI'], hover_name = FEE_AL_910[\"Depth\"],\n",
    "                     \n",
    "                       color =  FEE_AL_910['KEROGEN TYPE/MATURITY'] ,  \n",
    "                      #color = FEE_AL_910['Formation']  , \n",
    "\n",
    "    color_discrete_map = {\"TYPE I\":  \"cyan\"  ,                           \n",
    "    \"TYPE II\"  :\"blue\"  ,\n",
    "    \"TYPE III\":\"red\",  \n",
    "    \n",
    "    \"TYPE I Immature\":  \"aqua\" , \"TYPE I Oil Generation\":  \"deepskyblue\" , \"TYPE I Gas Generation\":  \"slealblue\"  ,                    \n",
    "      \n",
    "    \"TYPE II Immature\":  \"mediumblue\" , \"TYPE II Oil Generation\":  \"navy\" , \"TYPE II Gas Generation\":  \"slateblue\"  ,\n",
    "                        \n",
    "    \"TYPE III Immature\":  \"coral\" , \"TYPE III Oil Generation\":  \"orangered\" , \"TYPE III Gas Generation\":  \"brown\" , \n",
    "                         \n",
    "    \"UN-IDENTIFIED\"   :   \"black\"                } )\n",
    "    \n",
    "    fig2 = px.line(x=KEROGEN_TYPE_MATURITY_I['x'], y=KEROGEN_TYPE_MATURITY_I['y'])\n",
    "    fig3 = px.line(x=KEROGEN_TYPE_MATURITY_II['x'], y=KEROGEN_TYPE_MATURITY_II['y'])\n",
    "    fig4 = px.line(x=KEROGEN_TYPE_MATURITY_III['x'], y=KEROGEN_TYPE_MATURITY_III['y'])\n",
    "\n",
    "    xx = [430.5] * 2\n",
    "    yy = [0, 1000]\n",
    "\n",
    "    fig5 = px.line(x=xx, y=yy)\n",
    "\n",
    "    xxx = [464.87] * 2\n",
    "    yyy = [0, 1000]\n",
    "\n",
    "    fig6 = px.line(x=xxx, y=yyy)\n",
    "\n",
    "    fig7 = go.Figure(data=fig1.data + fig2.data + fig3.data + fig4.data + fig5.data + fig6.data)\n",
    "    fig7.update_layout( \n",
    "        title=\"Kerogen Type and Maturity\",   #\n",
    "    xaxis_title=\"T max\",\n",
    "    yaxis_title=\"HI\",\n",
    "    legend_title=\"Kerogen Type and Maturity\"           )\n",
    "    fig7.show()\n",
    "\n",
    "##. ?????  NOT SO ACCURATE\n",
    "  #. FEE_BI_307\n",
    "kerogen_type_maturity_plot(FEE_BI_307  , KEROGEN_TYPE_MATURITY_I,KEROGEN_TYPE_MATURITY_II, KEROGEN_TYPE_MATURITY_III )"
   ]
  },
  {
   "cell_type": "markdown",
   "id": "e49b7a9c",
   "metadata": {},
   "source": [
    "# #################################################################"
   ]
  },
  {
   "cell_type": "markdown",
   "id": "661cc510",
   "metadata": {},
   "source": [
    "# KEROGEN CONVERSION AND MATURITY"
   ]
  },
  {
   "cell_type": "code",
   "execution_count": 377,
   "id": "c75ba535",
   "metadata": {},
   "outputs": [],
   "source": [
    "KEROGEN_TYPE_CONVERSION_I = pd.read_excel(\"/Users/moyinolorunadegbie/Documents/KEROGEN_TYPE_CONVERSION/DATA.xlsx\")\n",
    "\n",
    "\n"
   ]
  },
  {
   "cell_type": "code",
   "execution_count": 378,
   "id": "46b6fbdd",
   "metadata": {},
   "outputs": [],
   "source": [
    "def kerogen_conversion_maturity( FEE_AL_910) :\n",
    "\n",
    "\n",
    "    dict = {}\n",
    " \n",
    "    for i in range(len(FEE_AL_910['T max'])):       # 380 <\n",
    "        if  0.09081 < FEE_AL_910['PI'].loc[i] < 1  and      FEE_AL_910['T max'].loc[i] < 430.52842 :\n",
    "             dict[   FEE_AL_910['Depth'].loc[i] ] = \"Immature\"\n",
    "        if  0.09081 < FEE_AL_910['PI'].loc[i] < 1  and 430.52842  < FEE_AL_910['T max'].loc[i] < 456.0398 :\n",
    "             dict[   FEE_AL_910['Depth'].loc[i] ] = \"Oil Zone\"\n",
    "        if  0.09081 < FEE_AL_910['PI'].loc[i] < 1  and 456.0398 < FEE_AL_910['T max'].loc[i] < 476.53248:  ### ????\n",
    "             dict[   FEE_AL_910['Depth'].loc[i] ] = \"Condensate Wet Gas Zone\"\n",
    "        if   476.53248 < FEE_AL_910['T max'].loc[i] :  \n",
    "             dict[   FEE_AL_910['Depth'].loc[i] ] = \"Dry Gas Zone\"\n",
    "        if  0.09081 > FEE_AL_910['PI'].loc[i]   and   FEE_AL_910['T max'].loc[i] < 476.53248:  ### ????\n",
    "             dict[   FEE_AL_910['Depth'].loc[i] ] = \"Low level conversion\"\n",
    "    \n",
    "\n",
    "    FEE_AL_910['KEROGEN TYPE/CONVERSION']  =   FEE_AL_910['Depth'].map(dict)\n",
    "\n",
    "    print( FEE_AL_910[['KEROGEN TYPE/CONVERSION','Depth']] )  \n",
    "    \n"
   ]
  },
  {
   "cell_type": "code",
   "execution_count": 392,
   "id": "3d8c0c65",
   "metadata": {},
   "outputs": [
    {
     "name": "stdout",
     "output_type": "stream",
     "text": [
      "   KEROGEN TYPE/CONVERSION  Depth\n",
      "0                 Oil Zone   9161\n",
      "1                 Oil Zone   9297\n",
      "2                 Immature   9520\n",
      "3                 Oil Zone   9644\n",
      "4                 Oil Zone   9716\n",
      "5                 Oil Zone   9825\n",
      "6                 Oil Zone   9866\n",
      "7                 Oil Zone   9894\n",
      "8                 Oil Zone   9966\n",
      "9                 Oil Zone  10006\n",
      "10                Oil Zone  10044\n",
      "11                Oil Zone  10146\n",
      "12                Oil Zone  10176\n",
      "13                Oil Zone  10216\n",
      "14                Oil Zone  10291\n",
      "15                Oil Zone  10374\n",
      "16                Oil Zone  10405\n",
      "17                Oil Zone  10467\n",
      "18                Oil Zone  10519\n",
      "19                Oil Zone  10554\n",
      "20                Oil Zone  10576\n",
      "21                Oil Zone  10633\n",
      "22                Oil Zone  10687\n",
      "23                Oil Zone  10718\n"
     ]
    },
    {
     "data": {
      "application/vnd.plotly.v1+json": {
       "config": {
        "plotlyServerURL": "https://plot.ly"
       },
       "data": [
        {
         "hovertemplate": "<b>%{hovertext}</b><br><br>color=Oil Zone<br>x=%{x}<br>y=%{y}<extra></extra>",
         "hovertext": [
          9161,
          9297,
          9644,
          9716,
          9825,
          9866,
          9894,
          9966,
          10006,
          10044,
          10146,
          10176,
          10216,
          10291,
          10374,
          10405,
          10467,
          10519,
          10554,
          10576,
          10633,
          10687,
          10718
         ],
         "legendgroup": "Oil Zone",
         "marker": {
          "color": "blue",
          "symbol": "circle"
         },
         "mode": "markers",
         "name": "Oil Zone",
         "orientation": "v",
         "showlegend": true,
         "type": "scatter",
         "x": [
          437,
          445,
          442,
          440,
          442,
          440,
          435,
          443,
          438,
          446,
          445,
          450,
          449,
          452,
          440,
          447,
          443,
          445,
          435,
          445,
          451,
          441,
          446
         ],
         "xaxis": "x",
         "y": [
          0.42150170648464164,
          0.2409430707303048,
          0.28714676390154964,
          0.3994147768836869,
          0.35801464605370226,
          0.32789212207239177,
          0.37566137566137564,
          0.3489010989010989,
          0.37662337662337664,
          0.300163132137031,
          0.3405275779376499,
          0.3079315707620529,
          0.31628532974428,
          0.33798882681564246,
          0.43157894736842106,
          0.3630434782608696,
          0.3845126835781041,
          0.3687002652519894,
          0.4210526315789474,
          0.4244604316546763,
          0.3373615307150051,
          0.5,
          0.26488456865127585
         ],
         "yaxis": "y"
        },
        {
         "hovertemplate": "<b>%{hovertext}</b><br><br>color=Immature<br>x=%{x}<br>y=%{y}<extra></extra>",
         "hovertext": [
          9520
         ],
         "legendgroup": "Immature",
         "marker": {
          "color": "yellow",
          "symbol": "circle"
         },
         "mode": "markers",
         "name": "Immature",
         "orientation": "v",
         "showlegend": true,
         "type": "scatter",
         "x": [
          409
         ],
         "xaxis": "x",
         "y": [
          0.5857142857142857
         ],
         "yaxis": "y"
        },
        {
         "hovertemplate": "x=%{x}<br>y=%{y}<extra></extra>",
         "legendgroup": "",
         "line": {
          "color": "#636efa",
          "dash": "solid"
         },
         "marker": {
          "symbol": "circle"
         },
         "mode": "lines",
         "name": "",
         "orientation": "v",
         "showlegend": false,
         "type": "scatter",
         "x": [
          380,
          476.53248,
          null,
          null,
          null,
          null,
          null,
          null
         ],
         "xaxis": "x",
         "y": [
          0.09081,
          0.09081,
          null,
          null,
          null,
          null,
          null,
          null
         ],
         "yaxis": "y"
        },
        {
         "hovertemplate": "x=%{x}<br>y=%{y}<extra></extra>",
         "legendgroup": "",
         "line": {
          "color": "#636efa",
          "dash": "solid"
         },
         "marker": {
          "symbol": "circle"
         },
         "mode": "lines",
         "name": "",
         "orientation": "v",
         "showlegend": false,
         "type": "scatter",
         "x": [
          430.52842,
          430.52842,
          null,
          null,
          null,
          null,
          null,
          null
         ],
         "xaxis": "x",
         "y": [
          0.09081,
          1,
          null,
          null,
          null,
          null,
          null,
          null
         ],
         "yaxis": "y"
        },
        {
         "hovertemplate": "x=%{x}<br>y=%{y}<extra></extra>",
         "legendgroup": "",
         "line": {
          "color": "#636efa",
          "dash": "solid"
         },
         "marker": {
          "symbol": "circle"
         },
         "mode": "lines",
         "name": "",
         "orientation": "v",
         "showlegend": false,
         "type": "scatter",
         "x": [
          456.0398,
          456.0398,
          null,
          null,
          null,
          null,
          null,
          null
         ],
         "xaxis": "x",
         "y": [
          0,
          1,
          null,
          null,
          null,
          null,
          null,
          null
         ],
         "yaxis": "y"
        },
        {
         "hovertemplate": "x=%{x}<br>y=%{y}<extra></extra>",
         "legendgroup": "",
         "line": {
          "color": "#636efa",
          "dash": "solid"
         },
         "marker": {
          "symbol": "circle"
         },
         "mode": "lines",
         "name": "",
         "orientation": "v",
         "showlegend": false,
         "type": "scatter",
         "x": [
          476.53248,
          476.53248,
          null,
          null,
          null,
          null,
          null,
          null
         ],
         "xaxis": "x",
         "y": [
          0,
          1,
          null,
          null,
          null,
          null,
          null,
          null
         ],
         "yaxis": "y"
        }
       ],
       "layout": {
        "legend": {
         "title": {
          "text": "Kerogen Conversion and Maturity"
         }
        },
        "template": {
         "data": {
          "bar": [
           {
            "error_x": {
             "color": "#2a3f5f"
            },
            "error_y": {
             "color": "#2a3f5f"
            },
            "marker": {
             "line": {
              "color": "#E5ECF6",
              "width": 0.5
             },
             "pattern": {
              "fillmode": "overlay",
              "size": 10,
              "solidity": 0.2
             }
            },
            "type": "bar"
           }
          ],
          "barpolar": [
           {
            "marker": {
             "line": {
              "color": "#E5ECF6",
              "width": 0.5
             },
             "pattern": {
              "fillmode": "overlay",
              "size": 10,
              "solidity": 0.2
             }
            },
            "type": "barpolar"
           }
          ],
          "carpet": [
           {
            "aaxis": {
             "endlinecolor": "#2a3f5f",
             "gridcolor": "white",
             "linecolor": "white",
             "minorgridcolor": "white",
             "startlinecolor": "#2a3f5f"
            },
            "baxis": {
             "endlinecolor": "#2a3f5f",
             "gridcolor": "white",
             "linecolor": "white",
             "minorgridcolor": "white",
             "startlinecolor": "#2a3f5f"
            },
            "type": "carpet"
           }
          ],
          "choropleth": [
           {
            "colorbar": {
             "outlinewidth": 0,
             "ticks": ""
            },
            "type": "choropleth"
           }
          ],
          "contour": [
           {
            "colorbar": {
             "outlinewidth": 0,
             "ticks": ""
            },
            "colorscale": [
             [
              0,
              "#0d0887"
             ],
             [
              0.1111111111111111,
              "#46039f"
             ],
             [
              0.2222222222222222,
              "#7201a8"
             ],
             [
              0.3333333333333333,
              "#9c179e"
             ],
             [
              0.4444444444444444,
              "#bd3786"
             ],
             [
              0.5555555555555556,
              "#d8576b"
             ],
             [
              0.6666666666666666,
              "#ed7953"
             ],
             [
              0.7777777777777778,
              "#fb9f3a"
             ],
             [
              0.8888888888888888,
              "#fdca26"
             ],
             [
              1,
              "#f0f921"
             ]
            ],
            "type": "contour"
           }
          ],
          "contourcarpet": [
           {
            "colorbar": {
             "outlinewidth": 0,
             "ticks": ""
            },
            "type": "contourcarpet"
           }
          ],
          "heatmap": [
           {
            "colorbar": {
             "outlinewidth": 0,
             "ticks": ""
            },
            "colorscale": [
             [
              0,
              "#0d0887"
             ],
             [
              0.1111111111111111,
              "#46039f"
             ],
             [
              0.2222222222222222,
              "#7201a8"
             ],
             [
              0.3333333333333333,
              "#9c179e"
             ],
             [
              0.4444444444444444,
              "#bd3786"
             ],
             [
              0.5555555555555556,
              "#d8576b"
             ],
             [
              0.6666666666666666,
              "#ed7953"
             ],
             [
              0.7777777777777778,
              "#fb9f3a"
             ],
             [
              0.8888888888888888,
              "#fdca26"
             ],
             [
              1,
              "#f0f921"
             ]
            ],
            "type": "heatmap"
           }
          ],
          "heatmapgl": [
           {
            "colorbar": {
             "outlinewidth": 0,
             "ticks": ""
            },
            "colorscale": [
             [
              0,
              "#0d0887"
             ],
             [
              0.1111111111111111,
              "#46039f"
             ],
             [
              0.2222222222222222,
              "#7201a8"
             ],
             [
              0.3333333333333333,
              "#9c179e"
             ],
             [
              0.4444444444444444,
              "#bd3786"
             ],
             [
              0.5555555555555556,
              "#d8576b"
             ],
             [
              0.6666666666666666,
              "#ed7953"
             ],
             [
              0.7777777777777778,
              "#fb9f3a"
             ],
             [
              0.8888888888888888,
              "#fdca26"
             ],
             [
              1,
              "#f0f921"
             ]
            ],
            "type": "heatmapgl"
           }
          ],
          "histogram": [
           {
            "marker": {
             "pattern": {
              "fillmode": "overlay",
              "size": 10,
              "solidity": 0.2
             }
            },
            "type": "histogram"
           }
          ],
          "histogram2d": [
           {
            "colorbar": {
             "outlinewidth": 0,
             "ticks": ""
            },
            "colorscale": [
             [
              0,
              "#0d0887"
             ],
             [
              0.1111111111111111,
              "#46039f"
             ],
             [
              0.2222222222222222,
              "#7201a8"
             ],
             [
              0.3333333333333333,
              "#9c179e"
             ],
             [
              0.4444444444444444,
              "#bd3786"
             ],
             [
              0.5555555555555556,
              "#d8576b"
             ],
             [
              0.6666666666666666,
              "#ed7953"
             ],
             [
              0.7777777777777778,
              "#fb9f3a"
             ],
             [
              0.8888888888888888,
              "#fdca26"
             ],
             [
              1,
              "#f0f921"
             ]
            ],
            "type": "histogram2d"
           }
          ],
          "histogram2dcontour": [
           {
            "colorbar": {
             "outlinewidth": 0,
             "ticks": ""
            },
            "colorscale": [
             [
              0,
              "#0d0887"
             ],
             [
              0.1111111111111111,
              "#46039f"
             ],
             [
              0.2222222222222222,
              "#7201a8"
             ],
             [
              0.3333333333333333,
              "#9c179e"
             ],
             [
              0.4444444444444444,
              "#bd3786"
             ],
             [
              0.5555555555555556,
              "#d8576b"
             ],
             [
              0.6666666666666666,
              "#ed7953"
             ],
             [
              0.7777777777777778,
              "#fb9f3a"
             ],
             [
              0.8888888888888888,
              "#fdca26"
             ],
             [
              1,
              "#f0f921"
             ]
            ],
            "type": "histogram2dcontour"
           }
          ],
          "mesh3d": [
           {
            "colorbar": {
             "outlinewidth": 0,
             "ticks": ""
            },
            "type": "mesh3d"
           }
          ],
          "parcoords": [
           {
            "line": {
             "colorbar": {
              "outlinewidth": 0,
              "ticks": ""
             }
            },
            "type": "parcoords"
           }
          ],
          "pie": [
           {
            "automargin": true,
            "type": "pie"
           }
          ],
          "scatter": [
           {
            "fillpattern": {
             "fillmode": "overlay",
             "size": 10,
             "solidity": 0.2
            },
            "type": "scatter"
           }
          ],
          "scatter3d": [
           {
            "line": {
             "colorbar": {
              "outlinewidth": 0,
              "ticks": ""
             }
            },
            "marker": {
             "colorbar": {
              "outlinewidth": 0,
              "ticks": ""
             }
            },
            "type": "scatter3d"
           }
          ],
          "scattercarpet": [
           {
            "marker": {
             "colorbar": {
              "outlinewidth": 0,
              "ticks": ""
             }
            },
            "type": "scattercarpet"
           }
          ],
          "scattergeo": [
           {
            "marker": {
             "colorbar": {
              "outlinewidth": 0,
              "ticks": ""
             }
            },
            "type": "scattergeo"
           }
          ],
          "scattergl": [
           {
            "marker": {
             "colorbar": {
              "outlinewidth": 0,
              "ticks": ""
             }
            },
            "type": "scattergl"
           }
          ],
          "scattermapbox": [
           {
            "marker": {
             "colorbar": {
              "outlinewidth": 0,
              "ticks": ""
             }
            },
            "type": "scattermapbox"
           }
          ],
          "scatterpolar": [
           {
            "marker": {
             "colorbar": {
              "outlinewidth": 0,
              "ticks": ""
             }
            },
            "type": "scatterpolar"
           }
          ],
          "scatterpolargl": [
           {
            "marker": {
             "colorbar": {
              "outlinewidth": 0,
              "ticks": ""
             }
            },
            "type": "scatterpolargl"
           }
          ],
          "scatterternary": [
           {
            "marker": {
             "colorbar": {
              "outlinewidth": 0,
              "ticks": ""
             }
            },
            "type": "scatterternary"
           }
          ],
          "surface": [
           {
            "colorbar": {
             "outlinewidth": 0,
             "ticks": ""
            },
            "colorscale": [
             [
              0,
              "#0d0887"
             ],
             [
              0.1111111111111111,
              "#46039f"
             ],
             [
              0.2222222222222222,
              "#7201a8"
             ],
             [
              0.3333333333333333,
              "#9c179e"
             ],
             [
              0.4444444444444444,
              "#bd3786"
             ],
             [
              0.5555555555555556,
              "#d8576b"
             ],
             [
              0.6666666666666666,
              "#ed7953"
             ],
             [
              0.7777777777777778,
              "#fb9f3a"
             ],
             [
              0.8888888888888888,
              "#fdca26"
             ],
             [
              1,
              "#f0f921"
             ]
            ],
            "type": "surface"
           }
          ],
          "table": [
           {
            "cells": {
             "fill": {
              "color": "#EBF0F8"
             },
             "line": {
              "color": "white"
             }
            },
            "header": {
             "fill": {
              "color": "#C8D4E3"
             },
             "line": {
              "color": "white"
             }
            },
            "type": "table"
           }
          ]
         },
         "layout": {
          "annotationdefaults": {
           "arrowcolor": "#2a3f5f",
           "arrowhead": 0,
           "arrowwidth": 1
          },
          "autotypenumbers": "strict",
          "coloraxis": {
           "colorbar": {
            "outlinewidth": 0,
            "ticks": ""
           }
          },
          "colorscale": {
           "diverging": [
            [
             0,
             "#8e0152"
            ],
            [
             0.1,
             "#c51b7d"
            ],
            [
             0.2,
             "#de77ae"
            ],
            [
             0.3,
             "#f1b6da"
            ],
            [
             0.4,
             "#fde0ef"
            ],
            [
             0.5,
             "#f7f7f7"
            ],
            [
             0.6,
             "#e6f5d0"
            ],
            [
             0.7,
             "#b8e186"
            ],
            [
             0.8,
             "#7fbc41"
            ],
            [
             0.9,
             "#4d9221"
            ],
            [
             1,
             "#276419"
            ]
           ],
           "sequential": [
            [
             0,
             "#0d0887"
            ],
            [
             0.1111111111111111,
             "#46039f"
            ],
            [
             0.2222222222222222,
             "#7201a8"
            ],
            [
             0.3333333333333333,
             "#9c179e"
            ],
            [
             0.4444444444444444,
             "#bd3786"
            ],
            [
             0.5555555555555556,
             "#d8576b"
            ],
            [
             0.6666666666666666,
             "#ed7953"
            ],
            [
             0.7777777777777778,
             "#fb9f3a"
            ],
            [
             0.8888888888888888,
             "#fdca26"
            ],
            [
             1,
             "#f0f921"
            ]
           ],
           "sequentialminus": [
            [
             0,
             "#0d0887"
            ],
            [
             0.1111111111111111,
             "#46039f"
            ],
            [
             0.2222222222222222,
             "#7201a8"
            ],
            [
             0.3333333333333333,
             "#9c179e"
            ],
            [
             0.4444444444444444,
             "#bd3786"
            ],
            [
             0.5555555555555556,
             "#d8576b"
            ],
            [
             0.6666666666666666,
             "#ed7953"
            ],
            [
             0.7777777777777778,
             "#fb9f3a"
            ],
            [
             0.8888888888888888,
             "#fdca26"
            ],
            [
             1,
             "#f0f921"
            ]
           ]
          },
          "colorway": [
           "#636efa",
           "#EF553B",
           "#00cc96",
           "#ab63fa",
           "#FFA15A",
           "#19d3f3",
           "#FF6692",
           "#B6E880",
           "#FF97FF",
           "#FECB52"
          ],
          "font": {
           "color": "#2a3f5f"
          },
          "geo": {
           "bgcolor": "white",
           "lakecolor": "white",
           "landcolor": "#E5ECF6",
           "showlakes": true,
           "showland": true,
           "subunitcolor": "white"
          },
          "hoverlabel": {
           "align": "left"
          },
          "hovermode": "closest",
          "mapbox": {
           "style": "light"
          },
          "paper_bgcolor": "white",
          "plot_bgcolor": "#E5ECF6",
          "polar": {
           "angularaxis": {
            "gridcolor": "white",
            "linecolor": "white",
            "ticks": ""
           },
           "bgcolor": "#E5ECF6",
           "radialaxis": {
            "gridcolor": "white",
            "linecolor": "white",
            "ticks": ""
           }
          },
          "scene": {
           "xaxis": {
            "backgroundcolor": "#E5ECF6",
            "gridcolor": "white",
            "gridwidth": 2,
            "linecolor": "white",
            "showbackground": true,
            "ticks": "",
            "zerolinecolor": "white"
           },
           "yaxis": {
            "backgroundcolor": "#E5ECF6",
            "gridcolor": "white",
            "gridwidth": 2,
            "linecolor": "white",
            "showbackground": true,
            "ticks": "",
            "zerolinecolor": "white"
           },
           "zaxis": {
            "backgroundcolor": "#E5ECF6",
            "gridcolor": "white",
            "gridwidth": 2,
            "linecolor": "white",
            "showbackground": true,
            "ticks": "",
            "zerolinecolor": "white"
           }
          },
          "shapedefaults": {
           "line": {
            "color": "#2a3f5f"
           }
          },
          "ternary": {
           "aaxis": {
            "gridcolor": "white",
            "linecolor": "white",
            "ticks": ""
           },
           "baxis": {
            "gridcolor": "white",
            "linecolor": "white",
            "ticks": ""
           },
           "bgcolor": "#E5ECF6",
           "caxis": {
            "gridcolor": "white",
            "linecolor": "white",
            "ticks": ""
           }
          },
          "title": {
           "x": 0.05
          },
          "xaxis": {
           "automargin": true,
           "gridcolor": "white",
           "linecolor": "white",
           "ticks": "",
           "title": {
            "standoff": 15
           },
           "zerolinecolor": "white",
           "zerolinewidth": 2
          },
          "yaxis": {
           "automargin": true,
           "gridcolor": "white",
           "linecolor": "white",
           "ticks": "",
           "title": {
            "standoff": 15
           },
           "zerolinecolor": "white",
           "zerolinewidth": 2
          }
         }
        },
        "title": {
         "text": "Kerogen Conversion and Maturity"
        },
        "xaxis": {
         "title": {
          "text": "T max"
         }
        },
        "yaxis": {
         "title": {
          "text": "PI"
         }
        }
       }
      },
      "text/html": [
       "<div>                            <div id=\"ce26d18f-6c42-484d-af94-e94b76a539ab\" class=\"plotly-graph-div\" style=\"height:525px; width:100%;\"></div>            <script type=\"text/javascript\">                require([\"plotly\"], function(Plotly) {                    window.PLOTLYENV=window.PLOTLYENV || {};                                    if (document.getElementById(\"ce26d18f-6c42-484d-af94-e94b76a539ab\")) {                    Plotly.newPlot(                        \"ce26d18f-6c42-484d-af94-e94b76a539ab\",                        [{\"hovertemplate\":\"<b>%{hovertext}</b><br><br>color=Oil Zone<br>x=%{x}<br>y=%{y}<extra></extra>\",\"hovertext\":[9161.0,9297.0,9644.0,9716.0,9825.0,9866.0,9894.0,9966.0,10006.0,10044.0,10146.0,10176.0,10216.0,10291.0,10374.0,10405.0,10467.0,10519.0,10554.0,10576.0,10633.0,10687.0,10718.0],\"legendgroup\":\"Oil Zone\",\"marker\":{\"color\":\"blue\",\"symbol\":\"circle\"},\"mode\":\"markers\",\"name\":\"Oil Zone\",\"orientation\":\"v\",\"showlegend\":true,\"x\":[437,445,442,440,442,440,435,443,438,446,445,450,449,452,440,447,443,445,435,445,451,441,446],\"xaxis\":\"x\",\"y\":[0.42150170648464164,0.2409430707303048,0.28714676390154964,0.3994147768836869,0.35801464605370226,0.32789212207239177,0.37566137566137564,0.3489010989010989,0.37662337662337664,0.300163132137031,0.3405275779376499,0.3079315707620529,0.31628532974428,0.33798882681564246,0.43157894736842106,0.3630434782608696,0.3845126835781041,0.3687002652519894,0.4210526315789474,0.4244604316546763,0.3373615307150051,0.5,0.26488456865127585],\"yaxis\":\"y\",\"type\":\"scatter\"},{\"hovertemplate\":\"<b>%{hovertext}</b><br><br>color=Immature<br>x=%{x}<br>y=%{y}<extra></extra>\",\"hovertext\":[9520.0],\"legendgroup\":\"Immature\",\"marker\":{\"color\":\"yellow\",\"symbol\":\"circle\"},\"mode\":\"markers\",\"name\":\"Immature\",\"orientation\":\"v\",\"showlegend\":true,\"x\":[409],\"xaxis\":\"x\",\"y\":[0.5857142857142857],\"yaxis\":\"y\",\"type\":\"scatter\"},{\"hovertemplate\":\"x=%{x}<br>y=%{y}<extra></extra>\",\"legendgroup\":\"\",\"line\":{\"color\":\"#636efa\",\"dash\":\"solid\"},\"marker\":{\"symbol\":\"circle\"},\"mode\":\"lines\",\"name\":\"\",\"orientation\":\"v\",\"showlegend\":false,\"x\":[380.0,476.53248,null,null,null,null,null,null],\"xaxis\":\"x\",\"y\":[0.09081,0.09081,null,null,null,null,null,null],\"yaxis\":\"y\",\"type\":\"scatter\"},{\"hovertemplate\":\"x=%{x}<br>y=%{y}<extra></extra>\",\"legendgroup\":\"\",\"line\":{\"color\":\"#636efa\",\"dash\":\"solid\"},\"marker\":{\"symbol\":\"circle\"},\"mode\":\"lines\",\"name\":\"\",\"orientation\":\"v\",\"showlegend\":false,\"x\":[430.52842,430.52842,null,null,null,null,null,null],\"xaxis\":\"x\",\"y\":[0.09081,1.0,null,null,null,null,null,null],\"yaxis\":\"y\",\"type\":\"scatter\"},{\"hovertemplate\":\"x=%{x}<br>y=%{y}<extra></extra>\",\"legendgroup\":\"\",\"line\":{\"color\":\"#636efa\",\"dash\":\"solid\"},\"marker\":{\"symbol\":\"circle\"},\"mode\":\"lines\",\"name\":\"\",\"orientation\":\"v\",\"showlegend\":false,\"x\":[456.0398,456.0398,null,null,null,null,null,null],\"xaxis\":\"x\",\"y\":[0.0,1.0,null,null,null,null,null,null],\"yaxis\":\"y\",\"type\":\"scatter\"},{\"hovertemplate\":\"x=%{x}<br>y=%{y}<extra></extra>\",\"legendgroup\":\"\",\"line\":{\"color\":\"#636efa\",\"dash\":\"solid\"},\"marker\":{\"symbol\":\"circle\"},\"mode\":\"lines\",\"name\":\"\",\"orientation\":\"v\",\"showlegend\":false,\"x\":[476.53248,476.53248,null,null,null,null,null,null],\"xaxis\":\"x\",\"y\":[0.0,1.0,null,null,null,null,null,null],\"yaxis\":\"y\",\"type\":\"scatter\"}],                        {\"template\":{\"data\":{\"histogram2dcontour\":[{\"type\":\"histogram2dcontour\",\"colorbar\":{\"outlinewidth\":0,\"ticks\":\"\"},\"colorscale\":[[0.0,\"#0d0887\"],[0.1111111111111111,\"#46039f\"],[0.2222222222222222,\"#7201a8\"],[0.3333333333333333,\"#9c179e\"],[0.4444444444444444,\"#bd3786\"],[0.5555555555555556,\"#d8576b\"],[0.6666666666666666,\"#ed7953\"],[0.7777777777777778,\"#fb9f3a\"],[0.8888888888888888,\"#fdca26\"],[1.0,\"#f0f921\"]]}],\"choropleth\":[{\"type\":\"choropleth\",\"colorbar\":{\"outlinewidth\":0,\"ticks\":\"\"}}],\"histogram2d\":[{\"type\":\"histogram2d\",\"colorbar\":{\"outlinewidth\":0,\"ticks\":\"\"},\"colorscale\":[[0.0,\"#0d0887\"],[0.1111111111111111,\"#46039f\"],[0.2222222222222222,\"#7201a8\"],[0.3333333333333333,\"#9c179e\"],[0.4444444444444444,\"#bd3786\"],[0.5555555555555556,\"#d8576b\"],[0.6666666666666666,\"#ed7953\"],[0.7777777777777778,\"#fb9f3a\"],[0.8888888888888888,\"#fdca26\"],[1.0,\"#f0f921\"]]}],\"heatmap\":[{\"type\":\"heatmap\",\"colorbar\":{\"outlinewidth\":0,\"ticks\":\"\"},\"colorscale\":[[0.0,\"#0d0887\"],[0.1111111111111111,\"#46039f\"],[0.2222222222222222,\"#7201a8\"],[0.3333333333333333,\"#9c179e\"],[0.4444444444444444,\"#bd3786\"],[0.5555555555555556,\"#d8576b\"],[0.6666666666666666,\"#ed7953\"],[0.7777777777777778,\"#fb9f3a\"],[0.8888888888888888,\"#fdca26\"],[1.0,\"#f0f921\"]]}],\"heatmapgl\":[{\"type\":\"heatmapgl\",\"colorbar\":{\"outlinewidth\":0,\"ticks\":\"\"},\"colorscale\":[[0.0,\"#0d0887\"],[0.1111111111111111,\"#46039f\"],[0.2222222222222222,\"#7201a8\"],[0.3333333333333333,\"#9c179e\"],[0.4444444444444444,\"#bd3786\"],[0.5555555555555556,\"#d8576b\"],[0.6666666666666666,\"#ed7953\"],[0.7777777777777778,\"#fb9f3a\"],[0.8888888888888888,\"#fdca26\"],[1.0,\"#f0f921\"]]}],\"contourcarpet\":[{\"type\":\"contourcarpet\",\"colorbar\":{\"outlinewidth\":0,\"ticks\":\"\"}}],\"contour\":[{\"type\":\"contour\",\"colorbar\":{\"outlinewidth\":0,\"ticks\":\"\"},\"colorscale\":[[0.0,\"#0d0887\"],[0.1111111111111111,\"#46039f\"],[0.2222222222222222,\"#7201a8\"],[0.3333333333333333,\"#9c179e\"],[0.4444444444444444,\"#bd3786\"],[0.5555555555555556,\"#d8576b\"],[0.6666666666666666,\"#ed7953\"],[0.7777777777777778,\"#fb9f3a\"],[0.8888888888888888,\"#fdca26\"],[1.0,\"#f0f921\"]]}],\"surface\":[{\"type\":\"surface\",\"colorbar\":{\"outlinewidth\":0,\"ticks\":\"\"},\"colorscale\":[[0.0,\"#0d0887\"],[0.1111111111111111,\"#46039f\"],[0.2222222222222222,\"#7201a8\"],[0.3333333333333333,\"#9c179e\"],[0.4444444444444444,\"#bd3786\"],[0.5555555555555556,\"#d8576b\"],[0.6666666666666666,\"#ed7953\"],[0.7777777777777778,\"#fb9f3a\"],[0.8888888888888888,\"#fdca26\"],[1.0,\"#f0f921\"]]}],\"mesh3d\":[{\"type\":\"mesh3d\",\"colorbar\":{\"outlinewidth\":0,\"ticks\":\"\"}}],\"scatter\":[{\"fillpattern\":{\"fillmode\":\"overlay\",\"size\":10,\"solidity\":0.2},\"type\":\"scatter\"}],\"parcoords\":[{\"type\":\"parcoords\",\"line\":{\"colorbar\":{\"outlinewidth\":0,\"ticks\":\"\"}}}],\"scatterpolargl\":[{\"type\":\"scatterpolargl\",\"marker\":{\"colorbar\":{\"outlinewidth\":0,\"ticks\":\"\"}}}],\"bar\":[{\"error_x\":{\"color\":\"#2a3f5f\"},\"error_y\":{\"color\":\"#2a3f5f\"},\"marker\":{\"line\":{\"color\":\"#E5ECF6\",\"width\":0.5},\"pattern\":{\"fillmode\":\"overlay\",\"size\":10,\"solidity\":0.2}},\"type\":\"bar\"}],\"scattergeo\":[{\"type\":\"scattergeo\",\"marker\":{\"colorbar\":{\"outlinewidth\":0,\"ticks\":\"\"}}}],\"scatterpolar\":[{\"type\":\"scatterpolar\",\"marker\":{\"colorbar\":{\"outlinewidth\":0,\"ticks\":\"\"}}}],\"histogram\":[{\"marker\":{\"pattern\":{\"fillmode\":\"overlay\",\"size\":10,\"solidity\":0.2}},\"type\":\"histogram\"}],\"scattergl\":[{\"type\":\"scattergl\",\"marker\":{\"colorbar\":{\"outlinewidth\":0,\"ticks\":\"\"}}}],\"scatter3d\":[{\"type\":\"scatter3d\",\"line\":{\"colorbar\":{\"outlinewidth\":0,\"ticks\":\"\"}},\"marker\":{\"colorbar\":{\"outlinewidth\":0,\"ticks\":\"\"}}}],\"scattermapbox\":[{\"type\":\"scattermapbox\",\"marker\":{\"colorbar\":{\"outlinewidth\":0,\"ticks\":\"\"}}}],\"scatterternary\":[{\"type\":\"scatterternary\",\"marker\":{\"colorbar\":{\"outlinewidth\":0,\"ticks\":\"\"}}}],\"scattercarpet\":[{\"type\":\"scattercarpet\",\"marker\":{\"colorbar\":{\"outlinewidth\":0,\"ticks\":\"\"}}}],\"carpet\":[{\"aaxis\":{\"endlinecolor\":\"#2a3f5f\",\"gridcolor\":\"white\",\"linecolor\":\"white\",\"minorgridcolor\":\"white\",\"startlinecolor\":\"#2a3f5f\"},\"baxis\":{\"endlinecolor\":\"#2a3f5f\",\"gridcolor\":\"white\",\"linecolor\":\"white\",\"minorgridcolor\":\"white\",\"startlinecolor\":\"#2a3f5f\"},\"type\":\"carpet\"}],\"table\":[{\"cells\":{\"fill\":{\"color\":\"#EBF0F8\"},\"line\":{\"color\":\"white\"}},\"header\":{\"fill\":{\"color\":\"#C8D4E3\"},\"line\":{\"color\":\"white\"}},\"type\":\"table\"}],\"barpolar\":[{\"marker\":{\"line\":{\"color\":\"#E5ECF6\",\"width\":0.5},\"pattern\":{\"fillmode\":\"overlay\",\"size\":10,\"solidity\":0.2}},\"type\":\"barpolar\"}],\"pie\":[{\"automargin\":true,\"type\":\"pie\"}]},\"layout\":{\"autotypenumbers\":\"strict\",\"colorway\":[\"#636efa\",\"#EF553B\",\"#00cc96\",\"#ab63fa\",\"#FFA15A\",\"#19d3f3\",\"#FF6692\",\"#B6E880\",\"#FF97FF\",\"#FECB52\"],\"font\":{\"color\":\"#2a3f5f\"},\"hovermode\":\"closest\",\"hoverlabel\":{\"align\":\"left\"},\"paper_bgcolor\":\"white\",\"plot_bgcolor\":\"#E5ECF6\",\"polar\":{\"bgcolor\":\"#E5ECF6\",\"angularaxis\":{\"gridcolor\":\"white\",\"linecolor\":\"white\",\"ticks\":\"\"},\"radialaxis\":{\"gridcolor\":\"white\",\"linecolor\":\"white\",\"ticks\":\"\"}},\"ternary\":{\"bgcolor\":\"#E5ECF6\",\"aaxis\":{\"gridcolor\":\"white\",\"linecolor\":\"white\",\"ticks\":\"\"},\"baxis\":{\"gridcolor\":\"white\",\"linecolor\":\"white\",\"ticks\":\"\"},\"caxis\":{\"gridcolor\":\"white\",\"linecolor\":\"white\",\"ticks\":\"\"}},\"coloraxis\":{\"colorbar\":{\"outlinewidth\":0,\"ticks\":\"\"}},\"colorscale\":{\"sequential\":[[0.0,\"#0d0887\"],[0.1111111111111111,\"#46039f\"],[0.2222222222222222,\"#7201a8\"],[0.3333333333333333,\"#9c179e\"],[0.4444444444444444,\"#bd3786\"],[0.5555555555555556,\"#d8576b\"],[0.6666666666666666,\"#ed7953\"],[0.7777777777777778,\"#fb9f3a\"],[0.8888888888888888,\"#fdca26\"],[1.0,\"#f0f921\"]],\"sequentialminus\":[[0.0,\"#0d0887\"],[0.1111111111111111,\"#46039f\"],[0.2222222222222222,\"#7201a8\"],[0.3333333333333333,\"#9c179e\"],[0.4444444444444444,\"#bd3786\"],[0.5555555555555556,\"#d8576b\"],[0.6666666666666666,\"#ed7953\"],[0.7777777777777778,\"#fb9f3a\"],[0.8888888888888888,\"#fdca26\"],[1.0,\"#f0f921\"]],\"diverging\":[[0,\"#8e0152\"],[0.1,\"#c51b7d\"],[0.2,\"#de77ae\"],[0.3,\"#f1b6da\"],[0.4,\"#fde0ef\"],[0.5,\"#f7f7f7\"],[0.6,\"#e6f5d0\"],[0.7,\"#b8e186\"],[0.8,\"#7fbc41\"],[0.9,\"#4d9221\"],[1,\"#276419\"]]},\"xaxis\":{\"gridcolor\":\"white\",\"linecolor\":\"white\",\"ticks\":\"\",\"title\":{\"standoff\":15},\"zerolinecolor\":\"white\",\"automargin\":true,\"zerolinewidth\":2},\"yaxis\":{\"gridcolor\":\"white\",\"linecolor\":\"white\",\"ticks\":\"\",\"title\":{\"standoff\":15},\"zerolinecolor\":\"white\",\"automargin\":true,\"zerolinewidth\":2},\"scene\":{\"xaxis\":{\"backgroundcolor\":\"#E5ECF6\",\"gridcolor\":\"white\",\"linecolor\":\"white\",\"showbackground\":true,\"ticks\":\"\",\"zerolinecolor\":\"white\",\"gridwidth\":2},\"yaxis\":{\"backgroundcolor\":\"#E5ECF6\",\"gridcolor\":\"white\",\"linecolor\":\"white\",\"showbackground\":true,\"ticks\":\"\",\"zerolinecolor\":\"white\",\"gridwidth\":2},\"zaxis\":{\"backgroundcolor\":\"#E5ECF6\",\"gridcolor\":\"white\",\"linecolor\":\"white\",\"showbackground\":true,\"ticks\":\"\",\"zerolinecolor\":\"white\",\"gridwidth\":2}},\"shapedefaults\":{\"line\":{\"color\":\"#2a3f5f\"}},\"annotationdefaults\":{\"arrowcolor\":\"#2a3f5f\",\"arrowhead\":0,\"arrowwidth\":1},\"geo\":{\"bgcolor\":\"white\",\"landcolor\":\"#E5ECF6\",\"subunitcolor\":\"white\",\"showland\":true,\"showlakes\":true,\"lakecolor\":\"white\"},\"title\":{\"x\":0.05},\"mapbox\":{\"style\":\"light\"}}},\"title\":{\"text\":\"Kerogen Conversion and Maturity\"},\"xaxis\":{\"title\":{\"text\":\"T max\"}},\"yaxis\":{\"title\":{\"text\":\"PI\"}},\"legend\":{\"title\":{\"text\":\"Kerogen Conversion and Maturity\"}}},                        {\"responsive\": true}                    ).then(function(){\n",
       "                            \n",
       "var gd = document.getElementById('ce26d18f-6c42-484d-af94-e94b76a539ab');\n",
       "var x = new MutationObserver(function (mutations, observer) {{\n",
       "        var display = window.getComputedStyle(gd).display;\n",
       "        if (!display || display === 'none') {{\n",
       "            console.log([gd, 'removed!']);\n",
       "            Plotly.purge(gd);\n",
       "            observer.disconnect();\n",
       "        }}\n",
       "}});\n",
       "\n",
       "// Listen for the removal of the full notebook cells\n",
       "var notebookContainer = gd.closest('#notebook-container');\n",
       "if (notebookContainer) {{\n",
       "    x.observe(notebookContainer, {childList: true});\n",
       "}}\n",
       "\n",
       "// Listen for the clearing of the current output cell\n",
       "var outputEl = gd.closest('.output');\n",
       "if (outputEl) {{\n",
       "    x.observe(outputEl, {childList: true});\n",
       "}}\n",
       "\n",
       "                        })                };                });            </script>        </div>"
      ]
     },
     "metadata": {},
     "output_type": "display_data"
    }
   ],
   "source": [
    "def kerogen_conversion_maturity_plot( FEE_AL_910, KEROGEN_TYPE_CONVERSION_I) :\n",
    "    \n",
    "    kerogen_conversion_maturity( FEE_AL_910) \n",
    "    \n",
    "    import plotly.express as px\n",
    "    import plotly.graph_objects as go\n",
    "    \n",
    "    \n",
    "    ###################################\n",
    "    \n",
    "    \n",
    "    \n",
    "    fig1 = px.scatter(x=FEE_AL_910['T max'], y=FEE_AL_910['PI'], hover_name = FEE_AL_910[\"Depth\"]   ) \n",
    "\n",
    "    fig2 = px.line(x=KEROGEN_TYPE_CONVERSION_I['x1'], y=KEROGEN_TYPE_CONVERSION_I['y1'])\n",
    "    fig3 = px.line(x=KEROGEN_TYPE_CONVERSION_I['x2'], y=KEROGEN_TYPE_CONVERSION_I['y2'])\n",
    "    fig4 = px.line(x=KEROGEN_TYPE_CONVERSION_I['x3'], y=KEROGEN_TYPE_CONVERSION_I['y3'])\n",
    "    fig5 = px.line(x=KEROGEN_TYPE_CONVERSION_I['x4'], y=KEROGEN_TYPE_CONVERSION_I['y4'])\n",
    "\n",
    "    fig6 = go.Figure(data=fig1.data + fig2.data + fig3.data + fig4.data + fig5.data)\n",
    "    fig6.update_layout( \n",
    "        title=\"Kerogen Conversion and Maturity\",   #\n",
    "    xaxis_title=\"T max\",\n",
    "    yaxis_title=\"PI\",\n",
    "    legend_title=\"Kerogen Conversion and Maturity\"           )\n",
    "    #fig6.show()\n",
    "    \n",
    "    ##################################\n",
    "\n",
    "    fig1 = px.scatter(x=FEE_AL_910['T max'], y=FEE_AL_910['PI'], hover_name = FEE_AL_910[\"Depth\"]       \n",
    "        ,\n",
    "                 color =  FEE_AL_910['KEROGEN TYPE/CONVERSION'] , \n",
    "                      #color = FEE_AL_910['Formation']  , \n",
    "\n",
    "    color_discrete_map = {\"Immature\":  \"yellow\"  ,                           \n",
    "    \"Oil Zone\"  :\"blue\"  ,\n",
    "    \"Condensate Wet Gas Zone\":\"red\",  \"Dry Gas Zone\" : \"pink\" ,  \"Low level conversion\" : \"green\"\n",
    "    }  ) \n",
    "\n",
    "    fig2 = px.line(x=KEROGEN_TYPE_CONVERSION_I['x1'], y=KEROGEN_TYPE_CONVERSION_I['y1'])\n",
    "    fig3 = px.line(x=KEROGEN_TYPE_CONVERSION_I['x2'], y=KEROGEN_TYPE_CONVERSION_I['y2'])\n",
    "    fig4 = px.line(x=KEROGEN_TYPE_CONVERSION_I['x3'], y=KEROGEN_TYPE_CONVERSION_I['y3'])\n",
    "    fig5 = px.line(x=KEROGEN_TYPE_CONVERSION_I['x4'], y=KEROGEN_TYPE_CONVERSION_I['y4'])\n",
    "\n",
    "    fig6 = go.Figure(data=fig1.data + fig2.data + fig3.data + fig4.data + fig5.data)\n",
    "    fig6.update_layout( \n",
    "        title=\"Kerogen Conversion and Maturity\",   #\n",
    "    xaxis_title=\"T max\",\n",
    "    yaxis_title=\"PI\",\n",
    "    legend_title=\"Kerogen Conversion and Maturity\"           )\n",
    "    fig6.show()\n",
    " \n",
    "# PERFECT\n",
    "\n",
    "kerogen_conversion_maturity_plot( FEE_AW_3402, KEROGEN_TYPE_CONVERSION_I)"
   ]
  },
  {
   "cell_type": "code",
   "execution_count": null,
   "id": "c7c66243",
   "metadata": {},
   "outputs": [],
   "source": []
  },
  {
   "cell_type": "code",
   "execution_count": null,
   "id": "5b8c09a9",
   "metadata": {},
   "outputs": [],
   "source": []
  },
  {
   "cell_type": "code",
   "execution_count": null,
   "id": "da1daef3",
   "metadata": {},
   "outputs": [],
   "source": []
  },
  {
   "cell_type": "code",
   "execution_count": null,
   "id": "c295ea64",
   "metadata": {},
   "outputs": [],
   "source": []
  },
  {
   "cell_type": "code",
   "execution_count": null,
   "id": "9126cd5f",
   "metadata": {},
   "outputs": [],
   "source": []
  },
  {
   "cell_type": "code",
   "execution_count": null,
   "id": "60291753",
   "metadata": {},
   "outputs": [],
   "source": []
  },
  {
   "cell_type": "code",
   "execution_count": null,
   "id": "411a3859",
   "metadata": {},
   "outputs": [],
   "source": []
  },
  {
   "cell_type": "code",
   "execution_count": null,
   "id": "654fb1e2",
   "metadata": {},
   "outputs": [],
   "source": []
  },
  {
   "cell_type": "code",
   "execution_count": null,
   "id": "ca47be6e",
   "metadata": {},
   "outputs": [],
   "source": []
  },
  {
   "cell_type": "code",
   "execution_count": null,
   "id": "35968bc0",
   "metadata": {},
   "outputs": [],
   "source": []
  },
  {
   "cell_type": "code",
   "execution_count": 70,
   "id": "aa490000",
   "metadata": {},
   "outputs": [
    {
     "name": "stdout",
     "output_type": "stream",
     "text": [
      "    KEROGEN TYPE/CONVERSION    Depth\n",
      "0                  Oil Zone   9037.0\n",
      "1                  Oil Zone   9078.5\n",
      "2                  Oil Zone   9127.5\n",
      "3                  Oil Zone   9142.0\n",
      "4                  Oil Zone   9218.0\n",
      "5                  Oil Zone   9333.5\n",
      "6                  Oil Zone   9371.5\n",
      "7                  Oil Zone   9398.0\n",
      "8   Condensate Wet Gas Zone   9487.0\n",
      "9                  Immature   9609.5\n",
      "10                 Oil Zone   9657.5\n",
      "11                 Oil Zone   9663.5\n",
      "12                 Immature   9684.5\n",
      "13                 Oil Zone   9717.5\n",
      "14                 Oil Zone   9726.0\n",
      "15                 Oil Zone   9731.5\n",
      "16                 Oil Zone   9740.0\n",
      "17                 Immature   9853.0\n",
      "18  Condensate Wet Gas Zone   9938.5\n",
      "19                 Oil Zone   9952.5\n",
      "20  Condensate Wet Gas Zone   9956.5\n",
      "21                 Oil Zone   9962.5\n",
      "22  Condensate Wet Gas Zone   9966.5\n",
      "23                 Oil Zone   9972.5\n",
      "24  Condensate Wet Gas Zone   9975.5\n",
      "25  Condensate Wet Gas Zone   9980.5\n",
      "26  Condensate Wet Gas Zone   9985.5\n",
      "27  Condensate Wet Gas Zone   9990.5\n",
      "28                 Oil Zone   9995.5\n",
      "29  Condensate Wet Gas Zone  10000.5\n",
      "30  Condensate Wet Gas Zone  10004.5\n",
      "31  Condensate Wet Gas Zone  10010.5\n",
      "32  Condensate Wet Gas Zone  10020.5\n",
      "33                 Oil Zone  10026.5\n",
      "34                 Oil Zone  10032.5\n",
      "35                 Oil Zone  10166.5\n",
      "36  Condensate Wet Gas Zone  10283.5\n",
      "37  Condensate Wet Gas Zone  10292.5\n",
      "38                 Oil Zone  10300.5\n",
      "39  Condensate Wet Gas Zone  10310.5\n",
      "40  Condensate Wet Gas Zone  10318.5\n",
      "41  Condensate Wet Gas Zone  10325.5\n",
      "42                 Oil Zone  10335.5\n",
      "43                 Oil Zone  10346.5\n",
      "44                 Oil Zone  10353.5\n",
      "45                 Oil Zone  10360.5\n",
      "46                 Oil Zone  10366.5\n",
      "47                 Oil Zone  10374.0\n",
      "48                 Oil Zone  10377.0\n",
      "49                 Oil Zone  10380.5\n",
      "50                 Oil Zone  10390.5\n"
     ]
    },
    {
     "data": {
      "application/vnd.plotly.v1+json": {
       "config": {
        "plotlyServerURL": "https://plot.ly"
       },
       "data": [
        {
         "hovertemplate": "<b>%{hovertext}</b><br><br>color=Oil Zone<br>x=%{x}<br>y=%{y}<extra></extra>",
         "hovertext": [
          9037,
          9078.5,
          9127.5,
          9142,
          9218,
          9333.5,
          9371.5,
          9398,
          9657.5,
          9663.5,
          9717.5,
          9726,
          9731.5,
          9740,
          9952.5,
          9962.5,
          9972.5,
          9995.5,
          10026.5,
          10032.5,
          10166.5,
          10300.5,
          10335.5,
          10346.5,
          10353.5,
          10360.5,
          10366.5,
          10374,
          10377,
          10380.5,
          10390.5
         ],
         "legendgroup": "Oil Zone",
         "marker": {
          "color": "blue",
          "symbol": "circle"
         },
         "mode": "markers",
         "name": "Oil Zone",
         "orientation": "v",
         "showlegend": true,
         "type": "scatter",
         "x": [
          453,
          450,
          451,
          452,
          448,
          451,
          453,
          450,
          454,
          454,
          451,
          452,
          453,
          456,
          454,
          455,
          452,
          456,
          455,
          455,
          455,
          454,
          456,
          454,
          455,
          456,
          456,
          455,
          454,
          454,
          456
         ],
         "xaxis": "x",
         "y": [
          0.2301980198019802,
          0.23829431438127094,
          0.1930635838150289,
          0.23529411764705882,
          0.28293736501079914,
          0.31218697829716197,
          0.28945216680294356,
          0.3366708385481852,
          0.23828647925033467,
          0.24439461883408073,
          0.3055555555555556,
          0.27038626609442057,
          0.27083333333333337,
          0.2668621700879765,
          0.3171806167400881,
          0.29713114754098363,
          0.2848101265822785,
          0.3229571984435798,
          0.2639455782312925,
          0.28975741239892183,
          0.23070097604259096,
          0.27377521613832856,
          0.2987951807228915,
          0.254375,
          0.24062319676860935,
          0.33159268929503916,
          0.2562674094707521,
          0.25766871165644173,
          0.26993865030674846,
          0.3066666666666667,
          0.26388888888888884
         ],
         "yaxis": "y"
        },
        {
         "hovertemplate": "<b>%{hovertext}</b><br><br>color=Condensate Wet Gas Zone<br>x=%{x}<br>y=%{y}<extra></extra>",
         "hovertext": [
          9487,
          9938.5,
          9956.5,
          9966.5,
          9975.5,
          9980.5,
          9985.5,
          9990.5,
          10000.5,
          10004.5,
          10010.5,
          10020.5,
          10283.5,
          10292.5,
          10310.5,
          10318.5,
          10325.5
         ],
         "legendgroup": "Condensate Wet Gas Zone",
         "marker": {
          "color": "red",
          "symbol": "circle"
         },
         "mode": "markers",
         "name": "Condensate Wet Gas Zone",
         "orientation": "v",
         "showlegend": true,
         "type": "scatter",
         "x": [
          459,
          457,
          457,
          459,
          460,
          460,
          459,
          457,
          460,
          459,
          458,
          457,
          460,
          457,
          459,
          457,
          459
         ],
         "xaxis": "x",
         "y": [
          0.2931034482758621,
          0.31004366812227074,
          0.2927429274292743,
          0.27672955974842767,
          0.20307443365695793,
          0.2505307855626327,
          0.2669404517453799,
          0.27102803738317754,
          0.25740318906605925,
          0.2413793103448276,
          0.25936599423631124,
          0.27175843694493784,
          0.19036697247706424,
          0.1778786628146925,
          0.2735632183908046,
          0.3057142857142857,
          0.23076923076923078
         ],
         "yaxis": "y"
        },
        {
         "hovertemplate": "<b>%{hovertext}</b><br><br>color=Immature<br>x=%{x}<br>y=%{y}<extra></extra>",
         "hovertext": [
          9609.5,
          9684.5,
          9853
         ],
         "legendgroup": "Immature",
         "marker": {
          "color": "yellow",
          "symbol": "circle"
         },
         "mode": "markers",
         "name": "Immature",
         "orientation": "v",
         "showlegend": true,
         "type": "scatter",
         "x": [
          0,
          0,
          0
         ],
         "xaxis": "x",
         "y": [
          0.2916666666666667,
          0.411764705882353,
          0.368421052631579
         ],
         "yaxis": "y"
        },
        {
         "hovertemplate": "x=%{x}<br>y=%{y}<extra></extra>",
         "legendgroup": "",
         "line": {
          "color": "#636efa",
          "dash": "solid"
         },
         "marker": {
          "symbol": "circle"
         },
         "mode": "lines",
         "name": "",
         "orientation": "v",
         "showlegend": false,
         "type": "scatter",
         "x": [
          380,
          476.53248,
          null,
          null,
          null,
          null,
          null,
          null
         ],
         "xaxis": "x",
         "y": [
          0.09081,
          0.09081,
          null,
          null,
          null,
          null,
          null,
          null
         ],
         "yaxis": "y"
        },
        {
         "hovertemplate": "x=%{x}<br>y=%{y}<extra></extra>",
         "legendgroup": "",
         "line": {
          "color": "#636efa",
          "dash": "solid"
         },
         "marker": {
          "symbol": "circle"
         },
         "mode": "lines",
         "name": "",
         "orientation": "v",
         "showlegend": false,
         "type": "scatter",
         "x": [
          430.52842,
          430.52842,
          null,
          null,
          null,
          null,
          null,
          null
         ],
         "xaxis": "x",
         "y": [
          0.09081,
          1,
          null,
          null,
          null,
          null,
          null,
          null
         ],
         "yaxis": "y"
        },
        {
         "hovertemplate": "x=%{x}<br>y=%{y}<extra></extra>",
         "legendgroup": "",
         "line": {
          "color": "#636efa",
          "dash": "solid"
         },
         "marker": {
          "symbol": "circle"
         },
         "mode": "lines",
         "name": "",
         "orientation": "v",
         "showlegend": false,
         "type": "scatter",
         "x": [
          456.0398,
          456.0398,
          null,
          null,
          null,
          null,
          null,
          null
         ],
         "xaxis": "x",
         "y": [
          0,
          1,
          null,
          null,
          null,
          null,
          null,
          null
         ],
         "yaxis": "y"
        },
        {
         "hovertemplate": "x=%{x}<br>y=%{y}<extra></extra>",
         "legendgroup": "",
         "line": {
          "color": "#636efa",
          "dash": "solid"
         },
         "marker": {
          "symbol": "circle"
         },
         "mode": "lines",
         "name": "",
         "orientation": "v",
         "showlegend": false,
         "type": "scatter",
         "x": [
          476.53248,
          476.53248,
          null,
          null,
          null,
          null,
          null,
          null
         ],
         "xaxis": "x",
         "y": [
          0,
          1,
          null,
          null,
          null,
          null,
          null,
          null
         ],
         "yaxis": "y"
        }
       ],
       "layout": {
        "legend": {
         "title": {
          "text": "Kerogen Conversion and Maturity"
         }
        },
        "template": {
         "data": {
          "bar": [
           {
            "error_x": {
             "color": "#2a3f5f"
            },
            "error_y": {
             "color": "#2a3f5f"
            },
            "marker": {
             "line": {
              "color": "#E5ECF6",
              "width": 0.5
             },
             "pattern": {
              "fillmode": "overlay",
              "size": 10,
              "solidity": 0.2
             }
            },
            "type": "bar"
           }
          ],
          "barpolar": [
           {
            "marker": {
             "line": {
              "color": "#E5ECF6",
              "width": 0.5
             },
             "pattern": {
              "fillmode": "overlay",
              "size": 10,
              "solidity": 0.2
             }
            },
            "type": "barpolar"
           }
          ],
          "carpet": [
           {
            "aaxis": {
             "endlinecolor": "#2a3f5f",
             "gridcolor": "white",
             "linecolor": "white",
             "minorgridcolor": "white",
             "startlinecolor": "#2a3f5f"
            },
            "baxis": {
             "endlinecolor": "#2a3f5f",
             "gridcolor": "white",
             "linecolor": "white",
             "minorgridcolor": "white",
             "startlinecolor": "#2a3f5f"
            },
            "type": "carpet"
           }
          ],
          "choropleth": [
           {
            "colorbar": {
             "outlinewidth": 0,
             "ticks": ""
            },
            "type": "choropleth"
           }
          ],
          "contour": [
           {
            "colorbar": {
             "outlinewidth": 0,
             "ticks": ""
            },
            "colorscale": [
             [
              0,
              "#0d0887"
             ],
             [
              0.1111111111111111,
              "#46039f"
             ],
             [
              0.2222222222222222,
              "#7201a8"
             ],
             [
              0.3333333333333333,
              "#9c179e"
             ],
             [
              0.4444444444444444,
              "#bd3786"
             ],
             [
              0.5555555555555556,
              "#d8576b"
             ],
             [
              0.6666666666666666,
              "#ed7953"
             ],
             [
              0.7777777777777778,
              "#fb9f3a"
             ],
             [
              0.8888888888888888,
              "#fdca26"
             ],
             [
              1,
              "#f0f921"
             ]
            ],
            "type": "contour"
           }
          ],
          "contourcarpet": [
           {
            "colorbar": {
             "outlinewidth": 0,
             "ticks": ""
            },
            "type": "contourcarpet"
           }
          ],
          "heatmap": [
           {
            "colorbar": {
             "outlinewidth": 0,
             "ticks": ""
            },
            "colorscale": [
             [
              0,
              "#0d0887"
             ],
             [
              0.1111111111111111,
              "#46039f"
             ],
             [
              0.2222222222222222,
              "#7201a8"
             ],
             [
              0.3333333333333333,
              "#9c179e"
             ],
             [
              0.4444444444444444,
              "#bd3786"
             ],
             [
              0.5555555555555556,
              "#d8576b"
             ],
             [
              0.6666666666666666,
              "#ed7953"
             ],
             [
              0.7777777777777778,
              "#fb9f3a"
             ],
             [
              0.8888888888888888,
              "#fdca26"
             ],
             [
              1,
              "#f0f921"
             ]
            ],
            "type": "heatmap"
           }
          ],
          "heatmapgl": [
           {
            "colorbar": {
             "outlinewidth": 0,
             "ticks": ""
            },
            "colorscale": [
             [
              0,
              "#0d0887"
             ],
             [
              0.1111111111111111,
              "#46039f"
             ],
             [
              0.2222222222222222,
              "#7201a8"
             ],
             [
              0.3333333333333333,
              "#9c179e"
             ],
             [
              0.4444444444444444,
              "#bd3786"
             ],
             [
              0.5555555555555556,
              "#d8576b"
             ],
             [
              0.6666666666666666,
              "#ed7953"
             ],
             [
              0.7777777777777778,
              "#fb9f3a"
             ],
             [
              0.8888888888888888,
              "#fdca26"
             ],
             [
              1,
              "#f0f921"
             ]
            ],
            "type": "heatmapgl"
           }
          ],
          "histogram": [
           {
            "marker": {
             "pattern": {
              "fillmode": "overlay",
              "size": 10,
              "solidity": 0.2
             }
            },
            "type": "histogram"
           }
          ],
          "histogram2d": [
           {
            "colorbar": {
             "outlinewidth": 0,
             "ticks": ""
            },
            "colorscale": [
             [
              0,
              "#0d0887"
             ],
             [
              0.1111111111111111,
              "#46039f"
             ],
             [
              0.2222222222222222,
              "#7201a8"
             ],
             [
              0.3333333333333333,
              "#9c179e"
             ],
             [
              0.4444444444444444,
              "#bd3786"
             ],
             [
              0.5555555555555556,
              "#d8576b"
             ],
             [
              0.6666666666666666,
              "#ed7953"
             ],
             [
              0.7777777777777778,
              "#fb9f3a"
             ],
             [
              0.8888888888888888,
              "#fdca26"
             ],
             [
              1,
              "#f0f921"
             ]
            ],
            "type": "histogram2d"
           }
          ],
          "histogram2dcontour": [
           {
            "colorbar": {
             "outlinewidth": 0,
             "ticks": ""
            },
            "colorscale": [
             [
              0,
              "#0d0887"
             ],
             [
              0.1111111111111111,
              "#46039f"
             ],
             [
              0.2222222222222222,
              "#7201a8"
             ],
             [
              0.3333333333333333,
              "#9c179e"
             ],
             [
              0.4444444444444444,
              "#bd3786"
             ],
             [
              0.5555555555555556,
              "#d8576b"
             ],
             [
              0.6666666666666666,
              "#ed7953"
             ],
             [
              0.7777777777777778,
              "#fb9f3a"
             ],
             [
              0.8888888888888888,
              "#fdca26"
             ],
             [
              1,
              "#f0f921"
             ]
            ],
            "type": "histogram2dcontour"
           }
          ],
          "mesh3d": [
           {
            "colorbar": {
             "outlinewidth": 0,
             "ticks": ""
            },
            "type": "mesh3d"
           }
          ],
          "parcoords": [
           {
            "line": {
             "colorbar": {
              "outlinewidth": 0,
              "ticks": ""
             }
            },
            "type": "parcoords"
           }
          ],
          "pie": [
           {
            "automargin": true,
            "type": "pie"
           }
          ],
          "scatter": [
           {
            "fillpattern": {
             "fillmode": "overlay",
             "size": 10,
             "solidity": 0.2
            },
            "type": "scatter"
           }
          ],
          "scatter3d": [
           {
            "line": {
             "colorbar": {
              "outlinewidth": 0,
              "ticks": ""
             }
            },
            "marker": {
             "colorbar": {
              "outlinewidth": 0,
              "ticks": ""
             }
            },
            "type": "scatter3d"
           }
          ],
          "scattercarpet": [
           {
            "marker": {
             "colorbar": {
              "outlinewidth": 0,
              "ticks": ""
             }
            },
            "type": "scattercarpet"
           }
          ],
          "scattergeo": [
           {
            "marker": {
             "colorbar": {
              "outlinewidth": 0,
              "ticks": ""
             }
            },
            "type": "scattergeo"
           }
          ],
          "scattergl": [
           {
            "marker": {
             "colorbar": {
              "outlinewidth": 0,
              "ticks": ""
             }
            },
            "type": "scattergl"
           }
          ],
          "scattermapbox": [
           {
            "marker": {
             "colorbar": {
              "outlinewidth": 0,
              "ticks": ""
             }
            },
            "type": "scattermapbox"
           }
          ],
          "scatterpolar": [
           {
            "marker": {
             "colorbar": {
              "outlinewidth": 0,
              "ticks": ""
             }
            },
            "type": "scatterpolar"
           }
          ],
          "scatterpolargl": [
           {
            "marker": {
             "colorbar": {
              "outlinewidth": 0,
              "ticks": ""
             }
            },
            "type": "scatterpolargl"
           }
          ],
          "scatterternary": [
           {
            "marker": {
             "colorbar": {
              "outlinewidth": 0,
              "ticks": ""
             }
            },
            "type": "scatterternary"
           }
          ],
          "surface": [
           {
            "colorbar": {
             "outlinewidth": 0,
             "ticks": ""
            },
            "colorscale": [
             [
              0,
              "#0d0887"
             ],
             [
              0.1111111111111111,
              "#46039f"
             ],
             [
              0.2222222222222222,
              "#7201a8"
             ],
             [
              0.3333333333333333,
              "#9c179e"
             ],
             [
              0.4444444444444444,
              "#bd3786"
             ],
             [
              0.5555555555555556,
              "#d8576b"
             ],
             [
              0.6666666666666666,
              "#ed7953"
             ],
             [
              0.7777777777777778,
              "#fb9f3a"
             ],
             [
              0.8888888888888888,
              "#fdca26"
             ],
             [
              1,
              "#f0f921"
             ]
            ],
            "type": "surface"
           }
          ],
          "table": [
           {
            "cells": {
             "fill": {
              "color": "#EBF0F8"
             },
             "line": {
              "color": "white"
             }
            },
            "header": {
             "fill": {
              "color": "#C8D4E3"
             },
             "line": {
              "color": "white"
             }
            },
            "type": "table"
           }
          ]
         },
         "layout": {
          "annotationdefaults": {
           "arrowcolor": "#2a3f5f",
           "arrowhead": 0,
           "arrowwidth": 1
          },
          "autotypenumbers": "strict",
          "coloraxis": {
           "colorbar": {
            "outlinewidth": 0,
            "ticks": ""
           }
          },
          "colorscale": {
           "diverging": [
            [
             0,
             "#8e0152"
            ],
            [
             0.1,
             "#c51b7d"
            ],
            [
             0.2,
             "#de77ae"
            ],
            [
             0.3,
             "#f1b6da"
            ],
            [
             0.4,
             "#fde0ef"
            ],
            [
             0.5,
             "#f7f7f7"
            ],
            [
             0.6,
             "#e6f5d0"
            ],
            [
             0.7,
             "#b8e186"
            ],
            [
             0.8,
             "#7fbc41"
            ],
            [
             0.9,
             "#4d9221"
            ],
            [
             1,
             "#276419"
            ]
           ],
           "sequential": [
            [
             0,
             "#0d0887"
            ],
            [
             0.1111111111111111,
             "#46039f"
            ],
            [
             0.2222222222222222,
             "#7201a8"
            ],
            [
             0.3333333333333333,
             "#9c179e"
            ],
            [
             0.4444444444444444,
             "#bd3786"
            ],
            [
             0.5555555555555556,
             "#d8576b"
            ],
            [
             0.6666666666666666,
             "#ed7953"
            ],
            [
             0.7777777777777778,
             "#fb9f3a"
            ],
            [
             0.8888888888888888,
             "#fdca26"
            ],
            [
             1,
             "#f0f921"
            ]
           ],
           "sequentialminus": [
            [
             0,
             "#0d0887"
            ],
            [
             0.1111111111111111,
             "#46039f"
            ],
            [
             0.2222222222222222,
             "#7201a8"
            ],
            [
             0.3333333333333333,
             "#9c179e"
            ],
            [
             0.4444444444444444,
             "#bd3786"
            ],
            [
             0.5555555555555556,
             "#d8576b"
            ],
            [
             0.6666666666666666,
             "#ed7953"
            ],
            [
             0.7777777777777778,
             "#fb9f3a"
            ],
            [
             0.8888888888888888,
             "#fdca26"
            ],
            [
             1,
             "#f0f921"
            ]
           ]
          },
          "colorway": [
           "#636efa",
           "#EF553B",
           "#00cc96",
           "#ab63fa",
           "#FFA15A",
           "#19d3f3",
           "#FF6692",
           "#B6E880",
           "#FF97FF",
           "#FECB52"
          ],
          "font": {
           "color": "#2a3f5f"
          },
          "geo": {
           "bgcolor": "white",
           "lakecolor": "white",
           "landcolor": "#E5ECF6",
           "showlakes": true,
           "showland": true,
           "subunitcolor": "white"
          },
          "hoverlabel": {
           "align": "left"
          },
          "hovermode": "closest",
          "mapbox": {
           "style": "light"
          },
          "paper_bgcolor": "white",
          "plot_bgcolor": "#E5ECF6",
          "polar": {
           "angularaxis": {
            "gridcolor": "white",
            "linecolor": "white",
            "ticks": ""
           },
           "bgcolor": "#E5ECF6",
           "radialaxis": {
            "gridcolor": "white",
            "linecolor": "white",
            "ticks": ""
           }
          },
          "scene": {
           "xaxis": {
            "backgroundcolor": "#E5ECF6",
            "gridcolor": "white",
            "gridwidth": 2,
            "linecolor": "white",
            "showbackground": true,
            "ticks": "",
            "zerolinecolor": "white"
           },
           "yaxis": {
            "backgroundcolor": "#E5ECF6",
            "gridcolor": "white",
            "gridwidth": 2,
            "linecolor": "white",
            "showbackground": true,
            "ticks": "",
            "zerolinecolor": "white"
           },
           "zaxis": {
            "backgroundcolor": "#E5ECF6",
            "gridcolor": "white",
            "gridwidth": 2,
            "linecolor": "white",
            "showbackground": true,
            "ticks": "",
            "zerolinecolor": "white"
           }
          },
          "shapedefaults": {
           "line": {
            "color": "#2a3f5f"
           }
          },
          "ternary": {
           "aaxis": {
            "gridcolor": "white",
            "linecolor": "white",
            "ticks": ""
           },
           "baxis": {
            "gridcolor": "white",
            "linecolor": "white",
            "ticks": ""
           },
           "bgcolor": "#E5ECF6",
           "caxis": {
            "gridcolor": "white",
            "linecolor": "white",
            "ticks": ""
           }
          },
          "title": {
           "x": 0.05
          },
          "xaxis": {
           "automargin": true,
           "gridcolor": "white",
           "linecolor": "white",
           "ticks": "",
           "title": {
            "standoff": 15
           },
           "zerolinecolor": "white",
           "zerolinewidth": 2
          },
          "yaxis": {
           "automargin": true,
           "gridcolor": "white",
           "linecolor": "white",
           "ticks": "",
           "title": {
            "standoff": 15
           },
           "zerolinecolor": "white",
           "zerolinewidth": 2
          }
         }
        },
        "title": {
         "text": "Kerogen Conversion and Maturity"
        },
        "xaxis": {
         "title": {
          "text": "T max"
         }
        },
        "yaxis": {
         "title": {
          "text": "PI"
         }
        }
       }
      },
      "text/html": [
       "<div>                            <div id=\"3036b1ae-3d52-4a15-b8a8-49eb55c0fa6b\" class=\"plotly-graph-div\" style=\"height:525px; width:100%;\"></div>            <script type=\"text/javascript\">                require([\"plotly\"], function(Plotly) {                    window.PLOTLYENV=window.PLOTLYENV || {};                                    if (document.getElementById(\"3036b1ae-3d52-4a15-b8a8-49eb55c0fa6b\")) {                    Plotly.newPlot(                        \"3036b1ae-3d52-4a15-b8a8-49eb55c0fa6b\",                        [{\"hovertemplate\":\"<b>%{hovertext}</b><br><br>color=Oil Zone<br>x=%{x}<br>y=%{y}<extra></extra>\",\"hovertext\":[9037.0,9078.5,9127.5,9142.0,9218.0,9333.5,9371.5,9398.0,9657.5,9663.5,9717.5,9726.0,9731.5,9740.0,9952.5,9962.5,9972.5,9995.5,10026.5,10032.5,10166.5,10300.5,10335.5,10346.5,10353.5,10360.5,10366.5,10374.0,10377.0,10380.5,10390.5],\"legendgroup\":\"Oil Zone\",\"marker\":{\"color\":\"blue\",\"symbol\":\"circle\"},\"mode\":\"markers\",\"name\":\"Oil Zone\",\"orientation\":\"v\",\"showlegend\":true,\"x\":[453,450,451,452,448,451,453,450,454,454,451,452,453,456,454,455,452,456,455,455,455,454,456,454,455,456,456,455,454,454,456],\"xaxis\":\"x\",\"y\":[0.2301980198019802,0.23829431438127094,0.1930635838150289,0.23529411764705882,0.28293736501079914,0.31218697829716197,0.28945216680294356,0.3366708385481852,0.23828647925033467,0.24439461883408073,0.3055555555555556,0.27038626609442057,0.27083333333333337,0.2668621700879765,0.3171806167400881,0.29713114754098363,0.2848101265822785,0.3229571984435798,0.2639455782312925,0.28975741239892183,0.23070097604259096,0.27377521613832856,0.2987951807228915,0.254375,0.24062319676860935,0.33159268929503916,0.2562674094707521,0.25766871165644173,0.26993865030674846,0.3066666666666667,0.26388888888888884],\"yaxis\":\"y\",\"type\":\"scatter\"},{\"hovertemplate\":\"<b>%{hovertext}</b><br><br>color=Condensate Wet Gas Zone<br>x=%{x}<br>y=%{y}<extra></extra>\",\"hovertext\":[9487.0,9938.5,9956.5,9966.5,9975.5,9980.5,9985.5,9990.5,10000.5,10004.5,10010.5,10020.5,10283.5,10292.5,10310.5,10318.5,10325.5],\"legendgroup\":\"Condensate Wet Gas Zone\",\"marker\":{\"color\":\"red\",\"symbol\":\"circle\"},\"mode\":\"markers\",\"name\":\"Condensate Wet Gas Zone\",\"orientation\":\"v\",\"showlegend\":true,\"x\":[459,457,457,459,460,460,459,457,460,459,458,457,460,457,459,457,459],\"xaxis\":\"x\",\"y\":[0.2931034482758621,0.31004366812227074,0.2927429274292743,0.27672955974842767,0.20307443365695793,0.2505307855626327,0.2669404517453799,0.27102803738317754,0.25740318906605925,0.2413793103448276,0.25936599423631124,0.27175843694493784,0.19036697247706424,0.1778786628146925,0.2735632183908046,0.3057142857142857,0.23076923076923078],\"yaxis\":\"y\",\"type\":\"scatter\"},{\"hovertemplate\":\"<b>%{hovertext}</b><br><br>color=Immature<br>x=%{x}<br>y=%{y}<extra></extra>\",\"hovertext\":[9609.5,9684.5,9853.0],\"legendgroup\":\"Immature\",\"marker\":{\"color\":\"yellow\",\"symbol\":\"circle\"},\"mode\":\"markers\",\"name\":\"Immature\",\"orientation\":\"v\",\"showlegend\":true,\"x\":[0,0,0],\"xaxis\":\"x\",\"y\":[0.2916666666666667,0.411764705882353,0.368421052631579],\"yaxis\":\"y\",\"type\":\"scatter\"},{\"hovertemplate\":\"x=%{x}<br>y=%{y}<extra></extra>\",\"legendgroup\":\"\",\"line\":{\"color\":\"#636efa\",\"dash\":\"solid\"},\"marker\":{\"symbol\":\"circle\"},\"mode\":\"lines\",\"name\":\"\",\"orientation\":\"v\",\"showlegend\":false,\"x\":[380.0,476.53248,null,null,null,null,null,null],\"xaxis\":\"x\",\"y\":[0.09081,0.09081,null,null,null,null,null,null],\"yaxis\":\"y\",\"type\":\"scatter\"},{\"hovertemplate\":\"x=%{x}<br>y=%{y}<extra></extra>\",\"legendgroup\":\"\",\"line\":{\"color\":\"#636efa\",\"dash\":\"solid\"},\"marker\":{\"symbol\":\"circle\"},\"mode\":\"lines\",\"name\":\"\",\"orientation\":\"v\",\"showlegend\":false,\"x\":[430.52842,430.52842,null,null,null,null,null,null],\"xaxis\":\"x\",\"y\":[0.09081,1.0,null,null,null,null,null,null],\"yaxis\":\"y\",\"type\":\"scatter\"},{\"hovertemplate\":\"x=%{x}<br>y=%{y}<extra></extra>\",\"legendgroup\":\"\",\"line\":{\"color\":\"#636efa\",\"dash\":\"solid\"},\"marker\":{\"symbol\":\"circle\"},\"mode\":\"lines\",\"name\":\"\",\"orientation\":\"v\",\"showlegend\":false,\"x\":[456.0398,456.0398,null,null,null,null,null,null],\"xaxis\":\"x\",\"y\":[0.0,1.0,null,null,null,null,null,null],\"yaxis\":\"y\",\"type\":\"scatter\"},{\"hovertemplate\":\"x=%{x}<br>y=%{y}<extra></extra>\",\"legendgroup\":\"\",\"line\":{\"color\":\"#636efa\",\"dash\":\"solid\"},\"marker\":{\"symbol\":\"circle\"},\"mode\":\"lines\",\"name\":\"\",\"orientation\":\"v\",\"showlegend\":false,\"x\":[476.53248,476.53248,null,null,null,null,null,null],\"xaxis\":\"x\",\"y\":[0.0,1.0,null,null,null,null,null,null],\"yaxis\":\"y\",\"type\":\"scatter\"}],                        {\"template\":{\"data\":{\"histogram2dcontour\":[{\"type\":\"histogram2dcontour\",\"colorbar\":{\"outlinewidth\":0,\"ticks\":\"\"},\"colorscale\":[[0.0,\"#0d0887\"],[0.1111111111111111,\"#46039f\"],[0.2222222222222222,\"#7201a8\"],[0.3333333333333333,\"#9c179e\"],[0.4444444444444444,\"#bd3786\"],[0.5555555555555556,\"#d8576b\"],[0.6666666666666666,\"#ed7953\"],[0.7777777777777778,\"#fb9f3a\"],[0.8888888888888888,\"#fdca26\"],[1.0,\"#f0f921\"]]}],\"choropleth\":[{\"type\":\"choropleth\",\"colorbar\":{\"outlinewidth\":0,\"ticks\":\"\"}}],\"histogram2d\":[{\"type\":\"histogram2d\",\"colorbar\":{\"outlinewidth\":0,\"ticks\":\"\"},\"colorscale\":[[0.0,\"#0d0887\"],[0.1111111111111111,\"#46039f\"],[0.2222222222222222,\"#7201a8\"],[0.3333333333333333,\"#9c179e\"],[0.4444444444444444,\"#bd3786\"],[0.5555555555555556,\"#d8576b\"],[0.6666666666666666,\"#ed7953\"],[0.7777777777777778,\"#fb9f3a\"],[0.8888888888888888,\"#fdca26\"],[1.0,\"#f0f921\"]]}],\"heatmap\":[{\"type\":\"heatmap\",\"colorbar\":{\"outlinewidth\":0,\"ticks\":\"\"},\"colorscale\":[[0.0,\"#0d0887\"],[0.1111111111111111,\"#46039f\"],[0.2222222222222222,\"#7201a8\"],[0.3333333333333333,\"#9c179e\"],[0.4444444444444444,\"#bd3786\"],[0.5555555555555556,\"#d8576b\"],[0.6666666666666666,\"#ed7953\"],[0.7777777777777778,\"#fb9f3a\"],[0.8888888888888888,\"#fdca26\"],[1.0,\"#f0f921\"]]}],\"heatmapgl\":[{\"type\":\"heatmapgl\",\"colorbar\":{\"outlinewidth\":0,\"ticks\":\"\"},\"colorscale\":[[0.0,\"#0d0887\"],[0.1111111111111111,\"#46039f\"],[0.2222222222222222,\"#7201a8\"],[0.3333333333333333,\"#9c179e\"],[0.4444444444444444,\"#bd3786\"],[0.5555555555555556,\"#d8576b\"],[0.6666666666666666,\"#ed7953\"],[0.7777777777777778,\"#fb9f3a\"],[0.8888888888888888,\"#fdca26\"],[1.0,\"#f0f921\"]]}],\"contourcarpet\":[{\"type\":\"contourcarpet\",\"colorbar\":{\"outlinewidth\":0,\"ticks\":\"\"}}],\"contour\":[{\"type\":\"contour\",\"colorbar\":{\"outlinewidth\":0,\"ticks\":\"\"},\"colorscale\":[[0.0,\"#0d0887\"],[0.1111111111111111,\"#46039f\"],[0.2222222222222222,\"#7201a8\"],[0.3333333333333333,\"#9c179e\"],[0.4444444444444444,\"#bd3786\"],[0.5555555555555556,\"#d8576b\"],[0.6666666666666666,\"#ed7953\"],[0.7777777777777778,\"#fb9f3a\"],[0.8888888888888888,\"#fdca26\"],[1.0,\"#f0f921\"]]}],\"surface\":[{\"type\":\"surface\",\"colorbar\":{\"outlinewidth\":0,\"ticks\":\"\"},\"colorscale\":[[0.0,\"#0d0887\"],[0.1111111111111111,\"#46039f\"],[0.2222222222222222,\"#7201a8\"],[0.3333333333333333,\"#9c179e\"],[0.4444444444444444,\"#bd3786\"],[0.5555555555555556,\"#d8576b\"],[0.6666666666666666,\"#ed7953\"],[0.7777777777777778,\"#fb9f3a\"],[0.8888888888888888,\"#fdca26\"],[1.0,\"#f0f921\"]]}],\"mesh3d\":[{\"type\":\"mesh3d\",\"colorbar\":{\"outlinewidth\":0,\"ticks\":\"\"}}],\"scatter\":[{\"fillpattern\":{\"fillmode\":\"overlay\",\"size\":10,\"solidity\":0.2},\"type\":\"scatter\"}],\"parcoords\":[{\"type\":\"parcoords\",\"line\":{\"colorbar\":{\"outlinewidth\":0,\"ticks\":\"\"}}}],\"scatterpolargl\":[{\"type\":\"scatterpolargl\",\"marker\":{\"colorbar\":{\"outlinewidth\":0,\"ticks\":\"\"}}}],\"bar\":[{\"error_x\":{\"color\":\"#2a3f5f\"},\"error_y\":{\"color\":\"#2a3f5f\"},\"marker\":{\"line\":{\"color\":\"#E5ECF6\",\"width\":0.5},\"pattern\":{\"fillmode\":\"overlay\",\"size\":10,\"solidity\":0.2}},\"type\":\"bar\"}],\"scattergeo\":[{\"type\":\"scattergeo\",\"marker\":{\"colorbar\":{\"outlinewidth\":0,\"ticks\":\"\"}}}],\"scatterpolar\":[{\"type\":\"scatterpolar\",\"marker\":{\"colorbar\":{\"outlinewidth\":0,\"ticks\":\"\"}}}],\"histogram\":[{\"marker\":{\"pattern\":{\"fillmode\":\"overlay\",\"size\":10,\"solidity\":0.2}},\"type\":\"histogram\"}],\"scattergl\":[{\"type\":\"scattergl\",\"marker\":{\"colorbar\":{\"outlinewidth\":0,\"ticks\":\"\"}}}],\"scatter3d\":[{\"type\":\"scatter3d\",\"line\":{\"colorbar\":{\"outlinewidth\":0,\"ticks\":\"\"}},\"marker\":{\"colorbar\":{\"outlinewidth\":0,\"ticks\":\"\"}}}],\"scattermapbox\":[{\"type\":\"scattermapbox\",\"marker\":{\"colorbar\":{\"outlinewidth\":0,\"ticks\":\"\"}}}],\"scatterternary\":[{\"type\":\"scatterternary\",\"marker\":{\"colorbar\":{\"outlinewidth\":0,\"ticks\":\"\"}}}],\"scattercarpet\":[{\"type\":\"scattercarpet\",\"marker\":{\"colorbar\":{\"outlinewidth\":0,\"ticks\":\"\"}}}],\"carpet\":[{\"aaxis\":{\"endlinecolor\":\"#2a3f5f\",\"gridcolor\":\"white\",\"linecolor\":\"white\",\"minorgridcolor\":\"white\",\"startlinecolor\":\"#2a3f5f\"},\"baxis\":{\"endlinecolor\":\"#2a3f5f\",\"gridcolor\":\"white\",\"linecolor\":\"white\",\"minorgridcolor\":\"white\",\"startlinecolor\":\"#2a3f5f\"},\"type\":\"carpet\"}],\"table\":[{\"cells\":{\"fill\":{\"color\":\"#EBF0F8\"},\"line\":{\"color\":\"white\"}},\"header\":{\"fill\":{\"color\":\"#C8D4E3\"},\"line\":{\"color\":\"white\"}},\"type\":\"table\"}],\"barpolar\":[{\"marker\":{\"line\":{\"color\":\"#E5ECF6\",\"width\":0.5},\"pattern\":{\"fillmode\":\"overlay\",\"size\":10,\"solidity\":0.2}},\"type\":\"barpolar\"}],\"pie\":[{\"automargin\":true,\"type\":\"pie\"}]},\"layout\":{\"autotypenumbers\":\"strict\",\"colorway\":[\"#636efa\",\"#EF553B\",\"#00cc96\",\"#ab63fa\",\"#FFA15A\",\"#19d3f3\",\"#FF6692\",\"#B6E880\",\"#FF97FF\",\"#FECB52\"],\"font\":{\"color\":\"#2a3f5f\"},\"hovermode\":\"closest\",\"hoverlabel\":{\"align\":\"left\"},\"paper_bgcolor\":\"white\",\"plot_bgcolor\":\"#E5ECF6\",\"polar\":{\"bgcolor\":\"#E5ECF6\",\"angularaxis\":{\"gridcolor\":\"white\",\"linecolor\":\"white\",\"ticks\":\"\"},\"radialaxis\":{\"gridcolor\":\"white\",\"linecolor\":\"white\",\"ticks\":\"\"}},\"ternary\":{\"bgcolor\":\"#E5ECF6\",\"aaxis\":{\"gridcolor\":\"white\",\"linecolor\":\"white\",\"ticks\":\"\"},\"baxis\":{\"gridcolor\":\"white\",\"linecolor\":\"white\",\"ticks\":\"\"},\"caxis\":{\"gridcolor\":\"white\",\"linecolor\":\"white\",\"ticks\":\"\"}},\"coloraxis\":{\"colorbar\":{\"outlinewidth\":0,\"ticks\":\"\"}},\"colorscale\":{\"sequential\":[[0.0,\"#0d0887\"],[0.1111111111111111,\"#46039f\"],[0.2222222222222222,\"#7201a8\"],[0.3333333333333333,\"#9c179e\"],[0.4444444444444444,\"#bd3786\"],[0.5555555555555556,\"#d8576b\"],[0.6666666666666666,\"#ed7953\"],[0.7777777777777778,\"#fb9f3a\"],[0.8888888888888888,\"#fdca26\"],[1.0,\"#f0f921\"]],\"sequentialminus\":[[0.0,\"#0d0887\"],[0.1111111111111111,\"#46039f\"],[0.2222222222222222,\"#7201a8\"],[0.3333333333333333,\"#9c179e\"],[0.4444444444444444,\"#bd3786\"],[0.5555555555555556,\"#d8576b\"],[0.6666666666666666,\"#ed7953\"],[0.7777777777777778,\"#fb9f3a\"],[0.8888888888888888,\"#fdca26\"],[1.0,\"#f0f921\"]],\"diverging\":[[0,\"#8e0152\"],[0.1,\"#c51b7d\"],[0.2,\"#de77ae\"],[0.3,\"#f1b6da\"],[0.4,\"#fde0ef\"],[0.5,\"#f7f7f7\"],[0.6,\"#e6f5d0\"],[0.7,\"#b8e186\"],[0.8,\"#7fbc41\"],[0.9,\"#4d9221\"],[1,\"#276419\"]]},\"xaxis\":{\"gridcolor\":\"white\",\"linecolor\":\"white\",\"ticks\":\"\",\"title\":{\"standoff\":15},\"zerolinecolor\":\"white\",\"automargin\":true,\"zerolinewidth\":2},\"yaxis\":{\"gridcolor\":\"white\",\"linecolor\":\"white\",\"ticks\":\"\",\"title\":{\"standoff\":15},\"zerolinecolor\":\"white\",\"automargin\":true,\"zerolinewidth\":2},\"scene\":{\"xaxis\":{\"backgroundcolor\":\"#E5ECF6\",\"gridcolor\":\"white\",\"linecolor\":\"white\",\"showbackground\":true,\"ticks\":\"\",\"zerolinecolor\":\"white\",\"gridwidth\":2},\"yaxis\":{\"backgroundcolor\":\"#E5ECF6\",\"gridcolor\":\"white\",\"linecolor\":\"white\",\"showbackground\":true,\"ticks\":\"\",\"zerolinecolor\":\"white\",\"gridwidth\":2},\"zaxis\":{\"backgroundcolor\":\"#E5ECF6\",\"gridcolor\":\"white\",\"linecolor\":\"white\",\"showbackground\":true,\"ticks\":\"\",\"zerolinecolor\":\"white\",\"gridwidth\":2}},\"shapedefaults\":{\"line\":{\"color\":\"#2a3f5f\"}},\"annotationdefaults\":{\"arrowcolor\":\"#2a3f5f\",\"arrowhead\":0,\"arrowwidth\":1},\"geo\":{\"bgcolor\":\"white\",\"landcolor\":\"#E5ECF6\",\"subunitcolor\":\"white\",\"showland\":true,\"showlakes\":true,\"lakecolor\":\"white\"},\"title\":{\"x\":0.05},\"mapbox\":{\"style\":\"light\"}}},\"title\":{\"text\":\"Kerogen Conversion and Maturity\"},\"xaxis\":{\"title\":{\"text\":\"T max\"}},\"yaxis\":{\"title\":{\"text\":\"PI\"}},\"legend\":{\"title\":{\"text\":\"Kerogen Conversion and Maturity\"}}},                        {\"responsive\": true}                    ).then(function(){\n",
       "                            \n",
       "var gd = document.getElementById('3036b1ae-3d52-4a15-b8a8-49eb55c0fa6b');\n",
       "var x = new MutationObserver(function (mutations, observer) {{\n",
       "        var display = window.getComputedStyle(gd).display;\n",
       "        if (!display || display === 'none') {{\n",
       "            console.log([gd, 'removed!']);\n",
       "            Plotly.purge(gd);\n",
       "            observer.disconnect();\n",
       "        }}\n",
       "}});\n",
       "\n",
       "// Listen for the removal of the full notebook cells\n",
       "var notebookContainer = gd.closest('#notebook-container');\n",
       "if (notebookContainer) {{\n",
       "    x.observe(notebookContainer, {childList: true});\n",
       "}}\n",
       "\n",
       "// Listen for the clearing of the current output cell\n",
       "var outputEl = gd.closest('.output');\n",
       "if (outputEl) {{\n",
       "    x.observe(outputEl, {childList: true});\n",
       "}}\n",
       "\n",
       "                        })                };                });            </script>        </div>"
      ]
     },
     "metadata": {},
     "output_type": "display_data"
    }
   ],
   "source": [
    "\n",
    "\n",
    "kerogen_conversion_maturity_plot( FEE_BI_307, KEROGEN_TYPE_CONVERSION_I)"
   ]
  },
  {
   "cell_type": "code",
   "execution_count": 71,
   "id": "c28da037",
   "metadata": {},
   "outputs": [
    {
     "data": {
      "application/vnd.plotly.v1+json": {
       "config": {
        "plotlyServerURL": "https://plot.ly"
       },
       "data": [
        {
         "hovertemplate": "<b>%{hovertext}</b><br><br>color=TYPE II Oil Generation<br>x=%{x}<br>y=%{y}<extra></extra>",
         "hovertext": [
          9037,
          9078.5,
          9127.5,
          9333.5,
          9371.5,
          9657.5,
          9663.5,
          9740,
          9938.5,
          9952.5,
          9962.5,
          9995.5,
          10020.5,
          10026.5,
          10032.5,
          10166.5,
          10300.5,
          10318.5,
          10335.5,
          10346.5,
          10360.5,
          10366.5,
          10374,
          10390.5
         ],
         "legendgroup": "TYPE II Oil Generation",
         "marker": {
          "color": "navy",
          "symbol": "circle"
         },
         "mode": "markers",
         "name": "TYPE II Oil Generation",
         "orientation": "v",
         "showlegend": true,
         "type": "scatter",
         "x": [
          453,
          450,
          451,
          451,
          453,
          454,
          454,
          456,
          457,
          454,
          455,
          456,
          457,
          455,
          455,
          455,
          454,
          457,
          456,
          454,
          456,
          456,
          455,
          456
         ],
         "xaxis": "x",
         "y": [
          159.07928388746802,
          237.85900783289816,
          238.63247863247864,
          150.91575091575092,
          168.08510638297872,
          170.87087087087087,
          160.09501187648456,
          110.13215859030836,
          124.40944881889763,
          123.01587301587301,
          126.56826568265683,
          126.08695652173914,
          132.6860841423948,
          141.2532637075718,
          145.58011049723757,
          183.68644067796612,
          148.6725663716814,
          114.08450704225353,
          128.19383259911893,
          190.27113237639554,
          109.87124463519314,
          156.140350877193,
          145.7831325301205,
          118.21561338289963
         ],
         "yaxis": "y"
        },
        {
         "hovertemplate": "<b>%{hovertext}</b><br><br>color=TYPE III Oil Generation<br>x=%{x}<br>y=%{y}<extra></extra>",
         "hovertext": [
          9142,
          9218,
          9398,
          9717.5,
          9726,
          9731.5,
          9972.5,
          10377,
          10380.5
         ],
         "legendgroup": "TYPE III Oil Generation",
         "marker": {
          "color": "orangered",
          "symbol": "circle"
         },
         "mode": "markers",
         "name": "TYPE III Oil Generation",
         "orientation": "v",
         "showlegend": true,
         "type": "scatter",
         "x": [
          452,
          448,
          450,
          451,
          452,
          453,
          452,
          454,
          454
         ],
         "xaxis": "x",
         "y": [
          113.04347826086956,
          121.6117216117216,
          120.72892938496584,
          53.76344086021505,
          98.26589595375722,
          84.33734939759036,
          97.41379310344827,
          100.84745762711864,
          83.53413654618473
         ],
         "yaxis": "y"
        },
        {
         "hovertemplate": "<b>%{hovertext}</b><br><br>color=TYPE III Immature<br>x=%{x}<br>y=%{y}<extra></extra>",
         "hovertext": [
          9609.5,
          9684.5
         ],
         "legendgroup": "TYPE III Immature",
         "marker": {
          "color": "coral",
          "symbol": "circle"
         },
         "mode": "markers",
         "name": "TYPE III Immature",
         "orientation": "v",
         "showlegend": true,
         "type": "scatter",
         "x": [
          0,
          0
         ],
         "xaxis": "x",
         "y": [
          47.22222222222222,
          83.33333333333334
         ],
         "yaxis": "y"
        },
        {
         "hovertemplate": "<b>%{hovertext}</b><br><br>color=TYPE I Oil Generation<br>x=%{x}<br>y=%{y}<extra></extra>",
         "hovertext": [
          9956.5,
          9975.5,
          9980.5,
          9990.5,
          10000.5,
          10010.5,
          10283.5,
          10292.5,
          10353.5
         ],
         "legendgroup": "TYPE I Oil Generation",
         "marker": {
          "color": "deepskyblue",
          "symbol": "circle"
         },
         "mode": "markers",
         "name": "TYPE I Oil Generation",
         "orientation": "v",
         "showlegend": true,
         "type": "scatter",
         "x": [
          457,
          460,
          460,
          457,
          460,
          458,
          460,
          457,
          455
         ],
         "xaxis": "x",
         "y": [
          143.03482587064678,
          174.02826855123675,
          107.95107033639144,
          136.44314868804665,
          102.83911671924291,
          148.9855072463768,
          132.20973782771537,
          219.14191419141918,
          203.4003091190108
         ],
         "yaxis": "y"
        },
        {
         "hovertemplate": "x=%{x}<br>y=%{y}<extra></extra>",
         "legendgroup": "",
         "line": {
          "color": "#636efa",
          "dash": "solid"
         },
         "marker": {
          "symbol": "circle"
         },
         "mode": "lines",
         "name": "",
         "orientation": "v",
         "showlegend": false,
         "type": "scatter",
         "x": [
          461.0564,
          460.94985,
          460.91789,
          460.84491,
          460.81188,
          460.6446,
          460.50982,
          460.43471,
          460.22801,
          460.02024,
          459.73896,
          459.59939,
          459.42625,
          459.4417,
          459.13165,
          458.93827,
          458.89193,
          458.71826,
          458.46788,
          458.43538,
          458.1264,
          457.91331,
          457.61232,
          457.64641,
          457.3598,
          457.10676,
          456.92989,
          456.74397,
          456.47228,
          456.19526,
          455.89001,
          455.55226,
          455.21345,
          454.93004,
          454.48041,
          454.20819,
          453.78094,
          453.6403,
          453.01595,
          452.66754,
          452.38094,
          452.00696,
          451.66602,
          451.32454,
          450.87971,
          450.45619,
          450.0428,
          449.59264,
          449.14568,
          448.76638,
          448.28693,
          447.8128,
          447.43137,
          447.09255,
          446.66797,
          446.12139,
          445.75647,
          445.25411,
          444.66438,
          444.28188,
          443.71773,
          443.17861,
          442.68903,
          442.07639,
          441.45204,
          440.76748,
          440.36634,
          439.65568,
          439.13627,
          438.32866,
          437.78528,
          437.24722,
          436.63618,
          435.97667,
          435.44767,
          434.71197,
          434.03967,
          433.58898,
          432.81493,
          432.06059,
          431.46287,
          430.69521,
          430.02664,
          429.35647,
          428.69908,
          427.96232,
          427.22396,
          426.56284,
          425.91824,
          425.19853,
          424.51824,
          423.83741,
          423.12089,
          422.3559,
          421.61914,
          420.82963,
          419.95649,
          419.10093,
          418.3988,
          417.75154,
          417.10267,
          416.23806,
          415.54498,
          414.84178,
          414.00433,
          413.20151,
          412.48659,
          411.68697
         ],
         "xaxis": "x",
         "y": [
          96.67078,
          105.54061,
          113.59802,
          122.35872,
          130.93147,
          143.59658,
          154.88545,
          167.59301,
          180.31875,
          189.58872,
          201.23529,
          212.36652,
          223.83121,
          232.99205,
          242.4439,
          251.16822,
          259.69247,
          268.4471,
          278.01414,
          286.24738,
          294.84438,
          304.50236,
          314.0694,
          323.36968,
          332.37289,
          341.23665,
          350.31261,
          358.1457,
          366.32437,
          375.78229,
          384.24591,
          392.77015,
          401.94312,
          410.5583,
          417.62749,
          426.04261,
          434.2334,
          442.92741,
          450.40279,
          459.30293,
          466.69951,
          475.45414,
          482.68095,
          491.63566,
          501.18451,
          509.42381,
          518.07538,
          525.99335,
          533.3111,
          542.30218,
          550.71124,
          558.68377,
          566.03791,
          573.02828,
          581.51615,
          588.4277,
          596.58212,
          605.34887,
          613.27897,
          621.76684,
          629.1331,
          637.58459,
          645.56319,
          653.63273,
          661.73865,
          667.89842,
          675.87702,
          683.50397,
          692.53749,
          698.1698,
          705.80282,
          712.02928,
          718.49219,
          724.70652,
          732.27285,
          737.88091,
          743.77392,
          750.40658,
          755.69938,
          761.75608,
          768.47969,
          774.67583,
          780.43546,
          786.27996,
          791.50607,
          797.80528,
          803.24964,
          809.03958,
          815.4843,
          820.46789,
          827.8584,
          832.79956,
          838.17117,
          844.99178,
          848.98714,
          855.09841,
          860.94291,
          865.99319,
          871.86801,
          876.17864,
          879.93149,
          882.89012,
          887.21893,
          891.23855,
          895.27029,
          899.84161,
          902.53954,
          907.15937
         ],
         "yaxis": "y"
        },
        {
         "hovertemplate": "x=%{x}<br>y=%{y}<extra></extra>",
         "legendgroup": "",
         "line": {
          "color": "#636efa",
          "dash": "solid"
         },
         "marker": {
          "symbol": "circle"
         },
         "mode": "lines",
         "name": "",
         "orientation": "v",
         "showlegend": false,
         "type": "scatter",
         "x": [
          462.03612,
          461.31222,
          460.73758,
          460.2317,
          459.8431,
          459.18797,
          458.38678,
          457.91118,
          457.5079,
          457.1302,
          456.88301,
          456.74344,
          456.40889,
          456.12388,
          455.7547,
          455.48141,
          455.16603,
          454.85812,
          454.36907,
          453.98658,
          453.66854,
          453.29989,
          452.88436,
          452.47256,
          452.089,
          451.77895,
          451.24676,
          450.66182,
          450.32674,
          449.91974,
          449.41205,
          448.90596,
          448.40413,
          447.71478,
          447.3701,
          446.85229,
          446.21568,
          445.60251,
          445.02344,
          444.57915,
          444.06506,
          443.34801,
          442.69276,
          442.18347,
          441.61878,
          440.88735,
          440.09998,
          439.612,
          439.01215,
          438.24449,
          437.90088,
          437.15399,
          436.56213,
          436.06989,
          435.36243,
          434.74394,
          433.97787,
          433.29545,
          432.36797,
          431.89651,
          431.06226,
          430.39369,
          429.86149,
          429.07945,
          428.49931,
          427.66772,
          427.127,
          426.40889,
          425.54267,
          424.81497,
          424.0862,
          423.2642,
          422.52264,
          421.75072,
          420.9186,
          420.07263,
          419.17924,
          418.23632,
          417.33441,
          416.48151,
          415.68083,
          414.74482,
          413.91803,
          412.98949,
          412.13233,
          411.94058,
          411.12233,
          410.343,
          409.4192,
          408.59882,
          407.6617,
          406.82745,
          405.91272
         ],
         "xaxis": "x",
         "y": [
          76.39686,
          80.23916,
          86.44268,
          91.03159,
          98.11527,
          105.66026,
          108.81666,
          114.90152,
          122.45572,
          132.74423,
          141.82019,
          150.95678,
          159.39615,
          166.70784,
          176.49921,
          184.09585,
          193.58408,
          201.82338,
          210.36581,
          219.07194,
          227.63863,
          234.53199,
          243.40182,
          252.03519,
          258.96493,
          266.39788,
          273.7217,
          280.95458,
          288.56941,
          295.09901,
          302.7381,
          308.81905,
          317.54337,
          324.08509,
          331.97275,
          340.53943,
          347.29942,
          354.25947,
          361.92887,
          368.6646,
          375.17601,
          380.99626,
          386.79833,
          394.21915,
          402.22807,
          408.9638,
          416.13605,
          423.64175,
          429.40138,
          435.85216,
          442.95772,
          449.12961,
          455.49552,
          462.3525,
          468.51834,
          474.65992,
          482.35357,
          489.04686,
          494.27296,
          500.32966,
          505.1435,
          511.63066,
          517.14777,
          521.28258,
          528.03044,
          530.87993,
          538.25226,
          542.27187,
          547.40703,
          553.39704,
          557.30146,
          562.69126,
          567.49903,
          571.69447,
          574.33783,
          578.32713,
          582.71051,
          585.02649,
          588.94303,
          591.64703,
          592.7747,
          595.97584,
          597.5461,
          600.11065,
          600.88668,
          600.15782,
          601.32933,
          601.69353,
          602.78005,
          604.80743,
          606.87123,
          606.87123,
          607.61783
         ],
         "yaxis": "y"
        },
        {
         "hovertemplate": "x=%{x}<br>y=%{y}<extra></extra>",
         "legendgroup": "",
         "line": {
          "color": "#636efa",
          "dash": "solid"
         },
         "marker": {
          "symbol": "circle"
         },
         "mode": "lines",
         "name": "",
         "orientation": "v",
         "showlegend": false,
         "type": "scatter",
         "x": [
          463.54308,
          462.80159,
          462.11341,
          461.37565,
          460.71359,
          460.07818,
          459.41612,
          458.83935,
          458.37718,
          457.81907,
          457.30786,
          456.5781,
          455.7929,
          454.83072,
          454.47029,
          453.88269,
          453.05963,
          452.35909,
          451.65483,
          450.9511,
          450.13283,
          449.51806,
          448.91981,
          448.10953,
          447.41219,
          446.63015,
          445.81294,
          445.05594,
          444.26537,
          443.50463,
          442.61072,
          441.75995,
          441.02159,
          440.25447,
          439.50119,
          438.74898,
          437.73573,
          436.94943,
          436.08268,
          435.26334,
          434.42803,
          433.57673,
          432.64872,
          431.95937,
          431.17093,
          430.27595,
          429.41826,
          428.46575,
          427.53933,
          426.77753,
          425.94382,
          425.10797,
          424.37973,
          423.50872,
          422.68512,
          421.70331,
          420.86213,
          420.152,
          419.17658,
          418.39241,
          417.68388,
          416.67809,
          415.88007,
          415.0911,
          414.14426,
          413.25724,
          412.40701,
          411.50667,
          410.69748,
          409.76782,
          408.87548,
          407.97887,
          407.17927,
          406.41966,
          405.52039,
          404.60565,
          403.79273,
          402.91425
         ],
         "xaxis": "x",
         "y": [
          44.63261,
          46.21688,
          52.7057,
          59.61334,
          65.72582,
          72.05682,
          77.00385,
          83.88115,
          89.96935,
          95.31094,
          101.15026,
          103.02589,
          107.38414,
          111.85165,
          112.50066,
          118.96963,
          123.71072,
          126.05094,
          130.47676,
          134.44181,
          139.51634,
          143.37832,
          147.20999,
          151.54487,
          154.61263,
          158.28666,
          161.26954,
          165.80449,
          168.848,
          171.09728,
          174.31055,
          177.31162,
          178.73031,
          181.17966,
          182.30734,
          184.21104,
          185.79343,
          186.97567,
          189.32196,
          190.8134,
          192.03201,
          192.4079,
          194.77238,
          194.77238,
          195.57873,
          195.57873,
          197.20961,
          197.61582,
          198.73137,
          199.45284,
          199.45284,
          200.23493,
          200.60476,
          202.25383,
          201.51418,
          201.51418,
          201.51418,
          201.56268,
          202.38721,
          202.38721,
          202.38721,
          202.38721,
          202.38721,
          202.38721,
          202.0638,
          201.22007,
          201.58427,
          201.58427,
          200.01821,
          200.01821,
          200.01821,
          200.4249,
          200.4249,
          200.4249,
          200.04856,
          200.04856,
          199.66008,
          199.66008
         ],
         "yaxis": "y"
        },
        {
         "hovertemplate": "x=%{x}<br>y=%{y}<extra></extra>",
         "legendgroup": "",
         "line": {
          "color": "#636efa",
          "dash": "solid"
         },
         "marker": {
          "symbol": "circle"
         },
         "mode": "lines",
         "name": "",
         "orientation": "v",
         "showlegend": false,
         "type": "scatter",
         "x": [
          430.5,
          430.5
         ],
         "xaxis": "x",
         "y": [
          0,
          1000
         ],
         "yaxis": "y"
        },
        {
         "hovertemplate": "x=%{x}<br>y=%{y}<extra></extra>",
         "legendgroup": "",
         "line": {
          "color": "#636efa",
          "dash": "solid"
         },
         "marker": {
          "symbol": "circle"
         },
         "mode": "lines",
         "name": "",
         "orientation": "v",
         "showlegend": false,
         "type": "scatter",
         "x": [
          464.87,
          464.87
         ],
         "xaxis": "x",
         "y": [
          0,
          1000
         ],
         "yaxis": "y"
        }
       ],
       "layout": {
        "legend": {
         "title": {
          "text": "Kerogen Type and Maturity"
         }
        },
        "template": {
         "data": {
          "bar": [
           {
            "error_x": {
             "color": "#2a3f5f"
            },
            "error_y": {
             "color": "#2a3f5f"
            },
            "marker": {
             "line": {
              "color": "#E5ECF6",
              "width": 0.5
             },
             "pattern": {
              "fillmode": "overlay",
              "size": 10,
              "solidity": 0.2
             }
            },
            "type": "bar"
           }
          ],
          "barpolar": [
           {
            "marker": {
             "line": {
              "color": "#E5ECF6",
              "width": 0.5
             },
             "pattern": {
              "fillmode": "overlay",
              "size": 10,
              "solidity": 0.2
             }
            },
            "type": "barpolar"
           }
          ],
          "carpet": [
           {
            "aaxis": {
             "endlinecolor": "#2a3f5f",
             "gridcolor": "white",
             "linecolor": "white",
             "minorgridcolor": "white",
             "startlinecolor": "#2a3f5f"
            },
            "baxis": {
             "endlinecolor": "#2a3f5f",
             "gridcolor": "white",
             "linecolor": "white",
             "minorgridcolor": "white",
             "startlinecolor": "#2a3f5f"
            },
            "type": "carpet"
           }
          ],
          "choropleth": [
           {
            "colorbar": {
             "outlinewidth": 0,
             "ticks": ""
            },
            "type": "choropleth"
           }
          ],
          "contour": [
           {
            "colorbar": {
             "outlinewidth": 0,
             "ticks": ""
            },
            "colorscale": [
             [
              0,
              "#0d0887"
             ],
             [
              0.1111111111111111,
              "#46039f"
             ],
             [
              0.2222222222222222,
              "#7201a8"
             ],
             [
              0.3333333333333333,
              "#9c179e"
             ],
             [
              0.4444444444444444,
              "#bd3786"
             ],
             [
              0.5555555555555556,
              "#d8576b"
             ],
             [
              0.6666666666666666,
              "#ed7953"
             ],
             [
              0.7777777777777778,
              "#fb9f3a"
             ],
             [
              0.8888888888888888,
              "#fdca26"
             ],
             [
              1,
              "#f0f921"
             ]
            ],
            "type": "contour"
           }
          ],
          "contourcarpet": [
           {
            "colorbar": {
             "outlinewidth": 0,
             "ticks": ""
            },
            "type": "contourcarpet"
           }
          ],
          "heatmap": [
           {
            "colorbar": {
             "outlinewidth": 0,
             "ticks": ""
            },
            "colorscale": [
             [
              0,
              "#0d0887"
             ],
             [
              0.1111111111111111,
              "#46039f"
             ],
             [
              0.2222222222222222,
              "#7201a8"
             ],
             [
              0.3333333333333333,
              "#9c179e"
             ],
             [
              0.4444444444444444,
              "#bd3786"
             ],
             [
              0.5555555555555556,
              "#d8576b"
             ],
             [
              0.6666666666666666,
              "#ed7953"
             ],
             [
              0.7777777777777778,
              "#fb9f3a"
             ],
             [
              0.8888888888888888,
              "#fdca26"
             ],
             [
              1,
              "#f0f921"
             ]
            ],
            "type": "heatmap"
           }
          ],
          "heatmapgl": [
           {
            "colorbar": {
             "outlinewidth": 0,
             "ticks": ""
            },
            "colorscale": [
             [
              0,
              "#0d0887"
             ],
             [
              0.1111111111111111,
              "#46039f"
             ],
             [
              0.2222222222222222,
              "#7201a8"
             ],
             [
              0.3333333333333333,
              "#9c179e"
             ],
             [
              0.4444444444444444,
              "#bd3786"
             ],
             [
              0.5555555555555556,
              "#d8576b"
             ],
             [
              0.6666666666666666,
              "#ed7953"
             ],
             [
              0.7777777777777778,
              "#fb9f3a"
             ],
             [
              0.8888888888888888,
              "#fdca26"
             ],
             [
              1,
              "#f0f921"
             ]
            ],
            "type": "heatmapgl"
           }
          ],
          "histogram": [
           {
            "marker": {
             "pattern": {
              "fillmode": "overlay",
              "size": 10,
              "solidity": 0.2
             }
            },
            "type": "histogram"
           }
          ],
          "histogram2d": [
           {
            "colorbar": {
             "outlinewidth": 0,
             "ticks": ""
            },
            "colorscale": [
             [
              0,
              "#0d0887"
             ],
             [
              0.1111111111111111,
              "#46039f"
             ],
             [
              0.2222222222222222,
              "#7201a8"
             ],
             [
              0.3333333333333333,
              "#9c179e"
             ],
             [
              0.4444444444444444,
              "#bd3786"
             ],
             [
              0.5555555555555556,
              "#d8576b"
             ],
             [
              0.6666666666666666,
              "#ed7953"
             ],
             [
              0.7777777777777778,
              "#fb9f3a"
             ],
             [
              0.8888888888888888,
              "#fdca26"
             ],
             [
              1,
              "#f0f921"
             ]
            ],
            "type": "histogram2d"
           }
          ],
          "histogram2dcontour": [
           {
            "colorbar": {
             "outlinewidth": 0,
             "ticks": ""
            },
            "colorscale": [
             [
              0,
              "#0d0887"
             ],
             [
              0.1111111111111111,
              "#46039f"
             ],
             [
              0.2222222222222222,
              "#7201a8"
             ],
             [
              0.3333333333333333,
              "#9c179e"
             ],
             [
              0.4444444444444444,
              "#bd3786"
             ],
             [
              0.5555555555555556,
              "#d8576b"
             ],
             [
              0.6666666666666666,
              "#ed7953"
             ],
             [
              0.7777777777777778,
              "#fb9f3a"
             ],
             [
              0.8888888888888888,
              "#fdca26"
             ],
             [
              1,
              "#f0f921"
             ]
            ],
            "type": "histogram2dcontour"
           }
          ],
          "mesh3d": [
           {
            "colorbar": {
             "outlinewidth": 0,
             "ticks": ""
            },
            "type": "mesh3d"
           }
          ],
          "parcoords": [
           {
            "line": {
             "colorbar": {
              "outlinewidth": 0,
              "ticks": ""
             }
            },
            "type": "parcoords"
           }
          ],
          "pie": [
           {
            "automargin": true,
            "type": "pie"
           }
          ],
          "scatter": [
           {
            "fillpattern": {
             "fillmode": "overlay",
             "size": 10,
             "solidity": 0.2
            },
            "type": "scatter"
           }
          ],
          "scatter3d": [
           {
            "line": {
             "colorbar": {
              "outlinewidth": 0,
              "ticks": ""
             }
            },
            "marker": {
             "colorbar": {
              "outlinewidth": 0,
              "ticks": ""
             }
            },
            "type": "scatter3d"
           }
          ],
          "scattercarpet": [
           {
            "marker": {
             "colorbar": {
              "outlinewidth": 0,
              "ticks": ""
             }
            },
            "type": "scattercarpet"
           }
          ],
          "scattergeo": [
           {
            "marker": {
             "colorbar": {
              "outlinewidth": 0,
              "ticks": ""
             }
            },
            "type": "scattergeo"
           }
          ],
          "scattergl": [
           {
            "marker": {
             "colorbar": {
              "outlinewidth": 0,
              "ticks": ""
             }
            },
            "type": "scattergl"
           }
          ],
          "scattermapbox": [
           {
            "marker": {
             "colorbar": {
              "outlinewidth": 0,
              "ticks": ""
             }
            },
            "type": "scattermapbox"
           }
          ],
          "scatterpolar": [
           {
            "marker": {
             "colorbar": {
              "outlinewidth": 0,
              "ticks": ""
             }
            },
            "type": "scatterpolar"
           }
          ],
          "scatterpolargl": [
           {
            "marker": {
             "colorbar": {
              "outlinewidth": 0,
              "ticks": ""
             }
            },
            "type": "scatterpolargl"
           }
          ],
          "scatterternary": [
           {
            "marker": {
             "colorbar": {
              "outlinewidth": 0,
              "ticks": ""
             }
            },
            "type": "scatterternary"
           }
          ],
          "surface": [
           {
            "colorbar": {
             "outlinewidth": 0,
             "ticks": ""
            },
            "colorscale": [
             [
              0,
              "#0d0887"
             ],
             [
              0.1111111111111111,
              "#46039f"
             ],
             [
              0.2222222222222222,
              "#7201a8"
             ],
             [
              0.3333333333333333,
              "#9c179e"
             ],
             [
              0.4444444444444444,
              "#bd3786"
             ],
             [
              0.5555555555555556,
              "#d8576b"
             ],
             [
              0.6666666666666666,
              "#ed7953"
             ],
             [
              0.7777777777777778,
              "#fb9f3a"
             ],
             [
              0.8888888888888888,
              "#fdca26"
             ],
             [
              1,
              "#f0f921"
             ]
            ],
            "type": "surface"
           }
          ],
          "table": [
           {
            "cells": {
             "fill": {
              "color": "#EBF0F8"
             },
             "line": {
              "color": "white"
             }
            },
            "header": {
             "fill": {
              "color": "#C8D4E3"
             },
             "line": {
              "color": "white"
             }
            },
            "type": "table"
           }
          ]
         },
         "layout": {
          "annotationdefaults": {
           "arrowcolor": "#2a3f5f",
           "arrowhead": 0,
           "arrowwidth": 1
          },
          "autotypenumbers": "strict",
          "coloraxis": {
           "colorbar": {
            "outlinewidth": 0,
            "ticks": ""
           }
          },
          "colorscale": {
           "diverging": [
            [
             0,
             "#8e0152"
            ],
            [
             0.1,
             "#c51b7d"
            ],
            [
             0.2,
             "#de77ae"
            ],
            [
             0.3,
             "#f1b6da"
            ],
            [
             0.4,
             "#fde0ef"
            ],
            [
             0.5,
             "#f7f7f7"
            ],
            [
             0.6,
             "#e6f5d0"
            ],
            [
             0.7,
             "#b8e186"
            ],
            [
             0.8,
             "#7fbc41"
            ],
            [
             0.9,
             "#4d9221"
            ],
            [
             1,
             "#276419"
            ]
           ],
           "sequential": [
            [
             0,
             "#0d0887"
            ],
            [
             0.1111111111111111,
             "#46039f"
            ],
            [
             0.2222222222222222,
             "#7201a8"
            ],
            [
             0.3333333333333333,
             "#9c179e"
            ],
            [
             0.4444444444444444,
             "#bd3786"
            ],
            [
             0.5555555555555556,
             "#d8576b"
            ],
            [
             0.6666666666666666,
             "#ed7953"
            ],
            [
             0.7777777777777778,
             "#fb9f3a"
            ],
            [
             0.8888888888888888,
             "#fdca26"
            ],
            [
             1,
             "#f0f921"
            ]
           ],
           "sequentialminus": [
            [
             0,
             "#0d0887"
            ],
            [
             0.1111111111111111,
             "#46039f"
            ],
            [
             0.2222222222222222,
             "#7201a8"
            ],
            [
             0.3333333333333333,
             "#9c179e"
            ],
            [
             0.4444444444444444,
             "#bd3786"
            ],
            [
             0.5555555555555556,
             "#d8576b"
            ],
            [
             0.6666666666666666,
             "#ed7953"
            ],
            [
             0.7777777777777778,
             "#fb9f3a"
            ],
            [
             0.8888888888888888,
             "#fdca26"
            ],
            [
             1,
             "#f0f921"
            ]
           ]
          },
          "colorway": [
           "#636efa",
           "#EF553B",
           "#00cc96",
           "#ab63fa",
           "#FFA15A",
           "#19d3f3",
           "#FF6692",
           "#B6E880",
           "#FF97FF",
           "#FECB52"
          ],
          "font": {
           "color": "#2a3f5f"
          },
          "geo": {
           "bgcolor": "white",
           "lakecolor": "white",
           "landcolor": "#E5ECF6",
           "showlakes": true,
           "showland": true,
           "subunitcolor": "white"
          },
          "hoverlabel": {
           "align": "left"
          },
          "hovermode": "closest",
          "mapbox": {
           "style": "light"
          },
          "paper_bgcolor": "white",
          "plot_bgcolor": "#E5ECF6",
          "polar": {
           "angularaxis": {
            "gridcolor": "white",
            "linecolor": "white",
            "ticks": ""
           },
           "bgcolor": "#E5ECF6",
           "radialaxis": {
            "gridcolor": "white",
            "linecolor": "white",
            "ticks": ""
           }
          },
          "scene": {
           "xaxis": {
            "backgroundcolor": "#E5ECF6",
            "gridcolor": "white",
            "gridwidth": 2,
            "linecolor": "white",
            "showbackground": true,
            "ticks": "",
            "zerolinecolor": "white"
           },
           "yaxis": {
            "backgroundcolor": "#E5ECF6",
            "gridcolor": "white",
            "gridwidth": 2,
            "linecolor": "white",
            "showbackground": true,
            "ticks": "",
            "zerolinecolor": "white"
           },
           "zaxis": {
            "backgroundcolor": "#E5ECF6",
            "gridcolor": "white",
            "gridwidth": 2,
            "linecolor": "white",
            "showbackground": true,
            "ticks": "",
            "zerolinecolor": "white"
           }
          },
          "shapedefaults": {
           "line": {
            "color": "#2a3f5f"
           }
          },
          "ternary": {
           "aaxis": {
            "gridcolor": "white",
            "linecolor": "white",
            "ticks": ""
           },
           "baxis": {
            "gridcolor": "white",
            "linecolor": "white",
            "ticks": ""
           },
           "bgcolor": "#E5ECF6",
           "caxis": {
            "gridcolor": "white",
            "linecolor": "white",
            "ticks": ""
           }
          },
          "title": {
           "x": 0.05
          },
          "xaxis": {
           "automargin": true,
           "gridcolor": "white",
           "linecolor": "white",
           "ticks": "",
           "title": {
            "standoff": 15
           },
           "zerolinecolor": "white",
           "zerolinewidth": 2
          },
          "yaxis": {
           "automargin": true,
           "gridcolor": "white",
           "linecolor": "white",
           "ticks": "",
           "title": {
            "standoff": 15
           },
           "zerolinecolor": "white",
           "zerolinewidth": 2
          }
         }
        },
        "title": {
         "text": "Kerogen Type and Maturity"
        },
        "xaxis": {
         "title": {
          "text": "T max"
         }
        },
        "yaxis": {
         "title": {
          "text": "HI"
         }
        }
       }
      },
      "text/html": [
       "<div>                            <div id=\"35799d12-640b-4a14-a451-2ec3c97c99d9\" class=\"plotly-graph-div\" style=\"height:525px; width:100%;\"></div>            <script type=\"text/javascript\">                require([\"plotly\"], function(Plotly) {                    window.PLOTLYENV=window.PLOTLYENV || {};                                    if (document.getElementById(\"35799d12-640b-4a14-a451-2ec3c97c99d9\")) {                    Plotly.newPlot(                        \"35799d12-640b-4a14-a451-2ec3c97c99d9\",                        [{\"hovertemplate\":\"<b>%{hovertext}</b><br><br>color=TYPE II Oil Generation<br>x=%{x}<br>y=%{y}<extra></extra>\",\"hovertext\":[9037.0,9078.5,9127.5,9333.5,9371.5,9657.5,9663.5,9740.0,9938.5,9952.5,9962.5,9995.5,10020.5,10026.5,10032.5,10166.5,10300.5,10318.5,10335.5,10346.5,10360.5,10366.5,10374.0,10390.5],\"legendgroup\":\"TYPE II Oil Generation\",\"marker\":{\"color\":\"navy\",\"symbol\":\"circle\"},\"mode\":\"markers\",\"name\":\"TYPE II Oil Generation\",\"orientation\":\"v\",\"showlegend\":true,\"x\":[453,450,451,451,453,454,454,456,457,454,455,456,457,455,455,455,454,457,456,454,456,456,455,456],\"xaxis\":\"x\",\"y\":[159.07928388746802,237.85900783289816,238.63247863247864,150.91575091575092,168.08510638297872,170.87087087087087,160.09501187648456,110.13215859030836,124.40944881889763,123.01587301587301,126.56826568265683,126.08695652173914,132.6860841423948,141.2532637075718,145.58011049723757,183.68644067796612,148.6725663716814,114.08450704225353,128.19383259911893,190.27113237639554,109.87124463519314,156.140350877193,145.7831325301205,118.21561338289963],\"yaxis\":\"y\",\"type\":\"scatter\"},{\"hovertemplate\":\"<b>%{hovertext}</b><br><br>color=TYPE III Oil Generation<br>x=%{x}<br>y=%{y}<extra></extra>\",\"hovertext\":[9142.0,9218.0,9398.0,9717.5,9726.0,9731.5,9972.5,10377.0,10380.5],\"legendgroup\":\"TYPE III Oil Generation\",\"marker\":{\"color\":\"orangered\",\"symbol\":\"circle\"},\"mode\":\"markers\",\"name\":\"TYPE III Oil Generation\",\"orientation\":\"v\",\"showlegend\":true,\"x\":[452,448,450,451,452,453,452,454,454],\"xaxis\":\"x\",\"y\":[113.04347826086956,121.6117216117216,120.72892938496584,53.76344086021505,98.26589595375722,84.33734939759036,97.41379310344827,100.84745762711864,83.53413654618473],\"yaxis\":\"y\",\"type\":\"scatter\"},{\"hovertemplate\":\"<b>%{hovertext}</b><br><br>color=TYPE III Immature<br>x=%{x}<br>y=%{y}<extra></extra>\",\"hovertext\":[9609.5,9684.5],\"legendgroup\":\"TYPE III Immature\",\"marker\":{\"color\":\"coral\",\"symbol\":\"circle\"},\"mode\":\"markers\",\"name\":\"TYPE III Immature\",\"orientation\":\"v\",\"showlegend\":true,\"x\":[0,0],\"xaxis\":\"x\",\"y\":[47.22222222222222,83.33333333333334],\"yaxis\":\"y\",\"type\":\"scatter\"},{\"hovertemplate\":\"<b>%{hovertext}</b><br><br>color=TYPE I Oil Generation<br>x=%{x}<br>y=%{y}<extra></extra>\",\"hovertext\":[9956.5,9975.5,9980.5,9990.5,10000.5,10010.5,10283.5,10292.5,10353.5],\"legendgroup\":\"TYPE I Oil Generation\",\"marker\":{\"color\":\"deepskyblue\",\"symbol\":\"circle\"},\"mode\":\"markers\",\"name\":\"TYPE I Oil Generation\",\"orientation\":\"v\",\"showlegend\":true,\"x\":[457,460,460,457,460,458,460,457,455],\"xaxis\":\"x\",\"y\":[143.03482587064678,174.02826855123675,107.95107033639144,136.44314868804665,102.83911671924291,148.9855072463768,132.20973782771537,219.14191419141918,203.4003091190108],\"yaxis\":\"y\",\"type\":\"scatter\"},{\"hovertemplate\":\"x=%{x}<br>y=%{y}<extra></extra>\",\"legendgroup\":\"\",\"line\":{\"color\":\"#636efa\",\"dash\":\"solid\"},\"marker\":{\"symbol\":\"circle\"},\"mode\":\"lines\",\"name\":\"\",\"orientation\":\"v\",\"showlegend\":false,\"x\":[461.0564,460.94985,460.91789,460.84491,460.81188,460.6446,460.50982,460.43471,460.22801,460.02024,459.73896,459.59939,459.42625,459.4417,459.13165,458.93827,458.89193,458.71826,458.46788,458.43538,458.1264,457.91331,457.61232,457.64641,457.3598,457.10676,456.92989,456.74397,456.47228,456.19526,455.89001,455.55226,455.21345,454.93004,454.48041,454.20819,453.78094,453.6403,453.01595,452.66754,452.38094,452.00696,451.66602,451.32454,450.87971,450.45619,450.0428,449.59264,449.14568,448.76638,448.28693,447.8128,447.43137,447.09255,446.66797,446.12139,445.75647,445.25411,444.66438,444.28188,443.71773,443.17861,442.68903,442.07639,441.45204,440.76748,440.36634,439.65568,439.13627,438.32866,437.78528,437.24722,436.63618,435.97667,435.44767,434.71197,434.03967,433.58898,432.81493,432.06059,431.46287,430.69521,430.02664,429.35647,428.69908,427.96232,427.22396,426.56284,425.91824,425.19853,424.51824,423.83741,423.12089,422.3559,421.61914,420.82963,419.95649,419.10093,418.3988,417.75154,417.10267,416.23806,415.54498,414.84178,414.00433,413.20151,412.48659,411.68697],\"xaxis\":\"x\",\"y\":[96.67078,105.54061,113.59802,122.35872,130.93147,143.59658,154.88545,167.59301,180.31875,189.58872,201.23529,212.36652,223.83121,232.99205,242.4439,251.16822,259.69247,268.4471,278.01414,286.24738,294.84438,304.50236,314.0694,323.36968,332.37289,341.23665,350.31261,358.1457,366.32437,375.78229,384.24591,392.77015,401.94312,410.5583,417.62749,426.04261,434.2334,442.92741,450.40279,459.30293,466.69951,475.45414,482.68095,491.63566,501.18451,509.42381,518.07538,525.99335,533.3111,542.30218,550.71124,558.68377,566.03791,573.02828,581.51615,588.4277,596.58212,605.34887,613.27897,621.76684,629.1331,637.58459,645.56319,653.63273,661.73865,667.89842,675.87702,683.50397,692.53749,698.1698,705.80282,712.02928,718.49219,724.70652,732.27285,737.88091,743.77392,750.40658,755.69938,761.75608,768.47969,774.67583,780.43546,786.27996,791.50607,797.80528,803.24964,809.03958,815.4843,820.46789,827.8584,832.79956,838.17117,844.99178,848.98714,855.09841,860.94291,865.99319,871.86801,876.17864,879.93149,882.89012,887.21893,891.23855,895.27029,899.84161,902.53954,907.15937],\"yaxis\":\"y\",\"type\":\"scatter\"},{\"hovertemplate\":\"x=%{x}<br>y=%{y}<extra></extra>\",\"legendgroup\":\"\",\"line\":{\"color\":\"#636efa\",\"dash\":\"solid\"},\"marker\":{\"symbol\":\"circle\"},\"mode\":\"lines\",\"name\":\"\",\"orientation\":\"v\",\"showlegend\":false,\"x\":[462.03612,461.31222,460.73758,460.2317,459.8431,459.18797,458.38678,457.91118,457.5079,457.1302,456.88301,456.74344,456.40889,456.12388,455.7547,455.48141,455.16603,454.85812,454.36907,453.98658,453.66854,453.29989,452.88436,452.47256,452.089,451.77895,451.24676,450.66182,450.32674,449.91974,449.41205,448.90596,448.40413,447.71478,447.3701,446.85229,446.21568,445.60251,445.02344,444.57915,444.06506,443.34801,442.69276,442.18347,441.61878,440.88735,440.09998,439.612,439.01215,438.24449,437.90088,437.15399,436.56213,436.06989,435.36243,434.74394,433.97787,433.29545,432.36797,431.89651,431.06226,430.39369,429.86149,429.07945,428.49931,427.66772,427.127,426.40889,425.54267,424.81497,424.0862,423.2642,422.52264,421.75072,420.9186,420.07263,419.17924,418.23632,417.33441,416.48151,415.68083,414.74482,413.91803,412.98949,412.13233,411.94058,411.12233,410.343,409.4192,408.59882,407.6617,406.82745,405.91272],\"xaxis\":\"x\",\"y\":[76.39686,80.23916,86.44268,91.03159,98.11527,105.66026,108.81666,114.90152,122.45572,132.74423,141.82019,150.95678,159.39615,166.70784,176.49921,184.09585,193.58408,201.82338,210.36581,219.07194,227.63863,234.53199,243.40182,252.03519,258.96493,266.39788,273.7217,280.95458,288.56941,295.09901,302.7381,308.81905,317.54337,324.08509,331.97275,340.53943,347.29942,354.25947,361.92887,368.6646,375.17601,380.99626,386.79833,394.21915,402.22807,408.9638,416.13605,423.64175,429.40138,435.85216,442.95772,449.12961,455.49552,462.3525,468.51834,474.65992,482.35357,489.04686,494.27296,500.32966,505.1435,511.63066,517.14777,521.28258,528.03044,530.87993,538.25226,542.27187,547.40703,553.39704,557.30146,562.69126,567.49903,571.69447,574.33783,578.32713,582.71051,585.02649,588.94303,591.64703,592.7747,595.97584,597.5461,600.11065,600.88668,600.15782,601.32933,601.69353,602.78005,604.80743,606.87123,606.87123,607.61783],\"yaxis\":\"y\",\"type\":\"scatter\"},{\"hovertemplate\":\"x=%{x}<br>y=%{y}<extra></extra>\",\"legendgroup\":\"\",\"line\":{\"color\":\"#636efa\",\"dash\":\"solid\"},\"marker\":{\"symbol\":\"circle\"},\"mode\":\"lines\",\"name\":\"\",\"orientation\":\"v\",\"showlegend\":false,\"x\":[463.54308,462.80159,462.11341,461.37565,460.71359,460.07818,459.41612,458.83935,458.37718,457.81907,457.30786,456.5781,455.7929,454.83072,454.47029,453.88269,453.05963,452.35909,451.65483,450.9511,450.13283,449.51806,448.91981,448.10953,447.41219,446.63015,445.81294,445.05594,444.26537,443.50463,442.61072,441.75995,441.02159,440.25447,439.50119,438.74898,437.73573,436.94943,436.08268,435.26334,434.42803,433.57673,432.64872,431.95937,431.17093,430.27595,429.41826,428.46575,427.53933,426.77753,425.94382,425.10797,424.37973,423.50872,422.68512,421.70331,420.86213,420.152,419.17658,418.39241,417.68388,416.67809,415.88007,415.0911,414.14426,413.25724,412.40701,411.50667,410.69748,409.76782,408.87548,407.97887,407.17927,406.41966,405.52039,404.60565,403.79273,402.91425],\"xaxis\":\"x\",\"y\":[44.63261,46.21688,52.7057,59.61334,65.72582,72.05682,77.00385,83.88115,89.96935,95.31094,101.15026,103.02589,107.38414,111.85165,112.50066,118.96963,123.71072,126.05094,130.47676,134.44181,139.51634,143.37832,147.20999,151.54487,154.61263,158.28666,161.26954,165.80449,168.848,171.09728,174.31055,177.31162,178.73031,181.17966,182.30734,184.21104,185.79343,186.97567,189.32196,190.8134,192.03201,192.4079,194.77238,194.77238,195.57873,195.57873,197.20961,197.61582,198.73137,199.45284,199.45284,200.23493,200.60476,202.25383,201.51418,201.51418,201.51418,201.56268,202.38721,202.38721,202.38721,202.38721,202.38721,202.38721,202.0638,201.22007,201.58427,201.58427,200.01821,200.01821,200.01821,200.4249,200.4249,200.4249,200.04856,200.04856,199.66008,199.66008],\"yaxis\":\"y\",\"type\":\"scatter\"},{\"hovertemplate\":\"x=%{x}<br>y=%{y}<extra></extra>\",\"legendgroup\":\"\",\"line\":{\"color\":\"#636efa\",\"dash\":\"solid\"},\"marker\":{\"symbol\":\"circle\"},\"mode\":\"lines\",\"name\":\"\",\"orientation\":\"v\",\"showlegend\":false,\"x\":[430.5,430.5],\"xaxis\":\"x\",\"y\":[0,1000],\"yaxis\":\"y\",\"type\":\"scatter\"},{\"hovertemplate\":\"x=%{x}<br>y=%{y}<extra></extra>\",\"legendgroup\":\"\",\"line\":{\"color\":\"#636efa\",\"dash\":\"solid\"},\"marker\":{\"symbol\":\"circle\"},\"mode\":\"lines\",\"name\":\"\",\"orientation\":\"v\",\"showlegend\":false,\"x\":[464.87,464.87],\"xaxis\":\"x\",\"y\":[0,1000],\"yaxis\":\"y\",\"type\":\"scatter\"}],                        {\"template\":{\"data\":{\"histogram2dcontour\":[{\"type\":\"histogram2dcontour\",\"colorbar\":{\"outlinewidth\":0,\"ticks\":\"\"},\"colorscale\":[[0.0,\"#0d0887\"],[0.1111111111111111,\"#46039f\"],[0.2222222222222222,\"#7201a8\"],[0.3333333333333333,\"#9c179e\"],[0.4444444444444444,\"#bd3786\"],[0.5555555555555556,\"#d8576b\"],[0.6666666666666666,\"#ed7953\"],[0.7777777777777778,\"#fb9f3a\"],[0.8888888888888888,\"#fdca26\"],[1.0,\"#f0f921\"]]}],\"choropleth\":[{\"type\":\"choropleth\",\"colorbar\":{\"outlinewidth\":0,\"ticks\":\"\"}}],\"histogram2d\":[{\"type\":\"histogram2d\",\"colorbar\":{\"outlinewidth\":0,\"ticks\":\"\"},\"colorscale\":[[0.0,\"#0d0887\"],[0.1111111111111111,\"#46039f\"],[0.2222222222222222,\"#7201a8\"],[0.3333333333333333,\"#9c179e\"],[0.4444444444444444,\"#bd3786\"],[0.5555555555555556,\"#d8576b\"],[0.6666666666666666,\"#ed7953\"],[0.7777777777777778,\"#fb9f3a\"],[0.8888888888888888,\"#fdca26\"],[1.0,\"#f0f921\"]]}],\"heatmap\":[{\"type\":\"heatmap\",\"colorbar\":{\"outlinewidth\":0,\"ticks\":\"\"},\"colorscale\":[[0.0,\"#0d0887\"],[0.1111111111111111,\"#46039f\"],[0.2222222222222222,\"#7201a8\"],[0.3333333333333333,\"#9c179e\"],[0.4444444444444444,\"#bd3786\"],[0.5555555555555556,\"#d8576b\"],[0.6666666666666666,\"#ed7953\"],[0.7777777777777778,\"#fb9f3a\"],[0.8888888888888888,\"#fdca26\"],[1.0,\"#f0f921\"]]}],\"heatmapgl\":[{\"type\":\"heatmapgl\",\"colorbar\":{\"outlinewidth\":0,\"ticks\":\"\"},\"colorscale\":[[0.0,\"#0d0887\"],[0.1111111111111111,\"#46039f\"],[0.2222222222222222,\"#7201a8\"],[0.3333333333333333,\"#9c179e\"],[0.4444444444444444,\"#bd3786\"],[0.5555555555555556,\"#d8576b\"],[0.6666666666666666,\"#ed7953\"],[0.7777777777777778,\"#fb9f3a\"],[0.8888888888888888,\"#fdca26\"],[1.0,\"#f0f921\"]]}],\"contourcarpet\":[{\"type\":\"contourcarpet\",\"colorbar\":{\"outlinewidth\":0,\"ticks\":\"\"}}],\"contour\":[{\"type\":\"contour\",\"colorbar\":{\"outlinewidth\":0,\"ticks\":\"\"},\"colorscale\":[[0.0,\"#0d0887\"],[0.1111111111111111,\"#46039f\"],[0.2222222222222222,\"#7201a8\"],[0.3333333333333333,\"#9c179e\"],[0.4444444444444444,\"#bd3786\"],[0.5555555555555556,\"#d8576b\"],[0.6666666666666666,\"#ed7953\"],[0.7777777777777778,\"#fb9f3a\"],[0.8888888888888888,\"#fdca26\"],[1.0,\"#f0f921\"]]}],\"surface\":[{\"type\":\"surface\",\"colorbar\":{\"outlinewidth\":0,\"ticks\":\"\"},\"colorscale\":[[0.0,\"#0d0887\"],[0.1111111111111111,\"#46039f\"],[0.2222222222222222,\"#7201a8\"],[0.3333333333333333,\"#9c179e\"],[0.4444444444444444,\"#bd3786\"],[0.5555555555555556,\"#d8576b\"],[0.6666666666666666,\"#ed7953\"],[0.7777777777777778,\"#fb9f3a\"],[0.8888888888888888,\"#fdca26\"],[1.0,\"#f0f921\"]]}],\"mesh3d\":[{\"type\":\"mesh3d\",\"colorbar\":{\"outlinewidth\":0,\"ticks\":\"\"}}],\"scatter\":[{\"fillpattern\":{\"fillmode\":\"overlay\",\"size\":10,\"solidity\":0.2},\"type\":\"scatter\"}],\"parcoords\":[{\"type\":\"parcoords\",\"line\":{\"colorbar\":{\"outlinewidth\":0,\"ticks\":\"\"}}}],\"scatterpolargl\":[{\"type\":\"scatterpolargl\",\"marker\":{\"colorbar\":{\"outlinewidth\":0,\"ticks\":\"\"}}}],\"bar\":[{\"error_x\":{\"color\":\"#2a3f5f\"},\"error_y\":{\"color\":\"#2a3f5f\"},\"marker\":{\"line\":{\"color\":\"#E5ECF6\",\"width\":0.5},\"pattern\":{\"fillmode\":\"overlay\",\"size\":10,\"solidity\":0.2}},\"type\":\"bar\"}],\"scattergeo\":[{\"type\":\"scattergeo\",\"marker\":{\"colorbar\":{\"outlinewidth\":0,\"ticks\":\"\"}}}],\"scatterpolar\":[{\"type\":\"scatterpolar\",\"marker\":{\"colorbar\":{\"outlinewidth\":0,\"ticks\":\"\"}}}],\"histogram\":[{\"marker\":{\"pattern\":{\"fillmode\":\"overlay\",\"size\":10,\"solidity\":0.2}},\"type\":\"histogram\"}],\"scattergl\":[{\"type\":\"scattergl\",\"marker\":{\"colorbar\":{\"outlinewidth\":0,\"ticks\":\"\"}}}],\"scatter3d\":[{\"type\":\"scatter3d\",\"line\":{\"colorbar\":{\"outlinewidth\":0,\"ticks\":\"\"}},\"marker\":{\"colorbar\":{\"outlinewidth\":0,\"ticks\":\"\"}}}],\"scattermapbox\":[{\"type\":\"scattermapbox\",\"marker\":{\"colorbar\":{\"outlinewidth\":0,\"ticks\":\"\"}}}],\"scatterternary\":[{\"type\":\"scatterternary\",\"marker\":{\"colorbar\":{\"outlinewidth\":0,\"ticks\":\"\"}}}],\"scattercarpet\":[{\"type\":\"scattercarpet\",\"marker\":{\"colorbar\":{\"outlinewidth\":0,\"ticks\":\"\"}}}],\"carpet\":[{\"aaxis\":{\"endlinecolor\":\"#2a3f5f\",\"gridcolor\":\"white\",\"linecolor\":\"white\",\"minorgridcolor\":\"white\",\"startlinecolor\":\"#2a3f5f\"},\"baxis\":{\"endlinecolor\":\"#2a3f5f\",\"gridcolor\":\"white\",\"linecolor\":\"white\",\"minorgridcolor\":\"white\",\"startlinecolor\":\"#2a3f5f\"},\"type\":\"carpet\"}],\"table\":[{\"cells\":{\"fill\":{\"color\":\"#EBF0F8\"},\"line\":{\"color\":\"white\"}},\"header\":{\"fill\":{\"color\":\"#C8D4E3\"},\"line\":{\"color\":\"white\"}},\"type\":\"table\"}],\"barpolar\":[{\"marker\":{\"line\":{\"color\":\"#E5ECF6\",\"width\":0.5},\"pattern\":{\"fillmode\":\"overlay\",\"size\":10,\"solidity\":0.2}},\"type\":\"barpolar\"}],\"pie\":[{\"automargin\":true,\"type\":\"pie\"}]},\"layout\":{\"autotypenumbers\":\"strict\",\"colorway\":[\"#636efa\",\"#EF553B\",\"#00cc96\",\"#ab63fa\",\"#FFA15A\",\"#19d3f3\",\"#FF6692\",\"#B6E880\",\"#FF97FF\",\"#FECB52\"],\"font\":{\"color\":\"#2a3f5f\"},\"hovermode\":\"closest\",\"hoverlabel\":{\"align\":\"left\"},\"paper_bgcolor\":\"white\",\"plot_bgcolor\":\"#E5ECF6\",\"polar\":{\"bgcolor\":\"#E5ECF6\",\"angularaxis\":{\"gridcolor\":\"white\",\"linecolor\":\"white\",\"ticks\":\"\"},\"radialaxis\":{\"gridcolor\":\"white\",\"linecolor\":\"white\",\"ticks\":\"\"}},\"ternary\":{\"bgcolor\":\"#E5ECF6\",\"aaxis\":{\"gridcolor\":\"white\",\"linecolor\":\"white\",\"ticks\":\"\"},\"baxis\":{\"gridcolor\":\"white\",\"linecolor\":\"white\",\"ticks\":\"\"},\"caxis\":{\"gridcolor\":\"white\",\"linecolor\":\"white\",\"ticks\":\"\"}},\"coloraxis\":{\"colorbar\":{\"outlinewidth\":0,\"ticks\":\"\"}},\"colorscale\":{\"sequential\":[[0.0,\"#0d0887\"],[0.1111111111111111,\"#46039f\"],[0.2222222222222222,\"#7201a8\"],[0.3333333333333333,\"#9c179e\"],[0.4444444444444444,\"#bd3786\"],[0.5555555555555556,\"#d8576b\"],[0.6666666666666666,\"#ed7953\"],[0.7777777777777778,\"#fb9f3a\"],[0.8888888888888888,\"#fdca26\"],[1.0,\"#f0f921\"]],\"sequentialminus\":[[0.0,\"#0d0887\"],[0.1111111111111111,\"#46039f\"],[0.2222222222222222,\"#7201a8\"],[0.3333333333333333,\"#9c179e\"],[0.4444444444444444,\"#bd3786\"],[0.5555555555555556,\"#d8576b\"],[0.6666666666666666,\"#ed7953\"],[0.7777777777777778,\"#fb9f3a\"],[0.8888888888888888,\"#fdca26\"],[1.0,\"#f0f921\"]],\"diverging\":[[0,\"#8e0152\"],[0.1,\"#c51b7d\"],[0.2,\"#de77ae\"],[0.3,\"#f1b6da\"],[0.4,\"#fde0ef\"],[0.5,\"#f7f7f7\"],[0.6,\"#e6f5d0\"],[0.7,\"#b8e186\"],[0.8,\"#7fbc41\"],[0.9,\"#4d9221\"],[1,\"#276419\"]]},\"xaxis\":{\"gridcolor\":\"white\",\"linecolor\":\"white\",\"ticks\":\"\",\"title\":{\"standoff\":15},\"zerolinecolor\":\"white\",\"automargin\":true,\"zerolinewidth\":2},\"yaxis\":{\"gridcolor\":\"white\",\"linecolor\":\"white\",\"ticks\":\"\",\"title\":{\"standoff\":15},\"zerolinecolor\":\"white\",\"automargin\":true,\"zerolinewidth\":2},\"scene\":{\"xaxis\":{\"backgroundcolor\":\"#E5ECF6\",\"gridcolor\":\"white\",\"linecolor\":\"white\",\"showbackground\":true,\"ticks\":\"\",\"zerolinecolor\":\"white\",\"gridwidth\":2},\"yaxis\":{\"backgroundcolor\":\"#E5ECF6\",\"gridcolor\":\"white\",\"linecolor\":\"white\",\"showbackground\":true,\"ticks\":\"\",\"zerolinecolor\":\"white\",\"gridwidth\":2},\"zaxis\":{\"backgroundcolor\":\"#E5ECF6\",\"gridcolor\":\"white\",\"linecolor\":\"white\",\"showbackground\":true,\"ticks\":\"\",\"zerolinecolor\":\"white\",\"gridwidth\":2}},\"shapedefaults\":{\"line\":{\"color\":\"#2a3f5f\"}},\"annotationdefaults\":{\"arrowcolor\":\"#2a3f5f\",\"arrowhead\":0,\"arrowwidth\":1},\"geo\":{\"bgcolor\":\"white\",\"landcolor\":\"#E5ECF6\",\"subunitcolor\":\"white\",\"showland\":true,\"showlakes\":true,\"lakecolor\":\"white\"},\"title\":{\"x\":0.05},\"mapbox\":{\"style\":\"light\"}}},\"title\":{\"text\":\"Kerogen Type and Maturity\"},\"xaxis\":{\"title\":{\"text\":\"T max\"}},\"yaxis\":{\"title\":{\"text\":\"HI\"}},\"legend\":{\"title\":{\"text\":\"Kerogen Type and Maturity\"}}},                        {\"responsive\": true}                    ).then(function(){\n",
       "                            \n",
       "var gd = document.getElementById('35799d12-640b-4a14-a451-2ec3c97c99d9');\n",
       "var x = new MutationObserver(function (mutations, observer) {{\n",
       "        var display = window.getComputedStyle(gd).display;\n",
       "        if (!display || display === 'none') {{\n",
       "            console.log([gd, 'removed!']);\n",
       "            Plotly.purge(gd);\n",
       "            observer.disconnect();\n",
       "        }}\n",
       "}});\n",
       "\n",
       "// Listen for the removal of the full notebook cells\n",
       "var notebookContainer = gd.closest('#notebook-container');\n",
       "if (notebookContainer) {{\n",
       "    x.observe(notebookContainer, {childList: true});\n",
       "}}\n",
       "\n",
       "// Listen for the clearing of the current output cell\n",
       "var outputEl = gd.closest('.output');\n",
       "if (outputEl) {{\n",
       "    x.observe(outputEl, {childList: true});\n",
       "}}\n",
       "\n",
       "                        })                };                });            </script>        </div>"
      ]
     },
     "metadata": {},
     "output_type": "display_data"
    }
   ],
   "source": [
    "kerogen_type_maturity_plot(FEE_BI_307, KEROGEN_TYPE_MATURITY_I,KEROGEN_TYPE_MATURITY_II, KEROGEN_TYPE_MATURITY_III )"
   ]
  },
  {
   "cell_type": "code",
   "execution_count": 72,
   "id": "169e1d13",
   "metadata": {},
   "outputs": [
    {
     "data": {
      "application/vnd.plotly.v1+json": {
       "config": {
        "plotlyServerURL": "https://plot.ly"
       },
       "data": [
        {
         "hovertemplate": "<b>%{hovertext}</b><br><br>color=TYPE III<br>x=%{x}<br>y=%{y}<extra></extra>",
         "hovertext": [
          9037,
          9142,
          9218,
          9333.5,
          9371.5,
          9398,
          9487,
          9657.5,
          9663.5,
          9726,
          9731.5,
          9740,
          9938.5,
          9952.5,
          9956.5,
          9962.5,
          9966.5,
          9972.5,
          9975.5,
          9980.5,
          9985.5,
          9990.5,
          9995.5,
          10000.5,
          10004.5,
          10010.5,
          10020.5,
          10026.5,
          10032.5,
          10166.5,
          10283.5,
          10300.5,
          10310.5,
          10318.5,
          10325.5,
          10335.5,
          10346.5,
          10360.5,
          10366.5,
          10374,
          10377,
          10380.5,
          10390.5
         ],
         "legendgroup": "TYPE III",
         "marker": {
          "color": "red",
          "symbol": "circle"
         },
         "mode": "markers",
         "name": "TYPE III",
         "orientation": "v",
         "showlegend": true,
         "type": "scatter",
         "x": [
          3.91,
          0.46,
          2.73,
          2.73,
          5.17,
          4.39,
          4.89,
          3.33,
          4.21,
          1.73,
          1.66,
          2.27,
          1.27,
          1.26,
          4.02,
          2.71,
          2.85,
          2.32,
          5.66,
          3.27,
          3.24,
          3.43,
          1.38,
          3.17,
          3.9,
          3.45,
          3.09,
          3.83,
          3.62,
          4.72,
          2.67,
          3.39,
          2.5,
          2.13,
          7.32,
          2.27,
          6.27,
          2.33,
          5.13,
          1.66,
          2.36,
          2.49,
          2.69
         ],
         "xaxis": "x",
         "y": [
          6.22,
          0.52,
          3.32,
          4.12,
          8.69,
          5.3,
          6.97,
          5.69,
          6.74,
          1.7,
          1.4,
          2.5,
          1.58,
          1.55,
          5.75,
          3.43,
          3.45,
          2.26,
          9.85,
          3.53,
          3.57,
          4.68,
          1.74,
          3.26,
          5.5,
          5.14,
          4.1,
          5.41,
          5.27,
          8.67,
          3.53,
          5.04,
          3.16,
          2.43,
          10.4,
          2.91,
          11.93,
          2.56,
          8.01,
          2.42,
          2.38,
          2.08,
          3.18
         ],
         "yaxis": "y"
        },
        {
         "hovertemplate": "<b>%{hovertext}</b><br><br>color=TYPE II / III<br>x=%{x}<br>y=%{y}<extra></extra>",
         "hovertext": [
          9078.5,
          9127.5,
          10292.5,
          10353.5
         ],
         "legendgroup": "TYPE II / III",
         "marker": {
          "color": "orange",
          "symbol": "circle"
         },
         "mode": "markers",
         "name": "TYPE II / III",
         "orientation": "v",
         "showlegend": true,
         "type": "scatter",
         "x": [
          3.83,
          5.85,
          9.09,
          6.47
         ],
         "xaxis": "x",
         "y": [
          9.11,
          13.96,
          19.92,
          13.16
         ],
         "yaxis": "y"
        },
        {
         "hovertemplate": "<b>%{hovertext}</b><br><br>color=TYPE IV<br>x=%{x}<br>y=%{y}<extra></extra>",
         "hovertext": [
          9609.5,
          9684.5,
          9717.5,
          9853
         ],
         "legendgroup": "TYPE IV",
         "marker": {
          "color": "#19d3f3",
          "symbol": "circle"
         },
         "mode": "markers",
         "name": "TYPE IV",
         "orientation": "v",
         "showlegend": true,
         "type": "scatter",
         "x": [
          0.36,
          0.12,
          0.93,
          0.03
         ],
         "xaxis": "x",
         "y": [
          0.17,
          0.1,
          0.5,
          0.12
         ],
         "yaxis": "y"
        },
        {
         "hovertemplate": "x=%{x}<br>y=%{y}<extra></extra>",
         "legendgroup": "",
         "line": {
          "color": "#636efa",
          "dash": "solid"
         },
         "marker": {
          "symbol": "circle"
         },
         "mode": "lines",
         "name": "",
         "orientation": "v",
         "showlegend": false,
         "type": "scatter",
         "x": [
          0,
          8.53692,
          null,
          null
         ],
         "xaxis": "x",
         "y": [
          0,
          60,
          null,
          null
         ],
         "yaxis": "y"
        },
        {
         "hovertemplate": "x=%{x}<br>y=%{y}<extra></extra>",
         "legendgroup": "",
         "line": {
          "color": "#636efa",
          "dash": "solid"
         },
         "marker": {
          "symbol": "circle"
         },
         "mode": "lines",
         "name": "",
         "orientation": "v",
         "showlegend": false,
         "type": "scatter",
         "x": [
          0,
          16,
          null,
          null
         ],
         "xaxis": "x",
         "y": [
          0,
          56.05232,
          null,
          null
         ],
         "yaxis": "y"
        },
        {
         "hovertemplate": "x=%{x}<br>y=%{y}<extra></extra>",
         "legendgroup": "",
         "line": {
          "color": "#636efa",
          "dash": "solid"
         },
         "marker": {
          "symbol": "circle"
         },
         "mode": "lines",
         "name": "",
         "orientation": "v",
         "showlegend": false,
         "type": "scatter",
         "x": [
          0,
          16,
          null,
          null
         ],
         "xaxis": "x",
         "y": [
          0,
          31.91188,
          null,
          null
         ],
         "yaxis": "y"
        },
        {
         "hovertemplate": "x=%{x}<br>y=%{y}<extra></extra>",
         "legendgroup": "",
         "line": {
          "color": "#636efa",
          "dash": "solid"
         },
         "marker": {
          "symbol": "circle"
         },
         "mode": "lines",
         "name": "",
         "orientation": "v",
         "showlegend": false,
         "type": "scatter",
         "x": [
          0,
          16,
          null,
          null
         ],
         "xaxis": "x",
         "y": [
          0,
          7.89798,
          null,
          null
         ],
         "yaxis": "y"
        }
       ],
       "layout": {
        "legend": {
         "title": {
          "text": "Kerogen Quality Plot"
         }
        },
        "template": {
         "data": {
          "bar": [
           {
            "error_x": {
             "color": "#2a3f5f"
            },
            "error_y": {
             "color": "#2a3f5f"
            },
            "marker": {
             "line": {
              "color": "#E5ECF6",
              "width": 0.5
             },
             "pattern": {
              "fillmode": "overlay",
              "size": 10,
              "solidity": 0.2
             }
            },
            "type": "bar"
           }
          ],
          "barpolar": [
           {
            "marker": {
             "line": {
              "color": "#E5ECF6",
              "width": 0.5
             },
             "pattern": {
              "fillmode": "overlay",
              "size": 10,
              "solidity": 0.2
             }
            },
            "type": "barpolar"
           }
          ],
          "carpet": [
           {
            "aaxis": {
             "endlinecolor": "#2a3f5f",
             "gridcolor": "white",
             "linecolor": "white",
             "minorgridcolor": "white",
             "startlinecolor": "#2a3f5f"
            },
            "baxis": {
             "endlinecolor": "#2a3f5f",
             "gridcolor": "white",
             "linecolor": "white",
             "minorgridcolor": "white",
             "startlinecolor": "#2a3f5f"
            },
            "type": "carpet"
           }
          ],
          "choropleth": [
           {
            "colorbar": {
             "outlinewidth": 0,
             "ticks": ""
            },
            "type": "choropleth"
           }
          ],
          "contour": [
           {
            "colorbar": {
             "outlinewidth": 0,
             "ticks": ""
            },
            "colorscale": [
             [
              0,
              "#0d0887"
             ],
             [
              0.1111111111111111,
              "#46039f"
             ],
             [
              0.2222222222222222,
              "#7201a8"
             ],
             [
              0.3333333333333333,
              "#9c179e"
             ],
             [
              0.4444444444444444,
              "#bd3786"
             ],
             [
              0.5555555555555556,
              "#d8576b"
             ],
             [
              0.6666666666666666,
              "#ed7953"
             ],
             [
              0.7777777777777778,
              "#fb9f3a"
             ],
             [
              0.8888888888888888,
              "#fdca26"
             ],
             [
              1,
              "#f0f921"
             ]
            ],
            "type": "contour"
           }
          ],
          "contourcarpet": [
           {
            "colorbar": {
             "outlinewidth": 0,
             "ticks": ""
            },
            "type": "contourcarpet"
           }
          ],
          "heatmap": [
           {
            "colorbar": {
             "outlinewidth": 0,
             "ticks": ""
            },
            "colorscale": [
             [
              0,
              "#0d0887"
             ],
             [
              0.1111111111111111,
              "#46039f"
             ],
             [
              0.2222222222222222,
              "#7201a8"
             ],
             [
              0.3333333333333333,
              "#9c179e"
             ],
             [
              0.4444444444444444,
              "#bd3786"
             ],
             [
              0.5555555555555556,
              "#d8576b"
             ],
             [
              0.6666666666666666,
              "#ed7953"
             ],
             [
              0.7777777777777778,
              "#fb9f3a"
             ],
             [
              0.8888888888888888,
              "#fdca26"
             ],
             [
              1,
              "#f0f921"
             ]
            ],
            "type": "heatmap"
           }
          ],
          "heatmapgl": [
           {
            "colorbar": {
             "outlinewidth": 0,
             "ticks": ""
            },
            "colorscale": [
             [
              0,
              "#0d0887"
             ],
             [
              0.1111111111111111,
              "#46039f"
             ],
             [
              0.2222222222222222,
              "#7201a8"
             ],
             [
              0.3333333333333333,
              "#9c179e"
             ],
             [
              0.4444444444444444,
              "#bd3786"
             ],
             [
              0.5555555555555556,
              "#d8576b"
             ],
             [
              0.6666666666666666,
              "#ed7953"
             ],
             [
              0.7777777777777778,
              "#fb9f3a"
             ],
             [
              0.8888888888888888,
              "#fdca26"
             ],
             [
              1,
              "#f0f921"
             ]
            ],
            "type": "heatmapgl"
           }
          ],
          "histogram": [
           {
            "marker": {
             "pattern": {
              "fillmode": "overlay",
              "size": 10,
              "solidity": 0.2
             }
            },
            "type": "histogram"
           }
          ],
          "histogram2d": [
           {
            "colorbar": {
             "outlinewidth": 0,
             "ticks": ""
            },
            "colorscale": [
             [
              0,
              "#0d0887"
             ],
             [
              0.1111111111111111,
              "#46039f"
             ],
             [
              0.2222222222222222,
              "#7201a8"
             ],
             [
              0.3333333333333333,
              "#9c179e"
             ],
             [
              0.4444444444444444,
              "#bd3786"
             ],
             [
              0.5555555555555556,
              "#d8576b"
             ],
             [
              0.6666666666666666,
              "#ed7953"
             ],
             [
              0.7777777777777778,
              "#fb9f3a"
             ],
             [
              0.8888888888888888,
              "#fdca26"
             ],
             [
              1,
              "#f0f921"
             ]
            ],
            "type": "histogram2d"
           }
          ],
          "histogram2dcontour": [
           {
            "colorbar": {
             "outlinewidth": 0,
             "ticks": ""
            },
            "colorscale": [
             [
              0,
              "#0d0887"
             ],
             [
              0.1111111111111111,
              "#46039f"
             ],
             [
              0.2222222222222222,
              "#7201a8"
             ],
             [
              0.3333333333333333,
              "#9c179e"
             ],
             [
              0.4444444444444444,
              "#bd3786"
             ],
             [
              0.5555555555555556,
              "#d8576b"
             ],
             [
              0.6666666666666666,
              "#ed7953"
             ],
             [
              0.7777777777777778,
              "#fb9f3a"
             ],
             [
              0.8888888888888888,
              "#fdca26"
             ],
             [
              1,
              "#f0f921"
             ]
            ],
            "type": "histogram2dcontour"
           }
          ],
          "mesh3d": [
           {
            "colorbar": {
             "outlinewidth": 0,
             "ticks": ""
            },
            "type": "mesh3d"
           }
          ],
          "parcoords": [
           {
            "line": {
             "colorbar": {
              "outlinewidth": 0,
              "ticks": ""
             }
            },
            "type": "parcoords"
           }
          ],
          "pie": [
           {
            "automargin": true,
            "type": "pie"
           }
          ],
          "scatter": [
           {
            "fillpattern": {
             "fillmode": "overlay",
             "size": 10,
             "solidity": 0.2
            },
            "type": "scatter"
           }
          ],
          "scatter3d": [
           {
            "line": {
             "colorbar": {
              "outlinewidth": 0,
              "ticks": ""
             }
            },
            "marker": {
             "colorbar": {
              "outlinewidth": 0,
              "ticks": ""
             }
            },
            "type": "scatter3d"
           }
          ],
          "scattercarpet": [
           {
            "marker": {
             "colorbar": {
              "outlinewidth": 0,
              "ticks": ""
             }
            },
            "type": "scattercarpet"
           }
          ],
          "scattergeo": [
           {
            "marker": {
             "colorbar": {
              "outlinewidth": 0,
              "ticks": ""
             }
            },
            "type": "scattergeo"
           }
          ],
          "scattergl": [
           {
            "marker": {
             "colorbar": {
              "outlinewidth": 0,
              "ticks": ""
             }
            },
            "type": "scattergl"
           }
          ],
          "scattermapbox": [
           {
            "marker": {
             "colorbar": {
              "outlinewidth": 0,
              "ticks": ""
             }
            },
            "type": "scattermapbox"
           }
          ],
          "scatterpolar": [
           {
            "marker": {
             "colorbar": {
              "outlinewidth": 0,
              "ticks": ""
             }
            },
            "type": "scatterpolar"
           }
          ],
          "scatterpolargl": [
           {
            "marker": {
             "colorbar": {
              "outlinewidth": 0,
              "ticks": ""
             }
            },
            "type": "scatterpolargl"
           }
          ],
          "scatterternary": [
           {
            "marker": {
             "colorbar": {
              "outlinewidth": 0,
              "ticks": ""
             }
            },
            "type": "scatterternary"
           }
          ],
          "surface": [
           {
            "colorbar": {
             "outlinewidth": 0,
             "ticks": ""
            },
            "colorscale": [
             [
              0,
              "#0d0887"
             ],
             [
              0.1111111111111111,
              "#46039f"
             ],
             [
              0.2222222222222222,
              "#7201a8"
             ],
             [
              0.3333333333333333,
              "#9c179e"
             ],
             [
              0.4444444444444444,
              "#bd3786"
             ],
             [
              0.5555555555555556,
              "#d8576b"
             ],
             [
              0.6666666666666666,
              "#ed7953"
             ],
             [
              0.7777777777777778,
              "#fb9f3a"
             ],
             [
              0.8888888888888888,
              "#fdca26"
             ],
             [
              1,
              "#f0f921"
             ]
            ],
            "type": "surface"
           }
          ],
          "table": [
           {
            "cells": {
             "fill": {
              "color": "#EBF0F8"
             },
             "line": {
              "color": "white"
             }
            },
            "header": {
             "fill": {
              "color": "#C8D4E3"
             },
             "line": {
              "color": "white"
             }
            },
            "type": "table"
           }
          ]
         },
         "layout": {
          "annotationdefaults": {
           "arrowcolor": "#2a3f5f",
           "arrowhead": 0,
           "arrowwidth": 1
          },
          "autotypenumbers": "strict",
          "coloraxis": {
           "colorbar": {
            "outlinewidth": 0,
            "ticks": ""
           }
          },
          "colorscale": {
           "diverging": [
            [
             0,
             "#8e0152"
            ],
            [
             0.1,
             "#c51b7d"
            ],
            [
             0.2,
             "#de77ae"
            ],
            [
             0.3,
             "#f1b6da"
            ],
            [
             0.4,
             "#fde0ef"
            ],
            [
             0.5,
             "#f7f7f7"
            ],
            [
             0.6,
             "#e6f5d0"
            ],
            [
             0.7,
             "#b8e186"
            ],
            [
             0.8,
             "#7fbc41"
            ],
            [
             0.9,
             "#4d9221"
            ],
            [
             1,
             "#276419"
            ]
           ],
           "sequential": [
            [
             0,
             "#0d0887"
            ],
            [
             0.1111111111111111,
             "#46039f"
            ],
            [
             0.2222222222222222,
             "#7201a8"
            ],
            [
             0.3333333333333333,
             "#9c179e"
            ],
            [
             0.4444444444444444,
             "#bd3786"
            ],
            [
             0.5555555555555556,
             "#d8576b"
            ],
            [
             0.6666666666666666,
             "#ed7953"
            ],
            [
             0.7777777777777778,
             "#fb9f3a"
            ],
            [
             0.8888888888888888,
             "#fdca26"
            ],
            [
             1,
             "#f0f921"
            ]
           ],
           "sequentialminus": [
            [
             0,
             "#0d0887"
            ],
            [
             0.1111111111111111,
             "#46039f"
            ],
            [
             0.2222222222222222,
             "#7201a8"
            ],
            [
             0.3333333333333333,
             "#9c179e"
            ],
            [
             0.4444444444444444,
             "#bd3786"
            ],
            [
             0.5555555555555556,
             "#d8576b"
            ],
            [
             0.6666666666666666,
             "#ed7953"
            ],
            [
             0.7777777777777778,
             "#fb9f3a"
            ],
            [
             0.8888888888888888,
             "#fdca26"
            ],
            [
             1,
             "#f0f921"
            ]
           ]
          },
          "colorway": [
           "#636efa",
           "#EF553B",
           "#00cc96",
           "#ab63fa",
           "#FFA15A",
           "#19d3f3",
           "#FF6692",
           "#B6E880",
           "#FF97FF",
           "#FECB52"
          ],
          "font": {
           "color": "#2a3f5f"
          },
          "geo": {
           "bgcolor": "white",
           "lakecolor": "white",
           "landcolor": "#E5ECF6",
           "showlakes": true,
           "showland": true,
           "subunitcolor": "white"
          },
          "hoverlabel": {
           "align": "left"
          },
          "hovermode": "closest",
          "mapbox": {
           "style": "light"
          },
          "paper_bgcolor": "white",
          "plot_bgcolor": "#E5ECF6",
          "polar": {
           "angularaxis": {
            "gridcolor": "white",
            "linecolor": "white",
            "ticks": ""
           },
           "bgcolor": "#E5ECF6",
           "radialaxis": {
            "gridcolor": "white",
            "linecolor": "white",
            "ticks": ""
           }
          },
          "scene": {
           "xaxis": {
            "backgroundcolor": "#E5ECF6",
            "gridcolor": "white",
            "gridwidth": 2,
            "linecolor": "white",
            "showbackground": true,
            "ticks": "",
            "zerolinecolor": "white"
           },
           "yaxis": {
            "backgroundcolor": "#E5ECF6",
            "gridcolor": "white",
            "gridwidth": 2,
            "linecolor": "white",
            "showbackground": true,
            "ticks": "",
            "zerolinecolor": "white"
           },
           "zaxis": {
            "backgroundcolor": "#E5ECF6",
            "gridcolor": "white",
            "gridwidth": 2,
            "linecolor": "white",
            "showbackground": true,
            "ticks": "",
            "zerolinecolor": "white"
           }
          },
          "shapedefaults": {
           "line": {
            "color": "#2a3f5f"
           }
          },
          "ternary": {
           "aaxis": {
            "gridcolor": "white",
            "linecolor": "white",
            "ticks": ""
           },
           "baxis": {
            "gridcolor": "white",
            "linecolor": "white",
            "ticks": ""
           },
           "bgcolor": "#E5ECF6",
           "caxis": {
            "gridcolor": "white",
            "linecolor": "white",
            "ticks": ""
           }
          },
          "title": {
           "x": 0.05
          },
          "xaxis": {
           "automargin": true,
           "gridcolor": "white",
           "linecolor": "white",
           "ticks": "",
           "title": {
            "standoff": 15
           },
           "zerolinecolor": "white",
           "zerolinewidth": 2
          },
          "yaxis": {
           "automargin": true,
           "gridcolor": "white",
           "linecolor": "white",
           "ticks": "",
           "title": {
            "standoff": 15
           },
           "zerolinecolor": "white",
           "zerolinewidth": 2
          }
         }
        },
        "title": {
         "text": "Kerogen Quality Plot"
        },
        "xaxis": {
         "title": {
          "text": "TOC"
         }
        },
        "yaxis": {
         "title": {
          "text": "S2"
         }
        }
       }
      },
      "text/html": [
       "<div>                            <div id=\"80baa53c-f5d4-4cd0-ad6b-19f89bf52bda\" class=\"plotly-graph-div\" style=\"height:525px; width:100%;\"></div>            <script type=\"text/javascript\">                require([\"plotly\"], function(Plotly) {                    window.PLOTLYENV=window.PLOTLYENV || {};                                    if (document.getElementById(\"80baa53c-f5d4-4cd0-ad6b-19f89bf52bda\")) {                    Plotly.newPlot(                        \"80baa53c-f5d4-4cd0-ad6b-19f89bf52bda\",                        [{\"hovertemplate\":\"<b>%{hovertext}</b><br><br>color=TYPE III<br>x=%{x}<br>y=%{y}<extra></extra>\",\"hovertext\":[9037.0,9142.0,9218.0,9333.5,9371.5,9398.0,9487.0,9657.5,9663.5,9726.0,9731.5,9740.0,9938.5,9952.5,9956.5,9962.5,9966.5,9972.5,9975.5,9980.5,9985.5,9990.5,9995.5,10000.5,10004.5,10010.5,10020.5,10026.5,10032.5,10166.5,10283.5,10300.5,10310.5,10318.5,10325.5,10335.5,10346.5,10360.5,10366.5,10374.0,10377.0,10380.5,10390.5],\"legendgroup\":\"TYPE III\",\"marker\":{\"color\":\"red\",\"symbol\":\"circle\"},\"mode\":\"markers\",\"name\":\"TYPE III\",\"orientation\":\"v\",\"showlegend\":true,\"x\":[3.91,0.46,2.73,2.73,5.17,4.39,4.89,3.33,4.21,1.73,1.66,2.27,1.27,1.26,4.02,2.71,2.85,2.32,5.66,3.27,3.24,3.43,1.38,3.17,3.9,3.45,3.09,3.83,3.62,4.72,2.67,3.39,2.5,2.13,7.32,2.27,6.27,2.33,5.13,1.66,2.36,2.49,2.69],\"xaxis\":\"x\",\"y\":[6.22,0.52,3.32,4.12,8.69,5.3,6.97,5.69,6.74,1.7,1.4,2.5,1.58,1.55,5.75,3.43,3.45,2.26,9.85,3.53,3.57,4.68,1.74,3.26,5.5,5.14,4.1,5.41,5.27,8.67,3.53,5.04,3.16,2.43,10.4,2.91,11.93,2.56,8.01,2.42,2.38,2.08,3.18],\"yaxis\":\"y\",\"type\":\"scatter\"},{\"hovertemplate\":\"<b>%{hovertext}</b><br><br>color=TYPE II / III<br>x=%{x}<br>y=%{y}<extra></extra>\",\"hovertext\":[9078.5,9127.5,10292.5,10353.5],\"legendgroup\":\"TYPE II / III\",\"marker\":{\"color\":\"orange\",\"symbol\":\"circle\"},\"mode\":\"markers\",\"name\":\"TYPE II / III\",\"orientation\":\"v\",\"showlegend\":true,\"x\":[3.83,5.85,9.09,6.47],\"xaxis\":\"x\",\"y\":[9.11,13.96,19.92,13.16],\"yaxis\":\"y\",\"type\":\"scatter\"},{\"hovertemplate\":\"<b>%{hovertext}</b><br><br>color=TYPE IV<br>x=%{x}<br>y=%{y}<extra></extra>\",\"hovertext\":[9609.5,9684.5,9717.5,9853.0],\"legendgroup\":\"TYPE IV\",\"marker\":{\"color\":\"#19d3f3\",\"symbol\":\"circle\"},\"mode\":\"markers\",\"name\":\"TYPE IV\",\"orientation\":\"v\",\"showlegend\":true,\"x\":[0.36,0.12,0.93,0.03],\"xaxis\":\"x\",\"y\":[0.17,0.1,0.5,0.12],\"yaxis\":\"y\",\"type\":\"scatter\"},{\"hovertemplate\":\"x=%{x}<br>y=%{y}<extra></extra>\",\"legendgroup\":\"\",\"line\":{\"color\":\"#636efa\",\"dash\":\"solid\"},\"marker\":{\"symbol\":\"circle\"},\"mode\":\"lines\",\"name\":\"\",\"orientation\":\"v\",\"showlegend\":false,\"x\":[0.0,8.53692,null,null],\"xaxis\":\"x\",\"y\":[0.0,60.0,null,null],\"yaxis\":\"y\",\"type\":\"scatter\"},{\"hovertemplate\":\"x=%{x}<br>y=%{y}<extra></extra>\",\"legendgroup\":\"\",\"line\":{\"color\":\"#636efa\",\"dash\":\"solid\"},\"marker\":{\"symbol\":\"circle\"},\"mode\":\"lines\",\"name\":\"\",\"orientation\":\"v\",\"showlegend\":false,\"x\":[0.0,16.0,null,null],\"xaxis\":\"x\",\"y\":[0.0,56.05232,null,null],\"yaxis\":\"y\",\"type\":\"scatter\"},{\"hovertemplate\":\"x=%{x}<br>y=%{y}<extra></extra>\",\"legendgroup\":\"\",\"line\":{\"color\":\"#636efa\",\"dash\":\"solid\"},\"marker\":{\"symbol\":\"circle\"},\"mode\":\"lines\",\"name\":\"\",\"orientation\":\"v\",\"showlegend\":false,\"x\":[0.0,16.0,null,null],\"xaxis\":\"x\",\"y\":[0.0,31.91188,null,null],\"yaxis\":\"y\",\"type\":\"scatter\"},{\"hovertemplate\":\"x=%{x}<br>y=%{y}<extra></extra>\",\"legendgroup\":\"\",\"line\":{\"color\":\"#636efa\",\"dash\":\"solid\"},\"marker\":{\"symbol\":\"circle\"},\"mode\":\"lines\",\"name\":\"\",\"orientation\":\"v\",\"showlegend\":false,\"x\":[0.0,16.0,null,null],\"xaxis\":\"x\",\"y\":[0.0,7.89798,null,null],\"yaxis\":\"y\",\"type\":\"scatter\"}],                        {\"template\":{\"data\":{\"histogram2dcontour\":[{\"type\":\"histogram2dcontour\",\"colorbar\":{\"outlinewidth\":0,\"ticks\":\"\"},\"colorscale\":[[0.0,\"#0d0887\"],[0.1111111111111111,\"#46039f\"],[0.2222222222222222,\"#7201a8\"],[0.3333333333333333,\"#9c179e\"],[0.4444444444444444,\"#bd3786\"],[0.5555555555555556,\"#d8576b\"],[0.6666666666666666,\"#ed7953\"],[0.7777777777777778,\"#fb9f3a\"],[0.8888888888888888,\"#fdca26\"],[1.0,\"#f0f921\"]]}],\"choropleth\":[{\"type\":\"choropleth\",\"colorbar\":{\"outlinewidth\":0,\"ticks\":\"\"}}],\"histogram2d\":[{\"type\":\"histogram2d\",\"colorbar\":{\"outlinewidth\":0,\"ticks\":\"\"},\"colorscale\":[[0.0,\"#0d0887\"],[0.1111111111111111,\"#46039f\"],[0.2222222222222222,\"#7201a8\"],[0.3333333333333333,\"#9c179e\"],[0.4444444444444444,\"#bd3786\"],[0.5555555555555556,\"#d8576b\"],[0.6666666666666666,\"#ed7953\"],[0.7777777777777778,\"#fb9f3a\"],[0.8888888888888888,\"#fdca26\"],[1.0,\"#f0f921\"]]}],\"heatmap\":[{\"type\":\"heatmap\",\"colorbar\":{\"outlinewidth\":0,\"ticks\":\"\"},\"colorscale\":[[0.0,\"#0d0887\"],[0.1111111111111111,\"#46039f\"],[0.2222222222222222,\"#7201a8\"],[0.3333333333333333,\"#9c179e\"],[0.4444444444444444,\"#bd3786\"],[0.5555555555555556,\"#d8576b\"],[0.6666666666666666,\"#ed7953\"],[0.7777777777777778,\"#fb9f3a\"],[0.8888888888888888,\"#fdca26\"],[1.0,\"#f0f921\"]]}],\"heatmapgl\":[{\"type\":\"heatmapgl\",\"colorbar\":{\"outlinewidth\":0,\"ticks\":\"\"},\"colorscale\":[[0.0,\"#0d0887\"],[0.1111111111111111,\"#46039f\"],[0.2222222222222222,\"#7201a8\"],[0.3333333333333333,\"#9c179e\"],[0.4444444444444444,\"#bd3786\"],[0.5555555555555556,\"#d8576b\"],[0.6666666666666666,\"#ed7953\"],[0.7777777777777778,\"#fb9f3a\"],[0.8888888888888888,\"#fdca26\"],[1.0,\"#f0f921\"]]}],\"contourcarpet\":[{\"type\":\"contourcarpet\",\"colorbar\":{\"outlinewidth\":0,\"ticks\":\"\"}}],\"contour\":[{\"type\":\"contour\",\"colorbar\":{\"outlinewidth\":0,\"ticks\":\"\"},\"colorscale\":[[0.0,\"#0d0887\"],[0.1111111111111111,\"#46039f\"],[0.2222222222222222,\"#7201a8\"],[0.3333333333333333,\"#9c179e\"],[0.4444444444444444,\"#bd3786\"],[0.5555555555555556,\"#d8576b\"],[0.6666666666666666,\"#ed7953\"],[0.7777777777777778,\"#fb9f3a\"],[0.8888888888888888,\"#fdca26\"],[1.0,\"#f0f921\"]]}],\"surface\":[{\"type\":\"surface\",\"colorbar\":{\"outlinewidth\":0,\"ticks\":\"\"},\"colorscale\":[[0.0,\"#0d0887\"],[0.1111111111111111,\"#46039f\"],[0.2222222222222222,\"#7201a8\"],[0.3333333333333333,\"#9c179e\"],[0.4444444444444444,\"#bd3786\"],[0.5555555555555556,\"#d8576b\"],[0.6666666666666666,\"#ed7953\"],[0.7777777777777778,\"#fb9f3a\"],[0.8888888888888888,\"#fdca26\"],[1.0,\"#f0f921\"]]}],\"mesh3d\":[{\"type\":\"mesh3d\",\"colorbar\":{\"outlinewidth\":0,\"ticks\":\"\"}}],\"scatter\":[{\"fillpattern\":{\"fillmode\":\"overlay\",\"size\":10,\"solidity\":0.2},\"type\":\"scatter\"}],\"parcoords\":[{\"type\":\"parcoords\",\"line\":{\"colorbar\":{\"outlinewidth\":0,\"ticks\":\"\"}}}],\"scatterpolargl\":[{\"type\":\"scatterpolargl\",\"marker\":{\"colorbar\":{\"outlinewidth\":0,\"ticks\":\"\"}}}],\"bar\":[{\"error_x\":{\"color\":\"#2a3f5f\"},\"error_y\":{\"color\":\"#2a3f5f\"},\"marker\":{\"line\":{\"color\":\"#E5ECF6\",\"width\":0.5},\"pattern\":{\"fillmode\":\"overlay\",\"size\":10,\"solidity\":0.2}},\"type\":\"bar\"}],\"scattergeo\":[{\"type\":\"scattergeo\",\"marker\":{\"colorbar\":{\"outlinewidth\":0,\"ticks\":\"\"}}}],\"scatterpolar\":[{\"type\":\"scatterpolar\",\"marker\":{\"colorbar\":{\"outlinewidth\":0,\"ticks\":\"\"}}}],\"histogram\":[{\"marker\":{\"pattern\":{\"fillmode\":\"overlay\",\"size\":10,\"solidity\":0.2}},\"type\":\"histogram\"}],\"scattergl\":[{\"type\":\"scattergl\",\"marker\":{\"colorbar\":{\"outlinewidth\":0,\"ticks\":\"\"}}}],\"scatter3d\":[{\"type\":\"scatter3d\",\"line\":{\"colorbar\":{\"outlinewidth\":0,\"ticks\":\"\"}},\"marker\":{\"colorbar\":{\"outlinewidth\":0,\"ticks\":\"\"}}}],\"scattermapbox\":[{\"type\":\"scattermapbox\",\"marker\":{\"colorbar\":{\"outlinewidth\":0,\"ticks\":\"\"}}}],\"scatterternary\":[{\"type\":\"scatterternary\",\"marker\":{\"colorbar\":{\"outlinewidth\":0,\"ticks\":\"\"}}}],\"scattercarpet\":[{\"type\":\"scattercarpet\",\"marker\":{\"colorbar\":{\"outlinewidth\":0,\"ticks\":\"\"}}}],\"carpet\":[{\"aaxis\":{\"endlinecolor\":\"#2a3f5f\",\"gridcolor\":\"white\",\"linecolor\":\"white\",\"minorgridcolor\":\"white\",\"startlinecolor\":\"#2a3f5f\"},\"baxis\":{\"endlinecolor\":\"#2a3f5f\",\"gridcolor\":\"white\",\"linecolor\":\"white\",\"minorgridcolor\":\"white\",\"startlinecolor\":\"#2a3f5f\"},\"type\":\"carpet\"}],\"table\":[{\"cells\":{\"fill\":{\"color\":\"#EBF0F8\"},\"line\":{\"color\":\"white\"}},\"header\":{\"fill\":{\"color\":\"#C8D4E3\"},\"line\":{\"color\":\"white\"}},\"type\":\"table\"}],\"barpolar\":[{\"marker\":{\"line\":{\"color\":\"#E5ECF6\",\"width\":0.5},\"pattern\":{\"fillmode\":\"overlay\",\"size\":10,\"solidity\":0.2}},\"type\":\"barpolar\"}],\"pie\":[{\"automargin\":true,\"type\":\"pie\"}]},\"layout\":{\"autotypenumbers\":\"strict\",\"colorway\":[\"#636efa\",\"#EF553B\",\"#00cc96\",\"#ab63fa\",\"#FFA15A\",\"#19d3f3\",\"#FF6692\",\"#B6E880\",\"#FF97FF\",\"#FECB52\"],\"font\":{\"color\":\"#2a3f5f\"},\"hovermode\":\"closest\",\"hoverlabel\":{\"align\":\"left\"},\"paper_bgcolor\":\"white\",\"plot_bgcolor\":\"#E5ECF6\",\"polar\":{\"bgcolor\":\"#E5ECF6\",\"angularaxis\":{\"gridcolor\":\"white\",\"linecolor\":\"white\",\"ticks\":\"\"},\"radialaxis\":{\"gridcolor\":\"white\",\"linecolor\":\"white\",\"ticks\":\"\"}},\"ternary\":{\"bgcolor\":\"#E5ECF6\",\"aaxis\":{\"gridcolor\":\"white\",\"linecolor\":\"white\",\"ticks\":\"\"},\"baxis\":{\"gridcolor\":\"white\",\"linecolor\":\"white\",\"ticks\":\"\"},\"caxis\":{\"gridcolor\":\"white\",\"linecolor\":\"white\",\"ticks\":\"\"}},\"coloraxis\":{\"colorbar\":{\"outlinewidth\":0,\"ticks\":\"\"}},\"colorscale\":{\"sequential\":[[0.0,\"#0d0887\"],[0.1111111111111111,\"#46039f\"],[0.2222222222222222,\"#7201a8\"],[0.3333333333333333,\"#9c179e\"],[0.4444444444444444,\"#bd3786\"],[0.5555555555555556,\"#d8576b\"],[0.6666666666666666,\"#ed7953\"],[0.7777777777777778,\"#fb9f3a\"],[0.8888888888888888,\"#fdca26\"],[1.0,\"#f0f921\"]],\"sequentialminus\":[[0.0,\"#0d0887\"],[0.1111111111111111,\"#46039f\"],[0.2222222222222222,\"#7201a8\"],[0.3333333333333333,\"#9c179e\"],[0.4444444444444444,\"#bd3786\"],[0.5555555555555556,\"#d8576b\"],[0.6666666666666666,\"#ed7953\"],[0.7777777777777778,\"#fb9f3a\"],[0.8888888888888888,\"#fdca26\"],[1.0,\"#f0f921\"]],\"diverging\":[[0,\"#8e0152\"],[0.1,\"#c51b7d\"],[0.2,\"#de77ae\"],[0.3,\"#f1b6da\"],[0.4,\"#fde0ef\"],[0.5,\"#f7f7f7\"],[0.6,\"#e6f5d0\"],[0.7,\"#b8e186\"],[0.8,\"#7fbc41\"],[0.9,\"#4d9221\"],[1,\"#276419\"]]},\"xaxis\":{\"gridcolor\":\"white\",\"linecolor\":\"white\",\"ticks\":\"\",\"title\":{\"standoff\":15},\"zerolinecolor\":\"white\",\"automargin\":true,\"zerolinewidth\":2},\"yaxis\":{\"gridcolor\":\"white\",\"linecolor\":\"white\",\"ticks\":\"\",\"title\":{\"standoff\":15},\"zerolinecolor\":\"white\",\"automargin\":true,\"zerolinewidth\":2},\"scene\":{\"xaxis\":{\"backgroundcolor\":\"#E5ECF6\",\"gridcolor\":\"white\",\"linecolor\":\"white\",\"showbackground\":true,\"ticks\":\"\",\"zerolinecolor\":\"white\",\"gridwidth\":2},\"yaxis\":{\"backgroundcolor\":\"#E5ECF6\",\"gridcolor\":\"white\",\"linecolor\":\"white\",\"showbackground\":true,\"ticks\":\"\",\"zerolinecolor\":\"white\",\"gridwidth\":2},\"zaxis\":{\"backgroundcolor\":\"#E5ECF6\",\"gridcolor\":\"white\",\"linecolor\":\"white\",\"showbackground\":true,\"ticks\":\"\",\"zerolinecolor\":\"white\",\"gridwidth\":2}},\"shapedefaults\":{\"line\":{\"color\":\"#2a3f5f\"}},\"annotationdefaults\":{\"arrowcolor\":\"#2a3f5f\",\"arrowhead\":0,\"arrowwidth\":1},\"geo\":{\"bgcolor\":\"white\",\"landcolor\":\"#E5ECF6\",\"subunitcolor\":\"white\",\"showland\":true,\"showlakes\":true,\"lakecolor\":\"white\"},\"title\":{\"x\":0.05},\"mapbox\":{\"style\":\"light\"}}},\"title\":{\"text\":\"Kerogen Quality Plot\"},\"xaxis\":{\"title\":{\"text\":\"TOC\"}},\"yaxis\":{\"title\":{\"text\":\"S2\"}},\"legend\":{\"title\":{\"text\":\"Kerogen Quality Plot\"}}},                        {\"responsive\": true}                    ).then(function(){\n",
       "                            \n",
       "var gd = document.getElementById('80baa53c-f5d4-4cd0-ad6b-19f89bf52bda');\n",
       "var x = new MutationObserver(function (mutations, observer) {{\n",
       "        var display = window.getComputedStyle(gd).display;\n",
       "        if (!display || display === 'none') {{\n",
       "            console.log([gd, 'removed!']);\n",
       "            Plotly.purge(gd);\n",
       "            observer.disconnect();\n",
       "        }}\n",
       "}});\n",
       "\n",
       "// Listen for the removal of the full notebook cells\n",
       "var notebookContainer = gd.closest('#notebook-container');\n",
       "if (notebookContainer) {{\n",
       "    x.observe(notebookContainer, {childList: true});\n",
       "}}\n",
       "\n",
       "// Listen for the clearing of the current output cell\n",
       "var outputEl = gd.closest('.output');\n",
       "if (outputEl) {{\n",
       "    x.observe(outputEl, {childList: true});\n",
       "}}\n",
       "\n",
       "                        })                };                });            </script>        </div>"
      ]
     },
     "metadata": {},
     "output_type": "display_data"
    }
   ],
   "source": [
    "kerogen_quality_plot(FEE_BI_307 , KEROGEN_QUALITY_I, KEROGEN_QUALITY_II, KEROGEN_QUALITY_II_III, KEROGEN_QUALITY_III ,KEROGEN_QUALITY_IP, KEROGEN_QUALITY_IIP, KEROGEN_QUALITY_II_IIIP, KEROGEN_QUALITY_IIIP)"
   ]
  },
  {
   "cell_type": "markdown",
   "id": "b598792c",
   "metadata": {},
   "source": []
  },
  {
   "cell_type": "code",
   "execution_count": 74,
   "id": "5175b7d7",
   "metadata": {},
   "outputs": [
    {
     "data": {
      "application/vnd.plotly.v1+json": {
       "config": {
        "plotlyServerURL": "https://plot.ly"
       },
       "data": [
        {
         "hovertemplate": "<b>%{hovertext}</b><br><br>color=TYPE III<br>x=%{x}<br>y=%{y}<extra></extra>",
         "hovertext": [
          9037,
          9142,
          9218,
          9333.5,
          9371.5,
          9398,
          9487,
          9609.5,
          9657.5,
          9663.5,
          9717.5,
          9726,
          9731.5,
          9740,
          9938.5,
          9952.5,
          9956.5,
          9962.5,
          9966.5,
          9972.5,
          9975.5,
          9980.5,
          9985.5,
          9990.5,
          9995.5,
          10000.5,
          10004.5,
          10010.5,
          10020.5,
          10026.5,
          10032.5,
          10166.5,
          10283.5,
          10300.5,
          10310.5,
          10318.5,
          10325.5,
          10335.5,
          10346.5,
          10360.5,
          10366.5,
          10374,
          10377,
          10380.5,
          10390.5
         ],
         "legendgroup": "TYPE III",
         "marker": {
          "color": "red",
          "symbol": "circle"
         },
         "mode": "markers",
         "name": "TYPE III",
         "orientation": "v",
         "showlegend": true,
         "type": "scatter",
         "x": [
          14,
          85,
          11,
          12,
          6,
          7,
          5,
          44,
          5,
          11,
          45,
          5,
          5,
          3,
          17,
          26,
          2,
          4,
          13,
          5,
          3,
          10,
          11,
          3,
          17,
          11,
          5,
          4,
          5,
          3,
          4,
          7,
          3,
          4,
          11,
          20,
          36,
          5,
          2,
          5,
          2,
          13,
          6,
          17,
          9
         ],
         "xaxis": "x",
         "y": [
          159.07928388746802,
          113.04347826086956,
          121.6117216117216,
          150.91575091575092,
          168.08510638297872,
          120.72892938496584,
          142.5357873210634,
          47.22222222222222,
          170.87087087087087,
          160.09501187648456,
          53.76344086021505,
          98.26589595375722,
          84.33734939759036,
          110.13215859030836,
          124.40944881889763,
          123.01587301587301,
          143.03482587064678,
          126.56826568265683,
          121.05263157894737,
          97.41379310344827,
          174.02826855123675,
          107.95107033639144,
          110.18518518518518,
          136.44314868804665,
          126.08695652173914,
          102.83911671924291,
          141.02564102564102,
          148.9855072463768,
          132.6860841423948,
          141.2532637075718,
          145.58011049723757,
          183.68644067796612,
          132.20973782771537,
          148.6725663716814,
          126.4,
          114.08450704225353,
          142.07650273224044,
          128.19383259911893,
          190.27113237639554,
          109.87124463519314,
          156.140350877193,
          145.7831325301205,
          100.84745762711864,
          83.53413654618473,
          118.21561338289963
         ],
         "yaxis": "y"
        },
        {
         "hovertemplate": "<b>%{hovertext}</b><br><br>color=TYPE II / III<br>x=%{x}<br>y=%{y}<extra></extra>",
         "hovertext": [
          9078.5,
          9127.5,
          10292.5,
          10353.5
         ],
         "legendgroup": "TYPE II / III",
         "marker": {
          "color": "orange",
          "symbol": "circle"
         },
         "mode": "markers",
         "name": "TYPE II / III",
         "orientation": "v",
         "showlegend": true,
         "type": "scatter",
         "x": [
          6,
          9,
          3,
          2
         ],
         "xaxis": "x",
         "y": [
          237.85900783289816,
          238.63247863247864,
          219.14191419141918,
          203.4003091190108
         ],
         "yaxis": "y"
        },
        {
         "hovertemplate": "x=%{x}<br>y=%{y}<extra></extra>",
         "legendgroup": "",
         "line": {
          "color": "#636efa",
          "dash": "solid"
         },
         "marker": {
          "symbol": "circle"
         },
         "mode": "lines",
         "name": "",
         "orientation": "v",
         "showlegend": false,
         "type": "scatter",
         "x": [
          59.20046,
          58.57689,
          58.63523,
          58.31771,
          57.60233,
          57.35845,
          57.0591,
          56.99503,
          56.25765,
          55.19989,
          54.31809,
          53.53577,
          52.6119,
          51.64881,
          50.28118,
          48.88868,
          47.83761,
          46.93286,
          45.73833,
          44.60692,
          42.75536,
          41.33512,
          40.2391,
          38.42196,
          37.05337,
          35.64365,
          33.76913,
          31.99885,
          30.53462,
          29.11821,
          27.63868,
          26.07116,
          24.44243,
          22.89594,
          21.37337,
          19.8795,
          18.32249,
          16.3026,
          14.60884,
          12.75057,
          11.02334,
          9.58397
         ],
         "xaxis": "x",
         "y": [
          714.06104,
          722.21976,
          729.60671,
          738.06993,
          746.56991,
          753.51059,
          761.97382,
          771.93333,
          781.93485,
          790.77609,
          797.20226,
          805.10372,
          816.31802,
          820.98539,
          829.50637,
          836.72006,
          843.8025,
          848.73238,
          854.36053,
          859.76818,
          866.90312,
          872.45777,
          875.85986,
          878.77368,
          883.41481,
          889.03771,
          892.06179,
          896.23565,
          897.99445,
          900.0735,
          902.0108,
          905.47065,
          907.84896,
          910.95179,
          910.95179,
          911.2773,
          913.0571,
          913.75537,
          914.77914,
          916.21768,
          916.21768,
          917.18896
         ],
         "yaxis": "y"
        },
        {
         "hovertemplate": "x=%{x}<br>y=%{y}<extra></extra>",
         "legendgroup": "",
         "line": {
          "color": "#636efa",
          "dash": "solid"
         },
         "marker": {
          "symbol": "circle"
         },
         "mode": "lines",
         "name": "",
         "orientation": "v",
         "showlegend": false,
         "type": "scatter",
         "x": [
          76.43076,
          76.43076,
          75.9277,
          75.9277,
          75.9277,
          75.55279,
          74.75803,
          74.75803,
          74.69969,
          73.89155,
          72.98011,
          72.12701,
          71.11993,
          70.21423,
          69.26454,
          68.44204,
          67.39384,
          65.94682,
          64.64327,
          63.69357,
          62.54878,
          61.07976,
          59.88906,
          58.55777,
          57.14518,
          55.48776,
          54.23393,
          52.71041,
          51.09602,
          49.73221,
          48.12643,
          45.91909,
          44.10673,
          42.72475,
          41.01282,
          39.55241,
          37.94185,
          36.68324,
          35.07842,
          33.22494,
          31.53692,
          29.81829,
          27.85099,
          26.3619,
          24.56771,
          23.22494,
          21.1075,
          19.50555,
          17.51721,
          15.77659,
          13.46882,
          11.8114,
          10.45046,
          9.0044
         ],
         "xaxis": "x",
         "y": [
          372.45543,
          380.60365,
          391.7392,
          404.53379,
          411.97849,
          422.77277,
          435.78787,
          447.35918,
          458.68373,
          471.34707,
          486.13671,
          499.91308,
          512.30866,
          524.04797,
          531.57668,
          543.925,
          554.56179,
          561.46047,
          569.47219,
          575.97186,
          582.18803,
          589.85848,
          593.80658,
          600.1435,
          604.66912,
          611.72006,
          618.69225,
          623.16537,
          628.41026,
          632.53162,
          636.53747,
          645.31571,
          649.83083,
          652.09364,
          657.82679,
          660.54111,
          662.49942,
          666.47902,
          669.5031,
          671.3039,
          674.28598,
          675.64052,
          678.00308,
          678.32859,
          681.53117,
          683.91474,
          686.2983,
          686.95982,
          686.61331,
          687.56884,
          691.84245,
          693.46474,
          694.23651,
          694.23651
         ],
         "yaxis": "y"
        },
        {
         "hovertemplate": "x=%{x}<br>y=%{y}<extra></extra>",
         "legendgroup": "",
         "line": {
          "color": "#636efa",
          "dash": "solid"
         },
         "marker": {
          "symbol": "circle"
         },
         "mode": "lines",
         "name": "",
         "orientation": "v",
         "showlegend": false,
         "type": "scatter",
         "x": [
          90.36438,
          90.12816,
          89.68057,
          89.06178,
          88.39327,
          87.48183,
          86.20696,
          84.77525,
          82.95811,
          81.21844,
          79.18037,
          77.36324,
          75.91239,
          74.03596,
          72.39767,
          71.03481,
          69.39174,
          67.71997,
          65.33187,
          64.02831,
          62.36515,
          60.61783,
          59.18994,
          57.76683,
          56.18879,
          54.06561,
          52.57364,
          50.70199,
          48.67923,
          47.18535,
          45.75555,
          44.06274,
          42.20448,
          40.16641,
          38.61802,
          37.24464,
          35.06025,
          33.80356,
          32.3948,
          30.90092,
          29.3487,
          27.55738,
          25.82536,
          24.53615,
          22.89212,
          21.26052,
          19.66431,
          17.74388,
          16.09985,
          13.86094,
          12.02467,
          10.35195,
          8.54916,
          8.09808,
          6.53081,
          4.93249,
          3.28204,
          1.60165
         ],
         "xaxis": "x",
         "y": [
          214.47347,
          222.07567,
          230.34464,
          238.65036,
          247.5441,
          254.66329,
          262.39675,
          269.11693,
          272.61352,
          278.01591,
          284.78334,
          288.8627,
          291.19902,
          295.35713,
          299.06898,
          300.43401,
          302.73357,
          306.18817,
          311.74806,
          314.44139,
          315.75392,
          318.82525,
          321.55007,
          324.28015,
          326.65846,
          327.64024,
          327.36723,
          331.46234,
          334.57042,
          335.88821,
          337.22174,
          337.90426,
          337.90426,
          340.22482,
          342.58214,
          342.91289,
          342.44038,
          342.79214,
          344.13618,
          344.79244,
          345.1232,
          346.48299,
          348.53579,
          349.53857,
          349.53857,
          349.85883,
          349.85883,
          350.84586,
          351.88013,
          352.13214,
          352.13214,
          352.87241,
          353.90144,
          354.61884,
          354.66153,
          355.4545,
          355.4545,
          355.4545
         ],
         "yaxis": "y"
        },
        {
         "hovertemplate": "x=%{x}<br>y=%{y}<extra></extra>",
         "legendgroup": "",
         "line": {
          "color": "#636efa",
          "dash": "solid"
         },
         "marker": {
          "symbol": "circle"
         },
         "mode": "lines",
         "name": "",
         "orientation": "v",
         "showlegend": false,
         "type": "scatter",
         "x": [
          149.10673,
          148.32249,
          147.32211,
          146.38103,
          145.25727,
          144.27123,
          142.95907,
          141.64308,
          140.31178,
          138.92119,
          137.29916,
          135.9057,
          134.73317,
          133.06236,
          131.52544,
          129.69874,
          128.02984,
          126.73776,
          125.30509,
          123.48317,
          122.21595,
          120.69529,
          119.14308,
          117.78213,
          116.58761,
          114.79916,
          113.03558,
          111.71194,
          109.99904,
          108.63428,
          107.16048,
          105.65608,
          103.65914,
          102.48279,
          100.98221,
          99.70926,
          98.23259,
          96.46232,
          94.65666,
          92.80413,
          91.08263,
          89.45773,
          87.6578,
          86.20314,
          84.75708,
          83.14939,
          81.25096,
          79.88332,
          78.158,
          76.66412,
          75.02104,
          73.728,
          71.52448,
          70.20849,
          68.45065,
          66.82288,
          64.93592,
          63.31676,
          61.81809,
          60.03347,
          58.32441,
          56.50153,
          54.98279,
          53.70505,
          52.27238,
          50.59105,
          49.20715,
          47.32498,
          45.43803,
          43.45448,
          41.72819,
          40.4868,
          39.12682,
          37.39767,
          36.09028,
          34.71787,
          32.83665,
          30.50306,
          28.52716,
          26.76645,
          25.39116,
          23.71844,
          21.65838,
          20.07555,
          17.79265,
          16.09507,
          14.52085,
          12.71806,
          10.95926,
          9.18133,
          7.49713,
          7.39375,
          5.97512,
          4.49437,
          2.99255,
          1.28442
         ],
         "xaxis": "x",
         "y": [
          55.12647,
          60.33986,
          65.464,
          71.98467,
          77.90158,
          83.17797,
          86.77431,
          91.12668,
          96.04606,
          101.68471,
          103.75852,
          106.20508,
          109.61242,
          113.26127,
          115.66583,
          118.07565,
          122.70102,
          124.84833,
          124.84833,
          128.17692,
          130.64448,
          132.91254,
          132.91254,
          133.87857,
          136.59289,
          139.65897,
          142.29979,
          143.30257,
          145.94864,
          148.95172,
          148.95172,
          149.65524,
          150.28526,
          153.00483,
          154.93163,
          156.29142,
          157.06319,
          157.06319,
          160.45478,
          163.0431,
          165.11165,
          165.11165,
          166.08293,
          166.43469,
          167.40071,
          167.40071,
          169.78428,
          170.7608,
          172.4776,
          173.85839,
          173.51188,
          173.51188,
          175.21817,
          175.56993,
          175.56993,
          175.56993,
          176.94547,
          178.32626,
          178.32626,
          178.32626,
          180.0588,
          180.41056,
          181.52884,
          181.52884,
          181.52884,
          183.54489,
          183.54489,
          183.8704,
          184.96243,
          186.97849,
          186.66873,
          186.66873,
          186.66873,
          187.6505,
          187.98126,
          187.98126,
          189.3358,
          190.42783,
          191.48311,
          190.84259,
          190.84259,
          191.54611,
          191.54611,
          191.54611,
          191.54611,
          191.54611,
          191.54611,
          193.11065,
          194.12918,
          194.12918,
          195.41546,
          197.33172,
          198.12468,
          198.12468,
          199.42392,
          199.42392
         ],
         "yaxis": "y"
        }
       ],
       "layout": {
        "legend": {
         "title": {
          "text": "Pseudo Van Krevelen Plot"
         }
        },
        "template": {
         "data": {
          "bar": [
           {
            "error_x": {
             "color": "#2a3f5f"
            },
            "error_y": {
             "color": "#2a3f5f"
            },
            "marker": {
             "line": {
              "color": "#E5ECF6",
              "width": 0.5
             },
             "pattern": {
              "fillmode": "overlay",
              "size": 10,
              "solidity": 0.2
             }
            },
            "type": "bar"
           }
          ],
          "barpolar": [
           {
            "marker": {
             "line": {
              "color": "#E5ECF6",
              "width": 0.5
             },
             "pattern": {
              "fillmode": "overlay",
              "size": 10,
              "solidity": 0.2
             }
            },
            "type": "barpolar"
           }
          ],
          "carpet": [
           {
            "aaxis": {
             "endlinecolor": "#2a3f5f",
             "gridcolor": "white",
             "linecolor": "white",
             "minorgridcolor": "white",
             "startlinecolor": "#2a3f5f"
            },
            "baxis": {
             "endlinecolor": "#2a3f5f",
             "gridcolor": "white",
             "linecolor": "white",
             "minorgridcolor": "white",
             "startlinecolor": "#2a3f5f"
            },
            "type": "carpet"
           }
          ],
          "choropleth": [
           {
            "colorbar": {
             "outlinewidth": 0,
             "ticks": ""
            },
            "type": "choropleth"
           }
          ],
          "contour": [
           {
            "colorbar": {
             "outlinewidth": 0,
             "ticks": ""
            },
            "colorscale": [
             [
              0,
              "#0d0887"
             ],
             [
              0.1111111111111111,
              "#46039f"
             ],
             [
              0.2222222222222222,
              "#7201a8"
             ],
             [
              0.3333333333333333,
              "#9c179e"
             ],
             [
              0.4444444444444444,
              "#bd3786"
             ],
             [
              0.5555555555555556,
              "#d8576b"
             ],
             [
              0.6666666666666666,
              "#ed7953"
             ],
             [
              0.7777777777777778,
              "#fb9f3a"
             ],
             [
              0.8888888888888888,
              "#fdca26"
             ],
             [
              1,
              "#f0f921"
             ]
            ],
            "type": "contour"
           }
          ],
          "contourcarpet": [
           {
            "colorbar": {
             "outlinewidth": 0,
             "ticks": ""
            },
            "type": "contourcarpet"
           }
          ],
          "heatmap": [
           {
            "colorbar": {
             "outlinewidth": 0,
             "ticks": ""
            },
            "colorscale": [
             [
              0,
              "#0d0887"
             ],
             [
              0.1111111111111111,
              "#46039f"
             ],
             [
              0.2222222222222222,
              "#7201a8"
             ],
             [
              0.3333333333333333,
              "#9c179e"
             ],
             [
              0.4444444444444444,
              "#bd3786"
             ],
             [
              0.5555555555555556,
              "#d8576b"
             ],
             [
              0.6666666666666666,
              "#ed7953"
             ],
             [
              0.7777777777777778,
              "#fb9f3a"
             ],
             [
              0.8888888888888888,
              "#fdca26"
             ],
             [
              1,
              "#f0f921"
             ]
            ],
            "type": "heatmap"
           }
          ],
          "heatmapgl": [
           {
            "colorbar": {
             "outlinewidth": 0,
             "ticks": ""
            },
            "colorscale": [
             [
              0,
              "#0d0887"
             ],
             [
              0.1111111111111111,
              "#46039f"
             ],
             [
              0.2222222222222222,
              "#7201a8"
             ],
             [
              0.3333333333333333,
              "#9c179e"
             ],
             [
              0.4444444444444444,
              "#bd3786"
             ],
             [
              0.5555555555555556,
              "#d8576b"
             ],
             [
              0.6666666666666666,
              "#ed7953"
             ],
             [
              0.7777777777777778,
              "#fb9f3a"
             ],
             [
              0.8888888888888888,
              "#fdca26"
             ],
             [
              1,
              "#f0f921"
             ]
            ],
            "type": "heatmapgl"
           }
          ],
          "histogram": [
           {
            "marker": {
             "pattern": {
              "fillmode": "overlay",
              "size": 10,
              "solidity": 0.2
             }
            },
            "type": "histogram"
           }
          ],
          "histogram2d": [
           {
            "colorbar": {
             "outlinewidth": 0,
             "ticks": ""
            },
            "colorscale": [
             [
              0,
              "#0d0887"
             ],
             [
              0.1111111111111111,
              "#46039f"
             ],
             [
              0.2222222222222222,
              "#7201a8"
             ],
             [
              0.3333333333333333,
              "#9c179e"
             ],
             [
              0.4444444444444444,
              "#bd3786"
             ],
             [
              0.5555555555555556,
              "#d8576b"
             ],
             [
              0.6666666666666666,
              "#ed7953"
             ],
             [
              0.7777777777777778,
              "#fb9f3a"
             ],
             [
              0.8888888888888888,
              "#fdca26"
             ],
             [
              1,
              "#f0f921"
             ]
            ],
            "type": "histogram2d"
           }
          ],
          "histogram2dcontour": [
           {
            "colorbar": {
             "outlinewidth": 0,
             "ticks": ""
            },
            "colorscale": [
             [
              0,
              "#0d0887"
             ],
             [
              0.1111111111111111,
              "#46039f"
             ],
             [
              0.2222222222222222,
              "#7201a8"
             ],
             [
              0.3333333333333333,
              "#9c179e"
             ],
             [
              0.4444444444444444,
              "#bd3786"
             ],
             [
              0.5555555555555556,
              "#d8576b"
             ],
             [
              0.6666666666666666,
              "#ed7953"
             ],
             [
              0.7777777777777778,
              "#fb9f3a"
             ],
             [
              0.8888888888888888,
              "#fdca26"
             ],
             [
              1,
              "#f0f921"
             ]
            ],
            "type": "histogram2dcontour"
           }
          ],
          "mesh3d": [
           {
            "colorbar": {
             "outlinewidth": 0,
             "ticks": ""
            },
            "type": "mesh3d"
           }
          ],
          "parcoords": [
           {
            "line": {
             "colorbar": {
              "outlinewidth": 0,
              "ticks": ""
             }
            },
            "type": "parcoords"
           }
          ],
          "pie": [
           {
            "automargin": true,
            "type": "pie"
           }
          ],
          "scatter": [
           {
            "fillpattern": {
             "fillmode": "overlay",
             "size": 10,
             "solidity": 0.2
            },
            "type": "scatter"
           }
          ],
          "scatter3d": [
           {
            "line": {
             "colorbar": {
              "outlinewidth": 0,
              "ticks": ""
             }
            },
            "marker": {
             "colorbar": {
              "outlinewidth": 0,
              "ticks": ""
             }
            },
            "type": "scatter3d"
           }
          ],
          "scattercarpet": [
           {
            "marker": {
             "colorbar": {
              "outlinewidth": 0,
              "ticks": ""
             }
            },
            "type": "scattercarpet"
           }
          ],
          "scattergeo": [
           {
            "marker": {
             "colorbar": {
              "outlinewidth": 0,
              "ticks": ""
             }
            },
            "type": "scattergeo"
           }
          ],
          "scattergl": [
           {
            "marker": {
             "colorbar": {
              "outlinewidth": 0,
              "ticks": ""
             }
            },
            "type": "scattergl"
           }
          ],
          "scattermapbox": [
           {
            "marker": {
             "colorbar": {
              "outlinewidth": 0,
              "ticks": ""
             }
            },
            "type": "scattermapbox"
           }
          ],
          "scatterpolar": [
           {
            "marker": {
             "colorbar": {
              "outlinewidth": 0,
              "ticks": ""
             }
            },
            "type": "scatterpolar"
           }
          ],
          "scatterpolargl": [
           {
            "marker": {
             "colorbar": {
              "outlinewidth": 0,
              "ticks": ""
             }
            },
            "type": "scatterpolargl"
           }
          ],
          "scatterternary": [
           {
            "marker": {
             "colorbar": {
              "outlinewidth": 0,
              "ticks": ""
             }
            },
            "type": "scatterternary"
           }
          ],
          "surface": [
           {
            "colorbar": {
             "outlinewidth": 0,
             "ticks": ""
            },
            "colorscale": [
             [
              0,
              "#0d0887"
             ],
             [
              0.1111111111111111,
              "#46039f"
             ],
             [
              0.2222222222222222,
              "#7201a8"
             ],
             [
              0.3333333333333333,
              "#9c179e"
             ],
             [
              0.4444444444444444,
              "#bd3786"
             ],
             [
              0.5555555555555556,
              "#d8576b"
             ],
             [
              0.6666666666666666,
              "#ed7953"
             ],
             [
              0.7777777777777778,
              "#fb9f3a"
             ],
             [
              0.8888888888888888,
              "#fdca26"
             ],
             [
              1,
              "#f0f921"
             ]
            ],
            "type": "surface"
           }
          ],
          "table": [
           {
            "cells": {
             "fill": {
              "color": "#EBF0F8"
             },
             "line": {
              "color": "white"
             }
            },
            "header": {
             "fill": {
              "color": "#C8D4E3"
             },
             "line": {
              "color": "white"
             }
            },
            "type": "table"
           }
          ]
         },
         "layout": {
          "annotationdefaults": {
           "arrowcolor": "#2a3f5f",
           "arrowhead": 0,
           "arrowwidth": 1
          },
          "autotypenumbers": "strict",
          "coloraxis": {
           "colorbar": {
            "outlinewidth": 0,
            "ticks": ""
           }
          },
          "colorscale": {
           "diverging": [
            [
             0,
             "#8e0152"
            ],
            [
             0.1,
             "#c51b7d"
            ],
            [
             0.2,
             "#de77ae"
            ],
            [
             0.3,
             "#f1b6da"
            ],
            [
             0.4,
             "#fde0ef"
            ],
            [
             0.5,
             "#f7f7f7"
            ],
            [
             0.6,
             "#e6f5d0"
            ],
            [
             0.7,
             "#b8e186"
            ],
            [
             0.8,
             "#7fbc41"
            ],
            [
             0.9,
             "#4d9221"
            ],
            [
             1,
             "#276419"
            ]
           ],
           "sequential": [
            [
             0,
             "#0d0887"
            ],
            [
             0.1111111111111111,
             "#46039f"
            ],
            [
             0.2222222222222222,
             "#7201a8"
            ],
            [
             0.3333333333333333,
             "#9c179e"
            ],
            [
             0.4444444444444444,
             "#bd3786"
            ],
            [
             0.5555555555555556,
             "#d8576b"
            ],
            [
             0.6666666666666666,
             "#ed7953"
            ],
            [
             0.7777777777777778,
             "#fb9f3a"
            ],
            [
             0.8888888888888888,
             "#fdca26"
            ],
            [
             1,
             "#f0f921"
            ]
           ],
           "sequentialminus": [
            [
             0,
             "#0d0887"
            ],
            [
             0.1111111111111111,
             "#46039f"
            ],
            [
             0.2222222222222222,
             "#7201a8"
            ],
            [
             0.3333333333333333,
             "#9c179e"
            ],
            [
             0.4444444444444444,
             "#bd3786"
            ],
            [
             0.5555555555555556,
             "#d8576b"
            ],
            [
             0.6666666666666666,
             "#ed7953"
            ],
            [
             0.7777777777777778,
             "#fb9f3a"
            ],
            [
             0.8888888888888888,
             "#fdca26"
            ],
            [
             1,
             "#f0f921"
            ]
           ]
          },
          "colorway": [
           "#636efa",
           "#EF553B",
           "#00cc96",
           "#ab63fa",
           "#FFA15A",
           "#19d3f3",
           "#FF6692",
           "#B6E880",
           "#FF97FF",
           "#FECB52"
          ],
          "font": {
           "color": "#2a3f5f"
          },
          "geo": {
           "bgcolor": "white",
           "lakecolor": "white",
           "landcolor": "#E5ECF6",
           "showlakes": true,
           "showland": true,
           "subunitcolor": "white"
          },
          "hoverlabel": {
           "align": "left"
          },
          "hovermode": "closest",
          "mapbox": {
           "style": "light"
          },
          "paper_bgcolor": "white",
          "plot_bgcolor": "#E5ECF6",
          "polar": {
           "angularaxis": {
            "gridcolor": "white",
            "linecolor": "white",
            "ticks": ""
           },
           "bgcolor": "#E5ECF6",
           "radialaxis": {
            "gridcolor": "white",
            "linecolor": "white",
            "ticks": ""
           }
          },
          "scene": {
           "xaxis": {
            "backgroundcolor": "#E5ECF6",
            "gridcolor": "white",
            "gridwidth": 2,
            "linecolor": "white",
            "showbackground": true,
            "ticks": "",
            "zerolinecolor": "white"
           },
           "yaxis": {
            "backgroundcolor": "#E5ECF6",
            "gridcolor": "white",
            "gridwidth": 2,
            "linecolor": "white",
            "showbackground": true,
            "ticks": "",
            "zerolinecolor": "white"
           },
           "zaxis": {
            "backgroundcolor": "#E5ECF6",
            "gridcolor": "white",
            "gridwidth": 2,
            "linecolor": "white",
            "showbackground": true,
            "ticks": "",
            "zerolinecolor": "white"
           }
          },
          "shapedefaults": {
           "line": {
            "color": "#2a3f5f"
           }
          },
          "ternary": {
           "aaxis": {
            "gridcolor": "white",
            "linecolor": "white",
            "ticks": ""
           },
           "baxis": {
            "gridcolor": "white",
            "linecolor": "white",
            "ticks": ""
           },
           "bgcolor": "#E5ECF6",
           "caxis": {
            "gridcolor": "white",
            "linecolor": "white",
            "ticks": ""
           }
          },
          "title": {
           "x": 0.05
          },
          "xaxis": {
           "automargin": true,
           "gridcolor": "white",
           "linecolor": "white",
           "ticks": "",
           "title": {
            "standoff": 15
           },
           "zerolinecolor": "white",
           "zerolinewidth": 2
          },
          "yaxis": {
           "automargin": true,
           "gridcolor": "white",
           "linecolor": "white",
           "ticks": "",
           "title": {
            "standoff": 15
           },
           "zerolinecolor": "white",
           "zerolinewidth": 2
          }
         }
        },
        "title": {
         "text": "Pseudo Van Krevelen Plot"
        },
        "xaxis": {
         "title": {
          "text": "OI"
         }
        },
        "yaxis": {
         "title": {
          "text": "HI"
         }
        }
       }
      },
      "text/html": [
       "<div>                            <div id=\"772e4ba3-e1c8-44c6-834a-1a9d478902c2\" class=\"plotly-graph-div\" style=\"height:525px; width:100%;\"></div>            <script type=\"text/javascript\">                require([\"plotly\"], function(Plotly) {                    window.PLOTLYENV=window.PLOTLYENV || {};                                    if (document.getElementById(\"772e4ba3-e1c8-44c6-834a-1a9d478902c2\")) {                    Plotly.newPlot(                        \"772e4ba3-e1c8-44c6-834a-1a9d478902c2\",                        [{\"hovertemplate\":\"<b>%{hovertext}</b><br><br>color=TYPE III<br>x=%{x}<br>y=%{y}<extra></extra>\",\"hovertext\":[9037.0,9142.0,9218.0,9333.5,9371.5,9398.0,9487.0,9609.5,9657.5,9663.5,9717.5,9726.0,9731.5,9740.0,9938.5,9952.5,9956.5,9962.5,9966.5,9972.5,9975.5,9980.5,9985.5,9990.5,9995.5,10000.5,10004.5,10010.5,10020.5,10026.5,10032.5,10166.5,10283.5,10300.5,10310.5,10318.5,10325.5,10335.5,10346.5,10360.5,10366.5,10374.0,10377.0,10380.5,10390.5],\"legendgroup\":\"TYPE III\",\"marker\":{\"color\":\"red\",\"symbol\":\"circle\"},\"mode\":\"markers\",\"name\":\"TYPE III\",\"orientation\":\"v\",\"showlegend\":true,\"x\":[14,85,11,12,6,7,5,44,5,11,45,5,5,3,17,26,2,4,13,5,3,10,11,3,17,11,5,4,5,3,4,7,3,4,11,20,36,5,2,5,2,13,6,17,9],\"xaxis\":\"x\",\"y\":[159.07928388746802,113.04347826086956,121.6117216117216,150.91575091575092,168.08510638297872,120.72892938496584,142.5357873210634,47.22222222222222,170.87087087087087,160.09501187648456,53.76344086021505,98.26589595375722,84.33734939759036,110.13215859030836,124.40944881889763,123.01587301587301,143.03482587064678,126.56826568265683,121.05263157894737,97.41379310344827,174.02826855123675,107.95107033639144,110.18518518518518,136.44314868804665,126.08695652173914,102.83911671924291,141.02564102564102,148.9855072463768,132.6860841423948,141.2532637075718,145.58011049723757,183.68644067796612,132.20973782771537,148.6725663716814,126.4,114.08450704225353,142.07650273224044,128.19383259911893,190.27113237639554,109.87124463519314,156.140350877193,145.7831325301205,100.84745762711864,83.53413654618473,118.21561338289963],\"yaxis\":\"y\",\"type\":\"scatter\"},{\"hovertemplate\":\"<b>%{hovertext}</b><br><br>color=TYPE II / III<br>x=%{x}<br>y=%{y}<extra></extra>\",\"hovertext\":[9078.5,9127.5,10292.5,10353.5],\"legendgroup\":\"TYPE II / III\",\"marker\":{\"color\":\"orange\",\"symbol\":\"circle\"},\"mode\":\"markers\",\"name\":\"TYPE II / III\",\"orientation\":\"v\",\"showlegend\":true,\"x\":[6,9,3,2],\"xaxis\":\"x\",\"y\":[237.85900783289816,238.63247863247864,219.14191419141918,203.4003091190108],\"yaxis\":\"y\",\"type\":\"scatter\"},{\"hovertemplate\":\"x=%{x}<br>y=%{y}<extra></extra>\",\"legendgroup\":\"\",\"line\":{\"color\":\"#636efa\",\"dash\":\"solid\"},\"marker\":{\"symbol\":\"circle\"},\"mode\":\"lines\",\"name\":\"\",\"orientation\":\"v\",\"showlegend\":false,\"x\":[59.20046,58.57689,58.63523,58.31771,57.60233,57.35845,57.0591,56.99503,56.25765,55.19989,54.31809,53.53577,52.6119,51.64881,50.28118,48.88868,47.83761,46.93286,45.73833,44.60692,42.75536,41.33512,40.2391,38.42196,37.05337,35.64365,33.76913,31.99885,30.53462,29.11821,27.63868,26.07116,24.44243,22.89594,21.37337,19.8795,18.32249,16.3026,14.60884,12.75057,11.02334,9.58397],\"xaxis\":\"x\",\"y\":[714.06104,722.21976,729.60671,738.06993,746.56991,753.51059,761.97382,771.93333,781.93485,790.77609,797.20226,805.10372,816.31802,820.98539,829.50637,836.72006,843.8025,848.73238,854.36053,859.76818,866.90312,872.45777,875.85986,878.77368,883.41481,889.03771,892.06179,896.23565,897.99445,900.0735,902.0108,905.47065,907.84896,910.95179,910.95179,911.2773,913.0571,913.75537,914.77914,916.21768,916.21768,917.18896],\"yaxis\":\"y\",\"type\":\"scatter\"},{\"hovertemplate\":\"x=%{x}<br>y=%{y}<extra></extra>\",\"legendgroup\":\"\",\"line\":{\"color\":\"#636efa\",\"dash\":\"solid\"},\"marker\":{\"symbol\":\"circle\"},\"mode\":\"lines\",\"name\":\"\",\"orientation\":\"v\",\"showlegend\":false,\"x\":[76.43076,76.43076,75.9277,75.9277,75.9277,75.55279,74.75803,74.75803,74.69969,73.89155,72.98011,72.12701,71.11993,70.21423,69.26454,68.44204,67.39384,65.94682,64.64327,63.69357,62.54878,61.07976,59.88906,58.55777,57.14518,55.48776,54.23393,52.71041,51.09602,49.73221,48.12643,45.91909,44.10673,42.72475,41.01282,39.55241,37.94185,36.68324,35.07842,33.22494,31.53692,29.81829,27.85099,26.3619,24.56771,23.22494,21.1075,19.50555,17.51721,15.77659,13.46882,11.8114,10.45046,9.0044],\"xaxis\":\"x\",\"y\":[372.45543,380.60365,391.7392,404.53379,411.97849,422.77277,435.78787,447.35918,458.68373,471.34707,486.13671,499.91308,512.30866,524.04797,531.57668,543.925,554.56179,561.46047,569.47219,575.97186,582.18803,589.85848,593.80658,600.1435,604.66912,611.72006,618.69225,623.16537,628.41026,632.53162,636.53747,645.31571,649.83083,652.09364,657.82679,660.54111,662.49942,666.47902,669.5031,671.3039,674.28598,675.64052,678.00308,678.32859,681.53117,683.91474,686.2983,686.95982,686.61331,687.56884,691.84245,693.46474,694.23651,694.23651],\"yaxis\":\"y\",\"type\":\"scatter\"},{\"hovertemplate\":\"x=%{x}<br>y=%{y}<extra></extra>\",\"legendgroup\":\"\",\"line\":{\"color\":\"#636efa\",\"dash\":\"solid\"},\"marker\":{\"symbol\":\"circle\"},\"mode\":\"lines\",\"name\":\"\",\"orientation\":\"v\",\"showlegend\":false,\"x\":[90.36438,90.12816,89.68057,89.06178,88.39327,87.48183,86.20696,84.77525,82.95811,81.21844,79.18037,77.36324,75.91239,74.03596,72.39767,71.03481,69.39174,67.71997,65.33187,64.02831,62.36515,60.61783,59.18994,57.76683,56.18879,54.06561,52.57364,50.70199,48.67923,47.18535,45.75555,44.06274,42.20448,40.16641,38.61802,37.24464,35.06025,33.80356,32.3948,30.90092,29.3487,27.55738,25.82536,24.53615,22.89212,21.26052,19.66431,17.74388,16.09985,13.86094,12.02467,10.35195,8.54916,8.09808,6.53081,4.93249,3.28204,1.60165],\"xaxis\":\"x\",\"y\":[214.47347,222.07567,230.34464,238.65036,247.5441,254.66329,262.39675,269.11693,272.61352,278.01591,284.78334,288.8627,291.19902,295.35713,299.06898,300.43401,302.73357,306.18817,311.74806,314.44139,315.75392,318.82525,321.55007,324.28015,326.65846,327.64024,327.36723,331.46234,334.57042,335.88821,337.22174,337.90426,337.90426,340.22482,342.58214,342.91289,342.44038,342.79214,344.13618,344.79244,345.1232,346.48299,348.53579,349.53857,349.53857,349.85883,349.85883,350.84586,351.88013,352.13214,352.13214,352.87241,353.90144,354.61884,354.66153,355.4545,355.4545,355.4545],\"yaxis\":\"y\",\"type\":\"scatter\"},{\"hovertemplate\":\"x=%{x}<br>y=%{y}<extra></extra>\",\"legendgroup\":\"\",\"line\":{\"color\":\"#636efa\",\"dash\":\"solid\"},\"marker\":{\"symbol\":\"circle\"},\"mode\":\"lines\",\"name\":\"\",\"orientation\":\"v\",\"showlegend\":false,\"x\":[149.10673,148.32249,147.32211,146.38103,145.25727,144.27123,142.95907,141.64308,140.31178,138.92119,137.29916,135.9057,134.73317,133.06236,131.52544,129.69874,128.02984,126.73776,125.30509,123.48317,122.21595,120.69529,119.14308,117.78213,116.58761,114.79916,113.03558,111.71194,109.99904,108.63428,107.16048,105.65608,103.65914,102.48279,100.98221,99.70926,98.23259,96.46232,94.65666,92.80413,91.08263,89.45773,87.6578,86.20314,84.75708,83.14939,81.25096,79.88332,78.158,76.66412,75.02104,73.728,71.52448,70.20849,68.45065,66.82288,64.93592,63.31676,61.81809,60.03347,58.32441,56.50153,54.98279,53.70505,52.27238,50.59105,49.20715,47.32498,45.43803,43.45448,41.72819,40.4868,39.12682,37.39767,36.09028,34.71787,32.83665,30.50306,28.52716,26.76645,25.39116,23.71844,21.65838,20.07555,17.79265,16.09507,14.52085,12.71806,10.95926,9.18133,7.49713,7.39375,5.97512,4.49437,2.99255,1.28442],\"xaxis\":\"x\",\"y\":[55.12647,60.33986,65.464,71.98467,77.90158,83.17797,86.77431,91.12668,96.04606,101.68471,103.75852,106.20508,109.61242,113.26127,115.66583,118.07565,122.70102,124.84833,124.84833,128.17692,130.64448,132.91254,132.91254,133.87857,136.59289,139.65897,142.29979,143.30257,145.94864,148.95172,148.95172,149.65524,150.28526,153.00483,154.93163,156.29142,157.06319,157.06319,160.45478,163.0431,165.11165,165.11165,166.08293,166.43469,167.40071,167.40071,169.78428,170.7608,172.4776,173.85839,173.51188,173.51188,175.21817,175.56993,175.56993,175.56993,176.94547,178.32626,178.32626,178.32626,180.0588,180.41056,181.52884,181.52884,181.52884,183.54489,183.54489,183.8704,184.96243,186.97849,186.66873,186.66873,186.66873,187.6505,187.98126,187.98126,189.3358,190.42783,191.48311,190.84259,190.84259,191.54611,191.54611,191.54611,191.54611,191.54611,191.54611,193.11065,194.12918,194.12918,195.41546,197.33172,198.12468,198.12468,199.42392,199.42392],\"yaxis\":\"y\",\"type\":\"scatter\"}],                        {\"template\":{\"data\":{\"histogram2dcontour\":[{\"type\":\"histogram2dcontour\",\"colorbar\":{\"outlinewidth\":0,\"ticks\":\"\"},\"colorscale\":[[0.0,\"#0d0887\"],[0.1111111111111111,\"#46039f\"],[0.2222222222222222,\"#7201a8\"],[0.3333333333333333,\"#9c179e\"],[0.4444444444444444,\"#bd3786\"],[0.5555555555555556,\"#d8576b\"],[0.6666666666666666,\"#ed7953\"],[0.7777777777777778,\"#fb9f3a\"],[0.8888888888888888,\"#fdca26\"],[1.0,\"#f0f921\"]]}],\"choropleth\":[{\"type\":\"choropleth\",\"colorbar\":{\"outlinewidth\":0,\"ticks\":\"\"}}],\"histogram2d\":[{\"type\":\"histogram2d\",\"colorbar\":{\"outlinewidth\":0,\"ticks\":\"\"},\"colorscale\":[[0.0,\"#0d0887\"],[0.1111111111111111,\"#46039f\"],[0.2222222222222222,\"#7201a8\"],[0.3333333333333333,\"#9c179e\"],[0.4444444444444444,\"#bd3786\"],[0.5555555555555556,\"#d8576b\"],[0.6666666666666666,\"#ed7953\"],[0.7777777777777778,\"#fb9f3a\"],[0.8888888888888888,\"#fdca26\"],[1.0,\"#f0f921\"]]}],\"heatmap\":[{\"type\":\"heatmap\",\"colorbar\":{\"outlinewidth\":0,\"ticks\":\"\"},\"colorscale\":[[0.0,\"#0d0887\"],[0.1111111111111111,\"#46039f\"],[0.2222222222222222,\"#7201a8\"],[0.3333333333333333,\"#9c179e\"],[0.4444444444444444,\"#bd3786\"],[0.5555555555555556,\"#d8576b\"],[0.6666666666666666,\"#ed7953\"],[0.7777777777777778,\"#fb9f3a\"],[0.8888888888888888,\"#fdca26\"],[1.0,\"#f0f921\"]]}],\"heatmapgl\":[{\"type\":\"heatmapgl\",\"colorbar\":{\"outlinewidth\":0,\"ticks\":\"\"},\"colorscale\":[[0.0,\"#0d0887\"],[0.1111111111111111,\"#46039f\"],[0.2222222222222222,\"#7201a8\"],[0.3333333333333333,\"#9c179e\"],[0.4444444444444444,\"#bd3786\"],[0.5555555555555556,\"#d8576b\"],[0.6666666666666666,\"#ed7953\"],[0.7777777777777778,\"#fb9f3a\"],[0.8888888888888888,\"#fdca26\"],[1.0,\"#f0f921\"]]}],\"contourcarpet\":[{\"type\":\"contourcarpet\",\"colorbar\":{\"outlinewidth\":0,\"ticks\":\"\"}}],\"contour\":[{\"type\":\"contour\",\"colorbar\":{\"outlinewidth\":0,\"ticks\":\"\"},\"colorscale\":[[0.0,\"#0d0887\"],[0.1111111111111111,\"#46039f\"],[0.2222222222222222,\"#7201a8\"],[0.3333333333333333,\"#9c179e\"],[0.4444444444444444,\"#bd3786\"],[0.5555555555555556,\"#d8576b\"],[0.6666666666666666,\"#ed7953\"],[0.7777777777777778,\"#fb9f3a\"],[0.8888888888888888,\"#fdca26\"],[1.0,\"#f0f921\"]]}],\"surface\":[{\"type\":\"surface\",\"colorbar\":{\"outlinewidth\":0,\"ticks\":\"\"},\"colorscale\":[[0.0,\"#0d0887\"],[0.1111111111111111,\"#46039f\"],[0.2222222222222222,\"#7201a8\"],[0.3333333333333333,\"#9c179e\"],[0.4444444444444444,\"#bd3786\"],[0.5555555555555556,\"#d8576b\"],[0.6666666666666666,\"#ed7953\"],[0.7777777777777778,\"#fb9f3a\"],[0.8888888888888888,\"#fdca26\"],[1.0,\"#f0f921\"]]}],\"mesh3d\":[{\"type\":\"mesh3d\",\"colorbar\":{\"outlinewidth\":0,\"ticks\":\"\"}}],\"scatter\":[{\"fillpattern\":{\"fillmode\":\"overlay\",\"size\":10,\"solidity\":0.2},\"type\":\"scatter\"}],\"parcoords\":[{\"type\":\"parcoords\",\"line\":{\"colorbar\":{\"outlinewidth\":0,\"ticks\":\"\"}}}],\"scatterpolargl\":[{\"type\":\"scatterpolargl\",\"marker\":{\"colorbar\":{\"outlinewidth\":0,\"ticks\":\"\"}}}],\"bar\":[{\"error_x\":{\"color\":\"#2a3f5f\"},\"error_y\":{\"color\":\"#2a3f5f\"},\"marker\":{\"line\":{\"color\":\"#E5ECF6\",\"width\":0.5},\"pattern\":{\"fillmode\":\"overlay\",\"size\":10,\"solidity\":0.2}},\"type\":\"bar\"}],\"scattergeo\":[{\"type\":\"scattergeo\",\"marker\":{\"colorbar\":{\"outlinewidth\":0,\"ticks\":\"\"}}}],\"scatterpolar\":[{\"type\":\"scatterpolar\",\"marker\":{\"colorbar\":{\"outlinewidth\":0,\"ticks\":\"\"}}}],\"histogram\":[{\"marker\":{\"pattern\":{\"fillmode\":\"overlay\",\"size\":10,\"solidity\":0.2}},\"type\":\"histogram\"}],\"scattergl\":[{\"type\":\"scattergl\",\"marker\":{\"colorbar\":{\"outlinewidth\":0,\"ticks\":\"\"}}}],\"scatter3d\":[{\"type\":\"scatter3d\",\"line\":{\"colorbar\":{\"outlinewidth\":0,\"ticks\":\"\"}},\"marker\":{\"colorbar\":{\"outlinewidth\":0,\"ticks\":\"\"}}}],\"scattermapbox\":[{\"type\":\"scattermapbox\",\"marker\":{\"colorbar\":{\"outlinewidth\":0,\"ticks\":\"\"}}}],\"scatterternary\":[{\"type\":\"scatterternary\",\"marker\":{\"colorbar\":{\"outlinewidth\":0,\"ticks\":\"\"}}}],\"scattercarpet\":[{\"type\":\"scattercarpet\",\"marker\":{\"colorbar\":{\"outlinewidth\":0,\"ticks\":\"\"}}}],\"carpet\":[{\"aaxis\":{\"endlinecolor\":\"#2a3f5f\",\"gridcolor\":\"white\",\"linecolor\":\"white\",\"minorgridcolor\":\"white\",\"startlinecolor\":\"#2a3f5f\"},\"baxis\":{\"endlinecolor\":\"#2a3f5f\",\"gridcolor\":\"white\",\"linecolor\":\"white\",\"minorgridcolor\":\"white\",\"startlinecolor\":\"#2a3f5f\"},\"type\":\"carpet\"}],\"table\":[{\"cells\":{\"fill\":{\"color\":\"#EBF0F8\"},\"line\":{\"color\":\"white\"}},\"header\":{\"fill\":{\"color\":\"#C8D4E3\"},\"line\":{\"color\":\"white\"}},\"type\":\"table\"}],\"barpolar\":[{\"marker\":{\"line\":{\"color\":\"#E5ECF6\",\"width\":0.5},\"pattern\":{\"fillmode\":\"overlay\",\"size\":10,\"solidity\":0.2}},\"type\":\"barpolar\"}],\"pie\":[{\"automargin\":true,\"type\":\"pie\"}]},\"layout\":{\"autotypenumbers\":\"strict\",\"colorway\":[\"#636efa\",\"#EF553B\",\"#00cc96\",\"#ab63fa\",\"#FFA15A\",\"#19d3f3\",\"#FF6692\",\"#B6E880\",\"#FF97FF\",\"#FECB52\"],\"font\":{\"color\":\"#2a3f5f\"},\"hovermode\":\"closest\",\"hoverlabel\":{\"align\":\"left\"},\"paper_bgcolor\":\"white\",\"plot_bgcolor\":\"#E5ECF6\",\"polar\":{\"bgcolor\":\"#E5ECF6\",\"angularaxis\":{\"gridcolor\":\"white\",\"linecolor\":\"white\",\"ticks\":\"\"},\"radialaxis\":{\"gridcolor\":\"white\",\"linecolor\":\"white\",\"ticks\":\"\"}},\"ternary\":{\"bgcolor\":\"#E5ECF6\",\"aaxis\":{\"gridcolor\":\"white\",\"linecolor\":\"white\",\"ticks\":\"\"},\"baxis\":{\"gridcolor\":\"white\",\"linecolor\":\"white\",\"ticks\":\"\"},\"caxis\":{\"gridcolor\":\"white\",\"linecolor\":\"white\",\"ticks\":\"\"}},\"coloraxis\":{\"colorbar\":{\"outlinewidth\":0,\"ticks\":\"\"}},\"colorscale\":{\"sequential\":[[0.0,\"#0d0887\"],[0.1111111111111111,\"#46039f\"],[0.2222222222222222,\"#7201a8\"],[0.3333333333333333,\"#9c179e\"],[0.4444444444444444,\"#bd3786\"],[0.5555555555555556,\"#d8576b\"],[0.6666666666666666,\"#ed7953\"],[0.7777777777777778,\"#fb9f3a\"],[0.8888888888888888,\"#fdca26\"],[1.0,\"#f0f921\"]],\"sequentialminus\":[[0.0,\"#0d0887\"],[0.1111111111111111,\"#46039f\"],[0.2222222222222222,\"#7201a8\"],[0.3333333333333333,\"#9c179e\"],[0.4444444444444444,\"#bd3786\"],[0.5555555555555556,\"#d8576b\"],[0.6666666666666666,\"#ed7953\"],[0.7777777777777778,\"#fb9f3a\"],[0.8888888888888888,\"#fdca26\"],[1.0,\"#f0f921\"]],\"diverging\":[[0,\"#8e0152\"],[0.1,\"#c51b7d\"],[0.2,\"#de77ae\"],[0.3,\"#f1b6da\"],[0.4,\"#fde0ef\"],[0.5,\"#f7f7f7\"],[0.6,\"#e6f5d0\"],[0.7,\"#b8e186\"],[0.8,\"#7fbc41\"],[0.9,\"#4d9221\"],[1,\"#276419\"]]},\"xaxis\":{\"gridcolor\":\"white\",\"linecolor\":\"white\",\"ticks\":\"\",\"title\":{\"standoff\":15},\"zerolinecolor\":\"white\",\"automargin\":true,\"zerolinewidth\":2},\"yaxis\":{\"gridcolor\":\"white\",\"linecolor\":\"white\",\"ticks\":\"\",\"title\":{\"standoff\":15},\"zerolinecolor\":\"white\",\"automargin\":true,\"zerolinewidth\":2},\"scene\":{\"xaxis\":{\"backgroundcolor\":\"#E5ECF6\",\"gridcolor\":\"white\",\"linecolor\":\"white\",\"showbackground\":true,\"ticks\":\"\",\"zerolinecolor\":\"white\",\"gridwidth\":2},\"yaxis\":{\"backgroundcolor\":\"#E5ECF6\",\"gridcolor\":\"white\",\"linecolor\":\"white\",\"showbackground\":true,\"ticks\":\"\",\"zerolinecolor\":\"white\",\"gridwidth\":2},\"zaxis\":{\"backgroundcolor\":\"#E5ECF6\",\"gridcolor\":\"white\",\"linecolor\":\"white\",\"showbackground\":true,\"ticks\":\"\",\"zerolinecolor\":\"white\",\"gridwidth\":2}},\"shapedefaults\":{\"line\":{\"color\":\"#2a3f5f\"}},\"annotationdefaults\":{\"arrowcolor\":\"#2a3f5f\",\"arrowhead\":0,\"arrowwidth\":1},\"geo\":{\"bgcolor\":\"white\",\"landcolor\":\"#E5ECF6\",\"subunitcolor\":\"white\",\"showland\":true,\"showlakes\":true,\"lakecolor\":\"white\"},\"title\":{\"x\":0.05},\"mapbox\":{\"style\":\"light\"}}},\"title\":{\"text\":\"Pseudo Van Krevelen Plot\"},\"xaxis\":{\"title\":{\"text\":\"OI\"}},\"yaxis\":{\"title\":{\"text\":\"HI\"}},\"legend\":{\"title\":{\"text\":\"Pseudo Van Krevelen Plot\"}}},                        {\"responsive\": true}                    ).then(function(){\n",
       "                            \n",
       "var gd = document.getElementById('772e4ba3-e1c8-44c6-834a-1a9d478902c2');\n",
       "var x = new MutationObserver(function (mutations, observer) {{\n",
       "        var display = window.getComputedStyle(gd).display;\n",
       "        if (!display || display === 'none') {{\n",
       "            console.log([gd, 'removed!']);\n",
       "            Plotly.purge(gd);\n",
       "            observer.disconnect();\n",
       "        }}\n",
       "}});\n",
       "\n",
       "// Listen for the removal of the full notebook cells\n",
       "var notebookContainer = gd.closest('#notebook-container');\n",
       "if (notebookContainer) {{\n",
       "    x.observe(notebookContainer, {childList: true});\n",
       "}}\n",
       "\n",
       "// Listen for the clearing of the current output cell\n",
       "var outputEl = gd.closest('.output');\n",
       "if (outputEl) {{\n",
       "    x.observe(outputEl, {childList: true});\n",
       "}}\n",
       "\n",
       "                        })                };                });            </script>        </div>"
      ]
     },
     "metadata": {},
     "output_type": "display_data"
    }
   ],
   "source": [
    "pseudo_plot(FEE_BI_307 , PSEUDO_I, PSEUDO_II, PSEUDO_II_III, PSEUDO_III)"
   ]
  },
  {
   "cell_type": "code",
   "execution_count": null,
   "id": "7eec5706",
   "metadata": {},
   "outputs": [],
   "source": []
  },
  {
   "cell_type": "code",
   "execution_count": null,
   "id": "2053d26d",
   "metadata": {},
   "outputs": [],
   "source": []
  }
 ],
 "metadata": {
  "kernelspec": {
   "display_name": "Python 3 (ipykernel)",
   "language": "python",
   "name": "python3"
  },
  "language_info": {
   "codemirror_mode": {
    "name": "ipython",
    "version": 3
   },
   "file_extension": ".py",
   "mimetype": "text/x-python",
   "name": "python",
   "nbconvert_exporter": "python",
   "pygments_lexer": "ipython3",
   "version": "3.9.13"
  }
 },
 "nbformat": 4,
 "nbformat_minor": 5
}
